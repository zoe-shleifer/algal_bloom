{
 "cells": [
  {
   "cell_type": "markdown",
   "metadata": {},
   "source": [
    "## Low-Rank Autoregressive Tensor Completion Imputer (LATC-imputer)\n",
    "\n",
    "This notebook shows how to implement a LATC (with truncated nuclear norm) imputer on three real-world data sets (i.e., PeMS traffic speed data, Guangzhou traffic speed data, Electricity data). To overcome the problem of missing values within multivariate time series data, this method takes into account both low-rank structure and time series regression. For an in-depth discussion of LATC-imputer, please see [1].\n",
    "\n",
    "<div class=\"alert alert-block alert-info\">\n",
    "<font color=\"black\">\n",
    "<b>[1]</b> Xinyu Chen, Jinming Yang, Lijun Sun (2020). <b>Low-Rank Autorgressive Tensor Completion for Multivariate Time Series Forecasting</b>. arXiv:2006.10436. <a href=\"https://arxiv.org/abs/2006.10436\" title=\"PDF\"><b>[PDF]</b></a> \n",
    "</font>\n",
    "</div>\n"
   ]
  },
  {
   "cell_type": "code",
   "execution_count": 2,
   "metadata": {},
   "outputs": [],
   "source": [
    "import numpy as np\n",
    "from numpy.linalg import inv as inv"
   ]
  },
  {
   "cell_type": "markdown",
   "metadata": {},
   "source": [
    "### Define LATC-imputer kernel\n",
    "\n",
    "We start by introducing some necessary functions that relies on `Numpy`.\n",
    "\n",
    "<div class=\"alert alert-block alert-warning\">\n",
    "<ul>\n",
    "<li><b><code>ten2mat</code>:</b> <font color=\"black\">Unfold tensor as matrix by specifying mode.</font></li>\n",
    "<li><b><code>mat2ten</code>:</b> <font color=\"black\">Fold matrix as tensor by specifying dimension (i.e, tensor size) and mode.</font></li>\n",
    "<li><b><code>svt</code>:</b> <font color=\"black\">Implement the process of Singular Value Thresholding (SVT).</font></li>\n",
    "</ul>\n",
    "</div>"
   ]
  },
  {
   "cell_type": "code",
   "execution_count": 3,
   "metadata": {},
   "outputs": [],
   "source": [
    "def ten2mat(tensor, mode):\n",
    "    return np.reshape(np.moveaxis(tensor, mode, 0), (tensor.shape[mode], -1), order = 'F')\n",
    "\n",
    "def mat2ten(mat, dim, mode):\n",
    "    index = list()\n",
    "    index.append(mode)\n",
    "    for i in range(dim.shape[0]):\n",
    "        if i != mode:\n",
    "            index.append(i)\n",
    "    return np.moveaxis(np.reshape(mat, list(dim[index]), order = 'F'), 0, mode)"
   ]
  },
  {
   "cell_type": "code",
   "execution_count": 4,
   "metadata": {},
   "outputs": [],
   "source": [
    "def svt_tnn(mat, tau, theta):\n",
    "    [m, n] = mat.shape\n",
    "    if 2 * m < n:\n",
    "        u, s, v = np.linalg.svd(mat @ mat.T, full_matrices = 0)\n",
    "        s = np.sqrt(s)\n",
    "        idx = np.sum(s > tau)\n",
    "        mid = np.zeros(idx)\n",
    "        mid[: theta] = 1\n",
    "        mid[theta : idx] = (s[theta : idx] - tau) / s[theta : idx]\n",
    "        return (u[:, : idx] @ np.diag(mid)) @ (u[:, : idx].T @ mat)\n",
    "    elif m > 2 * n:\n",
    "        return svt_tnn(mat.T, tau, theta).T\n",
    "    u, s, v = np.linalg.svd(mat, full_matrices = 0)\n",
    "    idx = np.sum(s > tau)\n",
    "    vec = s[: idx].copy()\n",
    "    vec[theta : idx] = s[theta : idx] - tau\n",
    "    return u[:, : idx] @ np.diag(vec) @ v[: idx, :]"
   ]
  },
  {
   "cell_type": "markdown",
   "metadata": {},
   "source": [
    "<div class=\"alert alert-block alert-warning\">\n",
    "<ul>\n",
    "<li><b><code>compute_mape</code>:</b> <font color=\"black\">Compute the value of Mean Absolute Percentage Error (MAPE).</font></li>\n",
    "<li><b><code>compute_rmse</code>:</b> <font color=\"black\">Compute the value of Root Mean Square Error (RMSE).</font></li>\n",
    "</ul>\n",
    "</div>\n",
    "\n",
    "> Note that $$\\mathrm{MAPE}=\\frac{1}{n} \\sum_{i=1}^{n} \\frac{\\left|y_{i}-\\hat{y}_{i}\\right|}{y_{i}} \\times 100, \\quad\\mathrm{RMSE}=\\sqrt{\\frac{1}{n} \\sum_{i=1}^{n}\\left(y_{i}-\\hat{y}_{i}\\right)^{2}},$$ where $n$ is the total number of estimated values, and $y_i$ and $\\hat{y}_i$ are the actual value and its estimation, respectively."
   ]
  },
  {
   "cell_type": "code",
   "execution_count": 10,
   "metadata": {},
   "outputs": [],
   "source": [
    "def compute_mape(var, var_hat):\n",
    "    return np.sum(np.abs(var - var_hat) / var) / var.shape[0]\n",
    "\n",
    "def compute_rmse(var, var_hat):\n",
    "    return  np.sqrt(np.sum((var - var_hat) ** 2) / var.shape[0])"
   ]
  },
  {
   "cell_type": "markdown",
   "metadata": {},
   "source": [
    "The main idea behind LATC-imputer is to approximate partially observed data with both low-rank structure and time series dynamics. The following `imputer` kernel includes some necessary inputs:\n",
    "\n",
    "<div class=\"alert alert-block alert-warning\">\n",
    "<ul>\n",
    "<li><b><code>dense_tensor</code>:</b> <font color=\"black\">This is an input which has the ground truth for validation. If this input is not available, you could use <code>dense_tensor = sparse_tensor.copy()</code> instead.</font></li>\n",
    "<li><b><code>sparse_tensor</code>:</b> <font color=\"black\">This is a partially observed tensor which has many missing entries.</font></li>\n",
    "<li><b><code>time_lags</code>:</b> <font color=\"black\">Time lags, e.g., <code>time_lags = np.array([1, 2, 3])</code>. </font></li>\n",
    "<li><b><code>alpha</code>:</b> <font color=\"black\">Weights for tensors' nuclear norm, e.g., <code>alpha = np.ones(3) / 3</code>. </font></li>\n",
    "<li><b><code>rho</code>:</b> <font color=\"black\">Learning rate for ADMM, e.g., <code>rho = 0.0005</code>. </font></li>\n",
    "<li><b><code>lambda0</code>:</b> <font color=\"black\">Weight for time series regressor, e.g., <code>lambda0 = 5 * rho</code>. If <code>lambda0 = 0</code>, then this imputer is actually a standard low-rank tensor completion (i.e., High-accuracy Low-Rank Tensor Completion, or HaLRTC).</font></li>\n",
    "<li><b><code>epsilon</code>:</b> <font color=\"black\">Stop criteria, e.g., <code>epsilon = 0.001</code>. </font></li>\n",
    "<li><b><code>maxiter</code>:</b> <font color=\"black\">Maximum iteration to stop algorithm, e.g., <code>maxiter = 50</code>. </font></li>\n",
    "</ul>\n",
    "</div>\n"
   ]
  },
  {
   "cell_type": "code",
   "execution_count": 60,
   "metadata": {},
   "outputs": [
    {
     "name": "stderr",
     "output_type": "stream",
     "text": [
      "/var/folders/g6/dvksyd2x2vzgtx4pt5g71bzh0000gn/T/ipykernel_78613/1500271973.py:2: DeprecationWarning: `np.int` is a deprecated alias for the builtin `int`. To silence this warning, use `int` by itself. Doing this will not modify any behavior and is safe. When replacing `np.int`, you may wish to use e.g. `np.int64` or `np.int32` to specify the precision. If you wish to review your current use, check the release note link for additional information.\n",
      "Deprecated in NumPy 1.20; for more details and guidance: https://numpy.org/devdocs/release/1.20.0-notes.html#deprecations\n",
      "  dim_time = np.int(np.prod(dim) / dim[0])\n"
     ]
    }
   ],
   "source": [
    "dim = X.shape\n",
    "dim_time = np.int(np.prod(dim) / dim[0])"
   ]
  },
  {
   "cell_type": "markdown",
   "metadata": {},
   "source": [
    "There are 214 sensors!"
   ]
  },
  {
   "cell_type": "code",
   "execution_count": 80,
   "metadata": {},
   "outputs": [
    {
     "name": "stdout",
     "output_type": "stream",
     "text": [
      "(214, 61, 144)\n",
      "(214, 61)\n",
      "(214, 60, 144)\n",
      "(214, 60)\n",
      "(214, 144, 60)\n"
     ]
    }
   ],
   "source": [
    "DIR= '/Users/zoeshleifer/tensor-learning/datasets/Guangzhou-data-set/'\n",
    "\n",
    "tensor = scipy.io.loadmat(f'{DIR}/tensor.mat')\n",
    "dense_tensor = tensor['tensor']\n",
    "random_tensor = scipy.io.loadmat(f'{DIR}random_tensor.mat')\n",
    "random_tensor = random_tensor['random_tensor']\n",
    "\n",
    "# tensor = scipy.io.loadmat('../datasets/Guangzhou-data-set/tensor.mat')\n",
    "# dense_tensor = tensor['tensor']\n",
    "random_matrix = scipy.io.loadmat(f'{DIR}random_matrix.mat')\n",
    "random_matrix = random_matrix['random_matrix']\n",
    "\n",
    "missing_rate = 0.2\n",
    "print(dense_tensor.shape)\n",
    "print(random_matrix.shape)\n",
    "dense_tensor = dense_tensor[:,:-1,:]\n",
    "random_matrix = random_matrix[:,:-1]\n",
    "print(dense_tensor.shape)\n",
    "print(random_matrix.shape)\n",
    "### Non-random missing (NM) scenario:\n",
    "binary_tensor = np.zeros(dense_tensor.shape)\n",
    "for i1 in range(dense_tensor.shape[0]):\n",
    "    for i2 in range(dense_tensor.shape[1]):\n",
    "        binary_tensor[i1, i2, :] = np.round(random_matrix[i1, i2] + 0.5 - missing_rate)\n",
    "sparse_tensor = np.multiply(dense_tensor, binary_tensor)\n",
    "\n",
    "dense_tensor = np.transpose(dense_tensor, [0, 2, 1])\n",
    "sparse_tensor = np.transpose(sparse_tensor, [0, 2, 1])\n",
    "print(dense_tensor.shape)\n",
    "del tensor, random_matrix, binary_tensor"
   ]
  },
  {
   "cell_type": "code",
   "execution_count": 164,
   "metadata": {},
   "outputs": [],
   "source": [
    "import matplotlib.pyplot as plt\n",
    "import time"
   ]
  },
  {
   "cell_type": "code",
   "execution_count": 243,
   "metadata": {},
   "outputs": [
    {
     "name": "stdout",
     "output_type": "stream",
     "text": [
      "(214, 60, 144)\n"
     ]
    },
    {
     "data": {
      "text/plain": [
       "array([42.68 , 41.52 , 42.068, 42.665, 44.482, 45.433, 43.585, 45.227,\n",
       "       47.927, 45.832, 47.063, 44.459, 46.55 , 43.816, 42.469, 42.065,\n",
       "       43.303, 47.087, 45.978, 47.041, 42.831, 43.128, 46.854, 46.36 ,\n",
       "       44.715, 45.675, 45.291, 47.735, 44.265, 46.103, 44.732, 42.323,\n",
       "       43.116, 42.845, 42.422, 40.388, 41.404, 44.251, 45.21 , 43.168,\n",
       "       42.652, 42.181, 41.833, 41.621, 40.533, 38.396, 39.166, 39.573,\n",
       "       39.011, 37.056, 36.583, 37.345, 37.424, 37.536, 38.304, 36.406,\n",
       "       37.007, 37.823, 36.244, 33.916, 31.122, 33.811, 35.374, 34.215,\n",
       "       36.751, 37.087, 35.365, 36.876, 37.763, 38.09 , 38.046, 38.185,\n",
       "       40.993, 41.003, 40.459, 40.827, 40.326, 38.3  , 40.181, 38.924,\n",
       "       37.22 , 39.543, 39.579, 40.107, 39.211, 36.076, 35.321, 36.517,\n",
       "       36.518, 35.012, 36.04 , 36.665, 35.978, 35.582, 34.712, 35.13 ,\n",
       "       33.637, 31.849, 28.616, 22.554, 19.234, 20.95 , 19.852, 24.87 ,\n",
       "       28.843, 31.602, 30.344, 23.422, 18.498, 20.28 , 18.413, 13.34 ,\n",
       "       14.247, 14.462, 14.143, 15.07 , 18.138, 18.974, 27.616, 23.61 ,\n",
       "       23.121, 29.842, 31.408, 31.894, 30.51 , 27.452, 29.296, 32.309,\n",
       "       36.346, 35.246, 35.326, 38.2  , 37.059, 36.534, 38.35 , 37.566,\n",
       "       37.339, 37.903, 39.166, 39.676, 40.566, 41.977, 43.372, 41.841])"
      ]
     },
     "execution_count": 243,
     "metadata": {},
     "output_type": "execute_result"
    }
   ],
   "source": [
    "print(dense_tensor.shape)\n",
    "dense_tensor[0,2,:]"
   ]
  },
  {
   "cell_type": "code",
   "execution_count": 238,
   "metadata": {},
   "outputs": [],
   "source": [
    "X = np.zeros((214,30,288))\n",
    "for i in range(30):\n",
    "    X[:,i,:] = np.concatenate([dense_tensor[:,2*i,:],dense_tensor[:,(2*i)+1,:]],1)\n"
   ]
  },
  {
   "cell_type": "code",
   "execution_count": 247,
   "metadata": {},
   "outputs": [
    {
     "data": {
      "text/plain": [
       "(214, 30, 288)"
      ]
     },
     "execution_count": 247,
     "metadata": {},
     "output_type": "execute_result"
    }
   ],
   "source": [
    "X.shape"
   ]
  },
  {
   "cell_type": "code",
   "execution_count": 230,
   "metadata": {},
   "outputs": [
    {
     "data": {
      "text/plain": [
       "[<matplotlib.lines.Line2D at 0x16e6765c0>]"
      ]
     },
     "execution_count": 230,
     "metadata": {},
     "output_type": "execute_result"
    },
    {
     "data": {
      "image/png": "[encoded data removed]",
      "text/plain": [
       "<Figure size 640x480 with 1 Axes>"
      ]
     },
     "metadata": {},
     "output_type": "display_data"
    }
   ],
   "source": [
    "plt.plot(np.array(list(dense_tensor[0,2,:])+list(dense_tensor[0,3,:])))"
   ]
  },
  {
   "cell_type": "code",
   "execution_count": 212,
   "metadata": {},
   "outputs": [
    {
     "data": {
      "text/plain": [
       "array([[40.893, 41.227, 42.68 , ..., 42.056, 42.006, 36.771],\n",
       "       [50.319, 50.503, 47.984, ..., 48.565, 53.94 , 47.861],\n",
       "       [53.88 , 57.001, 49.905, ..., 57.342, 57.069, 49.73 ],\n",
       "       ...,\n",
       "       [39.396, 37.812, 42.504, ..., 34.763, 34.06 , 34.383],\n",
       "       [36.245, 37.881, 37.267, ..., 39.101, 37.67 , 35.101],\n",
       "       [51.88 , 52.075, 51.066, ..., 50.982, 51.116, 51.566]])"
      ]
     },
     "execution_count": 212,
     "metadata": {},
     "output_type": "execute_result"
    }
   ],
   "source": [
    "ten2mat(dense_tensor, 0)"
   ]
  },
  {
   "cell_type": "code",
   "execution_count": 197,
   "metadata": {},
   "outputs": [
    {
     "name": "stdout",
     "output_type": "stream",
     "text": [
      "(214, 61, 144)\n",
      "(214, 60, 144)\n",
      "(214, 288, 30)\n"
     ]
    },
    {
     "data": {
      "text/plain": [
       "(288,)"
      ]
     },
     "execution_count": 197,
     "metadata": {},
     "output_type": "execute_result"
    }
   ],
   "source": [
    "DIR= '/Users/zoeshleifer/tensor-learning/datasets/Guangzhou-data-set/'\n",
    "\n",
    "tensor = scipy.io.loadmat(f'{DIR}/tensor.mat')\n",
    "dense_tensor = tensor['tensor']\n",
    "print(dense_tensor.shape)\n",
    "dense_tensor = dense_tensor[:,:-1,:]\n",
    "print(dense_tensor.shape)\n",
    "ten2mat(dense_tensor, 1).shape\n",
    "x = mat2ten(ten2mat(dense_tensor, 0),np.array([214,288,30]),0)\n",
    "print(x.shape)\n",
    "np.transpose(x, [0, 2, 1])[0,0,:].shape"
   ]
  },
  {
   "cell_type": "code",
   "execution_count": 54,
   "metadata": {},
   "outputs": [
    {
     "data": {
      "text/plain": [
       "array([40.893, 50.319, 53.88 , 37.305, 38.388, 49.13 , 35.466, 57.445,\n",
       "       39.697, 48.646, 50.983, 42.27 , 45.276, 48.706, 10.621, 38.202,\n",
       "       50.492, 35.824, 49.225, 49.294, 39.855, 44.002, 38.834, 41.276,\n",
       "       37.452, 46.714, 42.157, 45.234, 45.205, 37.552, 40.196, 42.26 ,\n",
       "       38.455, 37.342, 42.787, 45.891, 54.963, 39.511, 50.104, 54.054,\n",
       "       41.171, 38.03 , 44.656, 46.199, 39.454, 43.059, 50.5  ,  0.   ,\n",
       "       58.592, 52.294, 55.19 , 40.98 , 46.473, 56.108,  0.   , 54.37 ,\n",
       "       55.528, 54.815, 21.31 , 47.025, 39.932, 56.976, 40.971, 52.685,\n",
       "       51.172, 51.921, 42.832, 46.194, 39.936, 53.528, 36.016, 38.066,\n",
       "       32.647, 46.696, 41.767, 34.754, 44.523, 54.133, 51.062, 54.523,\n",
       "       43.042, 41.782, 35.69 , 46.103, 33.71 , 39.825, 39.749, 38.759,\n",
       "       54.301, 33.997, 37.445, 41.561, 52.997, 51.035, 34.963, 46.772,\n",
       "       48.505, 51.604, 44.552, 42.321, 36.326, 37.915, 43.006, 50.608,\n",
       "       40.302, 39.952, 42.954, 56.402, 48.321, 41.941, 54.89 , 51.914,\n",
       "       57.13 , 32.807, 48.21 , 52.342, 39.533, 51.713, 50.962, 36.947,\n",
       "       44.643, 54.96 ,  0.   , 44.865, 37.759, 41.064, 44.395, 39.705,\n",
       "       49.406, 27.286, 37.898, 41.817, 39.266, 41.306, 40.554, 46.858,\n",
       "       41.343, 47.392, 50.764, 42.406, 35.918, 38.013, 52.707, 49.456,\n",
       "       47.933,  0.   ,  0.   , 39.272, 40.963, 53.9  , 54.353, 44.584,\n",
       "       43.357, 51.2  , 56.798, 46.536, 48.898, 34.637, 64.282, 50.354,\n",
       "       40.148, 48.007, 41.215, 51.371, 53.533, 50.729, 38.935, 41.375,\n",
       "       35.616, 44.547, 35.082, 46.344, 40.59 , 37.439, 47.089, 39.668,\n",
       "       39.116, 36.049, 38.907, 38.583, 47.797, 50.101, 50.236, 57.149,\n",
       "       52.675, 38.027, 47.053, 38.467, 42.724, 53.773, 42.11 , 40.455,\n",
       "       37.661, 42.228, 35.524, 43.847, 49.827, 50.58 , 35.48 , 57.05 ,\n",
       "       60.681, 44.956, 38.764, 49.34 , 54.202, 49.972, 39.584, 35.971,\n",
       "       57.129, 65.137, 61.977, 39.396, 36.245, 51.88 , 41.938, 51.13 ,\n",
       "       53.607, 37.501, 38.383, 47.303, 36.961, 59.567, 41.162, 48.309,\n",
       "       50.916, 43.874, 46.113, 49.31 , 20.377, 41.944, 52.671, 35.758,\n",
       "       49.352, 49.224, 37.938, 42.115, 42.076, 39.868, 36.12 , 47.224,\n",
       "       42.03 , 45.608, 41.881, 39.472, 37.175, 45.563, 38.246, 39.057,\n",
       "       41.327, 45.874, 56.746, 39.56 , 48.273, 54.1  , 40.705, 37.46 ,\n",
       "       40.522, 45.97 , 37.011, 41.715, 50.593,  0.   , 62.06 , 53.996,\n",
       "       57.215, 41.129, 47.043, 55.476,  0.   , 53.84 , 54.848, 54.197,\n",
       "       21.011, 43.978, 39.357, 57.174, 39.277, 52.346, 50.566, 52.04 ,\n",
       "       44.695, 46.158, 41.012, 53.382, 35.612, 37.898, 36.521, 48.455])"
      ]
     },
     "execution_count": 54,
     "metadata": {},
     "output_type": "execute_result"
    }
   ],
   "source": [
    "mat2ten(ten2mat(dense_tensor, 2),np.array([61,288,107]),0)[0,:,0]"
   ]
  },
  {
   "cell_type": "code",
   "execution_count": 12,
   "metadata": {},
   "outputs": [
    {
     "name": "stderr",
     "output_type": "stream",
     "text": [
      "/var/folders/g6/dvksyd2x2vzgtx4pt5g71bzh0000gn/T/ipykernel_62114/1323771951.py:4: DeprecationWarning: `np.int` is a deprecated alias for the builtin `int`. To silence this warning, use `int` by itself. Doing this will not modify any behavior and is safe. When replacing `np.int`, you may wish to use e.g. `np.int64` or `np.int32` to specify the precision. If you wish to review your current use, check the release note link for additional information.\n",
      "Deprecated in NumPy 1.20; for more details and guidance: https://numpy.org/devdocs/release/1.20.0-notes.html#deprecations\n",
      "  dim_time = np.int(np.prod(dim) / dim[0])\n"
     ]
    },
    {
     "name": "stdout",
     "output_type": "stream",
     "text": [
      "Iter: 100\n",
      "Tolerance: 0.00100815\n",
      "MAPE: 0.0627966\n",
      "RMSE: 2.73245\n",
      "\n",
      "Total iteration: 100\n",
      "Tolerance: 0.00100815\n",
      "Imputation MAPE: 0.0627966\n",
      "Imputation RMSE: 2.73245\n",
      "\n",
      "Running time: 101 seconds\n"
     ]
    }
   ],
   "source": [
    "import scipy.io\n",
    "import time\n",
    "DIR= '/Users/zoeshleifer/tensor-learning/datasets/Guangzhou-data-set/'\n",
    "\n",
    "tensor = scipy.io.loadmat(f'{DIR}/tensor.mat')\n",
    "dense_tensor = tensor['tensor']\n",
    "random_tensor = scipy.io.loadmat(f'{DIR}random_tensor.mat')\n",
    "random_tensor = random_tensor['random_tensor']\n",
    "\n",
    "missing_rate = 0.2\n",
    "\n",
    "### Random missing (RM) scenario:\n",
    "binary_tensor = np.round(random_tensor + 0.5 - missing_rate)\n",
    "sparse_tensor = np.multiply(dense_tensor, binary_tensor)\n",
    "\n",
    "dense_tensor = np.transpose(dense_tensor, [0, 2, 1])\n",
    "sparse_tensor = np.transpose(sparse_tensor, [0, 2, 1])\n",
    "\n",
    "del tensor, random_tensor,binary_tensor\n",
    "\n",
    "\n",
    "start = time.time()\n",
    "time_lags = np.array([1, 2, 3, 4, 5, 6, 142, 143, 144, 145, 146, 147])\n",
    "alpha = np.ones(3) / 3\n",
    "rho = 1e-4\n",
    "lambda0 = 5 * rho\n",
    "theta = 30\n",
    "epsilon = 1e-4\n",
    "maxiter = 100\n",
    "tensor_hat = imputer(dense_tensor, sparse_tensor, time_lags, alpha, rho, lambda0, theta, epsilon, maxiter)\n",
    "end = time.time()\n",
    "print('Running time: %d seconds'%(end - start))"
   ]
  },
  {
   "cell_type": "code",
   "execution_count": 250,
   "metadata": {},
   "outputs": [
    {
     "data": {
      "text/plain": [
       "(214, 61, 144)"
      ]
     },
     "execution_count": 250,
     "metadata": {},
     "output_type": "execute_result"
    }
   ],
   "source": [
    "random_tensor['random_tensor'].shape"
   ]
  },
  {
   "cell_type": "code",
   "execution_count": 263,
   "metadata": {},
   "outputs": [
    {
     "name": "stderr",
     "output_type": "stream",
     "text": [
      "/var/folders/g6/dvksyd2x2vzgtx4pt5g71bzh0000gn/T/ipykernel_62114/1323771951.py:4: DeprecationWarning: `np.int` is a deprecated alias for the builtin `int`. To silence this warning, use `int` by itself. Doing this will not modify any behavior and is safe. When replacing `np.int`, you may wish to use e.g. `np.int64` or `np.int32` to specify the precision. If you wish to review your current use, check the release note link for additional information.\n",
      "Deprecated in NumPy 1.20; for more details and guidance: https://numpy.org/devdocs/release/1.20.0-notes.html#deprecations\n",
      "  dim_time = np.int(np.prod(dim) / dim[0])\n"
     ]
    },
    {
     "name": "stdout",
     "output_type": "stream",
     "text": [
      "Iter: 100\n",
      "Tolerance: 0.000849774\n",
      "MAPE: 0.0607753\n",
      "RMSE: 2.66397\n",
      "\n",
      "Total iteration: 100\n",
      "Tolerance: 0.000849774\n",
      "Imputation MAPE: 0.0607753\n",
      "Imputation RMSE: 2.66397\n",
      "\n",
      "Running time: 224 seconds\n"
     ]
    }
   ],
   "source": [
    "import scipy.io\n",
    "import time\n",
    "DIR= '/Users/zoeshleifer/tensor-learning/datasets/Guangzhou-data-set/'\n",
    "\n",
    "tensor = scipy.io.loadmat(f'{DIR}/tensor.mat')\n",
    "dense_tensor = tensor['tensor']\n",
    "X = np.zeros((214,30,288))\n",
    "for i in range(30):\n",
    "    X[:,i,:] = np.concatenate([dense_tensor[:,2*i,:],dense_tensor[:,(2*i)+1,:]],1)\n",
    "dense_tensor = X\n",
    "random_tensor = scipy.io.loadmat(f'{DIR}random_tensor.mat')\n",
    "random_tensor = np.reshape(random_tensor['random_tensor'][:,:-1,:], X.shape)\n",
    "\n",
    "missing_rate = 0.2\n",
    "\n",
    "### Random missing (RM) scenario:\n",
    "binary_tensor = np.round(random_tensor + 0.5 - missing_rate)\n",
    "sparse_tensor = np.multiply(dense_tensor, binary_tensor)\n",
    "\n",
    "dense_tensor = np.transpose(dense_tensor, [0, 2, 1])\n",
    "sparse_tensor = np.transpose(sparse_tensor, [0, 2, 1])\n",
    "\n",
    "del tensor, random_tensor,binary_tensor\n",
    "\n",
    "\n",
    "start = time.time()\n",
    "h = np.array([1, 2, 3, 4, 5, 6, 142, 143, 144, 145, 146, 147])\n",
    "h = np.concatenate([h, h+144*np.ones(h.shape)])\n",
    "time_lags = np.round(h).astype(int)\n",
    "alpha = np.ones(3) / 3\n",
    "rho = 1e-4\n",
    "lambda0 = 5 * rho\n",
    "theta = 30\n",
    "epsilon = 1e-4\n",
    "maxiter = 100\n",
    "tensor_hat = imputer(dense_tensor, sparse_tensor, time_lags, alpha, rho, lambda0, theta, epsilon, maxiter)\n",
    "end = time.time()\n",
    "print('Running time: %d seconds'%(end - start))"
   ]
  },
  {
   "cell_type": "code",
   "execution_count": 283,
   "metadata": {},
   "outputs": [],
   "source": [
    "doc = np.concatenate([np.ones(4740), np.zeros(253418-4740)])\n",
    "col = np.concatenate([np.ones(71742), np.zeros(253418-71742)])\n",
    "sd = doc.std()\n",
    "sc = col.std()"
   ]
  },
  {
   "cell_type": "code",
   "execution_count": 291,
   "metadata": {},
   "outputs": [
    {
     "data": {
      "text/plain": [
       "1.591336557504968"
      ]
     },
     "execution_count": 291,
     "metadata": {},
     "output_type": "execute_result"
    }
   ],
   "source": [
    "(1- col.mean())/sc"
   ]
  },
  {
   "cell_type": "code",
   "execution_count": 293,
   "metadata": {},
   "outputs": [
    {
     "data": {
      "text/plain": [
       "1.7072503518350028"
      ]
     },
     "execution_count": 293,
     "metadata": {},
     "output_type": "execute_result"
    }
   ],
   "source": [
    "(1/4 - doc.mean())/sd"
   ]
  },
  {
   "cell_type": "code",
   "execution_count": 276,
   "metadata": {},
   "outputs": [
    {
     "data": {
      "text/plain": [
       "1.829720161233386"
      ]
     },
     "execution_count": 276,
     "metadata": {},
     "output_type": "execute_result"
    }
   ],
   "source": [
    "((1/2) - (4740/253418))/np.concatenate([np.ones(4740), np.zeros(253418-4740)]).std() - ((1/4) - (4740/253418))/np.concatenate([np.ones(4740), np.zeros(253418)]).std()"
   ]
  },
  {
   "cell_type": "code",
   "execution_count": 254,
   "metadata": {},
   "outputs": [
    {
     "data": {
      "text/plain": [
       "(214, 61, 144)"
      ]
     },
     "execution_count": 254,
     "metadata": {},
     "output_type": "execute_result"
    }
   ],
   "source": [
    "dense_tensor.shape"
   ]
  },
  {
   "cell_type": "code",
   "execution_count": 189,
   "metadata": {},
   "outputs": [
    {
     "data": {
      "text/plain": [
       "8640.0"
      ]
     },
     "execution_count": 189,
     "metadata": {},
     "output_type": "execute_result"
    }
   ],
   "source": [
    "dim = dense_tensor.shape\n",
    "dim = (np.prod(dim) / dim[0])\n",
    "dim"
   ]
  },
  {
   "cell_type": "code",
   "execution_count": null,
   "metadata": {},
   "outputs": [],
   "source": [
    "ten2mat()"
   ]
  },
  {
   "cell_type": "code",
   "execution_count": 5,
   "metadata": {},
   "outputs": [],
   "source": [
    "def imputer(dense_tensor, sparse_tensor, time_lags, alpha, rho0, lambda0, theta, epsilon, maxiter):\n",
    "    \"\"\"Low-Rank Autoregressive Tensor Completion, LATC-imputer.\"\"\"\n",
    "    dim = np.array(sparse_tensor.shape)\n",
    "    dim_time = np.int(np.prod(dim) / dim[0])\n",
    "    d = len(time_lags)\n",
    "    max_lag = np.max(time_lags)\n",
    "    sparse_mat = ten2mat(sparse_tensor, 0)\n",
    "    pos_missing = np.where(sparse_mat == 0)\n",
    "    pos_test = np.where((dense_tensor != 0) & (sparse_tensor == 0))\n",
    "    \n",
    "    X = np.zeros(np.insert(dim, 0, len(dim))) # \\boldsymbol{\\mathcal{X}}\n",
    "    T = np.zeros(np.insert(dim, 0, len(dim))) # \\boldsymbol{\\mathcal{T}}\n",
    "    Z = sparse_mat.copy()                     # \\boldsymbol{Z}\n",
    "    Z[pos_missing] = np.mean(sparse_mat[sparse_mat != 0])\n",
    "    A = 0.001 * np.random.rand(dim[0], d)     # \\boldsymbol{A}\n",
    "    it = 0\n",
    "    ind = np.zeros((d, dim_time - max_lag), dtype = np.int_)\n",
    "    for i in range(d):\n",
    "        ind[i, :] = np.arange(max_lag - time_lags[i], dim_time - time_lags[i])\n",
    "    last_mat = sparse_mat.copy()\n",
    "    snorm = np.linalg.norm(sparse_mat, 'fro')\n",
    "    rho = rho0\n",
    "    while True:\n",
    "        rho = min(rho*1.05, 1e5)\n",
    "        for k in range(len(dim)):\n",
    "            X[k] = mat2ten(svt_tnn(ten2mat(mat2ten(Z, dim, 0) - T[k] / rho, k), alpha[k] / rho, theta), dim, k)\n",
    "        tensor_hat = np.einsum('k, kmnt -> mnt', alpha, X)\n",
    "        mat_hat = ten2mat(tensor_hat, 0)\n",
    "        mat0 = np.zeros((dim[0], dim_time - max_lag))\n",
    "        if lambda0 > 0:\n",
    "            for m in range(dim[0]):\n",
    "                Qm = mat_hat[m, ind].T\n",
    "                A[m, :] = np.linalg.pinv(Qm) @ Z[m, max_lag :]\n",
    "                mat0[m, :] = Qm @ A[m, :]\n",
    "            mat1 = ten2mat(np.mean(rho * X + T, axis = 0), 0)\n",
    "            Z[pos_missing] = np.append((mat1[:, : max_lag] / rho), (mat1[:, max_lag :] + lambda0 * mat0) \n",
    "                                       / (rho + lambda0), axis = 1)[pos_missing]\n",
    "        else:\n",
    "            Z[pos_missing] = (ten2mat(np.mean(X + T / rho, axis = 0), 0))[pos_missing]\n",
    "        T = T + rho * (X - np.broadcast_to(mat2ten(Z, dim, 0), np.insert(dim, 0, len(dim))))\n",
    "        tol = np.linalg.norm((mat_hat - last_mat), 'fro') / snorm\n",
    "        last_mat = mat_hat.copy()\n",
    "        it += 1\n",
    "        if it % 100 == 0:\n",
    "            print('Iter: {}'.format(it))\n",
    "            print('Tolerance: {:.6}'.format(tol))\n",
    "            print('MAPE: {:.6}'.format(compute_mape(dense_tensor[pos_test], tensor_hat[pos_test])))\n",
    "            print('RMSE: {:.6}'.format(compute_rmse(dense_tensor[pos_test], tensor_hat[pos_test])))\n",
    "            print()\n",
    "        if (tol < epsilon) or (it >= maxiter):\n",
    "            break\n",
    "\n",
    "    print('Total iteration: {}'.format(it))\n",
    "    print('Tolerance: {:.6}'.format(tol))\n",
    "    print('Imputation MAPE: {:.6}'.format(compute_mape(dense_tensor[pos_test], tensor_hat[pos_test])))\n",
    "    print('Imputation RMSE: {:.6}'.format(compute_rmse(dense_tensor[pos_test], tensor_hat[pos_test])))\n",
    "    print()\n",
    "    \n",
    "    return tensor_hat"
   ]
  },
  {
   "cell_type": "markdown",
   "metadata": {},
   "source": [
    "### Guangzhou data\n",
    "\n",
    "We generate **random missing (RM)** values on Guangzhou traffic speed data set."
   ]
  },
  {
   "cell_type": "code",
   "execution_count": 104,
   "metadata": {},
   "outputs": [],
   "source": [
    "import scipy.io\n",
    "DIR= '/Users/zoeshleifer/tensor-learning/datasets/Guangzhou-data-set/'\n",
    "tensor = scipy.io.loadmat(f'{DIR}tensor.mat')\n",
    "dense_tensor = tensor['tensor']\n",
    "random_tensor = scipy.io.loadmat('/Users/zoeshleifer/tensor-learning/datasets/Guangzhou-data-set/random_tensor.mat')\n",
    "random_tensor = random_tensor['random_tensor']\n",
    "\n",
    "missing_rate = 0.2\n",
    "\n",
    "### Random missing (RM) scenario:\n",
    "binary_tensor = np.round(random_tensor + 0.5 - missing_rate)\n",
    "sparse_tensor = np.multiply(dense_tensor, binary_tensor)\n",
    "\n",
    "dense_tensor = np.transpose(dense_tensor, [0, 2, 1])\n",
    "sparse_tensor = np.transpose(sparse_tensor, [0, 2, 1])\n",
    "\n",
    "del tensor, random_tensor,binary_tensor"
   ]
  },
  {
   "cell_type": "markdown",
   "metadata": {},
   "source": [
    "We use `imputer` to fill in the missing entries and measure performance metrics on the ground truth."
   ]
  },
  {
   "cell_type": "code",
   "execution_count": 57,
   "metadata": {},
   "outputs": [
    {
     "data": {
      "text/plain": [
       "(214, 144, 61)"
      ]
     },
     "execution_count": 57,
     "metadata": {},
     "output_type": "execute_result"
    }
   ],
   "source": [
    "sparse_tensor.shape"
   ]
  },
  {
   "cell_type": "code",
   "execution_count": 295,
   "metadata": {},
   "outputs": [],
   "source": [
    "import pickle\n",
    "import pandas as pd"
   ]
  },
  {
   "cell_type": "code",
   "execution_count": 84,
   "metadata": {},
   "outputs": [
    {
     "data": {
      "text/html": [
       "<div>\n",
       "<style scoped>\n",
       "    .dataframe tbody tr th:only-of-type {\n",
       "        vertical-align: middle;\n",
       "    }\n",
       "\n",
       "    .dataframe tbody tr th {\n",
       "        vertical-align: top;\n",
       "    }\n",
       "\n",
       "    .dataframe thead th {\n",
       "        text-align: right;\n",
       "    }\n",
       "</style>\n",
       "<table border=\"1\" class=\"dataframe\">\n",
       "  <thead>\n",
       "    <tr style=\"text-align: right;\">\n",
       "      <th></th>\n",
       "      <th>chlorophyll</th>\n",
       "      <th>turbidity</th>\n",
       "      <th>QSE</th>\n",
       "      <th>air_temperature</th>\n",
       "      <th>wind_gust</th>\n",
       "      <th>wind_min</th>\n",
       "      <th>wind_speed</th>\n",
       "      <th>wind_gust_1s</th>\n",
       "      <th>wind_direction</th>\n",
       "      <th>wind_percent_good</th>\n",
       "    </tr>\n",
       "    <tr>\n",
       "      <th>index</th>\n",
       "      <th></th>\n",
       "      <th></th>\n",
       "      <th></th>\n",
       "      <th></th>\n",
       "      <th></th>\n",
       "      <th></th>\n",
       "      <th></th>\n",
       "      <th></th>\n",
       "      <th></th>\n",
       "      <th></th>\n",
       "    </tr>\n",
       "  </thead>\n",
       "  <tbody>\n",
       "    <tr>\n",
       "      <th>0</th>\n",
       "      <td>1.232000e+00</td>\n",
       "      <td>0.8035</td>\n",
       "      <td>0.270300</td>\n",
       "      <td>10.710</td>\n",
       "      <td>6.542</td>\n",
       "      <td>1.55</td>\n",
       "      <td>4.087</td>\n",
       "      <td>6.92</td>\n",
       "      <td>268.90</td>\n",
       "      <td>1.0</td>\n",
       "    </tr>\n",
       "    <tr>\n",
       "      <th>1</th>\n",
       "      <td>1.018000e+00</td>\n",
       "      <td>0.7620</td>\n",
       "      <td>0.193800</td>\n",
       "      <td>10.940</td>\n",
       "      <td>5.290</td>\n",
       "      <td>1.05</td>\n",
       "      <td>3.401</td>\n",
       "      <td>5.53</td>\n",
       "      <td>284.60</td>\n",
       "      <td>1.0</td>\n",
       "    </tr>\n",
       "    <tr>\n",
       "      <th>2</th>\n",
       "      <td>1.103000e+00</td>\n",
       "      <td>0.7370</td>\n",
       "      <td>0.316200</td>\n",
       "      <td>11.370</td>\n",
       "      <td>4.048</td>\n",
       "      <td>0.94</td>\n",
       "      <td>2.355</td>\n",
       "      <td>4.19</td>\n",
       "      <td>252.40</td>\n",
       "      <td>1.0</td>\n",
       "    </tr>\n",
       "    <tr>\n",
       "      <th>3</th>\n",
       "      <td>1.259000e+00</td>\n",
       "      <td>0.8550</td>\n",
       "      <td>0.387600</td>\n",
       "      <td>11.060</td>\n",
       "      <td>6.488</td>\n",
       "      <td>1.60</td>\n",
       "      <td>4.384</td>\n",
       "      <td>6.78</td>\n",
       "      <td>200.30</td>\n",
       "      <td>1.0</td>\n",
       "    </tr>\n",
       "    <tr>\n",
       "      <th>4</th>\n",
       "      <td>1.319000e+00</td>\n",
       "      <td>0.6840</td>\n",
       "      <td>0.316200</td>\n",
       "      <td>11.370</td>\n",
       "      <td>5.756</td>\n",
       "      <td>1.83</td>\n",
       "      <td>4.021</td>\n",
       "      <td>6.14</td>\n",
       "      <td>222.30</td>\n",
       "      <td>1.0</td>\n",
       "    </tr>\n",
       "    <tr>\n",
       "      <th>...</th>\n",
       "      <td>...</td>\n",
       "      <td>...</td>\n",
       "      <td>...</td>\n",
       "      <td>...</td>\n",
       "      <td>...</td>\n",
       "      <td>...</td>\n",
       "      <td>...</td>\n",
       "      <td>...</td>\n",
       "      <td>...</td>\n",
       "      <td>...</td>\n",
       "    </tr>\n",
       "    <tr>\n",
       "      <th>19450</th>\n",
       "      <td>1.999999e-03</td>\n",
       "      <td>16.7725</td>\n",
       "      <td>12.180799</td>\n",
       "      <td>-1.427</td>\n",
       "      <td>5.212</td>\n",
       "      <td>2.53</td>\n",
       "      <td>4.117</td>\n",
       "      <td>5.47</td>\n",
       "      <td>21.85</td>\n",
       "      <td>1.0</td>\n",
       "    </tr>\n",
       "    <tr>\n",
       "      <th>19451</th>\n",
       "      <td>2.999999e-03</td>\n",
       "      <td>16.5850</td>\n",
       "      <td>10.773200</td>\n",
       "      <td>-1.271</td>\n",
       "      <td>3.908</td>\n",
       "      <td>1.89</td>\n",
       "      <td>2.854</td>\n",
       "      <td>4.05</td>\n",
       "      <td>4.61</td>\n",
       "      <td>1.0</td>\n",
       "    </tr>\n",
       "    <tr>\n",
       "      <th>19452</th>\n",
       "      <td>9.999988e-04</td>\n",
       "      <td>16.0505</td>\n",
       "      <td>10.883600</td>\n",
       "      <td>-1.143</td>\n",
       "      <td>5.536</td>\n",
       "      <td>2.52</td>\n",
       "      <td>4.180</td>\n",
       "      <td>5.78</td>\n",
       "      <td>14.26</td>\n",
       "      <td>1.0</td>\n",
       "    </tr>\n",
       "    <tr>\n",
       "      <th>19453</th>\n",
       "      <td>-1.192093e-09</td>\n",
       "      <td>16.6755</td>\n",
       "      <td>10.938800</td>\n",
       "      <td>-0.885</td>\n",
       "      <td>4.848</td>\n",
       "      <td>2.59</td>\n",
       "      <td>3.865</td>\n",
       "      <td>5.20</td>\n",
       "      <td>15.65</td>\n",
       "      <td>1.0</td>\n",
       "    </tr>\n",
       "    <tr>\n",
       "      <th>19454</th>\n",
       "      <td>1.900000e-02</td>\n",
       "      <td>16.1805</td>\n",
       "      <td>11.214800</td>\n",
       "      <td>-0.736</td>\n",
       "      <td>4.846</td>\n",
       "      <td>2.82</td>\n",
       "      <td>4.025</td>\n",
       "      <td>5.26</td>\n",
       "      <td>21.64</td>\n",
       "      <td>1.0</td>\n",
       "    </tr>\n",
       "  </tbody>\n",
       "</table>\n",
       "<p>19147 rows × 10 columns</p>\n",
       "</div>"
      ],
      "text/plain": [
       "        chlorophyll  turbidity        QSE  air_temperature  wind_gust  \\\n",
       "index                                                                   \n",
       "0      1.232000e+00     0.8035   0.270300           10.710      6.542   \n",
       "1      1.018000e+00     0.7620   0.193800           10.940      5.290   \n",
       "2      1.103000e+00     0.7370   0.316200           11.370      4.048   \n",
       "3      1.259000e+00     0.8550   0.387600           11.060      6.488   \n",
       "4      1.319000e+00     0.6840   0.316200           11.370      5.756   \n",
       "...             ...        ...        ...              ...        ...   \n",
       "19450  1.999999e-03    16.7725  12.180799           -1.427      5.212   \n",
       "19451  2.999999e-03    16.5850  10.773200           -1.271      3.908   \n",
       "19452  9.999988e-04    16.0505  10.883600           -1.143      5.536   \n",
       "19453 -1.192093e-09    16.6755  10.938800           -0.885      4.848   \n",
       "19454  1.900000e-02    16.1805  11.214800           -0.736      4.846   \n",
       "\n",
       "       wind_min  wind_speed  wind_gust_1s  wind_direction  wind_percent_good  \n",
       "index                                                                         \n",
       "0          1.55       4.087          6.92          268.90                1.0  \n",
       "1          1.05       3.401          5.53          284.60                1.0  \n",
       "2          0.94       2.355          4.19          252.40                1.0  \n",
       "3          1.60       4.384          6.78          200.30                1.0  \n",
       "4          1.83       4.021          6.14          222.30                1.0  \n",
       "...         ...         ...           ...             ...                ...  \n",
       "19450      2.53       4.117          5.47           21.85                1.0  \n",
       "19451      1.89       2.854          4.05            4.61                1.0  \n",
       "19452      2.52       4.180          5.78           14.26                1.0  \n",
       "19453      2.59       3.865          5.20           15.65                1.0  \n",
       "19454      2.82       4.025          5.26           21.64                1.0  \n",
       "\n",
       "[19147 rows x 10 columns]"
      ]
     },
     "execution_count": 84,
     "metadata": {},
     "output_type": "execute_result"
    }
   ],
   "source": [
    "X1.loc[X2.index]"
   ]
  },
  {
   "cell_type": "code",
   "execution_count": 122,
   "metadata": {},
   "outputs": [],
   "source": [
    "X = np.array([X1.values, X2.values])\n",
    "s = X.shape"
   ]
  },
  {
   "cell_type": "code",
   "execution_count": 123,
   "metadata": {},
   "outputs": [
    {
     "data": {
      "text/plain": [
       "(2, 19147, 10)"
      ]
     },
     "execution_count": 123,
     "metadata": {},
     "output_type": "execute_result"
    }
   ],
   "source": [
    "s"
   ]
  },
  {
   "cell_type": "code",
   "execution_count": 179,
   "metadata": {},
   "outputs": [],
   "source": [
    "missing_rate = .2\n",
    "np.random_seed=5\n",
    "X_nulled = np.multiply(X,np.round(np.random.random(s)+(.5-missing_rate)))"
   ]
  },
  {
   "cell_type": "code",
   "execution_count": 180,
   "metadata": {},
   "outputs": [
    {
     "data": {
      "text/plain": [
       "array([[ 1.232000e+00,  8.035000e-01,  0.000000e+00, ...,  6.920000e+00,\n",
       "         2.689000e+02,  1.000000e+00],\n",
       "       [ 1.018000e+00,  0.000000e+00,  1.938000e-01, ...,  5.530000e+00,\n",
       "         2.846000e+02,  1.000000e+00],\n",
       "       [ 0.000000e+00,  0.000000e+00,  3.162000e-01, ...,  4.190000e+00,\n",
       "         2.524000e+02,  1.000000e+00],\n",
       "       ...,\n",
       "       [ 9.999988e-04,  1.605050e+01,  1.088360e+01, ...,  5.780000e+00,\n",
       "         1.426000e+01,  1.000000e+00],\n",
       "       [-1.192093e-09,  1.667550e+01,  1.093880e+01, ...,  5.200000e+00,\n",
       "         1.565000e+01,  1.000000e+00],\n",
       "       [ 1.900000e-02,  1.618050e+01,  1.121480e+01, ...,  5.260000e+00,\n",
       "         2.164000e+01,  0.000000e+00]])"
      ]
     },
     "execution_count": 180,
     "metadata": {},
     "output_type": "execute_result"
    }
   ],
   "source": [
    "pd.DataFrame(X_nulled[0]).interpolate(method='index').values"
   ]
  },
  {
   "cell_type": "code",
   "execution_count": 181,
   "metadata": {},
   "outputs": [
    {
     "data": {
      "text/plain": [
       "106.48430417518547"
      ]
     },
     "execution_count": 181,
     "metadata": {},
     "output_type": "execute_result"
    }
   ],
   "source": [
    "compute_rmse(X1.values,pd.DataFrame(X_nulled[0]).interpolate(method='index').values)"
   ]
  },
  {
   "cell_type": "code",
   "execution_count": 296,
   "metadata": {},
   "outputs": [],
   "source": [
    "file = open('final_X.pkl','rb')\n",
    "X_final = pickle.load(file)\n",
    "Xdf = X_final.fillna(0)"
   ]
  },
  {
   "cell_type": "code",
   "execution_count": 301,
   "metadata": {},
   "outputs": [
    {
     "data": {
      "text/plain": [
       "Index(['J04_optics_all', 'UNH_CML_realtime', 'UNH_CO2_realtime', 'UNH_GBB',\n",
       "       'LOBO_CSV_66', 'LOBO_CSV_65', 'LOBO_CSV_64', 'LOBO_CSV_67',\n",
       "       'LOBO_CSV_70', 'LOBO_CSV_72', 'D03_optics_all', 'C05_optics_all',\n",
       "       'A01_optics_s_all', 'URI_169-QP_SurfaceSonde', 'URI_CPoint_BottomSonde',\n",
       "       'URI_CPoint_SurfaceSonde', 'URI_GBay_BottomSonde',\n",
       "       'URI_GBay_SurfaceSonde', 'URI_NP_BottomSonde', 'URI_NP_SurfaceSonde',\n",
       "       'URI_PP_BottomSonde', 'URI_PP_SurfaceSonde'],\n",
       "      dtype='object')"
      ]
     },
     "execution_count": 301,
     "metadata": {},
     "output_type": "execute_result"
    }
   ],
   "source": [
    "Xdf.columns"
   ]
  },
  {
   "cell_type": "code",
   "execution_count": 299,
   "metadata": {},
   "outputs": [
    {
     "data": {
      "text/plain": [
       "5310    3.337654\n",
       "5311    6.480881\n",
       "5312    5.800389\n",
       "5313    7.841867\n",
       "5314    4.633830\n",
       "          ...   \n",
       "8028    0.896101\n",
       "8029    0.871882\n",
       "8030    0.871882\n",
       "8031    0.847663\n",
       "8032    0.799225\n",
       "Name: A01_optics_s_all, Length: 2723, dtype: float64"
      ]
     },
     "execution_count": 299,
     "metadata": {},
     "output_type": "execute_result"
    }
   ],
   "source": [
    "Xdf['A01_optics_s_all']"
   ]
  },
  {
   "cell_type": "code",
   "execution_count": 377,
   "metadata": {},
   "outputs": [
    {
     "name": "stderr",
     "output_type": "stream",
     "text": [
      "  0%|                                                     | 0/7 [00:00<?, ?it/s]/var/folders/g6/dvksyd2x2vzgtx4pt5g71bzh0000gn/T/ipykernel_78613/1323771951.py:4: DeprecationWarning: `np.int` is a deprecated alias for the builtin `int`. To silence this warning, use `int` by itself. Doing this will not modify any behavior and is safe. When replacing `np.int`, you may wish to use e.g. `np.int64` or `np.int32` to specify the precision. If you wish to review your current use, check the release note link for additional information.\n",
      "Deprecated in NumPy 1.20; for more details and guidance: https://numpy.org/devdocs/release/1.20.0-notes.html#deprecations\n",
      "  dim_time = np.int(np.prod(dim) / dim[0])\n"
     ]
    },
    {
     "name": "stdout",
     "output_type": "stream",
     "text": [
      "Total iteration: 93\n",
      "Tolerance: 9.83576e-05\n",
      "Imputation MAPE: nan\n",
      "Imputation RMSE: nan\n",
      "\n",
      "Running time: 3 seconds\n",
      "{1.0: [0.6591810860693994], 0.1: [], 0.05: [], 0.02: [], 0.01: [], 0.001: [], 0.0001: []}\n"
     ]
    },
    {
     "name": "stderr",
     "output_type": "stream",
     "text": [
      "/var/folders/g6/dvksyd2x2vzgtx4pt5g71bzh0000gn/T/ipykernel_78613/1501381063.py:2: RuntimeWarning: invalid value encountered in double_scalars\n",
      "  return np.sum(np.abs(var - var_hat) / var) / var.shape[0]\n",
      "/var/folders/g6/dvksyd2x2vzgtx4pt5g71bzh0000gn/T/ipykernel_78613/1501381063.py:5: RuntimeWarning: invalid value encountered in double_scalars\n",
      "  return  np.sqrt(np.sum((var - var_hat) ** 2) / var.shape[0])\n",
      "/var/folders/g6/dvksyd2x2vzgtx4pt5g71bzh0000gn/T/ipykernel_78613/1323771951.py:4: DeprecationWarning: `np.int` is a deprecated alias for the builtin `int`. To silence this warning, use `int` by itself. Doing this will not modify any behavior and is safe. When replacing `np.int`, you may wish to use e.g. `np.int64` or `np.int32` to specify the precision. If you wish to review your current use, check the release note link for additional information.\n",
      "Deprecated in NumPy 1.20; for more details and guidance: https://numpy.org/devdocs/release/1.20.0-notes.html#deprecations\n",
      "  dim_time = np.int(np.prod(dim) / dim[0])\n"
     ]
    },
    {
     "name": "stdout",
     "output_type": "stream",
     "text": [
      "Total iteration: 93\n",
      "Tolerance: 9.83576e-05\n",
      "Imputation MAPE: nan\n",
      "Imputation RMSE: nan\n",
      "\n",
      "Running time: 3 seconds\n",
      "{1.0: [0.6591810860693994, 1.6648359820715868], 0.1: [], 0.05: [], 0.02: [], 0.01: [], 0.001: [], 0.0001: []}\n"
     ]
    },
    {
     "name": "stderr",
     "output_type": "stream",
     "text": [
      "/var/folders/g6/dvksyd2x2vzgtx4pt5g71bzh0000gn/T/ipykernel_78613/1501381063.py:2: RuntimeWarning: invalid value encountered in double_scalars\n",
      "  return np.sum(np.abs(var - var_hat) / var) / var.shape[0]\n",
      "/var/folders/g6/dvksyd2x2vzgtx4pt5g71bzh0000gn/T/ipykernel_78613/1501381063.py:5: RuntimeWarning: invalid value encountered in double_scalars\n",
      "  return  np.sqrt(np.sum((var - var_hat) ** 2) / var.shape[0])\n",
      "/var/folders/g6/dvksyd2x2vzgtx4pt5g71bzh0000gn/T/ipykernel_78613/1323771951.py:4: DeprecationWarning: `np.int` is a deprecated alias for the builtin `int`. To silence this warning, use `int` by itself. Doing this will not modify any behavior and is safe. When replacing `np.int`, you may wish to use e.g. `np.int64` or `np.int32` to specify the precision. If you wish to review your current use, check the release note link for additional information.\n",
      "Deprecated in NumPy 1.20; for more details and guidance: https://numpy.org/devdocs/release/1.20.0-notes.html#deprecations\n",
      "  dim_time = np.int(np.prod(dim) / dim[0])\n"
     ]
    },
    {
     "name": "stdout",
     "output_type": "stream",
     "text": [
      "Total iteration: 93\n",
      "Tolerance: 9.83576e-05\n",
      "Imputation MAPE: nan\n",
      "Imputation RMSE: nan\n",
      "\n",
      "Running time: 3 seconds\n",
      "{1.0: [0.6591810860693994, 1.6648359820715868, 1.7621331777920488], 0.1: [], 0.05: [], 0.02: [], 0.01: [], 0.001: [], 0.0001: []}\n"
     ]
    },
    {
     "name": "stderr",
     "output_type": "stream",
     "text": [
      "/var/folders/g6/dvksyd2x2vzgtx4pt5g71bzh0000gn/T/ipykernel_78613/1501381063.py:2: RuntimeWarning: invalid value encountered in double_scalars\n",
      "  return np.sum(np.abs(var - var_hat) / var) / var.shape[0]\n",
      "/var/folders/g6/dvksyd2x2vzgtx4pt5g71bzh0000gn/T/ipykernel_78613/1501381063.py:5: RuntimeWarning: invalid value encountered in double_scalars\n",
      "  return  np.sqrt(np.sum((var - var_hat) ** 2) / var.shape[0])\n",
      "/var/folders/g6/dvksyd2x2vzgtx4pt5g71bzh0000gn/T/ipykernel_78613/1323771951.py:4: DeprecationWarning: `np.int` is a deprecated alias for the builtin `int`. To silence this warning, use `int` by itself. Doing this will not modify any behavior and is safe. When replacing `np.int`, you may wish to use e.g. `np.int64` or `np.int32` to specify the precision. If you wish to review your current use, check the release note link for additional information.\n",
      "Deprecated in NumPy 1.20; for more details and guidance: https://numpy.org/devdocs/release/1.20.0-notes.html#deprecations\n",
      "  dim_time = np.int(np.prod(dim) / dim[0])\n"
     ]
    },
    {
     "name": "stdout",
     "output_type": "stream",
     "text": [
      "Total iteration: 93\n",
      "Tolerance: 9.83576e-05\n",
      "Imputation MAPE: nan\n",
      "Imputation RMSE: nan\n",
      "\n",
      "Running time: 3 seconds\n",
      "{1.0: [0.6591810860693994, 1.6648359820715868, 1.7621331777920488, 0.8689036056932234], 0.1: [], 0.05: [], 0.02: [], 0.01: [], 0.001: [], 0.0001: []}\n"
     ]
    },
    {
     "name": "stderr",
     "output_type": "stream",
     "text": [
      "/var/folders/g6/dvksyd2x2vzgtx4pt5g71bzh0000gn/T/ipykernel_78613/1501381063.py:2: RuntimeWarning: invalid value encountered in double_scalars\n",
      "  return np.sum(np.abs(var - var_hat) / var) / var.shape[0]\n",
      "/var/folders/g6/dvksyd2x2vzgtx4pt5g71bzh0000gn/T/ipykernel_78613/1501381063.py:5: RuntimeWarning: invalid value encountered in double_scalars\n",
      "  return  np.sqrt(np.sum((var - var_hat) ** 2) / var.shape[0])\n",
      "/var/folders/g6/dvksyd2x2vzgtx4pt5g71bzh0000gn/T/ipykernel_78613/1323771951.py:4: DeprecationWarning: `np.int` is a deprecated alias for the builtin `int`. To silence this warning, use `int` by itself. Doing this will not modify any behavior and is safe. When replacing `np.int`, you may wish to use e.g. `np.int64` or `np.int32` to specify the precision. If you wish to review your current use, check the release note link for additional information.\n",
      "Deprecated in NumPy 1.20; for more details and guidance: https://numpy.org/devdocs/release/1.20.0-notes.html#deprecations\n",
      "  dim_time = np.int(np.prod(dim) / dim[0])\n",
      "/var/folders/g6/dvksyd2x2vzgtx4pt5g71bzh0000gn/T/ipykernel_78613/1501381063.py:2: RuntimeWarning: invalid value encountered in double_scalars\n",
      "  return np.sum(np.abs(var - var_hat) / var) / var.shape[0]\n",
      "/var/folders/g6/dvksyd2x2vzgtx4pt5g71bzh0000gn/T/ipykernel_78613/1501381063.py:5: RuntimeWarning: invalid value encountered in double_scalars\n",
      "  return  np.sqrt(np.sum((var - var_hat) ** 2) / var.shape[0])\n",
      " 14%|██████▍                                      | 1/7 [00:17<01:43, 17.19s/it]"
     ]
    },
    {
     "name": "stdout",
     "output_type": "stream",
     "text": [
      "Total iteration: 93\n",
      "Tolerance: 9.83576e-05\n",
      "Imputation MAPE: nan\n",
      "Imputation RMSE: nan\n",
      "\n",
      "Running time: 3 seconds\n",
      "{1.0: [0.6591810860693994, 1.6648359820715868, 1.7621331777920488, 0.8689036056932234, 1.3473474436319692], 0.1: [], 0.05: [], 0.02: [], 0.01: [], 0.001: [], 0.0001: []}\n"
     ]
    },
    {
     "name": "stderr",
     "output_type": "stream",
     "text": [
      "/var/folders/g6/dvksyd2x2vzgtx4pt5g71bzh0000gn/T/ipykernel_78613/1323771951.py:4: DeprecationWarning: `np.int` is a deprecated alias for the builtin `int`. To silence this warning, use `int` by itself. Doing this will not modify any behavior and is safe. When replacing `np.int`, you may wish to use e.g. `np.int64` or `np.int32` to specify the precision. If you wish to review your current use, check the release note link for additional information.\n",
      "Deprecated in NumPy 1.20; for more details and guidance: https://numpy.org/devdocs/release/1.20.0-notes.html#deprecations\n",
      "  dim_time = np.int(np.prod(dim) / dim[0])\n"
     ]
    },
    {
     "name": "stdout",
     "output_type": "stream",
     "text": [
      "Total iteration: 91\n",
      "Tolerance: 9.76691e-05\n",
      "Imputation MAPE: nan\n",
      "Imputation RMSE: nan\n",
      "\n",
      "Running time: 3 seconds\n",
      "{1.0: [0.6591810860693994, 1.6648359820715868, 1.7621331777920488, 0.8689036056932234, 1.3473474436319692], 0.1: [0.662503859096653], 0.05: [], 0.02: [], 0.01: [], 0.001: [], 0.0001: []}\n"
     ]
    },
    {
     "name": "stderr",
     "output_type": "stream",
     "text": [
      "/var/folders/g6/dvksyd2x2vzgtx4pt5g71bzh0000gn/T/ipykernel_78613/1501381063.py:2: RuntimeWarning: invalid value encountered in double_scalars\n",
      "  return np.sum(np.abs(var - var_hat) / var) / var.shape[0]\n",
      "/var/folders/g6/dvksyd2x2vzgtx4pt5g71bzh0000gn/T/ipykernel_78613/1501381063.py:5: RuntimeWarning: invalid value encountered in double_scalars\n",
      "  return  np.sqrt(np.sum((var - var_hat) ** 2) / var.shape[0])\n",
      "/var/folders/g6/dvksyd2x2vzgtx4pt5g71bzh0000gn/T/ipykernel_78613/1323771951.py:4: DeprecationWarning: `np.int` is a deprecated alias for the builtin `int`. To silence this warning, use `int` by itself. Doing this will not modify any behavior and is safe. When replacing `np.int`, you may wish to use e.g. `np.int64` or `np.int32` to specify the precision. If you wish to review your current use, check the release note link for additional information.\n",
      "Deprecated in NumPy 1.20; for more details and guidance: https://numpy.org/devdocs/release/1.20.0-notes.html#deprecations\n",
      "  dim_time = np.int(np.prod(dim) / dim[0])\n"
     ]
    },
    {
     "name": "stdout",
     "output_type": "stream",
     "text": [
      "Total iteration: 91\n",
      "Tolerance: 9.76691e-05\n",
      "Imputation MAPE: nan\n",
      "Imputation RMSE: nan\n",
      "\n",
      "Running time: 3 seconds\n",
      "{1.0: [0.6591810860693994, 1.6648359820715868, 1.7621331777920488, 0.8689036056932234, 1.3473474436319692], 0.1: [0.662503859096653, 1.6681848339424703], 0.05: [], 0.02: [], 0.01: [], 0.001: [], 0.0001: []}\n"
     ]
    },
    {
     "name": "stderr",
     "output_type": "stream",
     "text": [
      "/var/folders/g6/dvksyd2x2vzgtx4pt5g71bzh0000gn/T/ipykernel_78613/1501381063.py:2: RuntimeWarning: invalid value encountered in double_scalars\n",
      "  return np.sum(np.abs(var - var_hat) / var) / var.shape[0]\n",
      "/var/folders/g6/dvksyd2x2vzgtx4pt5g71bzh0000gn/T/ipykernel_78613/1501381063.py:5: RuntimeWarning: invalid value encountered in double_scalars\n",
      "  return  np.sqrt(np.sum((var - var_hat) ** 2) / var.shape[0])\n",
      "/var/folders/g6/dvksyd2x2vzgtx4pt5g71bzh0000gn/T/ipykernel_78613/1323771951.py:4: DeprecationWarning: `np.int` is a deprecated alias for the builtin `int`. To silence this warning, use `int` by itself. Doing this will not modify any behavior and is safe. When replacing `np.int`, you may wish to use e.g. `np.int64` or `np.int32` to specify the precision. If you wish to review your current use, check the release note link for additional information.\n",
      "Deprecated in NumPy 1.20; for more details and guidance: https://numpy.org/devdocs/release/1.20.0-notes.html#deprecations\n",
      "  dim_time = np.int(np.prod(dim) / dim[0])\n"
     ]
    },
    {
     "name": "stdout",
     "output_type": "stream",
     "text": [
      "Total iteration: 91\n",
      "Tolerance: 9.76691e-05\n",
      "Imputation MAPE: nan\n",
      "Imputation RMSE: nan\n",
      "\n",
      "Running time: 3 seconds\n",
      "{1.0: [0.6591810860693994, 1.6648359820715868, 1.7621331777920488, 0.8689036056932234, 1.3473474436319692], 0.1: [0.662503859096653, 1.6681848339424703, 1.7545646966153792], 0.05: [], 0.02: [], 0.01: [], 0.001: [], 0.0001: []}\n"
     ]
    },
    {
     "name": "stderr",
     "output_type": "stream",
     "text": [
      "/var/folders/g6/dvksyd2x2vzgtx4pt5g71bzh0000gn/T/ipykernel_78613/1501381063.py:2: RuntimeWarning: invalid value encountered in double_scalars\n",
      "  return np.sum(np.abs(var - var_hat) / var) / var.shape[0]\n",
      "/var/folders/g6/dvksyd2x2vzgtx4pt5g71bzh0000gn/T/ipykernel_78613/1501381063.py:5: RuntimeWarning: invalid value encountered in double_scalars\n",
      "  return  np.sqrt(np.sum((var - var_hat) ** 2) / var.shape[0])\n",
      "/var/folders/g6/dvksyd2x2vzgtx4pt5g71bzh0000gn/T/ipykernel_78613/1323771951.py:4: DeprecationWarning: `np.int` is a deprecated alias for the builtin `int`. To silence this warning, use `int` by itself. Doing this will not modify any behavior and is safe. When replacing `np.int`, you may wish to use e.g. `np.int64` or `np.int32` to specify the precision. If you wish to review your current use, check the release note link for additional information.\n",
      "Deprecated in NumPy 1.20; for more details and guidance: https://numpy.org/devdocs/release/1.20.0-notes.html#deprecations\n",
      "  dim_time = np.int(np.prod(dim) / dim[0])\n"
     ]
    },
    {
     "name": "stdout",
     "output_type": "stream",
     "text": [
      "Total iteration: 91\n",
      "Tolerance: 9.76691e-05\n",
      "Imputation MAPE: nan\n",
      "Imputation RMSE: nan\n",
      "\n",
      "Running time: 3 seconds\n",
      "{1.0: [0.6591810860693994, 1.6648359820715868, 1.7621331777920488, 0.8689036056932234, 1.3473474436319692], 0.1: [0.662503859096653, 1.6681848339424703, 1.7545646966153792, 0.8952647828733504], 0.05: [], 0.02: [], 0.01: [], 0.001: [], 0.0001: []}\n"
     ]
    },
    {
     "name": "stderr",
     "output_type": "stream",
     "text": [
      "/var/folders/g6/dvksyd2x2vzgtx4pt5g71bzh0000gn/T/ipykernel_78613/1501381063.py:2: RuntimeWarning: invalid value encountered in double_scalars\n",
      "  return np.sum(np.abs(var - var_hat) / var) / var.shape[0]\n",
      "/var/folders/g6/dvksyd2x2vzgtx4pt5g71bzh0000gn/T/ipykernel_78613/1501381063.py:5: RuntimeWarning: invalid value encountered in double_scalars\n",
      "  return  np.sqrt(np.sum((var - var_hat) ** 2) / var.shape[0])\n",
      "/var/folders/g6/dvksyd2x2vzgtx4pt5g71bzh0000gn/T/ipykernel_78613/1323771951.py:4: DeprecationWarning: `np.int` is a deprecated alias for the builtin `int`. To silence this warning, use `int` by itself. Doing this will not modify any behavior and is safe. When replacing `np.int`, you may wish to use e.g. `np.int64` or `np.int32` to specify the precision. If you wish to review your current use, check the release note link for additional information.\n",
      "Deprecated in NumPy 1.20; for more details and guidance: https://numpy.org/devdocs/release/1.20.0-notes.html#deprecations\n",
      "  dim_time = np.int(np.prod(dim) / dim[0])\n",
      "/var/folders/g6/dvksyd2x2vzgtx4pt5g71bzh0000gn/T/ipykernel_78613/1501381063.py:2: RuntimeWarning: invalid value encountered in double_scalars\n",
      "  return np.sum(np.abs(var - var_hat) / var) / var.shape[0]\n",
      "/var/folders/g6/dvksyd2x2vzgtx4pt5g71bzh0000gn/T/ipykernel_78613/1501381063.py:5: RuntimeWarning: invalid value encountered in double_scalars\n",
      "  return  np.sqrt(np.sum((var - var_hat) ** 2) / var.shape[0])\n",
      " 29%|████████████▊                                | 2/7 [00:33<01:23, 16.64s/it]"
     ]
    },
    {
     "name": "stdout",
     "output_type": "stream",
     "text": [
      "Total iteration: 91\n",
      "Tolerance: 9.76691e-05\n",
      "Imputation MAPE: nan\n",
      "Imputation RMSE: nan\n",
      "\n",
      "Running time: 3 seconds\n",
      "{1.0: [0.6591810860693994, 1.6648359820715868, 1.7621331777920488, 0.8689036056932234, 1.3473474436319692], 0.1: [0.662503859096653, 1.6681848339424703, 1.7545646966153792, 0.8952647828733504, 1.3639775566615426], 0.05: [], 0.02: [], 0.01: [], 0.001: [], 0.0001: []}\n"
     ]
    },
    {
     "name": "stderr",
     "output_type": "stream",
     "text": [
      "/var/folders/g6/dvksyd2x2vzgtx4pt5g71bzh0000gn/T/ipykernel_78613/1323771951.py:4: DeprecationWarning: `np.int` is a deprecated alias for the builtin `int`. To silence this warning, use `int` by itself. Doing this will not modify any behavior and is safe. When replacing `np.int`, you may wish to use e.g. `np.int64` or `np.int32` to specify the precision. If you wish to review your current use, check the release note link for additional information.\n",
      "Deprecated in NumPy 1.20; for more details and guidance: https://numpy.org/devdocs/release/1.20.0-notes.html#deprecations\n",
      "  dim_time = np.int(np.prod(dim) / dim[0])\n"
     ]
    },
    {
     "name": "stdout",
     "output_type": "stream",
     "text": [
      "Total iteration: 95\n",
      "Tolerance: 9.60703e-05\n",
      "Imputation MAPE: nan\n",
      "Imputation RMSE: nan\n",
      "\n",
      "Running time: 3 seconds\n",
      "{1.0: [0.6591810860693994, 1.6648359820715868, 1.7621331777920488, 0.8689036056932234, 1.3473474436319692], 0.1: [0.662503859096653, 1.6681848339424703, 1.7545646966153792, 0.8952647828733504, 1.3639775566615426], 0.05: [0.6683754909803677], 0.02: [], 0.01: [], 0.001: [], 0.0001: []}\n"
     ]
    },
    {
     "name": "stderr",
     "output_type": "stream",
     "text": [
      "/var/folders/g6/dvksyd2x2vzgtx4pt5g71bzh0000gn/T/ipykernel_78613/1501381063.py:2: RuntimeWarning: invalid value encountered in double_scalars\n",
      "  return np.sum(np.abs(var - var_hat) / var) / var.shape[0]\n",
      "/var/folders/g6/dvksyd2x2vzgtx4pt5g71bzh0000gn/T/ipykernel_78613/1501381063.py:5: RuntimeWarning: invalid value encountered in double_scalars\n",
      "  return  np.sqrt(np.sum((var - var_hat) ** 2) / var.shape[0])\n",
      "/var/folders/g6/dvksyd2x2vzgtx4pt5g71bzh0000gn/T/ipykernel_78613/1323771951.py:4: DeprecationWarning: `np.int` is a deprecated alias for the builtin `int`. To silence this warning, use `int` by itself. Doing this will not modify any behavior and is safe. When replacing `np.int`, you may wish to use e.g. `np.int64` or `np.int32` to specify the precision. If you wish to review your current use, check the release note link for additional information.\n",
      "Deprecated in NumPy 1.20; for more details and guidance: https://numpy.org/devdocs/release/1.20.0-notes.html#deprecations\n",
      "  dim_time = np.int(np.prod(dim) / dim[0])\n"
     ]
    },
    {
     "name": "stdout",
     "output_type": "stream",
     "text": [
      "Total iteration: 95\n",
      "Tolerance: 9.60703e-05\n",
      "Imputation MAPE: nan\n",
      "Imputation RMSE: nan\n",
      "\n",
      "Running time: 3 seconds\n",
      "{1.0: [0.6591810860693994, 1.6648359820715868, 1.7621331777920488, 0.8689036056932234, 1.3473474436319692], 0.1: [0.662503859096653, 1.6681848339424703, 1.7545646966153792, 0.8952647828733504, 1.3639775566615426], 0.05: [0.6683754909803677, 1.6708342874275124], 0.02: [], 0.01: [], 0.001: [], 0.0001: []}\n"
     ]
    },
    {
     "name": "stderr",
     "output_type": "stream",
     "text": [
      "/var/folders/g6/dvksyd2x2vzgtx4pt5g71bzh0000gn/T/ipykernel_78613/1501381063.py:2: RuntimeWarning: invalid value encountered in double_scalars\n",
      "  return np.sum(np.abs(var - var_hat) / var) / var.shape[0]\n",
      "/var/folders/g6/dvksyd2x2vzgtx4pt5g71bzh0000gn/T/ipykernel_78613/1501381063.py:5: RuntimeWarning: invalid value encountered in double_scalars\n",
      "  return  np.sqrt(np.sum((var - var_hat) ** 2) / var.shape[0])\n",
      "/var/folders/g6/dvksyd2x2vzgtx4pt5g71bzh0000gn/T/ipykernel_78613/1323771951.py:4: DeprecationWarning: `np.int` is a deprecated alias for the builtin `int`. To silence this warning, use `int` by itself. Doing this will not modify any behavior and is safe. When replacing `np.int`, you may wish to use e.g. `np.int64` or `np.int32` to specify the precision. If you wish to review your current use, check the release note link for additional information.\n",
      "Deprecated in NumPy 1.20; for more details and guidance: https://numpy.org/devdocs/release/1.20.0-notes.html#deprecations\n",
      "  dim_time = np.int(np.prod(dim) / dim[0])\n"
     ]
    },
    {
     "name": "stdout",
     "output_type": "stream",
     "text": [
      "Total iteration: 95\n",
      "Tolerance: 9.60703e-05\n",
      "Imputation MAPE: nan\n",
      "Imputation RMSE: nan\n",
      "\n",
      "Running time: 3 seconds\n",
      "{1.0: [0.6591810860693994, 1.6648359820715868, 1.7621331777920488, 0.8689036056932234, 1.3473474436319692], 0.1: [0.662503859096653, 1.6681848339424703, 1.7545646966153792, 0.8952647828733504, 1.3639775566615426], 0.05: [0.6683754909803677, 1.6708342874275124, 1.753066097119554], 0.02: [], 0.01: [], 0.001: [], 0.0001: []}\n"
     ]
    },
    {
     "name": "stderr",
     "output_type": "stream",
     "text": [
      "/var/folders/g6/dvksyd2x2vzgtx4pt5g71bzh0000gn/T/ipykernel_78613/1501381063.py:2: RuntimeWarning: invalid value encountered in double_scalars\n",
      "  return np.sum(np.abs(var - var_hat) / var) / var.shape[0]\n",
      "/var/folders/g6/dvksyd2x2vzgtx4pt5g71bzh0000gn/T/ipykernel_78613/1501381063.py:5: RuntimeWarning: invalid value encountered in double_scalars\n",
      "  return  np.sqrt(np.sum((var - var_hat) ** 2) / var.shape[0])\n",
      "/var/folders/g6/dvksyd2x2vzgtx4pt5g71bzh0000gn/T/ipykernel_78613/1323771951.py:4: DeprecationWarning: `np.int` is a deprecated alias for the builtin `int`. To silence this warning, use `int` by itself. Doing this will not modify any behavior and is safe. When replacing `np.int`, you may wish to use e.g. `np.int64` or `np.int32` to specify the precision. If you wish to review your current use, check the release note link for additional information.\n",
      "Deprecated in NumPy 1.20; for more details and guidance: https://numpy.org/devdocs/release/1.20.0-notes.html#deprecations\n",
      "  dim_time = np.int(np.prod(dim) / dim[0])\n"
     ]
    },
    {
     "name": "stdout",
     "output_type": "stream",
     "text": [
      "Total iteration: 95\n",
      "Tolerance: 9.60703e-05\n",
      "Imputation MAPE: nan\n",
      "Imputation RMSE: nan\n",
      "\n",
      "Running time: 3 seconds\n",
      "{1.0: [0.6591810860693994, 1.6648359820715868, 1.7621331777920488, 0.8689036056932234, 1.3473474436319692], 0.1: [0.662503859096653, 1.6681848339424703, 1.7545646966153792, 0.8952647828733504, 1.3639775566615426], 0.05: [0.6683754909803677, 1.6708342874275124, 1.753066097119554, 0.9159365487404842], 0.02: [], 0.01: [], 0.001: [], 0.0001: []}\n"
     ]
    },
    {
     "name": "stderr",
     "output_type": "stream",
     "text": [
      "/var/folders/g6/dvksyd2x2vzgtx4pt5g71bzh0000gn/T/ipykernel_78613/1501381063.py:2: RuntimeWarning: invalid value encountered in double_scalars\n",
      "  return np.sum(np.abs(var - var_hat) / var) / var.shape[0]\n",
      "/var/folders/g6/dvksyd2x2vzgtx4pt5g71bzh0000gn/T/ipykernel_78613/1501381063.py:5: RuntimeWarning: invalid value encountered in double_scalars\n",
      "  return  np.sqrt(np.sum((var - var_hat) ** 2) / var.shape[0])\n",
      "/var/folders/g6/dvksyd2x2vzgtx4pt5g71bzh0000gn/T/ipykernel_78613/1323771951.py:4: DeprecationWarning: `np.int` is a deprecated alias for the builtin `int`. To silence this warning, use `int` by itself. Doing this will not modify any behavior and is safe. When replacing `np.int`, you may wish to use e.g. `np.int64` or `np.int32` to specify the precision. If you wish to review your current use, check the release note link for additional information.\n",
      "Deprecated in NumPy 1.20; for more details and guidance: https://numpy.org/devdocs/release/1.20.0-notes.html#deprecations\n",
      "  dim_time = np.int(np.prod(dim) / dim[0])\n",
      "/var/folders/g6/dvksyd2x2vzgtx4pt5g71bzh0000gn/T/ipykernel_78613/1501381063.py:2: RuntimeWarning: invalid value encountered in double_scalars\n",
      "  return np.sum(np.abs(var - var_hat) / var) / var.shape[0]\n",
      "/var/folders/g6/dvksyd2x2vzgtx4pt5g71bzh0000gn/T/ipykernel_78613/1501381063.py:5: RuntimeWarning: invalid value encountered in double_scalars\n",
      "  return  np.sqrt(np.sum((var - var_hat) ** 2) / var.shape[0])\n",
      " 43%|███████████████████▎                         | 3/7 [00:50<01:06, 16.67s/it]"
     ]
    },
    {
     "name": "stdout",
     "output_type": "stream",
     "text": [
      "Total iteration: 95\n",
      "Tolerance: 9.60703e-05\n",
      "Imputation MAPE: nan\n",
      "Imputation RMSE: nan\n",
      "\n",
      "Running time: 3 seconds\n",
      "{1.0: [0.6591810860693994, 1.6648359820715868, 1.7621331777920488, 0.8689036056932234, 1.3473474436319692], 0.1: [0.662503859096653, 1.6681848339424703, 1.7545646966153792, 0.8952647828733504, 1.3639775566615426], 0.05: [0.6683754909803677, 1.6708342874275124, 1.753066097119554, 0.9159365487404842, 1.3807947822841273], 0.02: [], 0.01: [], 0.001: [], 0.0001: []}\n"
     ]
    },
    {
     "name": "stderr",
     "output_type": "stream",
     "text": [
      "/var/folders/g6/dvksyd2x2vzgtx4pt5g71bzh0000gn/T/ipykernel_78613/1323771951.py:4: DeprecationWarning: `np.int` is a deprecated alias for the builtin `int`. To silence this warning, use `int` by itself. Doing this will not modify any behavior and is safe. When replacing `np.int`, you may wish to use e.g. `np.int64` or `np.int32` to specify the precision. If you wish to review your current use, check the release note link for additional information.\n",
      "Deprecated in NumPy 1.20; for more details and guidance: https://numpy.org/devdocs/release/1.20.0-notes.html#deprecations\n",
      "  dim_time = np.int(np.prod(dim) / dim[0])\n"
     ]
    },
    {
     "name": "stdout",
     "output_type": "stream",
     "text": [
      "Iter: 100\n",
      "Tolerance: 0.000116927\n",
      "MAPE: nan\n",
      "RMSE: nan\n",
      "\n",
      "Total iteration: 100\n",
      "Tolerance: 0.000116927\n",
      "Imputation MAPE: nan\n",
      "Imputation RMSE: nan\n",
      "\n",
      "Running time: 3 seconds\n",
      "{1.0: [0.6591810860693994, 1.6648359820715868, 1.7621331777920488, 0.8689036056932234, 1.3473474436319692], 0.1: [0.662503859096653, 1.6681848339424703, 1.7545646966153792, 0.8952647828733504, 1.3639775566615426], 0.05: [0.6683754909803677, 1.6708342874275124, 1.753066097119554, 0.9159365487404842, 1.3807947822841273], 0.02: [0.6885068502456471], 0.01: [], 0.001: [], 0.0001: []}\n"
     ]
    },
    {
     "name": "stderr",
     "output_type": "stream",
     "text": [
      "/var/folders/g6/dvksyd2x2vzgtx4pt5g71bzh0000gn/T/ipykernel_78613/1501381063.py:2: RuntimeWarning: invalid value encountered in double_scalars\n",
      "  return np.sum(np.abs(var - var_hat) / var) / var.shape[0]\n",
      "/var/folders/g6/dvksyd2x2vzgtx4pt5g71bzh0000gn/T/ipykernel_78613/1501381063.py:5: RuntimeWarning: invalid value encountered in double_scalars\n",
      "  return  np.sqrt(np.sum((var - var_hat) ** 2) / var.shape[0])\n",
      "/var/folders/g6/dvksyd2x2vzgtx4pt5g71bzh0000gn/T/ipykernel_78613/1323771951.py:4: DeprecationWarning: `np.int` is a deprecated alias for the builtin `int`. To silence this warning, use `int` by itself. Doing this will not modify any behavior and is safe. When replacing `np.int`, you may wish to use e.g. `np.int64` or `np.int32` to specify the precision. If you wish to review your current use, check the release note link for additional information.\n",
      "Deprecated in NumPy 1.20; for more details and guidance: https://numpy.org/devdocs/release/1.20.0-notes.html#deprecations\n",
      "  dim_time = np.int(np.prod(dim) / dim[0])\n"
     ]
    },
    {
     "name": "stdout",
     "output_type": "stream",
     "text": [
      "Iter: 100\n",
      "Tolerance: 0.000116927\n",
      "MAPE: nan\n",
      "RMSE: nan\n",
      "\n",
      "Total iteration: 100\n",
      "Tolerance: 0.000116927\n",
      "Imputation MAPE: nan\n",
      "Imputation RMSE: nan\n",
      "\n",
      "Running time: 3 seconds\n",
      "{1.0: [0.6591810860693994, 1.6648359820715868, 1.7621331777920488, 0.8689036056932234, 1.3473474436319692], 0.1: [0.662503859096653, 1.6681848339424703, 1.7545646966153792, 0.8952647828733504, 1.3639775566615426], 0.05: [0.6683754909803677, 1.6708342874275124, 1.753066097119554, 0.9159365487404842, 1.3807947822841273], 0.02: [0.6885068502456471, 1.6694401214204753], 0.01: [], 0.001: [], 0.0001: []}\n"
     ]
    },
    {
     "name": "stderr",
     "output_type": "stream",
     "text": [
      "/var/folders/g6/dvksyd2x2vzgtx4pt5g71bzh0000gn/T/ipykernel_78613/1501381063.py:2: RuntimeWarning: invalid value encountered in double_scalars\n",
      "  return np.sum(np.abs(var - var_hat) / var) / var.shape[0]\n",
      "/var/folders/g6/dvksyd2x2vzgtx4pt5g71bzh0000gn/T/ipykernel_78613/1501381063.py:5: RuntimeWarning: invalid value encountered in double_scalars\n",
      "  return  np.sqrt(np.sum((var - var_hat) ** 2) / var.shape[0])\n",
      "/var/folders/g6/dvksyd2x2vzgtx4pt5g71bzh0000gn/T/ipykernel_78613/1323771951.py:4: DeprecationWarning: `np.int` is a deprecated alias for the builtin `int`. To silence this warning, use `int` by itself. Doing this will not modify any behavior and is safe. When replacing `np.int`, you may wish to use e.g. `np.int64` or `np.int32` to specify the precision. If you wish to review your current use, check the release note link for additional information.\n",
      "Deprecated in NumPy 1.20; for more details and guidance: https://numpy.org/devdocs/release/1.20.0-notes.html#deprecations\n",
      "  dim_time = np.int(np.prod(dim) / dim[0])\n"
     ]
    },
    {
     "name": "stdout",
     "output_type": "stream",
     "text": [
      "Iter: 100\n",
      "Tolerance: 0.000116927\n",
      "MAPE: nan\n",
      "RMSE: nan\n",
      "\n",
      "Total iteration: 100\n",
      "Tolerance: 0.000116927\n",
      "Imputation MAPE: nan\n",
      "Imputation RMSE: nan\n",
      "\n",
      "Running time: 3 seconds\n",
      "{1.0: [0.6591810860693994, 1.6648359820715868, 1.7621331777920488, 0.8689036056932234, 1.3473474436319692], 0.1: [0.662503859096653, 1.6681848339424703, 1.7545646966153792, 0.8952647828733504, 1.3639775566615426], 0.05: [0.6683754909803677, 1.6708342874275124, 1.753066097119554, 0.9159365487404842, 1.3807947822841273], 0.02: [0.6885068502456471, 1.6694401214204753, 1.7607046001617954], 0.01: [], 0.001: [], 0.0001: []}\n"
     ]
    },
    {
     "name": "stderr",
     "output_type": "stream",
     "text": [
      "/var/folders/g6/dvksyd2x2vzgtx4pt5g71bzh0000gn/T/ipykernel_78613/1501381063.py:2: RuntimeWarning: invalid value encountered in double_scalars\n",
      "  return np.sum(np.abs(var - var_hat) / var) / var.shape[0]\n",
      "/var/folders/g6/dvksyd2x2vzgtx4pt5g71bzh0000gn/T/ipykernel_78613/1501381063.py:5: RuntimeWarning: invalid value encountered in double_scalars\n",
      "  return  np.sqrt(np.sum((var - var_hat) ** 2) / var.shape[0])\n",
      "/var/folders/g6/dvksyd2x2vzgtx4pt5g71bzh0000gn/T/ipykernel_78613/1323771951.py:4: DeprecationWarning: `np.int` is a deprecated alias for the builtin `int`. To silence this warning, use `int` by itself. Doing this will not modify any behavior and is safe. When replacing `np.int`, you may wish to use e.g. `np.int64` or `np.int32` to specify the precision. If you wish to review your current use, check the release note link for additional information.\n",
      "Deprecated in NumPy 1.20; for more details and guidance: https://numpy.org/devdocs/release/1.20.0-notes.html#deprecations\n",
      "  dim_time = np.int(np.prod(dim) / dim[0])\n"
     ]
    },
    {
     "name": "stdout",
     "output_type": "stream",
     "text": [
      "Iter: 100\n",
      "Tolerance: 0.000116927\n",
      "MAPE: nan\n",
      "RMSE: nan\n",
      "\n",
      "Total iteration: 100\n",
      "Tolerance: 0.000116927\n",
      "Imputation MAPE: nan\n",
      "Imputation RMSE: nan\n",
      "\n",
      "Running time: 5 seconds\n",
      "{1.0: [0.6591810860693994, 1.6648359820715868, 1.7621331777920488, 0.8689036056932234, 1.3473474436319692], 0.1: [0.662503859096653, 1.6681848339424703, 1.7545646966153792, 0.8952647828733504, 1.3639775566615426], 0.05: [0.6683754909803677, 1.6708342874275124, 1.753066097119554, 0.9159365487404842, 1.3807947822841273], 0.02: [0.6885068502456471, 1.6694401214204753, 1.7607046001617954, 0.9690455877611971], 0.01: [], 0.001: [], 0.0001: []}\n"
     ]
    },
    {
     "name": "stderr",
     "output_type": "stream",
     "text": [
      "/var/folders/g6/dvksyd2x2vzgtx4pt5g71bzh0000gn/T/ipykernel_78613/1501381063.py:2: RuntimeWarning: invalid value encountered in double_scalars\n",
      "  return np.sum(np.abs(var - var_hat) / var) / var.shape[0]\n",
      "/var/folders/g6/dvksyd2x2vzgtx4pt5g71bzh0000gn/T/ipykernel_78613/1501381063.py:5: RuntimeWarning: invalid value encountered in double_scalars\n",
      "  return  np.sqrt(np.sum((var - var_hat) ** 2) / var.shape[0])\n",
      "/var/folders/g6/dvksyd2x2vzgtx4pt5g71bzh0000gn/T/ipykernel_78613/1323771951.py:4: DeprecationWarning: `np.int` is a deprecated alias for the builtin `int`. To silence this warning, use `int` by itself. Doing this will not modify any behavior and is safe. When replacing `np.int`, you may wish to use e.g. `np.int64` or `np.int32` to specify the precision. If you wish to review your current use, check the release note link for additional information.\n",
      "Deprecated in NumPy 1.20; for more details and guidance: https://numpy.org/devdocs/release/1.20.0-notes.html#deprecations\n",
      "  dim_time = np.int(np.prod(dim) / dim[0])\n",
      "/var/folders/g6/dvksyd2x2vzgtx4pt5g71bzh0000gn/T/ipykernel_78613/1501381063.py:2: RuntimeWarning: invalid value encountered in double_scalars\n",
      "  return np.sum(np.abs(var - var_hat) / var) / var.shape[0]\n",
      "/var/folders/g6/dvksyd2x2vzgtx4pt5g71bzh0000gn/T/ipykernel_78613/1501381063.py:5: RuntimeWarning: invalid value encountered in double_scalars\n",
      "  return  np.sqrt(np.sum((var - var_hat) ** 2) / var.shape[0])\n",
      " 57%|█████████████████████████▋                   | 4/7 [01:10<00:53, 17.96s/it]"
     ]
    },
    {
     "name": "stdout",
     "output_type": "stream",
     "text": [
      "Iter: 100\n",
      "Tolerance: 0.000116927\n",
      "MAPE: nan\n",
      "RMSE: nan\n",
      "\n",
      "Total iteration: 100\n",
      "Tolerance: 0.000116927\n",
      "Imputation MAPE: nan\n",
      "Imputation RMSE: nan\n",
      "\n",
      "Running time: 4 seconds\n",
      "{1.0: [0.6591810860693994, 1.6648359820715868, 1.7621331777920488, 0.8689036056932234, 1.3473474436319692], 0.1: [0.662503859096653, 1.6681848339424703, 1.7545646966153792, 0.8952647828733504, 1.3639775566615426], 0.05: [0.6683754909803677, 1.6708342874275124, 1.753066097119554, 0.9159365487404842, 1.3807947822841273], 0.02: [0.6885068502456471, 1.6694401214204753, 1.7607046001617954, 0.9690455877611971, 1.4429426851662746], 0.01: [], 0.001: [], 0.0001: []}\n"
     ]
    },
    {
     "name": "stderr",
     "output_type": "stream",
     "text": [
      "/var/folders/g6/dvksyd2x2vzgtx4pt5g71bzh0000gn/T/ipykernel_78613/1323771951.py:4: DeprecationWarning: `np.int` is a deprecated alias for the builtin `int`. To silence this warning, use `int` by itself. Doing this will not modify any behavior and is safe. When replacing `np.int`, you may wish to use e.g. `np.int64` or `np.int32` to specify the precision. If you wish to review your current use, check the release note link for additional information.\n",
      "Deprecated in NumPy 1.20; for more details and guidance: https://numpy.org/devdocs/release/1.20.0-notes.html#deprecations\n",
      "  dim_time = np.int(np.prod(dim) / dim[0])\n"
     ]
    },
    {
     "name": "stdout",
     "output_type": "stream",
     "text": [
      "Iter: 100\n",
      "Tolerance: 0.00016402\n",
      "MAPE: nan\n",
      "RMSE: nan\n",
      "\n",
      "Total iteration: 100\n",
      "Tolerance: 0.00016402\n",
      "Imputation MAPE: nan\n",
      "Imputation RMSE: nan\n",
      "\n",
      "Running time: 4 seconds\n",
      "{1.0: [0.6591810860693994, 1.6648359820715868, 1.7621331777920488, 0.8689036056932234, 1.3473474436319692], 0.1: [0.662503859096653, 1.6681848339424703, 1.7545646966153792, 0.8952647828733504, 1.3639775566615426], 0.05: [0.6683754909803677, 1.6708342874275124, 1.753066097119554, 0.9159365487404842, 1.3807947822841273], 0.02: [0.6885068502456471, 1.6694401214204753, 1.7607046001617954, 0.9690455877611971, 1.4429426851662746], 0.01: [0.6981588422336835], 0.001: [], 0.0001: []}\n"
     ]
    },
    {
     "name": "stderr",
     "output_type": "stream",
     "text": [
      "/var/folders/g6/dvksyd2x2vzgtx4pt5g71bzh0000gn/T/ipykernel_78613/1501381063.py:2: RuntimeWarning: invalid value encountered in double_scalars\n",
      "  return np.sum(np.abs(var - var_hat) / var) / var.shape[0]\n",
      "/var/folders/g6/dvksyd2x2vzgtx4pt5g71bzh0000gn/T/ipykernel_78613/1501381063.py:5: RuntimeWarning: invalid value encountered in double_scalars\n",
      "  return  np.sqrt(np.sum((var - var_hat) ** 2) / var.shape[0])\n",
      "/var/folders/g6/dvksyd2x2vzgtx4pt5g71bzh0000gn/T/ipykernel_78613/1323771951.py:4: DeprecationWarning: `np.int` is a deprecated alias for the builtin `int`. To silence this warning, use `int` by itself. Doing this will not modify any behavior and is safe. When replacing `np.int`, you may wish to use e.g. `np.int64` or `np.int32` to specify the precision. If you wish to review your current use, check the release note link for additional information.\n",
      "Deprecated in NumPy 1.20; for more details and guidance: https://numpy.org/devdocs/release/1.20.0-notes.html#deprecations\n",
      "  dim_time = np.int(np.prod(dim) / dim[0])\n"
     ]
    },
    {
     "name": "stdout",
     "output_type": "stream",
     "text": [
      "Iter: 100\n",
      "Tolerance: 0.00016402\n",
      "MAPE: nan\n",
      "RMSE: nan\n",
      "\n",
      "Total iteration: 100\n",
      "Tolerance: 0.00016402\n",
      "Imputation MAPE: nan\n",
      "Imputation RMSE: nan\n",
      "\n",
      "Running time: 3 seconds\n",
      "{1.0: [0.6591810860693994, 1.6648359820715868, 1.7621331777920488, 0.8689036056932234, 1.3473474436319692], 0.1: [0.662503859096653, 1.6681848339424703, 1.7545646966153792, 0.8952647828733504, 1.3639775566615426], 0.05: [0.6683754909803677, 1.6708342874275124, 1.753066097119554, 0.9159365487404842, 1.3807947822841273], 0.02: [0.6885068502456471, 1.6694401214204753, 1.7607046001617954, 0.9690455877611971, 1.4429426851662746], 0.01: [0.6981588422336835, 1.650438191722477], 0.001: [], 0.0001: []}\n"
     ]
    },
    {
     "name": "stderr",
     "output_type": "stream",
     "text": [
      "/var/folders/g6/dvksyd2x2vzgtx4pt5g71bzh0000gn/T/ipykernel_78613/1501381063.py:2: RuntimeWarning: invalid value encountered in double_scalars\n",
      "  return np.sum(np.abs(var - var_hat) / var) / var.shape[0]\n",
      "/var/folders/g6/dvksyd2x2vzgtx4pt5g71bzh0000gn/T/ipykernel_78613/1501381063.py:5: RuntimeWarning: invalid value encountered in double_scalars\n",
      "  return  np.sqrt(np.sum((var - var_hat) ** 2) / var.shape[0])\n",
      "/var/folders/g6/dvksyd2x2vzgtx4pt5g71bzh0000gn/T/ipykernel_78613/1323771951.py:4: DeprecationWarning: `np.int` is a deprecated alias for the builtin `int`. To silence this warning, use `int` by itself. Doing this will not modify any behavior and is safe. When replacing `np.int`, you may wish to use e.g. `np.int64` or `np.int32` to specify the precision. If you wish to review your current use, check the release note link for additional information.\n",
      "Deprecated in NumPy 1.20; for more details and guidance: https://numpy.org/devdocs/release/1.20.0-notes.html#deprecations\n",
      "  dim_time = np.int(np.prod(dim) / dim[0])\n"
     ]
    },
    {
     "name": "stdout",
     "output_type": "stream",
     "text": [
      "Iter: 100\n",
      "Tolerance: 0.00016402\n",
      "MAPE: nan\n",
      "RMSE: nan\n",
      "\n",
      "Total iteration: 100\n",
      "Tolerance: 0.00016402\n",
      "Imputation MAPE: nan\n",
      "Imputation RMSE: nan\n",
      "\n",
      "Running time: 3 seconds\n",
      "{1.0: [0.6591810860693994, 1.6648359820715868, 1.7621331777920488, 0.8689036056932234, 1.3473474436319692], 0.1: [0.662503859096653, 1.6681848339424703, 1.7545646966153792, 0.8952647828733504, 1.3639775566615426], 0.05: [0.6683754909803677, 1.6708342874275124, 1.753066097119554, 0.9159365487404842, 1.3807947822841273], 0.02: [0.6885068502456471, 1.6694401214204753, 1.7607046001617954, 0.9690455877611971, 1.4429426851662746], 0.01: [0.6981588422336835, 1.650438191722477, 1.7802504520475964], 0.001: [], 0.0001: []}\n"
     ]
    },
    {
     "name": "stderr",
     "output_type": "stream",
     "text": [
      "/var/folders/g6/dvksyd2x2vzgtx4pt5g71bzh0000gn/T/ipykernel_78613/1501381063.py:2: RuntimeWarning: invalid value encountered in double_scalars\n",
      "  return np.sum(np.abs(var - var_hat) / var) / var.shape[0]\n",
      "/var/folders/g6/dvksyd2x2vzgtx4pt5g71bzh0000gn/T/ipykernel_78613/1501381063.py:5: RuntimeWarning: invalid value encountered in double_scalars\n",
      "  return  np.sqrt(np.sum((var - var_hat) ** 2) / var.shape[0])\n",
      "/var/folders/g6/dvksyd2x2vzgtx4pt5g71bzh0000gn/T/ipykernel_78613/1323771951.py:4: DeprecationWarning: `np.int` is a deprecated alias for the builtin `int`. To silence this warning, use `int` by itself. Doing this will not modify any behavior and is safe. When replacing `np.int`, you may wish to use e.g. `np.int64` or `np.int32` to specify the precision. If you wish to review your current use, check the release note link for additional information.\n",
      "Deprecated in NumPy 1.20; for more details and guidance: https://numpy.org/devdocs/release/1.20.0-notes.html#deprecations\n",
      "  dim_time = np.int(np.prod(dim) / dim[0])\n"
     ]
    },
    {
     "name": "stdout",
     "output_type": "stream",
     "text": [
      "Iter: 100\n",
      "Tolerance: 0.00016402\n",
      "MAPE: nan\n",
      "RMSE: nan\n",
      "\n",
      "Total iteration: 100\n",
      "Tolerance: 0.00016402\n",
      "Imputation MAPE: nan\n",
      "Imputation RMSE: nan\n",
      "\n",
      "Running time: 3 seconds\n",
      "{1.0: [0.6591810860693994, 1.6648359820715868, 1.7621331777920488, 0.8689036056932234, 1.3473474436319692], 0.1: [0.662503859096653, 1.6681848339424703, 1.7545646966153792, 0.8952647828733504, 1.3639775566615426], 0.05: [0.6683754909803677, 1.6708342874275124, 1.753066097119554, 0.9159365487404842, 1.3807947822841273], 0.02: [0.6885068502456471, 1.6694401214204753, 1.7607046001617954, 0.9690455877611971, 1.4429426851662746], 0.01: [0.6981588422336835, 1.650438191722477, 1.7802504520475964, 1.039960456030213], 0.001: [], 0.0001: []}\n"
     ]
    },
    {
     "name": "stderr",
     "output_type": "stream",
     "text": [
      "/var/folders/g6/dvksyd2x2vzgtx4pt5g71bzh0000gn/T/ipykernel_78613/1501381063.py:2: RuntimeWarning: invalid value encountered in double_scalars\n",
      "  return np.sum(np.abs(var - var_hat) / var) / var.shape[0]\n",
      "/var/folders/g6/dvksyd2x2vzgtx4pt5g71bzh0000gn/T/ipykernel_78613/1501381063.py:5: RuntimeWarning: invalid value encountered in double_scalars\n",
      "  return  np.sqrt(np.sum((var - var_hat) ** 2) / var.shape[0])\n",
      "/var/folders/g6/dvksyd2x2vzgtx4pt5g71bzh0000gn/T/ipykernel_78613/1323771951.py:4: DeprecationWarning: `np.int` is a deprecated alias for the builtin `int`. To silence this warning, use `int` by itself. Doing this will not modify any behavior and is safe. When replacing `np.int`, you may wish to use e.g. `np.int64` or `np.int32` to specify the precision. If you wish to review your current use, check the release note link for additional information.\n",
      "Deprecated in NumPy 1.20; for more details and guidance: https://numpy.org/devdocs/release/1.20.0-notes.html#deprecations\n",
      "  dim_time = np.int(np.prod(dim) / dim[0])\n",
      "/var/folders/g6/dvksyd2x2vzgtx4pt5g71bzh0000gn/T/ipykernel_78613/1501381063.py:2: RuntimeWarning: invalid value encountered in double_scalars\n",
      "  return np.sum(np.abs(var - var_hat) / var) / var.shape[0]\n",
      "/var/folders/g6/dvksyd2x2vzgtx4pt5g71bzh0000gn/T/ipykernel_78613/1501381063.py:5: RuntimeWarning: invalid value encountered in double_scalars\n",
      "  return  np.sqrt(np.sum((var - var_hat) ** 2) / var.shape[0])\n",
      " 71%|████████████████████████████████▏            | 5/7 [01:29<00:36, 18.36s/it]"
     ]
    },
    {
     "name": "stdout",
     "output_type": "stream",
     "text": [
      "Iter: 100\n",
      "Tolerance: 0.00016402\n",
      "MAPE: nan\n",
      "RMSE: nan\n",
      "\n",
      "Total iteration: 100\n",
      "Tolerance: 0.00016402\n",
      "Imputation MAPE: nan\n",
      "Imputation RMSE: nan\n",
      "\n",
      "Running time: 3 seconds\n",
      "{1.0: [0.6591810860693994, 1.6648359820715868, 1.7621331777920488, 0.8689036056932234, 1.3473474436319692], 0.1: [0.662503859096653, 1.6681848339424703, 1.7545646966153792, 0.8952647828733504, 1.3639775566615426], 0.05: [0.6683754909803677, 1.6708342874275124, 1.753066097119554, 0.9159365487404842, 1.3807947822841273], 0.02: [0.6885068502456471, 1.6694401214204753, 1.7607046001617954, 0.9690455877611971, 1.4429426851662746], 0.01: [0.6981588422336835, 1.650438191722477, 1.7802504520475964, 1.039960456030213, 1.5332872734893093], 0.001: [], 0.0001: []}\n"
     ]
    },
    {
     "name": "stderr",
     "output_type": "stream",
     "text": [
      "/var/folders/g6/dvksyd2x2vzgtx4pt5g71bzh0000gn/T/ipykernel_78613/1323771951.py:4: DeprecationWarning: `np.int` is a deprecated alias for the builtin `int`. To silence this warning, use `int` by itself. Doing this will not modify any behavior and is safe. When replacing `np.int`, you may wish to use e.g. `np.int64` or `np.int32` to specify the precision. If you wish to review your current use, check the release note link for additional information.\n",
      "Deprecated in NumPy 1.20; for more details and guidance: https://numpy.org/devdocs/release/1.20.0-notes.html#deprecations\n",
      "  dim_time = np.int(np.prod(dim) / dim[0])\n"
     ]
    },
    {
     "name": "stdout",
     "output_type": "stream",
     "text": [
      "Iter: 100\n",
      "Tolerance: 0.00017462\n",
      "MAPE: nan\n",
      "RMSE: nan\n",
      "\n",
      "Total iteration: 100\n",
      "Tolerance: 0.00017462\n",
      "Imputation MAPE: nan\n",
      "Imputation RMSE: nan\n",
      "\n",
      "Running time: 3 seconds\n",
      "{1.0: [0.6591810860693994, 1.6648359820715868, 1.7621331777920488, 0.8689036056932234, 1.3473474436319692], 0.1: [0.662503859096653, 1.6681848339424703, 1.7545646966153792, 0.8952647828733504, 1.3639775566615426], 0.05: [0.6683754909803677, 1.6708342874275124, 1.753066097119554, 0.9159365487404842, 1.3807947822841273], 0.02: [0.6885068502456471, 1.6694401214204753, 1.7607046001617954, 0.9690455877611971, 1.4429426851662746], 0.01: [0.6981588422336835, 1.650438191722477, 1.7802504520475964, 1.039960456030213, 1.5332872734893093], 0.001: [0.6338858882267332], 0.0001: []}\n"
     ]
    },
    {
     "name": "stderr",
     "output_type": "stream",
     "text": [
      "/var/folders/g6/dvksyd2x2vzgtx4pt5g71bzh0000gn/T/ipykernel_78613/1501381063.py:2: RuntimeWarning: invalid value encountered in double_scalars\n",
      "  return np.sum(np.abs(var - var_hat) / var) / var.shape[0]\n",
      "/var/folders/g6/dvksyd2x2vzgtx4pt5g71bzh0000gn/T/ipykernel_78613/1501381063.py:5: RuntimeWarning: invalid value encountered in double_scalars\n",
      "  return  np.sqrt(np.sum((var - var_hat) ** 2) / var.shape[0])\n",
      "/var/folders/g6/dvksyd2x2vzgtx4pt5g71bzh0000gn/T/ipykernel_78613/1323771951.py:4: DeprecationWarning: `np.int` is a deprecated alias for the builtin `int`. To silence this warning, use `int` by itself. Doing this will not modify any behavior and is safe. When replacing `np.int`, you may wish to use e.g. `np.int64` or `np.int32` to specify the precision. If you wish to review your current use, check the release note link for additional information.\n",
      "Deprecated in NumPy 1.20; for more details and guidance: https://numpy.org/devdocs/release/1.20.0-notes.html#deprecations\n",
      "  dim_time = np.int(np.prod(dim) / dim[0])\n"
     ]
    },
    {
     "name": "stdout",
     "output_type": "stream",
     "text": [
      "Iter: 100\n",
      "Tolerance: 0.00017462\n",
      "MAPE: nan\n",
      "RMSE: nan\n",
      "\n",
      "Total iteration: 100\n",
      "Tolerance: 0.00017462\n",
      "Imputation MAPE: nan\n",
      "Imputation RMSE: nan\n",
      "\n",
      "Running time: 3 seconds\n",
      "{1.0: [0.6591810860693994, 1.6648359820715868, 1.7621331777920488, 0.8689036056932234, 1.3473474436319692], 0.1: [0.662503859096653, 1.6681848339424703, 1.7545646966153792, 0.8952647828733504, 1.3639775566615426], 0.05: [0.6683754909803677, 1.6708342874275124, 1.753066097119554, 0.9159365487404842, 1.3807947822841273], 0.02: [0.6885068502456471, 1.6694401214204753, 1.7607046001617954, 0.9690455877611971, 1.4429426851662746], 0.01: [0.6981588422336835, 1.650438191722477, 1.7802504520475964, 1.039960456030213, 1.5332872734893093], 0.001: [0.6338858882267332, 1.587809502288758], 0.0001: []}\n"
     ]
    },
    {
     "name": "stderr",
     "output_type": "stream",
     "text": [
      "/var/folders/g6/dvksyd2x2vzgtx4pt5g71bzh0000gn/T/ipykernel_78613/1501381063.py:2: RuntimeWarning: invalid value encountered in double_scalars\n",
      "  return np.sum(np.abs(var - var_hat) / var) / var.shape[0]\n",
      "/var/folders/g6/dvksyd2x2vzgtx4pt5g71bzh0000gn/T/ipykernel_78613/1501381063.py:5: RuntimeWarning: invalid value encountered in double_scalars\n",
      "  return  np.sqrt(np.sum((var - var_hat) ** 2) / var.shape[0])\n",
      "/var/folders/g6/dvksyd2x2vzgtx4pt5g71bzh0000gn/T/ipykernel_78613/1323771951.py:4: DeprecationWarning: `np.int` is a deprecated alias for the builtin `int`. To silence this warning, use `int` by itself. Doing this will not modify any behavior and is safe. When replacing `np.int`, you may wish to use e.g. `np.int64` or `np.int32` to specify the precision. If you wish to review your current use, check the release note link for additional information.\n",
      "Deprecated in NumPy 1.20; for more details and guidance: https://numpy.org/devdocs/release/1.20.0-notes.html#deprecations\n",
      "  dim_time = np.int(np.prod(dim) / dim[0])\n"
     ]
    },
    {
     "name": "stdout",
     "output_type": "stream",
     "text": [
      "Iter: 100\n",
      "Tolerance: 0.00017462\n",
      "MAPE: nan\n",
      "RMSE: nan\n",
      "\n",
      "Total iteration: 100\n",
      "Tolerance: 0.00017462\n",
      "Imputation MAPE: nan\n",
      "Imputation RMSE: nan\n",
      "\n",
      "Running time: 4 seconds\n",
      "{1.0: [0.6591810860693994, 1.6648359820715868, 1.7621331777920488, 0.8689036056932234, 1.3473474436319692], 0.1: [0.662503859096653, 1.6681848339424703, 1.7545646966153792, 0.8952647828733504, 1.3639775566615426], 0.05: [0.6683754909803677, 1.6708342874275124, 1.753066097119554, 0.9159365487404842, 1.3807947822841273], 0.02: [0.6885068502456471, 1.6694401214204753, 1.7607046001617954, 0.9690455877611971, 1.4429426851662746], 0.01: [0.6981588422336835, 1.650438191722477, 1.7802504520475964, 1.039960456030213, 1.5332872734893093], 0.001: [0.6338858882267332, 1.587809502288758, 1.7509798577542268], 0.0001: []}\n"
     ]
    },
    {
     "name": "stderr",
     "output_type": "stream",
     "text": [
      "/var/folders/g6/dvksyd2x2vzgtx4pt5g71bzh0000gn/T/ipykernel_78613/1501381063.py:2: RuntimeWarning: invalid value encountered in double_scalars\n",
      "  return np.sum(np.abs(var - var_hat) / var) / var.shape[0]\n",
      "/var/folders/g6/dvksyd2x2vzgtx4pt5g71bzh0000gn/T/ipykernel_78613/1501381063.py:5: RuntimeWarning: invalid value encountered in double_scalars\n",
      "  return  np.sqrt(np.sum((var - var_hat) ** 2) / var.shape[0])\n",
      "/var/folders/g6/dvksyd2x2vzgtx4pt5g71bzh0000gn/T/ipykernel_78613/1323771951.py:4: DeprecationWarning: `np.int` is a deprecated alias for the builtin `int`. To silence this warning, use `int` by itself. Doing this will not modify any behavior and is safe. When replacing `np.int`, you may wish to use e.g. `np.int64` or `np.int32` to specify the precision. If you wish to review your current use, check the release note link for additional information.\n",
      "Deprecated in NumPy 1.20; for more details and guidance: https://numpy.org/devdocs/release/1.20.0-notes.html#deprecations\n",
      "  dim_time = np.int(np.prod(dim) / dim[0])\n"
     ]
    },
    {
     "name": "stdout",
     "output_type": "stream",
     "text": [
      "Iter: 100\n",
      "Tolerance: 0.00017462\n",
      "MAPE: nan\n",
      "RMSE: nan\n",
      "\n",
      "Total iteration: 100\n",
      "Tolerance: 0.00017462\n",
      "Imputation MAPE: nan\n",
      "Imputation RMSE: nan\n",
      "\n",
      "Running time: 4 seconds\n",
      "{1.0: [0.6591810860693994, 1.6648359820715868, 1.7621331777920488, 0.8689036056932234, 1.3473474436319692], 0.1: [0.662503859096653, 1.6681848339424703, 1.7545646966153792, 0.8952647828733504, 1.3639775566615426], 0.05: [0.6683754909803677, 1.6708342874275124, 1.753066097119554, 0.9159365487404842, 1.3807947822841273], 0.02: [0.6885068502456471, 1.6694401214204753, 1.7607046001617954, 0.9690455877611971, 1.4429426851662746], 0.01: [0.6981588422336835, 1.650438191722477, 1.7802504520475964, 1.039960456030213, 1.5332872734893093], 0.001: [0.6338858882267332, 1.587809502288758, 1.7509798577542268, 1.3773883792705741], 0.0001: []}\n"
     ]
    },
    {
     "name": "stderr",
     "output_type": "stream",
     "text": [
      "/var/folders/g6/dvksyd2x2vzgtx4pt5g71bzh0000gn/T/ipykernel_78613/1501381063.py:2: RuntimeWarning: invalid value encountered in double_scalars\n",
      "  return np.sum(np.abs(var - var_hat) / var) / var.shape[0]\n",
      "/var/folders/g6/dvksyd2x2vzgtx4pt5g71bzh0000gn/T/ipykernel_78613/1501381063.py:5: RuntimeWarning: invalid value encountered in double_scalars\n",
      "  return  np.sqrt(np.sum((var - var_hat) ** 2) / var.shape[0])\n",
      "/var/folders/g6/dvksyd2x2vzgtx4pt5g71bzh0000gn/T/ipykernel_78613/1323771951.py:4: DeprecationWarning: `np.int` is a deprecated alias for the builtin `int`. To silence this warning, use `int` by itself. Doing this will not modify any behavior and is safe. When replacing `np.int`, you may wish to use e.g. `np.int64` or `np.int32` to specify the precision. If you wish to review your current use, check the release note link for additional information.\n",
      "Deprecated in NumPy 1.20; for more details and guidance: https://numpy.org/devdocs/release/1.20.0-notes.html#deprecations\n",
      "  dim_time = np.int(np.prod(dim) / dim[0])\n",
      "/var/folders/g6/dvksyd2x2vzgtx4pt5g71bzh0000gn/T/ipykernel_78613/1501381063.py:2: RuntimeWarning: invalid value encountered in double_scalars\n",
      "  return np.sum(np.abs(var - var_hat) / var) / var.shape[0]\n",
      "/var/folders/g6/dvksyd2x2vzgtx4pt5g71bzh0000gn/T/ipykernel_78613/1501381063.py:5: RuntimeWarning: invalid value encountered in double_scalars\n",
      "  return  np.sqrt(np.sum((var - var_hat) ** 2) / var.shape[0])\n",
      " 86%|██████████████████████████████████████▌      | 6/7 [01:48<00:18, 18.80s/it]"
     ]
    },
    {
     "name": "stdout",
     "output_type": "stream",
     "text": [
      "Iter: 100\n",
      "Tolerance: 0.00017462\n",
      "MAPE: nan\n",
      "RMSE: nan\n",
      "\n",
      "Total iteration: 100\n",
      "Tolerance: 0.00017462\n",
      "Imputation MAPE: nan\n",
      "Imputation RMSE: nan\n",
      "\n",
      "Running time: 3 seconds\n",
      "{1.0: [0.6591810860693994, 1.6648359820715868, 1.7621331777920488, 0.8689036056932234, 1.3473474436319692], 0.1: [0.662503859096653, 1.6681848339424703, 1.7545646966153792, 0.8952647828733504, 1.3639775566615426], 0.05: [0.6683754909803677, 1.6708342874275124, 1.753066097119554, 0.9159365487404842, 1.3807947822841273], 0.02: [0.6885068502456471, 1.6694401214204753, 1.7607046001617954, 0.9690455877611971, 1.4429426851662746], 0.01: [0.6981588422336835, 1.650438191722477, 1.7802504520475964, 1.039960456030213, 1.5332872734893093], 0.001: [0.6338858882267332, 1.587809502288758, 1.7509798577542268, 1.3773883792705741, 1.634965412969936], 0.0001: []}\n",
      "Total iteration: 2\n",
      "Tolerance: 0.0\n",
      "Imputation MAPE: nan\n",
      "Imputation RMSE: nan\n",
      "\n",
      "Running time: 0 seconds\n",
      "{1.0: [0.6591810860693994, 1.6648359820715868, 1.7621331777920488, 0.8689036056932234, 1.3473474436319692], 0.1: [0.662503859096653, 1.6681848339424703, 1.7545646966153792, 0.8952647828733504, 1.3639775566615426], 0.05: [0.6683754909803677, 1.6708342874275124, 1.753066097119554, 0.9159365487404842, 1.3807947822841273], 0.02: [0.6885068502456471, 1.6694401214204753, 1.7607046001617954, 0.9690455877611971, 1.4429426851662746], 0.01: [0.6981588422336835, 1.650438191722477, 1.7802504520475964, 1.039960456030213, 1.5332872734893093], 0.001: [0.6338858882267332, 1.587809502288758, 1.7509798577542268, 1.3773883792705741, 1.634965412969936], 0.0001: [1.0]}\n",
      "Total iteration: 2\n",
      "Tolerance: 0.0\n",
      "Imputation MAPE: nan\n",
      "Imputation RMSE: nan\n",
      "\n",
      "Running time: 0 seconds\n",
      "{1.0: [0.6591810860693994, 1.6648359820715868, 1.7621331777920488, 0.8689036056932234, 1.3473474436319692], 0.1: [0.662503859096653, 1.6681848339424703, 1.7545646966153792, 0.8952647828733504, 1.3639775566615426], 0.05: [0.6683754909803677, 1.6708342874275124, 1.753066097119554, 0.9159365487404842, 1.3807947822841273], 0.02: [0.6885068502456471, 1.6694401214204753, 1.7607046001617954, 0.9690455877611971, 1.4429426851662746], 0.01: [0.6981588422336835, 1.650438191722477, 1.7802504520475964, 1.039960456030213, 1.5332872734893093], 0.001: [0.6338858882267332, 1.587809502288758, 1.7509798577542268, 1.3773883792705741, 1.634965412969936], 0.0001: [1.0, 1.0]}\n"
     ]
    },
    {
     "name": "stderr",
     "output_type": "stream",
     "text": [
      "/var/folders/g6/dvksyd2x2vzgtx4pt5g71bzh0000gn/T/ipykernel_78613/1323771951.py:4: DeprecationWarning: `np.int` is a deprecated alias for the builtin `int`. To silence this warning, use `int` by itself. Doing this will not modify any behavior and is safe. When replacing `np.int`, you may wish to use e.g. `np.int64` or `np.int32` to specify the precision. If you wish to review your current use, check the release note link for additional information.\n",
      "Deprecated in NumPy 1.20; for more details and guidance: https://numpy.org/devdocs/release/1.20.0-notes.html#deprecations\n",
      "  dim_time = np.int(np.prod(dim) / dim[0])\n",
      "/var/folders/g6/dvksyd2x2vzgtx4pt5g71bzh0000gn/T/ipykernel_78613/1501381063.py:2: RuntimeWarning: invalid value encountered in double_scalars\n",
      "  return np.sum(np.abs(var - var_hat) / var) / var.shape[0]\n",
      "/var/folders/g6/dvksyd2x2vzgtx4pt5g71bzh0000gn/T/ipykernel_78613/1501381063.py:5: RuntimeWarning: invalid value encountered in double_scalars\n",
      "  return  np.sqrt(np.sum((var - var_hat) ** 2) / var.shape[0])\n",
      "/var/folders/g6/dvksyd2x2vzgtx4pt5g71bzh0000gn/T/ipykernel_78613/1323771951.py:4: DeprecationWarning: `np.int` is a deprecated alias for the builtin `int`. To silence this warning, use `int` by itself. Doing this will not modify any behavior and is safe. When replacing `np.int`, you may wish to use e.g. `np.int64` or `np.int32` to specify the precision. If you wish to review your current use, check the release note link for additional information.\n",
      "Deprecated in NumPy 1.20; for more details and guidance: https://numpy.org/devdocs/release/1.20.0-notes.html#deprecations\n",
      "  dim_time = np.int(np.prod(dim) / dim[0])\n",
      "/var/folders/g6/dvksyd2x2vzgtx4pt5g71bzh0000gn/T/ipykernel_78613/1501381063.py:2: RuntimeWarning: invalid value encountered in double_scalars\n",
      "  return np.sum(np.abs(var - var_hat) / var) / var.shape[0]\n",
      "/var/folders/g6/dvksyd2x2vzgtx4pt5g71bzh0000gn/T/ipykernel_78613/1501381063.py:5: RuntimeWarning: invalid value encountered in double_scalars\n",
      "  return  np.sqrt(np.sum((var - var_hat) ** 2) / var.shape[0])\n",
      "/var/folders/g6/dvksyd2x2vzgtx4pt5g71bzh0000gn/T/ipykernel_78613/1323771951.py:4: DeprecationWarning: `np.int` is a deprecated alias for the builtin `int`. To silence this warning, use `int` by itself. Doing this will not modify any behavior and is safe. When replacing `np.int`, you may wish to use e.g. `np.int64` or `np.int32` to specify the precision. If you wish to review your current use, check the release note link for additional information.\n",
      "Deprecated in NumPy 1.20; for more details and guidance: https://numpy.org/devdocs/release/1.20.0-notes.html#deprecations\n",
      "  dim_time = np.int(np.prod(dim) / dim[0])\n",
      "/var/folders/g6/dvksyd2x2vzgtx4pt5g71bzh0000gn/T/ipykernel_78613/1501381063.py:2: RuntimeWarning: invalid value encountered in double_scalars\n",
      "  return np.sum(np.abs(var - var_hat) / var) / var.shape[0]\n",
      "/var/folders/g6/dvksyd2x2vzgtx4pt5g71bzh0000gn/T/ipykernel_78613/1501381063.py:5: RuntimeWarning: invalid value encountered in double_scalars\n",
      "  return  np.sqrt(np.sum((var - var_hat) ** 2) / var.shape[0])\n",
      "/var/folders/g6/dvksyd2x2vzgtx4pt5g71bzh0000gn/T/ipykernel_78613/1323771951.py:4: DeprecationWarning: `np.int` is a deprecated alias for the builtin `int`. To silence this warning, use `int` by itself. Doing this will not modify any behavior and is safe. When replacing `np.int`, you may wish to use e.g. `np.int64` or `np.int32` to specify the precision. If you wish to review your current use, check the release note link for additional information.\n",
      "Deprecated in NumPy 1.20; for more details and guidance: https://numpy.org/devdocs/release/1.20.0-notes.html#deprecations\n",
      "  dim_time = np.int(np.prod(dim) / dim[0])\n",
      "/var/folders/g6/dvksyd2x2vzgtx4pt5g71bzh0000gn/T/ipykernel_78613/1501381063.py:2: RuntimeWarning: invalid value encountered in double_scalars\n",
      "  return np.sum(np.abs(var - var_hat) / var) / var.shape[0]\n",
      "/var/folders/g6/dvksyd2x2vzgtx4pt5g71bzh0000gn/T/ipykernel_78613/1501381063.py:5: RuntimeWarning: invalid value encountered in double_scalars\n",
      "  return  np.sqrt(np.sum((var - var_hat) ** 2) / var.shape[0])\n",
      "/var/folders/g6/dvksyd2x2vzgtx4pt5g71bzh0000gn/T/ipykernel_78613/1323771951.py:4: DeprecationWarning: `np.int` is a deprecated alias for the builtin `int`. To silence this warning, use `int` by itself. Doing this will not modify any behavior and is safe. When replacing `np.int`, you may wish to use e.g. `np.int64` or `np.int32` to specify the precision. If you wish to review your current use, check the release note link for additional information.\n",
      "Deprecated in NumPy 1.20; for more details and guidance: https://numpy.org/devdocs/release/1.20.0-notes.html#deprecations\n",
      "  dim_time = np.int(np.prod(dim) / dim[0])\n",
      "/var/folders/g6/dvksyd2x2vzgtx4pt5g71bzh0000gn/T/ipykernel_78613/1501381063.py:2: RuntimeWarning: invalid value encountered in double_scalars\n",
      "  return np.sum(np.abs(var - var_hat) / var) / var.shape[0]\n",
      "/var/folders/g6/dvksyd2x2vzgtx4pt5g71bzh0000gn/T/ipykernel_78613/1501381063.py:5: RuntimeWarning: invalid value encountered in double_scalars\n",
      "  return  np.sqrt(np.sum((var - var_hat) ** 2) / var.shape[0])\n",
      "100%|█████████████████████████████████████████████| 7/7 [01:49<00:00, 15.60s/it]"
     ]
    },
    {
     "name": "stdout",
     "output_type": "stream",
     "text": [
      "Total iteration: 2\n",
      "Tolerance: 0.0\n",
      "Imputation MAPE: nan\n",
      "Imputation RMSE: nan\n",
      "\n",
      "Running time: 0 seconds\n",
      "{1.0: [0.6591810860693994, 1.6648359820715868, 1.7621331777920488, 0.8689036056932234, 1.3473474436319692], 0.1: [0.662503859096653, 1.6681848339424703, 1.7545646966153792, 0.8952647828733504, 1.3639775566615426], 0.05: [0.6683754909803677, 1.6708342874275124, 1.753066097119554, 0.9159365487404842, 1.3807947822841273], 0.02: [0.6885068502456471, 1.6694401214204753, 1.7607046001617954, 0.9690455877611971, 1.4429426851662746], 0.01: [0.6981588422336835, 1.650438191722477, 1.7802504520475964, 1.039960456030213, 1.5332872734893093], 0.001: [0.6338858882267332, 1.587809502288758, 1.7509798577542268, 1.3773883792705741, 1.634965412969936], 0.0001: [1.0, 1.0, 1.0]}\n",
      "Total iteration: 2\n",
      "Tolerance: 0.0\n",
      "Imputation MAPE: nan\n",
      "Imputation RMSE: nan\n",
      "\n",
      "Running time: 0 seconds\n",
      "{1.0: [0.6591810860693994, 1.6648359820715868, 1.7621331777920488, 0.8689036056932234, 1.3473474436319692], 0.1: [0.662503859096653, 1.6681848339424703, 1.7545646966153792, 0.8952647828733504, 1.3639775566615426], 0.05: [0.6683754909803677, 1.6708342874275124, 1.753066097119554, 0.9159365487404842, 1.3807947822841273], 0.02: [0.6885068502456471, 1.6694401214204753, 1.7607046001617954, 0.9690455877611971, 1.4429426851662746], 0.01: [0.6981588422336835, 1.650438191722477, 1.7802504520475964, 1.039960456030213, 1.5332872734893093], 0.001: [0.6338858882267332, 1.587809502288758, 1.7509798577542268, 1.3773883792705741, 1.634965412969936], 0.0001: [1.0, 1.0, 1.0, 1.0]}\n",
      "Total iteration: 2\n",
      "Tolerance: 0.0\n",
      "Imputation MAPE: nan\n",
      "Imputation RMSE: nan\n",
      "\n",
      "Running time: 0 seconds\n",
      "{1.0: [0.6591810860693994, 1.6648359820715868, 1.7621331777920488, 0.8689036056932234, 1.3473474436319692], 0.1: [0.662503859096653, 1.6681848339424703, 1.7545646966153792, 0.8952647828733504, 1.3639775566615426], 0.05: [0.6683754909803677, 1.6708342874275124, 1.753066097119554, 0.9159365487404842, 1.3807947822841273], 0.02: [0.6885068502456471, 1.6694401214204753, 1.7607046001617954, 0.9690455877611971, 1.4429426851662746], 0.01: [0.6981588422336835, 1.650438191722477, 1.7802504520475964, 1.039960456030213, 1.5332872734893093], 0.001: [0.6338858882267332, 1.587809502288758, 1.7509798577542268, 1.3773883792705741, 1.634965412969936], 0.0001: [1.0, 1.0, 1.0, 1.0, 1.0]}\n"
     ]
    },
    {
     "name": "stderr",
     "output_type": "stream",
     "text": [
      "\n"
     ]
    }
   ],
   "source": [
    "X = mat2ten(Xdf.values,np.array((389,22,7)),2)\n",
    "import random\n",
    "import time\n",
    "from tqdm import tqdm\n",
    "random.seed(10)\n",
    "k = 30\n",
    "X_dense = mat2ten(Xdf.values,np.array((389,22,7)),2)\n",
    "rhos = [10e-1, 10e-2,5*10e-3,2*10e-3, 10e-3, 10e-4, 10e-5]\n",
    "res = {r:list() for r in rhos}\n",
    "for i in tqdm(range(len(rhos))):\n",
    "    rho=rhos[i]\n",
    "    for j in range(5):\n",
    "        random.seed(j*10)\n",
    "        nulled = Xdf.copy()\n",
    "        s = random.sample(list(Xdf.index), k)\n",
    "        testers = nulled['A01_optics_s_all'].loc[s].loc[nulled['A01_optics_s_all'].loc[s] != 0]\n",
    "        nulled['A01_optics_s_all'].loc[s] = np.zeros(k)\n",
    "        X_sparse = mat2ten(nulled.values,np.array((389,22,7)),2)\n",
    "\n",
    "        start = time.time()\n",
    "        time_lags = np.array([1, 2, 3, 4, 5, 6,100,101,102,103,104,105])\n",
    "        alpha,rho,lambda0,theta,epsilon,maxiter = [np.ones(3) / 3,rho,.1*rho,1,1e-4,100]\n",
    "        tensor_hat = imputer(X.copy(), X, time_lags, alpha, rho, lambda0, theta, epsilon, maxiter)\n",
    "        X_hat = ten2mat(tensor_hat,1)\n",
    "        end = time.time()\n",
    "\n",
    "        print('Running time: %d seconds'%(end - start))\n",
    "        hat = pd.DataFrame(X_hat.transpose(),columns=Xdf.columns, index=Xdf.index)\n",
    "        res[rhos[i]].append(compute_mape(testers, hat['A01_optics_s_all'].loc[testers.index]))\n",
    "        print(res)"
   ]
  },
  {
   "cell_type": "code",
   "execution_count": 381,
   "metadata": {},
   "outputs": [],
   "source": [
    "res = {1.0: [0.6591810860693994, 1.6648359820715868, 1.7621331777920488, 0.8689036056932234, 1.3473474436319692], 0.1: [0.662503859096653, 1.6681848339424703, 1.7545646966153792, 0.8952647828733504, 1.3639775566615426], 0.05: [0.6683754909803677, 1.6708342874275124, 1.753066097119554, 0.9159365487404842, 1.3807947822841273], 0.02: [0.6885068502456471, 1.6694401214204753, 1.7607046001617954, 0.9690455877611971, 1.4429426851662746], 0.01: [0.6981588422336835, 1.650438191722477, 1.7802504520475964, 1.039960456030213, 1.5332872734893093], 0.001: [0.6338858882267332, 1.587809502288758, 1.7509798577542268, 1.3773883792705741, 1.634965412969936], 0.0001: [1.0, 1.0, 1.0, 1.0, 1.0]}"
   ]
  },
  {
   "cell_type": "code",
   "execution_count": 382,
   "metadata": {},
   "outputs": [],
   "source": [
    "res = pd.DataFrame(res).transpose()"
   ]
  },
  {
   "cell_type": "code",
   "execution_count": 393,
   "metadata": {},
   "outputs": [
    {
     "data": {
      "text/plain": [
       "1.0000    1.260480\n",
       "0.1000    1.268899\n",
       "0.0500    1.277801\n",
       "0.0200    1.306128\n",
       "0.0100    1.340419\n",
       "0.0010    1.397006\n",
       "0.0001    1.000000\n",
       "dtype: float64"
      ]
     },
     "execution_count": 393,
     "metadata": {},
     "output_type": "execute_result"
    }
   ],
   "source": [
    "res.mean(axis=1)"
   ]
  },
  {
   "cell_type": "code",
   "execution_count": 302,
   "metadata": {},
   "outputs": [
    {
     "ename": "NameError",
     "evalue": "name 'res' is not defined",
     "output_type": "error",
     "traceback": [
      "\u001b[0;31m---------------------------------------------------------------------------\u001b[0m",
      "\u001b[0;31mNameError\u001b[0m                                 Traceback (most recent call last)",
      "Cell \u001b[0;32mIn[302], line 2\u001b[0m\n\u001b[1;32m      1\u001b[0m fig,ax \u001b[38;5;241m=\u001b[39m plt\u001b[38;5;241m.\u001b[39msubplots(\u001b[38;5;241m1\u001b[39m,\u001b[38;5;241m1\u001b[39m)\n\u001b[0;32m----> 2\u001b[0m ax\u001b[38;5;241m.\u001b[39mscatter(\u001b[43mres\u001b[49m\u001b[38;5;241m.\u001b[39mindex[:\u001b[38;5;241m-\u001b[39m\u001b[38;5;241m1\u001b[39m],res\u001b[38;5;241m.\u001b[39mmean(axis\u001b[38;5;241m=\u001b[39m\u001b[38;5;241m1\u001b[39m))\n\u001b[1;32m      3\u001b[0m ax\u001b[38;5;241m.\u001b[39mset_xscale(\u001b[38;5;124m'\u001b[39m\u001b[38;5;124mlog\u001b[39m\u001b[38;5;124m'\u001b[39m)\n",
      "\u001b[0;31mNameError\u001b[0m: name 'res' is not defined"
     ]
    },
    {
     "data": {
      "image/png": "[encoded data removed]",
      "text/plain": [
       "<Figure size 640x480 with 1 Axes>"
      ]
     },
     "metadata": {},
     "output_type": "display_data"
    }
   ],
   "source": [
    "fig,ax = plt.subplots(1,1)\n",
    "ax.scatter(res.index[:-1],res.mean(axis=1))\n",
    "ax.set_xscale('log')"
   ]
  },
  {
   "cell_type": "code",
   "execution_count": 321,
   "metadata": {},
   "outputs": [],
   "source": [
    "import matplotlib\n",
    "font = {'weight' : 'normal',\n",
    "        'size'   : 22}\n",
    "\n",
    "matplotlib.rc('font', **font)"
   ]
  },
  {
   "cell_type": "code",
   "execution_count": 307,
   "metadata": {},
   "outputs": [],
   "source": [
    "res = np.array([[1.0000,    1.260480]\n",
    ",[0.1000,    1.268899]\n",
    ",[0.0500,    1.277801]\n",
    ",[0.0200,    1.306128]\n",
    ",[0.0100,    1.340419]\n",
    ",[0.0010,    1.397006]])"
   ]
  },
  {
   "cell_type": "code",
   "execution_count": 322,
   "metadata": {},
   "outputs": [
    {
     "data": {
      "text/plain": [
       "Text(0, 0.5, 'RMSE')"
      ]
     },
     "execution_count": 322,
     "metadata": {},
     "output_type": "execute_result"
    },
    {
     "data": {
      "image/png": "[encoded data removed]",
      "text/plain": [
       "<Figure size 640x480 with 1 Axes>"
      ]
     },
     "metadata": {},
     "output_type": "display_data"
    }
   ],
   "source": [
    "fig,ax = plt.subplots(1,1)\n",
    "ax.plot(res[:,0], res[:,1],'-o')\n",
    "ax.set_xscale('log')\n",
    "ax.set_xlabel('$\\lambda$')\n",
    "ax.set_ylabel('RMSE')"
   ]
  },
  {
   "cell_type": "code",
   "execution_count": 357,
   "metadata": {},
   "outputs": [
    {
     "data": {
      "text/html": [
       "<div>\n",
       "<style scoped>\n",
       "    .dataframe tbody tr th:only-of-type {\n",
       "        vertical-align: middle;\n",
       "    }\n",
       "\n",
       "    .dataframe tbody tr th {\n",
       "        vertical-align: top;\n",
       "    }\n",
       "\n",
       "    .dataframe thead th {\n",
       "        text-align: right;\n",
       "    }\n",
       "</style>\n",
       "<table border=\"1\" class=\"dataframe\">\n",
       "  <thead>\n",
       "    <tr style=\"text-align: right;\">\n",
       "      <th></th>\n",
       "      <th>J04_optics_all</th>\n",
       "      <th>UNH_CML_realtime</th>\n",
       "      <th>UNH_CO2_realtime</th>\n",
       "      <th>UNH_GBB</th>\n",
       "      <th>LOBO_CSV_66</th>\n",
       "      <th>LOBO_CSV_65</th>\n",
       "      <th>LOBO_CSV_64</th>\n",
       "      <th>LOBO_CSV_67</th>\n",
       "      <th>LOBO_CSV_70</th>\n",
       "      <th>LOBO_CSV_72</th>\n",
       "      <th>...</th>\n",
       "      <th>A01_optics_s_all</th>\n",
       "      <th>URI_169-QP_SurfaceSonde</th>\n",
       "      <th>URI_CPoint_BottomSonde</th>\n",
       "      <th>URI_CPoint_SurfaceSonde</th>\n",
       "      <th>URI_GBay_BottomSonde</th>\n",
       "      <th>URI_GBay_SurfaceSonde</th>\n",
       "      <th>URI_NP_BottomSonde</th>\n",
       "      <th>URI_NP_SurfaceSonde</th>\n",
       "      <th>URI_PP_BottomSonde</th>\n",
       "      <th>URI_PP_SurfaceSonde</th>\n",
       "    </tr>\n",
       "  </thead>\n",
       "  <tbody>\n",
       "    <tr>\n",
       "      <th>5310</th>\n",
       "      <td>0.0</td>\n",
       "      <td>0.0</td>\n",
       "      <td>0.0</td>\n",
       "      <td>0.0</td>\n",
       "      <td>0.0</td>\n",
       "      <td>0.0</td>\n",
       "      <td>0.0</td>\n",
       "      <td>0.0</td>\n",
       "      <td>0.0</td>\n",
       "      <td>0.0</td>\n",
       "      <td>...</td>\n",
       "      <td>0.0</td>\n",
       "      <td>0.0</td>\n",
       "      <td>0.0</td>\n",
       "      <td>0.0</td>\n",
       "      <td>0.0</td>\n",
       "      <td>0.0</td>\n",
       "      <td>0.0</td>\n",
       "      <td>0.0</td>\n",
       "      <td>0.0</td>\n",
       "      <td>0.0</td>\n",
       "    </tr>\n",
       "    <tr>\n",
       "      <th>5311</th>\n",
       "      <td>0.0</td>\n",
       "      <td>0.0</td>\n",
       "      <td>0.0</td>\n",
       "      <td>0.0</td>\n",
       "      <td>0.0</td>\n",
       "      <td>0.0</td>\n",
       "      <td>0.0</td>\n",
       "      <td>0.0</td>\n",
       "      <td>0.0</td>\n",
       "      <td>0.0</td>\n",
       "      <td>...</td>\n",
       "      <td>0.0</td>\n",
       "      <td>0.0</td>\n",
       "      <td>0.0</td>\n",
       "      <td>0.0</td>\n",
       "      <td>0.0</td>\n",
       "      <td>0.0</td>\n",
       "      <td>0.0</td>\n",
       "      <td>0.0</td>\n",
       "      <td>0.0</td>\n",
       "      <td>0.0</td>\n",
       "    </tr>\n",
       "    <tr>\n",
       "      <th>5312</th>\n",
       "      <td>0.0</td>\n",
       "      <td>0.0</td>\n",
       "      <td>0.0</td>\n",
       "      <td>0.0</td>\n",
       "      <td>0.0</td>\n",
       "      <td>0.0</td>\n",
       "      <td>0.0</td>\n",
       "      <td>0.0</td>\n",
       "      <td>0.0</td>\n",
       "      <td>0.0</td>\n",
       "      <td>...</td>\n",
       "      <td>0.0</td>\n",
       "      <td>0.0</td>\n",
       "      <td>0.0</td>\n",
       "      <td>0.0</td>\n",
       "      <td>0.0</td>\n",
       "      <td>0.0</td>\n",
       "      <td>0.0</td>\n",
       "      <td>0.0</td>\n",
       "      <td>0.0</td>\n",
       "      <td>0.0</td>\n",
       "    </tr>\n",
       "    <tr>\n",
       "      <th>5313</th>\n",
       "      <td>0.0</td>\n",
       "      <td>0.0</td>\n",
       "      <td>0.0</td>\n",
       "      <td>0.0</td>\n",
       "      <td>0.0</td>\n",
       "      <td>0.0</td>\n",
       "      <td>0.0</td>\n",
       "      <td>0.0</td>\n",
       "      <td>0.0</td>\n",
       "      <td>0.0</td>\n",
       "      <td>...</td>\n",
       "      <td>0.0</td>\n",
       "      <td>0.0</td>\n",
       "      <td>0.0</td>\n",
       "      <td>0.0</td>\n",
       "      <td>0.0</td>\n",
       "      <td>0.0</td>\n",
       "      <td>0.0</td>\n",
       "      <td>0.0</td>\n",
       "      <td>0.0</td>\n",
       "      <td>0.0</td>\n",
       "    </tr>\n",
       "    <tr>\n",
       "      <th>5314</th>\n",
       "      <td>0.0</td>\n",
       "      <td>0.0</td>\n",
       "      <td>0.0</td>\n",
       "      <td>0.0</td>\n",
       "      <td>0.0</td>\n",
       "      <td>0.0</td>\n",
       "      <td>0.0</td>\n",
       "      <td>0.0</td>\n",
       "      <td>0.0</td>\n",
       "      <td>0.0</td>\n",
       "      <td>...</td>\n",
       "      <td>0.0</td>\n",
       "      <td>0.0</td>\n",
       "      <td>0.0</td>\n",
       "      <td>0.0</td>\n",
       "      <td>0.0</td>\n",
       "      <td>0.0</td>\n",
       "      <td>0.0</td>\n",
       "      <td>0.0</td>\n",
       "      <td>0.0</td>\n",
       "      <td>0.0</td>\n",
       "    </tr>\n",
       "    <tr>\n",
       "      <th>...</th>\n",
       "      <td>...</td>\n",
       "      <td>...</td>\n",
       "      <td>...</td>\n",
       "      <td>...</td>\n",
       "      <td>...</td>\n",
       "      <td>...</td>\n",
       "      <td>...</td>\n",
       "      <td>...</td>\n",
       "      <td>...</td>\n",
       "      <td>...</td>\n",
       "      <td>...</td>\n",
       "      <td>...</td>\n",
       "      <td>...</td>\n",
       "      <td>...</td>\n",
       "      <td>...</td>\n",
       "      <td>...</td>\n",
       "      <td>...</td>\n",
       "      <td>...</td>\n",
       "      <td>...</td>\n",
       "      <td>...</td>\n",
       "      <td>...</td>\n",
       "    </tr>\n",
       "    <tr>\n",
       "      <th>8028</th>\n",
       "      <td>0.0</td>\n",
       "      <td>0.0</td>\n",
       "      <td>0.0</td>\n",
       "      <td>0.0</td>\n",
       "      <td>0.0</td>\n",
       "      <td>0.0</td>\n",
       "      <td>0.0</td>\n",
       "      <td>0.0</td>\n",
       "      <td>0.0</td>\n",
       "      <td>0.0</td>\n",
       "      <td>...</td>\n",
       "      <td>0.0</td>\n",
       "      <td>0.0</td>\n",
       "      <td>0.0</td>\n",
       "      <td>0.0</td>\n",
       "      <td>0.0</td>\n",
       "      <td>0.0</td>\n",
       "      <td>0.0</td>\n",
       "      <td>0.0</td>\n",
       "      <td>0.0</td>\n",
       "      <td>0.0</td>\n",
       "    </tr>\n",
       "    <tr>\n",
       "      <th>8029</th>\n",
       "      <td>0.0</td>\n",
       "      <td>0.0</td>\n",
       "      <td>0.0</td>\n",
       "      <td>0.0</td>\n",
       "      <td>0.0</td>\n",
       "      <td>0.0</td>\n",
       "      <td>0.0</td>\n",
       "      <td>0.0</td>\n",
       "      <td>0.0</td>\n",
       "      <td>0.0</td>\n",
       "      <td>...</td>\n",
       "      <td>0.0</td>\n",
       "      <td>0.0</td>\n",
       "      <td>0.0</td>\n",
       "      <td>0.0</td>\n",
       "      <td>0.0</td>\n",
       "      <td>0.0</td>\n",
       "      <td>0.0</td>\n",
       "      <td>0.0</td>\n",
       "      <td>0.0</td>\n",
       "      <td>0.0</td>\n",
       "    </tr>\n",
       "    <tr>\n",
       "      <th>8030</th>\n",
       "      <td>0.0</td>\n",
       "      <td>0.0</td>\n",
       "      <td>0.0</td>\n",
       "      <td>0.0</td>\n",
       "      <td>0.0</td>\n",
       "      <td>0.0</td>\n",
       "      <td>0.0</td>\n",
       "      <td>0.0</td>\n",
       "      <td>0.0</td>\n",
       "      <td>0.0</td>\n",
       "      <td>...</td>\n",
       "      <td>0.0</td>\n",
       "      <td>0.0</td>\n",
       "      <td>0.0</td>\n",
       "      <td>0.0</td>\n",
       "      <td>0.0</td>\n",
       "      <td>0.0</td>\n",
       "      <td>0.0</td>\n",
       "      <td>0.0</td>\n",
       "      <td>0.0</td>\n",
       "      <td>0.0</td>\n",
       "    </tr>\n",
       "    <tr>\n",
       "      <th>8031</th>\n",
       "      <td>0.0</td>\n",
       "      <td>0.0</td>\n",
       "      <td>0.0</td>\n",
       "      <td>0.0</td>\n",
       "      <td>0.0</td>\n",
       "      <td>0.0</td>\n",
       "      <td>0.0</td>\n",
       "      <td>0.0</td>\n",
       "      <td>0.0</td>\n",
       "      <td>0.0</td>\n",
       "      <td>...</td>\n",
       "      <td>0.0</td>\n",
       "      <td>0.0</td>\n",
       "      <td>0.0</td>\n",
       "      <td>0.0</td>\n",
       "      <td>0.0</td>\n",
       "      <td>0.0</td>\n",
       "      <td>0.0</td>\n",
       "      <td>0.0</td>\n",
       "      <td>0.0</td>\n",
       "      <td>0.0</td>\n",
       "    </tr>\n",
       "    <tr>\n",
       "      <th>8032</th>\n",
       "      <td>0.0</td>\n",
       "      <td>0.0</td>\n",
       "      <td>0.0</td>\n",
       "      <td>0.0</td>\n",
       "      <td>0.0</td>\n",
       "      <td>0.0</td>\n",
       "      <td>0.0</td>\n",
       "      <td>0.0</td>\n",
       "      <td>0.0</td>\n",
       "      <td>0.0</td>\n",
       "      <td>...</td>\n",
       "      <td>0.0</td>\n",
       "      <td>0.0</td>\n",
       "      <td>0.0</td>\n",
       "      <td>0.0</td>\n",
       "      <td>0.0</td>\n",
       "      <td>0.0</td>\n",
       "      <td>0.0</td>\n",
       "      <td>0.0</td>\n",
       "      <td>0.0</td>\n",
       "      <td>0.0</td>\n",
       "    </tr>\n",
       "  </tbody>\n",
       "</table>\n",
       "<p>2723 rows × 22 columns</p>\n",
       "</div>"
      ],
      "text/plain": [
       "      J04_optics_all  UNH_CML_realtime  UNH_CO2_realtime  UNH_GBB  \\\n",
       "5310             0.0               0.0               0.0      0.0   \n",
       "5311             0.0               0.0               0.0      0.0   \n",
       "5312             0.0               0.0               0.0      0.0   \n",
       "5313             0.0               0.0               0.0      0.0   \n",
       "5314             0.0               0.0               0.0      0.0   \n",
       "...              ...               ...               ...      ...   \n",
       "8028             0.0               0.0               0.0      0.0   \n",
       "8029             0.0               0.0               0.0      0.0   \n",
       "8030             0.0               0.0               0.0      0.0   \n",
       "8031             0.0               0.0               0.0      0.0   \n",
       "8032             0.0               0.0               0.0      0.0   \n",
       "\n",
       "      LOBO_CSV_66  LOBO_CSV_65  LOBO_CSV_64  LOBO_CSV_67  LOBO_CSV_70  \\\n",
       "5310          0.0          0.0          0.0          0.0          0.0   \n",
       "5311          0.0          0.0          0.0          0.0          0.0   \n",
       "5312          0.0          0.0          0.0          0.0          0.0   \n",
       "5313          0.0          0.0          0.0          0.0          0.0   \n",
       "5314          0.0          0.0          0.0          0.0          0.0   \n",
       "...           ...          ...          ...          ...          ...   \n",
       "8028          0.0          0.0          0.0          0.0          0.0   \n",
       "8029          0.0          0.0          0.0          0.0          0.0   \n",
       "8030          0.0          0.0          0.0          0.0          0.0   \n",
       "8031          0.0          0.0          0.0          0.0          0.0   \n",
       "8032          0.0          0.0          0.0          0.0          0.0   \n",
       "\n",
       "      LOBO_CSV_72  ...  A01_optics_s_all  URI_169-QP_SurfaceSonde  \\\n",
       "5310          0.0  ...               0.0                      0.0   \n",
       "5311          0.0  ...               0.0                      0.0   \n",
       "5312          0.0  ...               0.0                      0.0   \n",
       "5313          0.0  ...               0.0                      0.0   \n",
       "5314          0.0  ...               0.0                      0.0   \n",
       "...           ...  ...               ...                      ...   \n",
       "8028          0.0  ...               0.0                      0.0   \n",
       "8029          0.0  ...               0.0                      0.0   \n",
       "8030          0.0  ...               0.0                      0.0   \n",
       "8031          0.0  ...               0.0                      0.0   \n",
       "8032          0.0  ...               0.0                      0.0   \n",
       "\n",
       "      URI_CPoint_BottomSonde  URI_CPoint_SurfaceSonde  URI_GBay_BottomSonde  \\\n",
       "5310                     0.0                      0.0                   0.0   \n",
       "5311                     0.0                      0.0                   0.0   \n",
       "5312                     0.0                      0.0                   0.0   \n",
       "5313                     0.0                      0.0                   0.0   \n",
       "5314                     0.0                      0.0                   0.0   \n",
       "...                      ...                      ...                   ...   \n",
       "8028                     0.0                      0.0                   0.0   \n",
       "8029                     0.0                      0.0                   0.0   \n",
       "8030                     0.0                      0.0                   0.0   \n",
       "8031                     0.0                      0.0                   0.0   \n",
       "8032                     0.0                      0.0                   0.0   \n",
       "\n",
       "      URI_GBay_SurfaceSonde  URI_NP_BottomSonde  URI_NP_SurfaceSonde  \\\n",
       "5310                    0.0                 0.0                  0.0   \n",
       "5311                    0.0                 0.0                  0.0   \n",
       "5312                    0.0                 0.0                  0.0   \n",
       "5313                    0.0                 0.0                  0.0   \n",
       "5314                    0.0                 0.0                  0.0   \n",
       "...                     ...                 ...                  ...   \n",
       "8028                    0.0                 0.0                  0.0   \n",
       "8029                    0.0                 0.0                  0.0   \n",
       "8030                    0.0                 0.0                  0.0   \n",
       "8031                    0.0                 0.0                  0.0   \n",
       "8032                    0.0                 0.0                  0.0   \n",
       "\n",
       "      URI_PP_BottomSonde  URI_PP_SurfaceSonde  \n",
       "5310                 0.0                  0.0  \n",
       "5311                 0.0                  0.0  \n",
       "5312                 0.0                  0.0  \n",
       "5313                 0.0                  0.0  \n",
       "5314                 0.0                  0.0  \n",
       "...                  ...                  ...  \n",
       "8028                 0.0                  0.0  \n",
       "8029                 0.0                  0.0  \n",
       "8030                 0.0                  0.0  \n",
       "8031                 0.0                  0.0  \n",
       "8032                 0.0                  0.0  \n",
       "\n",
       "[2723 rows x 22 columns]"
      ]
     },
     "execution_count": 357,
     "metadata": {},
     "output_type": "execute_result"
    }
   ],
   "source": [
    "pd.DataFrame(X_hat.transpose(),columns=Xdf.columns, index=Xdf.index)"
   ]
  },
  {
   "cell_type": "code",
   "execution_count": 415,
   "metadata": {},
   "outputs": [
    {
     "name": "stdout",
     "output_type": "stream",
     "text": [
      "6\n",
      "7\n",
      "6\n",
      "6\n",
      "12\n",
      "6\n",
      "5\n"
     ]
    }
   ],
   "source": [
    "for i in range(7):\n",
    "    j = 339*i\n",
    "    print(((Xdf.iloc[j:j+339] == 0).sum()<300).sum())"
   ]
  },
  {
   "cell_type": "code",
   "execution_count": 406,
   "metadata": {},
   "outputs": [
    {
     "data": {
      "text/plain": [
       "J04_optics_all             2464\n",
       "UNH_CML_realtime           2415\n",
       "UNH_CO2_realtime           2445\n",
       "UNH_GBB                    2530\n",
       "LOBO_CSV_66                1596\n",
       "LOBO_CSV_65                2056\n",
       "LOBO_CSV_64                2610\n",
       "LOBO_CSV_67                2592\n",
       "LOBO_CSV_70                2420\n",
       "LOBO_CSV_72                2569\n",
       "D03_optics_all             2473\n",
       "C05_optics_all             2443\n",
       "A01_optics_s_all            746\n",
       "URI_169-QP_SurfaceSonde    2037\n",
       "URI_CPoint_BottomSonde     2521\n",
       "URI_CPoint_SurfaceSonde    2494\n",
       "URI_GBay_BottomSonde       2299\n",
       "URI_GBay_SurfaceSonde      2512\n",
       "URI_NP_BottomSonde         2473\n",
       "URI_NP_SurfaceSonde        2659\n",
       "URI_PP_BottomSonde         2592\n",
       "URI_PP_SurfaceSonde        2591\n",
       "dtype: int64"
      ]
     },
     "execution_count": 406,
     "metadata": {},
     "output_type": "execute_result"
    }
   ],
   "source": [
    "(Xdf == 0).sum()"
   ]
  },
  {
   "cell_type": "code",
   "execution_count": 407,
   "metadata": {},
   "outputs": [
    {
     "data": {
      "text/html": [
       "<div>\n",
       "<style scoped>\n",
       "    .dataframe tbody tr th:only-of-type {\n",
       "        vertical-align: middle;\n",
       "    }\n",
       "\n",
       "    .dataframe tbody tr th {\n",
       "        vertical-align: top;\n",
       "    }\n",
       "\n",
       "    .dataframe thead th {\n",
       "        text-align: right;\n",
       "    }\n",
       "</style>\n",
       "<table border=\"1\" class=\"dataframe\">\n",
       "  <thead>\n",
       "    <tr style=\"text-align: right;\">\n",
       "      <th></th>\n",
       "      <th>J04_optics_all</th>\n",
       "      <th>UNH_CML_realtime</th>\n",
       "      <th>UNH_CO2_realtime</th>\n",
       "      <th>UNH_GBB</th>\n",
       "      <th>LOBO_CSV_66</th>\n",
       "      <th>LOBO_CSV_65</th>\n",
       "      <th>LOBO_CSV_64</th>\n",
       "      <th>LOBO_CSV_67</th>\n",
       "      <th>LOBO_CSV_70</th>\n",
       "      <th>LOBO_CSV_72</th>\n",
       "      <th>...</th>\n",
       "      <th>A01_optics_s_all</th>\n",
       "      <th>URI_169-QP_SurfaceSonde</th>\n",
       "      <th>URI_CPoint_BottomSonde</th>\n",
       "      <th>URI_CPoint_SurfaceSonde</th>\n",
       "      <th>URI_GBay_BottomSonde</th>\n",
       "      <th>URI_GBay_SurfaceSonde</th>\n",
       "      <th>URI_NP_BottomSonde</th>\n",
       "      <th>URI_NP_SurfaceSonde</th>\n",
       "      <th>URI_PP_BottomSonde</th>\n",
       "      <th>URI_PP_SurfaceSonde</th>\n",
       "    </tr>\n",
       "  </thead>\n",
       "  <tbody>\n",
       "    <tr>\n",
       "      <th>5310</th>\n",
       "      <td>0.0</td>\n",
       "      <td>0.0</td>\n",
       "      <td>0.0</td>\n",
       "      <td>0.0</td>\n",
       "      <td>0.0</td>\n",
       "      <td>0.000</td>\n",
       "      <td>0.0</td>\n",
       "      <td>0.0</td>\n",
       "      <td>0.0</td>\n",
       "      <td>0.0</td>\n",
       "      <td>...</td>\n",
       "      <td>3.337654</td>\n",
       "      <td>13.60</td>\n",
       "      <td>0.0</td>\n",
       "      <td>0.0</td>\n",
       "      <td>0.0</td>\n",
       "      <td>0.0</td>\n",
       "      <td>0.0</td>\n",
       "      <td>0.0</td>\n",
       "      <td>0.0</td>\n",
       "      <td>0.0</td>\n",
       "    </tr>\n",
       "    <tr>\n",
       "      <th>5311</th>\n",
       "      <td>0.0</td>\n",
       "      <td>0.0</td>\n",
       "      <td>0.0</td>\n",
       "      <td>0.0</td>\n",
       "      <td>0.0</td>\n",
       "      <td>0.000</td>\n",
       "      <td>0.0</td>\n",
       "      <td>0.0</td>\n",
       "      <td>0.0</td>\n",
       "      <td>0.0</td>\n",
       "      <td>...</td>\n",
       "      <td>6.480881</td>\n",
       "      <td>9.70</td>\n",
       "      <td>0.0</td>\n",
       "      <td>0.0</td>\n",
       "      <td>0.0</td>\n",
       "      <td>0.0</td>\n",
       "      <td>0.0</td>\n",
       "      <td>0.0</td>\n",
       "      <td>0.0</td>\n",
       "      <td>0.0</td>\n",
       "    </tr>\n",
       "    <tr>\n",
       "      <th>5312</th>\n",
       "      <td>0.0</td>\n",
       "      <td>0.0</td>\n",
       "      <td>0.0</td>\n",
       "      <td>0.0</td>\n",
       "      <td>0.0</td>\n",
       "      <td>0.000</td>\n",
       "      <td>0.0</td>\n",
       "      <td>0.0</td>\n",
       "      <td>0.0</td>\n",
       "      <td>0.0</td>\n",
       "      <td>...</td>\n",
       "      <td>5.800389</td>\n",
       "      <td>5.85</td>\n",
       "      <td>0.0</td>\n",
       "      <td>0.0</td>\n",
       "      <td>0.0</td>\n",
       "      <td>0.0</td>\n",
       "      <td>0.0</td>\n",
       "      <td>0.0</td>\n",
       "      <td>0.0</td>\n",
       "      <td>0.0</td>\n",
       "    </tr>\n",
       "    <tr>\n",
       "      <th>5313</th>\n",
       "      <td>0.0</td>\n",
       "      <td>0.0</td>\n",
       "      <td>0.0</td>\n",
       "      <td>0.0</td>\n",
       "      <td>0.0</td>\n",
       "      <td>0.000</td>\n",
       "      <td>0.0</td>\n",
       "      <td>0.0</td>\n",
       "      <td>0.0</td>\n",
       "      <td>0.0</td>\n",
       "      <td>...</td>\n",
       "      <td>7.841867</td>\n",
       "      <td>4.75</td>\n",
       "      <td>0.0</td>\n",
       "      <td>0.0</td>\n",
       "      <td>0.0</td>\n",
       "      <td>0.0</td>\n",
       "      <td>0.0</td>\n",
       "      <td>0.0</td>\n",
       "      <td>0.0</td>\n",
       "      <td>0.0</td>\n",
       "    </tr>\n",
       "    <tr>\n",
       "      <th>5314</th>\n",
       "      <td>0.0</td>\n",
       "      <td>0.0</td>\n",
       "      <td>0.0</td>\n",
       "      <td>0.0</td>\n",
       "      <td>0.0</td>\n",
       "      <td>0.000</td>\n",
       "      <td>0.0</td>\n",
       "      <td>0.0</td>\n",
       "      <td>0.0</td>\n",
       "      <td>0.0</td>\n",
       "      <td>...</td>\n",
       "      <td>4.633830</td>\n",
       "      <td>5.50</td>\n",
       "      <td>0.0</td>\n",
       "      <td>0.0</td>\n",
       "      <td>0.0</td>\n",
       "      <td>0.0</td>\n",
       "      <td>0.0</td>\n",
       "      <td>0.0</td>\n",
       "      <td>0.0</td>\n",
       "      <td>0.0</td>\n",
       "    </tr>\n",
       "    <tr>\n",
       "      <th>...</th>\n",
       "      <td>...</td>\n",
       "      <td>...</td>\n",
       "      <td>...</td>\n",
       "      <td>...</td>\n",
       "      <td>...</td>\n",
       "      <td>...</td>\n",
       "      <td>...</td>\n",
       "      <td>...</td>\n",
       "      <td>...</td>\n",
       "      <td>...</td>\n",
       "      <td>...</td>\n",
       "      <td>...</td>\n",
       "      <td>...</td>\n",
       "      <td>...</td>\n",
       "      <td>...</td>\n",
       "      <td>...</td>\n",
       "      <td>...</td>\n",
       "      <td>...</td>\n",
       "      <td>...</td>\n",
       "      <td>...</td>\n",
       "      <td>...</td>\n",
       "    </tr>\n",
       "    <tr>\n",
       "      <th>8028</th>\n",
       "      <td>0.0</td>\n",
       "      <td>0.0</td>\n",
       "      <td>0.0</td>\n",
       "      <td>0.0</td>\n",
       "      <td>0.0</td>\n",
       "      <td>0.930</td>\n",
       "      <td>0.0</td>\n",
       "      <td>0.0</td>\n",
       "      <td>0.0</td>\n",
       "      <td>0.0</td>\n",
       "      <td>...</td>\n",
       "      <td>0.896101</td>\n",
       "      <td>0.00</td>\n",
       "      <td>0.0</td>\n",
       "      <td>0.0</td>\n",
       "      <td>0.0</td>\n",
       "      <td>0.0</td>\n",
       "      <td>0.0</td>\n",
       "      <td>0.0</td>\n",
       "      <td>0.0</td>\n",
       "      <td>0.0</td>\n",
       "    </tr>\n",
       "    <tr>\n",
       "      <th>8029</th>\n",
       "      <td>0.0</td>\n",
       "      <td>0.0</td>\n",
       "      <td>0.0</td>\n",
       "      <td>0.0</td>\n",
       "      <td>0.0</td>\n",
       "      <td>1.010</td>\n",
       "      <td>0.0</td>\n",
       "      <td>0.0</td>\n",
       "      <td>0.0</td>\n",
       "      <td>0.0</td>\n",
       "      <td>...</td>\n",
       "      <td>0.871882</td>\n",
       "      <td>0.00</td>\n",
       "      <td>0.0</td>\n",
       "      <td>0.0</td>\n",
       "      <td>0.0</td>\n",
       "      <td>0.0</td>\n",
       "      <td>0.0</td>\n",
       "      <td>0.0</td>\n",
       "      <td>0.0</td>\n",
       "      <td>0.0</td>\n",
       "    </tr>\n",
       "    <tr>\n",
       "      <th>8030</th>\n",
       "      <td>0.0</td>\n",
       "      <td>0.0</td>\n",
       "      <td>0.0</td>\n",
       "      <td>0.0</td>\n",
       "      <td>0.0</td>\n",
       "      <td>1.020</td>\n",
       "      <td>0.0</td>\n",
       "      <td>0.0</td>\n",
       "      <td>0.0</td>\n",
       "      <td>0.0</td>\n",
       "      <td>...</td>\n",
       "      <td>0.871882</td>\n",
       "      <td>0.00</td>\n",
       "      <td>0.0</td>\n",
       "      <td>0.0</td>\n",
       "      <td>0.0</td>\n",
       "      <td>0.0</td>\n",
       "      <td>0.0</td>\n",
       "      <td>0.0</td>\n",
       "      <td>0.0</td>\n",
       "      <td>0.0</td>\n",
       "    </tr>\n",
       "    <tr>\n",
       "      <th>8031</th>\n",
       "      <td>0.0</td>\n",
       "      <td>0.0</td>\n",
       "      <td>0.0</td>\n",
       "      <td>0.0</td>\n",
       "      <td>0.0</td>\n",
       "      <td>0.945</td>\n",
       "      <td>0.0</td>\n",
       "      <td>0.0</td>\n",
       "      <td>0.0</td>\n",
       "      <td>0.0</td>\n",
       "      <td>...</td>\n",
       "      <td>0.847663</td>\n",
       "      <td>0.00</td>\n",
       "      <td>0.0</td>\n",
       "      <td>0.0</td>\n",
       "      <td>0.0</td>\n",
       "      <td>0.0</td>\n",
       "      <td>0.0</td>\n",
       "      <td>0.0</td>\n",
       "      <td>0.0</td>\n",
       "      <td>0.0</td>\n",
       "    </tr>\n",
       "    <tr>\n",
       "      <th>8032</th>\n",
       "      <td>0.0</td>\n",
       "      <td>0.0</td>\n",
       "      <td>0.0</td>\n",
       "      <td>0.0</td>\n",
       "      <td>0.0</td>\n",
       "      <td>1.450</td>\n",
       "      <td>0.0</td>\n",
       "      <td>0.0</td>\n",
       "      <td>0.0</td>\n",
       "      <td>0.0</td>\n",
       "      <td>...</td>\n",
       "      <td>0.799225</td>\n",
       "      <td>0.00</td>\n",
       "      <td>0.0</td>\n",
       "      <td>0.0</td>\n",
       "      <td>0.0</td>\n",
       "      <td>0.0</td>\n",
       "      <td>0.0</td>\n",
       "      <td>0.0</td>\n",
       "      <td>0.0</td>\n",
       "      <td>0.0</td>\n",
       "    </tr>\n",
       "  </tbody>\n",
       "</table>\n",
       "<p>2723 rows × 22 columns</p>\n",
       "</div>"
      ],
      "text/plain": [
       "      J04_optics_all  UNH_CML_realtime  UNH_CO2_realtime  UNH_GBB  \\\n",
       "5310             0.0               0.0               0.0      0.0   \n",
       "5311             0.0               0.0               0.0      0.0   \n",
       "5312             0.0               0.0               0.0      0.0   \n",
       "5313             0.0               0.0               0.0      0.0   \n",
       "5314             0.0               0.0               0.0      0.0   \n",
       "...              ...               ...               ...      ...   \n",
       "8028             0.0               0.0               0.0      0.0   \n",
       "8029             0.0               0.0               0.0      0.0   \n",
       "8030             0.0               0.0               0.0      0.0   \n",
       "8031             0.0               0.0               0.0      0.0   \n",
       "8032             0.0               0.0               0.0      0.0   \n",
       "\n",
       "      LOBO_CSV_66  LOBO_CSV_65  LOBO_CSV_64  LOBO_CSV_67  LOBO_CSV_70  \\\n",
       "5310          0.0        0.000          0.0          0.0          0.0   \n",
       "5311          0.0        0.000          0.0          0.0          0.0   \n",
       "5312          0.0        0.000          0.0          0.0          0.0   \n",
       "5313          0.0        0.000          0.0          0.0          0.0   \n",
       "5314          0.0        0.000          0.0          0.0          0.0   \n",
       "...           ...          ...          ...          ...          ...   \n",
       "8028          0.0        0.930          0.0          0.0          0.0   \n",
       "8029          0.0        1.010          0.0          0.0          0.0   \n",
       "8030          0.0        1.020          0.0          0.0          0.0   \n",
       "8031          0.0        0.945          0.0          0.0          0.0   \n",
       "8032          0.0        1.450          0.0          0.0          0.0   \n",
       "\n",
       "      LOBO_CSV_72  ...  A01_optics_s_all  URI_169-QP_SurfaceSonde  \\\n",
       "5310          0.0  ...          3.337654                    13.60   \n",
       "5311          0.0  ...          6.480881                     9.70   \n",
       "5312          0.0  ...          5.800389                     5.85   \n",
       "5313          0.0  ...          7.841867                     4.75   \n",
       "5314          0.0  ...          4.633830                     5.50   \n",
       "...           ...  ...               ...                      ...   \n",
       "8028          0.0  ...          0.896101                     0.00   \n",
       "8029          0.0  ...          0.871882                     0.00   \n",
       "8030          0.0  ...          0.871882                     0.00   \n",
       "8031          0.0  ...          0.847663                     0.00   \n",
       "8032          0.0  ...          0.799225                     0.00   \n",
       "\n",
       "      URI_CPoint_BottomSonde  URI_CPoint_SurfaceSonde  URI_GBay_BottomSonde  \\\n",
       "5310                     0.0                      0.0                   0.0   \n",
       "5311                     0.0                      0.0                   0.0   \n",
       "5312                     0.0                      0.0                   0.0   \n",
       "5313                     0.0                      0.0                   0.0   \n",
       "5314                     0.0                      0.0                   0.0   \n",
       "...                      ...                      ...                   ...   \n",
       "8028                     0.0                      0.0                   0.0   \n",
       "8029                     0.0                      0.0                   0.0   \n",
       "8030                     0.0                      0.0                   0.0   \n",
       "8031                     0.0                      0.0                   0.0   \n",
       "8032                     0.0                      0.0                   0.0   \n",
       "\n",
       "      URI_GBay_SurfaceSonde  URI_NP_BottomSonde  URI_NP_SurfaceSonde  \\\n",
       "5310                    0.0                 0.0                  0.0   \n",
       "5311                    0.0                 0.0                  0.0   \n",
       "5312                    0.0                 0.0                  0.0   \n",
       "5313                    0.0                 0.0                  0.0   \n",
       "5314                    0.0                 0.0                  0.0   \n",
       "...                     ...                 ...                  ...   \n",
       "8028                    0.0                 0.0                  0.0   \n",
       "8029                    0.0                 0.0                  0.0   \n",
       "8030                    0.0                 0.0                  0.0   \n",
       "8031                    0.0                 0.0                  0.0   \n",
       "8032                    0.0                 0.0                  0.0   \n",
       "\n",
       "      URI_PP_BottomSonde  URI_PP_SurfaceSonde  \n",
       "5310                 0.0                  0.0  \n",
       "5311                 0.0                  0.0  \n",
       "5312                 0.0                  0.0  \n",
       "5313                 0.0                  0.0  \n",
       "5314                 0.0                  0.0  \n",
       "...                  ...                  ...  \n",
       "8028                 0.0                  0.0  \n",
       "8029                 0.0                  0.0  \n",
       "8030                 0.0                  0.0  \n",
       "8031                 0.0                  0.0  \n",
       "8032                 0.0                  0.0  \n",
       "\n",
       "[2723 rows x 22 columns]"
      ]
     },
     "execution_count": 407,
     "metadata": {},
     "output_type": "execute_result"
    }
   ],
   "source": [
    "Xdf"
   ]
  },
  {
   "cell_type": "code",
   "execution_count": 319,
   "metadata": {},
   "outputs": [
    {
     "data": {
      "text/plain": [
       "7650     1.843163\n",
       "5443     3.717884\n",
       "7286     5.027250\n",
       "7677     1.918566\n",
       "5370    12.994167\n",
       "6154     5.434783\n",
       "7322     2.095789\n",
       "6446     4.555029\n",
       "7986     5.073868\n",
       "5966    15.251964\n",
       "5450     2.979293\n",
       "7442     2.013212\n",
       "7317     2.508671\n",
       "5621     7.213466\n",
       "6333     3.410658\n",
       "5492     1.448958\n",
       "5878     7.670576\n",
       "7780     1.700737\n",
       "6764     3.677949\n",
       "6471     2.619800\n",
       "6384     4.766586\n",
       "6025     1.237923\n",
       "Name: A01_optics_s_all, dtype: float64"
      ]
     },
     "execution_count": 319,
     "metadata": {},
     "output_type": "execute_result"
    }
   ],
   "source": []
  },
  {
   "cell_type": "code",
   "execution_count": 265,
   "metadata": {},
   "outputs": [
    {
     "data": {
      "text/plain": [
       "[<matplotlib.lines.Line2D at 0x16a6c1660>,\n",
       " <matplotlib.lines.Line2D at 0x16a6c16c0>,\n",
       " <matplotlib.lines.Line2D at 0x16a6c16f0>,\n",
       " <matplotlib.lines.Line2D at 0x16a6c17e0>,\n",
       " <matplotlib.lines.Line2D at 0x16a6c18d0>]"
      ]
     },
     "execution_count": 265,
     "metadata": {},
     "output_type": "execute_result"
    },
    {
     "data": {
      "image/png": "[encoded data removed]",
      "text/plain": [
       "<Figure size 640x480 with 1 Axes>"
      ]
     },
     "metadata": {},
     "output_type": "display_data"
    }
   ],
   "source": [
    "import matplotlib.pyplot as plt\n",
    "plt.plot(tensor_hat[:,:5,0])"
   ]
  },
  {
   "cell_type": "code",
   "execution_count": 10,
   "metadata": {},
   "outputs": [
    {
     "data": {
      "text/plain": [
       "(214, 144, 61)"
      ]
     },
     "execution_count": 10,
     "metadata": {},
     "output_type": "execute_result"
    }
   ],
   "source": [
    "tensor_hat.shape"
   ]
  },
  {
   "cell_type": "code",
   "execution_count": 183,
   "metadata": {},
   "outputs": [],
   "source": [
    "import scipy.io\n",
    "\n",
    "tensor = scipy.io.loadmat(f'{DIR}tensor.mat')\n",
    "dense_tensor = tensor['tensor']\n",
    "random_tensor = scipy.io.loadmat(f'{DIR}random_tensor.mat')\n",
    "random_tensor = random_tensor['random_tensor']\n",
    "\n",
    "missing_rate = 0.7\n",
    "\n",
    "### Random missing (RM) scenario:\n",
    "binary_tensor = np.round(random_tensor + 0.5 - missing_rate)\n",
    "sparse_tensor = np.multiply(dense_tensor, binary_tensor)\n",
    "\n",
    "dense_tensor = np.transpose(dense_tensor, [0, 2, 1])\n",
    "sparse_tensor = np.transpose(sparse_tensor, [0, 2, 1])\n",
    "\n",
    "del tensor, random_tensor,binary_tensor"
   ]
  },
  {
   "cell_type": "code",
   "execution_count": 184,
   "metadata": {},
   "outputs": [
    {
     "name": "stderr",
     "output_type": "stream",
     "text": [
      "/var/folders/g6/dvksyd2x2vzgtx4pt5g71bzh0000gn/T/ipykernel_78613/1323771951.py:4: DeprecationWarning: `np.int` is a deprecated alias for the builtin `int`. To silence this warning, use `int` by itself. Doing this will not modify any behavior and is safe. When replacing `np.int`, you may wish to use e.g. `np.int64` or `np.int32` to specify the precision. If you wish to review your current use, check the release note link for additional information.\n",
      "Deprecated in NumPy 1.20; for more details and guidance: https://numpy.org/devdocs/release/1.20.0-notes.html#deprecations\n",
      "  dim_time = np.int(np.prod(dim) / dim[0])\n"
     ]
    },
    {
     "ename": "KeyboardInterrupt",
     "evalue": "",
     "output_type": "error",
     "traceback": [
      "\u001b[0;31m---------------------------------------------------------------------------\u001b[0m",
      "\u001b[0;31mKeyboardInterrupt\u001b[0m                         Traceback (most recent call last)",
      "Cell \u001b[0;32mIn[184], line 10\u001b[0m\n\u001b[1;32m      8\u001b[0m epsilon \u001b[38;5;241m=\u001b[39m \u001b[38;5;241m1e-4\u001b[39m\n\u001b[1;32m      9\u001b[0m maxiter \u001b[38;5;241m=\u001b[39m \u001b[38;5;241m100\u001b[39m\n\u001b[0;32m---> 10\u001b[0m tensor_hat \u001b[38;5;241m=\u001b[39m \u001b[43mimputer\u001b[49m\u001b[43m(\u001b[49m\u001b[43mdense_tensor\u001b[49m\u001b[43m,\u001b[49m\u001b[43m \u001b[49m\u001b[43msparse_tensor\u001b[49m\u001b[43m,\u001b[49m\u001b[43m \u001b[49m\u001b[43mtime_lags\u001b[49m\u001b[43m,\u001b[49m\u001b[43m \u001b[49m\u001b[43malpha\u001b[49m\u001b[43m,\u001b[49m\u001b[43m \u001b[49m\u001b[43mrho\u001b[49m\u001b[43m,\u001b[49m\u001b[43m \u001b[49m\u001b[43mlambda0\u001b[49m\u001b[43m,\u001b[49m\u001b[43m \u001b[49m\u001b[43mtheta\u001b[49m\u001b[43m,\u001b[49m\u001b[43m \u001b[49m\u001b[43mepsilon\u001b[49m\u001b[43m,\u001b[49m\u001b[43m \u001b[49m\u001b[43mmaxiter\u001b[49m\u001b[43m)\u001b[49m\n\u001b[1;32m     11\u001b[0m end \u001b[38;5;241m=\u001b[39m time\u001b[38;5;241m.\u001b[39mtime()\n\u001b[1;32m     12\u001b[0m \u001b[38;5;28mprint\u001b[39m(\u001b[38;5;124m'\u001b[39m\u001b[38;5;124mRunning time: \u001b[39m\u001b[38;5;132;01m%d\u001b[39;00m\u001b[38;5;124m seconds\u001b[39m\u001b[38;5;124m'\u001b[39m\u001b[38;5;241m%\u001b[39m(end \u001b[38;5;241m-\u001b[39m start))\n",
      "Cell \u001b[0;32mIn[5], line 33\u001b[0m, in \u001b[0;36mimputer\u001b[0;34m(dense_tensor, sparse_tensor, time_lags, alpha, rho0, lambda0, theta, epsilon, maxiter)\u001b[0m\n\u001b[1;32m     31\u001b[0m \u001b[38;5;28;01mfor\u001b[39;00m m \u001b[38;5;129;01min\u001b[39;00m \u001b[38;5;28mrange\u001b[39m(dim[\u001b[38;5;241m0\u001b[39m]):\n\u001b[1;32m     32\u001b[0m     Qm \u001b[38;5;241m=\u001b[39m mat_hat[m, ind]\u001b[38;5;241m.\u001b[39mT\n\u001b[0;32m---> 33\u001b[0m     A[m, :] \u001b[38;5;241m=\u001b[39m \u001b[43mnp\u001b[49m\u001b[38;5;241;43m.\u001b[39;49m\u001b[43mlinalg\u001b[49m\u001b[38;5;241;43m.\u001b[39;49m\u001b[43mpinv\u001b[49m\u001b[43m(\u001b[49m\u001b[43mQm\u001b[49m\u001b[43m)\u001b[49m \u001b[38;5;241m@\u001b[39m Z[m, max_lag :]\n\u001b[1;32m     34\u001b[0m     mat0[m, :] \u001b[38;5;241m=\u001b[39m Qm \u001b[38;5;241m@\u001b[39m A[m, :]\n\u001b[1;32m     35\u001b[0m mat1 \u001b[38;5;241m=\u001b[39m ten2mat(np\u001b[38;5;241m.\u001b[39mmean(rho \u001b[38;5;241m*\u001b[39m X \u001b[38;5;241m+\u001b[39m T, axis \u001b[38;5;241m=\u001b[39m \u001b[38;5;241m0\u001b[39m), \u001b[38;5;241m0\u001b[39m)\n",
      "File \u001b[0;32m<__array_function__ internals>:180\u001b[0m, in \u001b[0;36mpinv\u001b[0;34m(*args, **kwargs)\u001b[0m\n",
      "File \u001b[0;32m~/miniconda3/lib/python3.10/site-packages/numpy/linalg/linalg.py:1998\u001b[0m, in \u001b[0;36mpinv\u001b[0;34m(a, rcond, hermitian)\u001b[0m\n\u001b[1;32m   1996\u001b[0m     \u001b[38;5;28;01mreturn\u001b[39;00m wrap(res)\n\u001b[1;32m   1997\u001b[0m a \u001b[38;5;241m=\u001b[39m a\u001b[38;5;241m.\u001b[39mconjugate()\n\u001b[0;32m-> 1998\u001b[0m u, s, vt \u001b[38;5;241m=\u001b[39m \u001b[43msvd\u001b[49m\u001b[43m(\u001b[49m\u001b[43ma\u001b[49m\u001b[43m,\u001b[49m\u001b[43m \u001b[49m\u001b[43mfull_matrices\u001b[49m\u001b[38;5;241;43m=\u001b[39;49m\u001b[38;5;28;43;01mFalse\u001b[39;49;00m\u001b[43m,\u001b[49m\u001b[43m \u001b[49m\u001b[43mhermitian\u001b[49m\u001b[38;5;241;43m=\u001b[39;49m\u001b[43mhermitian\u001b[49m\u001b[43m)\u001b[49m\n\u001b[1;32m   2000\u001b[0m \u001b[38;5;66;03m# discard small singular values\u001b[39;00m\n\u001b[1;32m   2001\u001b[0m cutoff \u001b[38;5;241m=\u001b[39m rcond[\u001b[38;5;241m.\u001b[39m\u001b[38;5;241m.\u001b[39m\u001b[38;5;241m.\u001b[39m, newaxis] \u001b[38;5;241m*\u001b[39m amax(s, axis\u001b[38;5;241m=\u001b[39m\u001b[38;5;241m-\u001b[39m\u001b[38;5;241m1\u001b[39m, keepdims\u001b[38;5;241m=\u001b[39m\u001b[38;5;28;01mTrue\u001b[39;00m)\n",
      "File \u001b[0;32m<__array_function__ internals>:180\u001b[0m, in \u001b[0;36msvd\u001b[0;34m(*args, **kwargs)\u001b[0m\n",
      "File \u001b[0;32m~/miniconda3/lib/python3.10/site-packages/numpy/linalg/linalg.py:1657\u001b[0m, in \u001b[0;36msvd\u001b[0;34m(a, full_matrices, compute_uv, hermitian)\u001b[0m\n\u001b[1;32m   1654\u001b[0m         gufunc \u001b[38;5;241m=\u001b[39m _umath_linalg\u001b[38;5;241m.\u001b[39msvd_n_s\n\u001b[1;32m   1656\u001b[0m signature \u001b[38;5;241m=\u001b[39m \u001b[38;5;124m'\u001b[39m\u001b[38;5;124mD->DdD\u001b[39m\u001b[38;5;124m'\u001b[39m \u001b[38;5;28;01mif\u001b[39;00m isComplexType(t) \u001b[38;5;28;01melse\u001b[39;00m \u001b[38;5;124m'\u001b[39m\u001b[38;5;124md->ddd\u001b[39m\u001b[38;5;124m'\u001b[39m\n\u001b[0;32m-> 1657\u001b[0m u, s, vh \u001b[38;5;241m=\u001b[39m \u001b[43mgufunc\u001b[49m\u001b[43m(\u001b[49m\u001b[43ma\u001b[49m\u001b[43m,\u001b[49m\u001b[43m \u001b[49m\u001b[43msignature\u001b[49m\u001b[38;5;241;43m=\u001b[39;49m\u001b[43msignature\u001b[49m\u001b[43m,\u001b[49m\u001b[43m \u001b[49m\u001b[43mextobj\u001b[49m\u001b[38;5;241;43m=\u001b[39;49m\u001b[43mextobj\u001b[49m\u001b[43m)\u001b[49m\n\u001b[1;32m   1658\u001b[0m u \u001b[38;5;241m=\u001b[39m u\u001b[38;5;241m.\u001b[39mastype(result_t, copy\u001b[38;5;241m=\u001b[39m\u001b[38;5;28;01mFalse\u001b[39;00m)\n\u001b[1;32m   1659\u001b[0m s \u001b[38;5;241m=\u001b[39m s\u001b[38;5;241m.\u001b[39mastype(_realType(result_t), copy\u001b[38;5;241m=\u001b[39m\u001b[38;5;28;01mFalse\u001b[39;00m)\n",
      "\u001b[0;31mKeyboardInterrupt\u001b[0m: "
     ]
    }
   ],
   "source": [
    "import time\n",
    "start = time.time()\n",
    "time_lags = np.array([1, 2, 3, 4, 5, 6, 142, 143, 144, 145, 146, 147])\n",
    "alpha = np.ones(3) / 3\n",
    "rho = 1e-4\n",
    "lambda0 = 5 * rho\n",
    "theta = 30\n",
    "epsilon = 1e-4\n",
    "maxiter = 100\n",
    "tensor_hat = imputer(dense_tensor, sparse_tensor, time_lags, alpha, rho, lambda0, theta, epsilon, maxiter)\n",
    "end = time.time()\n",
    "print('Running time: %d seconds'%(end - start))"
   ]
  },
  {
   "cell_type": "code",
   "execution_count": 8,
   "metadata": {},
   "outputs": [],
   "source": []
  },
  {
   "cell_type": "code",
   "execution_count": 9,
   "metadata": {},
   "outputs": [
    {
     "name": "stderr",
     "output_type": "stream",
     "text": [
      "/var/folders/g6/dvksyd2x2vzgtx4pt5g71bzh0000gn/T/ipykernel_62114/1323771951.py:4: DeprecationWarning: `np.int` is a deprecated alias for the builtin `int`. To silence this warning, use `int` by itself. Doing this will not modify any behavior and is safe. When replacing `np.int`, you may wish to use e.g. `np.int64` or `np.int32` to specify the precision. If you wish to review your current use, check the release note link for additional information.\n",
      "Deprecated in NumPy 1.20; for more details and guidance: https://numpy.org/devdocs/release/1.20.0-notes.html#deprecations\n",
      "  dim_time = np.int(np.prod(dim) / dim[0])\n"
     ]
    },
    {
     "name": "stdout",
     "output_type": "stream",
     "text": [
      "Iter: 100\n",
      "Tolerance: 0.000383623\n"
     ]
    },
    {
     "ename": "NameError",
     "evalue": "name 'compute_mape' is not defined",
     "output_type": "error",
     "traceback": [
      "\u001b[0;31m---------------------------------------------------------------------------\u001b[0m",
      "\u001b[0;31mNameError\u001b[0m                                 Traceback (most recent call last)",
      "Cell \u001b[0;32mIn[9], line 10\u001b[0m\n\u001b[1;32m      8\u001b[0m epsilon \u001b[38;5;241m=\u001b[39m \u001b[38;5;241m1e-4\u001b[39m\n\u001b[1;32m      9\u001b[0m maxiter \u001b[38;5;241m=\u001b[39m \u001b[38;5;241m100\u001b[39m\n\u001b[0;32m---> 10\u001b[0m tensor_hat \u001b[38;5;241m=\u001b[39m \u001b[43mimputer\u001b[49m\u001b[43m(\u001b[49m\u001b[43mdense_tensor\u001b[49m\u001b[43m,\u001b[49m\u001b[43m \u001b[49m\u001b[43msparse_tensor\u001b[49m\u001b[43m,\u001b[49m\u001b[43m \u001b[49m\u001b[43mtime_lags\u001b[49m\u001b[43m,\u001b[49m\u001b[43m \u001b[49m\u001b[43malpha\u001b[49m\u001b[43m,\u001b[49m\u001b[43m \u001b[49m\u001b[43mrho\u001b[49m\u001b[43m,\u001b[49m\u001b[43m \u001b[49m\u001b[43mlambda0\u001b[49m\u001b[43m,\u001b[49m\u001b[43m \u001b[49m\u001b[43mtheta\u001b[49m\u001b[43m,\u001b[49m\u001b[43m \u001b[49m\u001b[43mepsilon\u001b[49m\u001b[43m,\u001b[49m\u001b[43m \u001b[49m\u001b[43mmaxiter\u001b[49m\u001b[43m)\u001b[49m\n\u001b[1;32m     11\u001b[0m end \u001b[38;5;241m=\u001b[39m time\u001b[38;5;241m.\u001b[39mtime()\n\u001b[1;32m     12\u001b[0m \u001b[38;5;28mprint\u001b[39m(\u001b[38;5;124m'\u001b[39m\u001b[38;5;124mRunning time: \u001b[39m\u001b[38;5;132;01m%d\u001b[39;00m\u001b[38;5;124m seconds\u001b[39m\u001b[38;5;124m'\u001b[39m\u001b[38;5;241m%\u001b[39m(end \u001b[38;5;241m-\u001b[39m start))\n",
      "Cell \u001b[0;32mIn[5], line 47\u001b[0m, in \u001b[0;36mimputer\u001b[0;34m(dense_tensor, sparse_tensor, time_lags, alpha, rho0, lambda0, theta, epsilon, maxiter)\u001b[0m\n\u001b[1;32m     45\u001b[0m \u001b[38;5;28mprint\u001b[39m(\u001b[38;5;124m'\u001b[39m\u001b[38;5;124mIter: \u001b[39m\u001b[38;5;132;01m{}\u001b[39;00m\u001b[38;5;124m'\u001b[39m\u001b[38;5;241m.\u001b[39mformat(it))\n\u001b[1;32m     46\u001b[0m \u001b[38;5;28mprint\u001b[39m(\u001b[38;5;124m'\u001b[39m\u001b[38;5;124mTolerance: \u001b[39m\u001b[38;5;132;01m{:.6}\u001b[39;00m\u001b[38;5;124m'\u001b[39m\u001b[38;5;241m.\u001b[39mformat(tol))\n\u001b[0;32m---> 47\u001b[0m \u001b[38;5;28mprint\u001b[39m(\u001b[38;5;124m'\u001b[39m\u001b[38;5;124mMAPE: \u001b[39m\u001b[38;5;132;01m{:.6}\u001b[39;00m\u001b[38;5;124m'\u001b[39m\u001b[38;5;241m.\u001b[39mformat(\u001b[43mcompute_mape\u001b[49m(dense_tensor[pos_test], tensor_hat[pos_test])))\n\u001b[1;32m     48\u001b[0m \u001b[38;5;28mprint\u001b[39m(\u001b[38;5;124m'\u001b[39m\u001b[38;5;124mRMSE: \u001b[39m\u001b[38;5;132;01m{:.6}\u001b[39;00m\u001b[38;5;124m'\u001b[39m\u001b[38;5;241m.\u001b[39mformat(compute_rmse(dense_tensor[pos_test], tensor_hat[pos_test])))\n\u001b[1;32m     49\u001b[0m \u001b[38;5;28mprint\u001b[39m()\n",
      "\u001b[0;31mNameError\u001b[0m: name 'compute_mape' is not defined"
     ]
    }
   ],
   "source": []
  },
  {
   "cell_type": "markdown",
   "metadata": {},
   "source": [
    "We generate **non-random missing (NM)** values on Guangzhou traffic speed data set. Then, we conduct the imputation experiment."
   ]
  },
  {
   "cell_type": "code",
   "execution_count": 199,
   "metadata": {},
   "outputs": [
    {
     "ename": "FileNotFoundError",
     "evalue": "[Errno 2] No such file or directory: '../datasets/Guangzhou-data-set/tensor.mat'",
     "output_type": "error",
     "traceback": [
      "\u001b[0;31m---------------------------------------------------------------------------\u001b[0m",
      "\u001b[0;31mFileNotFoundError\u001b[0m                         Traceback (most recent call last)",
      "File \u001b[0;32m~/miniconda3/lib/python3.10/site-packages/scipy/io/matlab/_mio.py:39\u001b[0m, in \u001b[0;36m_open_file\u001b[0;34m(file_like, appendmat, mode)\u001b[0m\n\u001b[1;32m     38\u001b[0m \u001b[38;5;28;01mtry\u001b[39;00m:\n\u001b[0;32m---> 39\u001b[0m     \u001b[38;5;28;01mreturn\u001b[39;00m \u001b[38;5;28;43mopen\u001b[39;49m\u001b[43m(\u001b[49m\u001b[43mfile_like\u001b[49m\u001b[43m,\u001b[49m\u001b[43m \u001b[49m\u001b[43mmode\u001b[49m\u001b[43m)\u001b[49m, \u001b[38;5;28;01mTrue\u001b[39;00m\n\u001b[1;32m     40\u001b[0m \u001b[38;5;28;01mexcept\u001b[39;00m \u001b[38;5;167;01mOSError\u001b[39;00m \u001b[38;5;28;01mas\u001b[39;00m e:\n\u001b[1;32m     41\u001b[0m     \u001b[38;5;66;03m# Probably \"not found\"\u001b[39;00m\n",
      "\u001b[0;31mFileNotFoundError\u001b[0m: [Errno 2] No such file or directory: '../datasets/Guangzhou-data-set/tensor.mat'",
      "\nDuring handling of the above exception, another exception occurred:\n",
      "\u001b[0;31mFileNotFoundError\u001b[0m                         Traceback (most recent call last)",
      "Cell \u001b[0;32mIn[199], line 3\u001b[0m\n\u001b[1;32m      1\u001b[0m \u001b[38;5;28;01mimport\u001b[39;00m \u001b[38;5;21;01mscipy\u001b[39;00m\u001b[38;5;21;01m.\u001b[39;00m\u001b[38;5;21;01mio\u001b[39;00m\n\u001b[0;32m----> 3\u001b[0m tensor \u001b[38;5;241m=\u001b[39m \u001b[43mscipy\u001b[49m\u001b[38;5;241;43m.\u001b[39;49m\u001b[43mio\u001b[49m\u001b[38;5;241;43m.\u001b[39;49m\u001b[43mloadmat\u001b[49m\u001b[43m(\u001b[49m\u001b[38;5;124;43m'\u001b[39;49m\u001b[38;5;124;43m../datasets/Guangzhou-data-set/tensor.mat\u001b[39;49m\u001b[38;5;124;43m'\u001b[39;49m\u001b[43m)\u001b[49m\n\u001b[1;32m      4\u001b[0m dense_tensor \u001b[38;5;241m=\u001b[39m tensor[\u001b[38;5;124m'\u001b[39m\u001b[38;5;124mtensor\u001b[39m\u001b[38;5;124m'\u001b[39m]\n\u001b[1;32m      5\u001b[0m random_matrix \u001b[38;5;241m=\u001b[39m scipy\u001b[38;5;241m.\u001b[39mio\u001b[38;5;241m.\u001b[39mloadmat(\u001b[38;5;124m'\u001b[39m\u001b[38;5;124m../datasets/Guangzhou-data-set/random_matrix.mat\u001b[39m\u001b[38;5;124m'\u001b[39m)\n",
      "File \u001b[0;32m~/miniconda3/lib/python3.10/site-packages/scipy/io/matlab/_mio.py:225\u001b[0m, in \u001b[0;36mloadmat\u001b[0;34m(file_name, mdict, appendmat, **kwargs)\u001b[0m\n\u001b[1;32m     88\u001b[0m \u001b[38;5;250m\u001b[39m\u001b[38;5;124;03m\"\"\"\u001b[39;00m\n\u001b[1;32m     89\u001b[0m \u001b[38;5;124;03mLoad MATLAB file.\u001b[39;00m\n\u001b[1;32m     90\u001b[0m \n\u001b[0;32m   (...)\u001b[0m\n\u001b[1;32m    222\u001b[0m \u001b[38;5;124;03m    3.14159265+3.14159265j])\u001b[39;00m\n\u001b[1;32m    223\u001b[0m \u001b[38;5;124;03m\"\"\"\u001b[39;00m\n\u001b[1;32m    224\u001b[0m variable_names \u001b[38;5;241m=\u001b[39m kwargs\u001b[38;5;241m.\u001b[39mpop(\u001b[38;5;124m'\u001b[39m\u001b[38;5;124mvariable_names\u001b[39m\u001b[38;5;124m'\u001b[39m, \u001b[38;5;28;01mNone\u001b[39;00m)\n\u001b[0;32m--> 225\u001b[0m \u001b[38;5;28;01mwith\u001b[39;00m _open_file_context(file_name, appendmat) \u001b[38;5;28;01mas\u001b[39;00m f:\n\u001b[1;32m    226\u001b[0m     MR, _ \u001b[38;5;241m=\u001b[39m mat_reader_factory(f, \u001b[38;5;241m*\u001b[39m\u001b[38;5;241m*\u001b[39mkwargs)\n\u001b[1;32m    227\u001b[0m     matfile_dict \u001b[38;5;241m=\u001b[39m MR\u001b[38;5;241m.\u001b[39mget_variables(variable_names)\n",
      "File \u001b[0;32m~/miniconda3/lib/python3.10/contextlib.py:135\u001b[0m, in \u001b[0;36m_GeneratorContextManager.__enter__\u001b[0;34m(self)\u001b[0m\n\u001b[1;32m    133\u001b[0m \u001b[38;5;28;01mdel\u001b[39;00m \u001b[38;5;28mself\u001b[39m\u001b[38;5;241m.\u001b[39margs, \u001b[38;5;28mself\u001b[39m\u001b[38;5;241m.\u001b[39mkwds, \u001b[38;5;28mself\u001b[39m\u001b[38;5;241m.\u001b[39mfunc\n\u001b[1;32m    134\u001b[0m \u001b[38;5;28;01mtry\u001b[39;00m:\n\u001b[0;32m--> 135\u001b[0m     \u001b[38;5;28;01mreturn\u001b[39;00m \u001b[38;5;28;43mnext\u001b[39;49m\u001b[43m(\u001b[49m\u001b[38;5;28;43mself\u001b[39;49m\u001b[38;5;241;43m.\u001b[39;49m\u001b[43mgen\u001b[49m\u001b[43m)\u001b[49m\n\u001b[1;32m    136\u001b[0m \u001b[38;5;28;01mexcept\u001b[39;00m \u001b[38;5;167;01mStopIteration\u001b[39;00m:\n\u001b[1;32m    137\u001b[0m     \u001b[38;5;28;01mraise\u001b[39;00m \u001b[38;5;167;01mRuntimeError\u001b[39;00m(\u001b[38;5;124m\"\u001b[39m\u001b[38;5;124mgenerator didn\u001b[39m\u001b[38;5;124m'\u001b[39m\u001b[38;5;124mt yield\u001b[39m\u001b[38;5;124m\"\u001b[39m) \u001b[38;5;28;01mfrom\u001b[39;00m \u001b[38;5;28mNone\u001b[39m\n",
      "File \u001b[0;32m~/miniconda3/lib/python3.10/site-packages/scipy/io/matlab/_mio.py:17\u001b[0m, in \u001b[0;36m_open_file_context\u001b[0;34m(file_like, appendmat, mode)\u001b[0m\n\u001b[1;32m     15\u001b[0m \u001b[38;5;129m@contextmanager\u001b[39m\n\u001b[1;32m     16\u001b[0m \u001b[38;5;28;01mdef\u001b[39;00m \u001b[38;5;21m_open_file_context\u001b[39m(file_like, appendmat, mode\u001b[38;5;241m=\u001b[39m\u001b[38;5;124m'\u001b[39m\u001b[38;5;124mrb\u001b[39m\u001b[38;5;124m'\u001b[39m):\n\u001b[0;32m---> 17\u001b[0m     f, opened \u001b[38;5;241m=\u001b[39m \u001b[43m_open_file\u001b[49m\u001b[43m(\u001b[49m\u001b[43mfile_like\u001b[49m\u001b[43m,\u001b[49m\u001b[43m \u001b[49m\u001b[43mappendmat\u001b[49m\u001b[43m,\u001b[49m\u001b[43m \u001b[49m\u001b[43mmode\u001b[49m\u001b[43m)\u001b[49m\n\u001b[1;32m     18\u001b[0m     \u001b[38;5;28;01mtry\u001b[39;00m:\n\u001b[1;32m     19\u001b[0m         \u001b[38;5;28;01myield\u001b[39;00m f\n",
      "File \u001b[0;32m~/miniconda3/lib/python3.10/site-packages/scipy/io/matlab/_mio.py:45\u001b[0m, in \u001b[0;36m_open_file\u001b[0;34m(file_like, appendmat, mode)\u001b[0m\n\u001b[1;32m     43\u001b[0m     \u001b[38;5;28;01mif\u001b[39;00m appendmat \u001b[38;5;129;01mand\u001b[39;00m \u001b[38;5;129;01mnot\u001b[39;00m file_like\u001b[38;5;241m.\u001b[39mendswith(\u001b[38;5;124m'\u001b[39m\u001b[38;5;124m.mat\u001b[39m\u001b[38;5;124m'\u001b[39m):\n\u001b[1;32m     44\u001b[0m         file_like \u001b[38;5;241m+\u001b[39m\u001b[38;5;241m=\u001b[39m \u001b[38;5;124m'\u001b[39m\u001b[38;5;124m.mat\u001b[39m\u001b[38;5;124m'\u001b[39m\n\u001b[0;32m---> 45\u001b[0m     \u001b[38;5;28;01mreturn\u001b[39;00m \u001b[38;5;28;43mopen\u001b[39;49m\u001b[43m(\u001b[49m\u001b[43mfile_like\u001b[49m\u001b[43m,\u001b[49m\u001b[43m \u001b[49m\u001b[43mmode\u001b[49m\u001b[43m)\u001b[49m, \u001b[38;5;28;01mTrue\u001b[39;00m\n\u001b[1;32m     46\u001b[0m \u001b[38;5;28;01melse\u001b[39;00m:\n\u001b[1;32m     47\u001b[0m     \u001b[38;5;28;01mraise\u001b[39;00m \u001b[38;5;167;01mOSError\u001b[39;00m(\n\u001b[1;32m     48\u001b[0m         \u001b[38;5;124m'\u001b[39m\u001b[38;5;124mReader needs file name or open file-like object\u001b[39m\u001b[38;5;124m'\u001b[39m\n\u001b[1;32m     49\u001b[0m     ) \u001b[38;5;28;01mfrom\u001b[39;00m \u001b[38;5;21;01me\u001b[39;00m\n",
      "\u001b[0;31mFileNotFoundError\u001b[0m: [Errno 2] No such file or directory: '../datasets/Guangzhou-data-set/tensor.mat'"
     ]
    }
   ],
   "source": [
    "import scipy.io\n",
    "\n",
    "tensor = scipy.io.loadmat('../datasets/Guangzhou-data-set/tensor.mat')\n",
    "dense_tensor = tensor['tensor']\n",
    "random_matrix = scipy.io.loadmat('../datasets/Guangzhou-data-set/random_matrix.mat')\n",
    "random_matrix = random_matrix['random_matrix']\n",
    "\n",
    "missing_rate = 0.7\n",
    "\n",
    "### Non-random missing (NM) scenario:\n",
    "binary_tensor = np.zeros(dense_tensor.shape)\n",
    "for i1 in range(dense_tensor.shape[0]):\n",
    "    for i2 in range(dense_tensor.shape[2]):\n",
    "        binary_tensor[i1, i2, :] = np.round(random_matrix[i1, i2] + 0.5 - missing_rate)\n",
    "sparse_tensor = np.multiply(dense_tensor, binary_tensor)\n",
    "\n",
    "dense_tensor = np.transpose(dense_tensor, [0, 2, 1])\n",
    "sparse_tensor = np.transpose(sparse_tensor, [0, 2, 1])\n",
    "\n",
    "del tensor, random_matrix, binary_tensor"
   ]
  },
  {
   "cell_type": "code",
   "execution_count": 196,
   "metadata": {},
   "outputs": [
    {
     "data": {
      "text/plain": [
       "<function ndarray.transpose>"
      ]
     },
     "execution_count": 196,
     "metadata": {},
     "output_type": "execute_result"
    }
   ],
   "source": []
  },
  {
   "cell_type": "code",
   "execution_count": 205,
   "metadata": {},
   "outputs": [
    {
     "ename": "IndexError",
     "evalue": "index 10 is out of bounds for axis 1 with size 10",
     "output_type": "error",
     "traceback": [
      "\u001b[0;31m---------------------------------------------------------------------------\u001b[0m",
      "\u001b[0;31mIndexError\u001b[0m                                Traceback (most recent call last)",
      "Cell \u001b[0;32mIn[205], line 1\u001b[0m\n\u001b[0;32m----> 1\u001b[0m \u001b[43mrandom_matrix\u001b[49m\u001b[43m[\u001b[49m\u001b[38;5;241;43m1\u001b[39;49m\u001b[43m,\u001b[49m\u001b[38;5;241;43m10\u001b[39;49m\u001b[43m]\u001b[49m\n",
      "\u001b[0;31mIndexError\u001b[0m: index 10 is out of bounds for axis 1 with size 10"
     ]
    }
   ],
   "source": [
    "random_matrix[1,10]"
   ]
  },
  {
   "cell_type": "code",
   "execution_count": 209,
   "metadata": {},
   "outputs": [],
   "source": [
    "np.random_seed = 5\n"
   ]
  },
  {
   "cell_type": "code",
   "execution_count": 226,
   "metadata": {},
   "outputs": [
    {
     "name": "stdout",
     "output_type": "stream",
     "text": [
      "16.83823314339589\n"
     ]
    },
    {
     "name": "stderr",
     "output_type": "stream",
     "text": [
      "/var/folders/g6/dvksyd2x2vzgtx4pt5g71bzh0000gn/T/ipykernel_78613/1323771951.py:4: DeprecationWarning: `np.int` is a deprecated alias for the builtin `int`. To silence this warning, use `int` by itself. Doing this will not modify any behavior and is safe. When replacing `np.int`, you may wish to use e.g. `np.int64` or `np.int32` to specify the precision. If you wish to review your current use, check the release note link for additional information.\n",
      "Deprecated in NumPy 1.20; for more details and guidance: https://numpy.org/devdocs/release/1.20.0-notes.html#deprecations\n",
      "  dim_time = np.int(np.prod(dim) / dim[0])\n"
     ]
    },
    {
     "name": "stdout",
     "output_type": "stream",
     "text": [
      "Total iteration: 53\n",
      "Tolerance: 9.96659e-05\n",
      "Imputation MAPE: 8.5285\n",
      "Imputation RMSE: 102.829\n",
      "\n",
      "Total iteration: 45\n",
      "Tolerance: 9.67012e-05\n",
      "Imputation MAPE: 1.39814\n",
      "Imputation RMSE: 107.243\n",
      "\n",
      "Running time: 4 seconds\n"
     ]
    }
   ],
   "source": [
    "\n",
    "missing_rate = .2\n",
    "np.random_seed=123\n",
    "r = np.zeros(X.shape)\n",
    "random_matrix = np.random.random((X.shape[0],X.shape[2]))\n",
    "for i1 in range(X.shape[0]):\n",
    "    for i2 in range(X.shape[2]):\n",
    "        r[i1, :,i2] = np.round(random_matrix[i1, i2] + 0.5 - missing_rate)\n",
    "X_nulled= np.multiply(X, r)\n",
    "\n",
    "\n",
    "print(compute_rmse(X1.values,pd.DataFrame(X_nulled[0]).interpolate(method='index').values))\n",
    "\n",
    "tensor_hat = imputer(X, X_nulled, time_lags, alpha, rho, 0, theta, epsilon, maxiter)\n",
    "\n",
    "import time\n",
    "start = time.time()\n",
    "time_lags = np.array([1, 2, 3, 4, 5, 6,100,500])\n",
    "alpha,rho,lambda0,theta,epsilon,maxiter = [np.ones(3) / 3,10e-4,.1*rho,1,1e-4,100]\n",
    "tensor_hat = imputer(X, X_nulled, time_lags, alpha, rho, lambda0, theta, epsilon, maxiter)\n",
    "end = time.time()\n",
    "print('Running time: %d seconds'%(end - start))"
   ]
  },
  {
   "cell_type": "code",
   "execution_count": 6,
   "metadata": {},
   "outputs": [
    {
     "ename": "FileNotFoundError",
     "evalue": "[Errno 2] No such file or directory: '../datasets/Guangzhou-data-set/tensor.mat'",
     "output_type": "error",
     "traceback": [
      "\u001b[0;31m---------------------------------------------------------------------------\u001b[0m",
      "\u001b[0;31mFileNotFoundError\u001b[0m                         Traceback (most recent call last)",
      "File \u001b[0;32m~/miniconda3/lib/python3.10/site-packages/scipy/io/matlab/_mio.py:39\u001b[0m, in \u001b[0;36m_open_file\u001b[0;34m(file_like, appendmat, mode)\u001b[0m\n\u001b[1;32m     38\u001b[0m \u001b[38;5;28;01mtry\u001b[39;00m:\n\u001b[0;32m---> 39\u001b[0m     \u001b[38;5;28;01mreturn\u001b[39;00m \u001b[38;5;28;43mopen\u001b[39;49m\u001b[43m(\u001b[49m\u001b[43mfile_like\u001b[49m\u001b[43m,\u001b[49m\u001b[43m \u001b[49m\u001b[43mmode\u001b[49m\u001b[43m)\u001b[49m, \u001b[38;5;28;01mTrue\u001b[39;00m\n\u001b[1;32m     40\u001b[0m \u001b[38;5;28;01mexcept\u001b[39;00m \u001b[38;5;167;01mOSError\u001b[39;00m \u001b[38;5;28;01mas\u001b[39;00m e:\n\u001b[1;32m     41\u001b[0m     \u001b[38;5;66;03m# Probably \"not found\"\u001b[39;00m\n",
      "\u001b[0;31mFileNotFoundError\u001b[0m: [Errno 2] No such file or directory: '../datasets/Guangzhou-data-set/tensor.mat'",
      "\nDuring handling of the above exception, another exception occurred:\n",
      "\u001b[0;31mFileNotFoundError\u001b[0m                         Traceback (most recent call last)",
      "Cell \u001b[0;32mIn[6], line 3\u001b[0m\n\u001b[1;32m      1\u001b[0m \u001b[38;5;28;01mimport\u001b[39;00m \u001b[38;5;21;01mscipy\u001b[39;00m\u001b[38;5;21;01m.\u001b[39;00m\u001b[38;5;21;01mio\u001b[39;00m\n\u001b[0;32m----> 3\u001b[0m tensor \u001b[38;5;241m=\u001b[39m \u001b[43mscipy\u001b[49m\u001b[38;5;241;43m.\u001b[39;49m\u001b[43mio\u001b[49m\u001b[38;5;241;43m.\u001b[39;49m\u001b[43mloadmat\u001b[49m\u001b[43m(\u001b[49m\u001b[38;5;124;43m'\u001b[39;49m\u001b[38;5;124;43m../datasets/Guangzhou-data-set/tensor.mat\u001b[39;49m\u001b[38;5;124;43m'\u001b[39;49m\u001b[43m)\u001b[49m\n\u001b[1;32m      4\u001b[0m dense_tensor \u001b[38;5;241m=\u001b[39m tensor[\u001b[38;5;124m'\u001b[39m\u001b[38;5;124mtensor\u001b[39m\u001b[38;5;124m'\u001b[39m]\n\u001b[1;32m      5\u001b[0m random_matrix \u001b[38;5;241m=\u001b[39m scipy\u001b[38;5;241m.\u001b[39mio\u001b[38;5;241m.\u001b[39mloadmat(\u001b[38;5;124m'\u001b[39m\u001b[38;5;124m../datasets/Guangzhou-data-set/random_matrix.mat\u001b[39m\u001b[38;5;124m'\u001b[39m)\n",
      "File \u001b[0;32m~/miniconda3/lib/python3.10/site-packages/scipy/io/matlab/_mio.py:225\u001b[0m, in \u001b[0;36mloadmat\u001b[0;34m(file_name, mdict, appendmat, **kwargs)\u001b[0m\n\u001b[1;32m     88\u001b[0m \u001b[38;5;250m\u001b[39m\u001b[38;5;124;03m\"\"\"\u001b[39;00m\n\u001b[1;32m     89\u001b[0m \u001b[38;5;124;03mLoad MATLAB file.\u001b[39;00m\n\u001b[1;32m     90\u001b[0m \n\u001b[0;32m   (...)\u001b[0m\n\u001b[1;32m    222\u001b[0m \u001b[38;5;124;03m    3.14159265+3.14159265j])\u001b[39;00m\n\u001b[1;32m    223\u001b[0m \u001b[38;5;124;03m\"\"\"\u001b[39;00m\n\u001b[1;32m    224\u001b[0m variable_names \u001b[38;5;241m=\u001b[39m kwargs\u001b[38;5;241m.\u001b[39mpop(\u001b[38;5;124m'\u001b[39m\u001b[38;5;124mvariable_names\u001b[39m\u001b[38;5;124m'\u001b[39m, \u001b[38;5;28;01mNone\u001b[39;00m)\n\u001b[0;32m--> 225\u001b[0m \u001b[38;5;28;01mwith\u001b[39;00m _open_file_context(file_name, appendmat) \u001b[38;5;28;01mas\u001b[39;00m f:\n\u001b[1;32m    226\u001b[0m     MR, _ \u001b[38;5;241m=\u001b[39m mat_reader_factory(f, \u001b[38;5;241m*\u001b[39m\u001b[38;5;241m*\u001b[39mkwargs)\n\u001b[1;32m    227\u001b[0m     matfile_dict \u001b[38;5;241m=\u001b[39m MR\u001b[38;5;241m.\u001b[39mget_variables(variable_names)\n",
      "File \u001b[0;32m~/miniconda3/lib/python3.10/contextlib.py:135\u001b[0m, in \u001b[0;36m_GeneratorContextManager.__enter__\u001b[0;34m(self)\u001b[0m\n\u001b[1;32m    133\u001b[0m \u001b[38;5;28;01mdel\u001b[39;00m \u001b[38;5;28mself\u001b[39m\u001b[38;5;241m.\u001b[39margs, \u001b[38;5;28mself\u001b[39m\u001b[38;5;241m.\u001b[39mkwds, \u001b[38;5;28mself\u001b[39m\u001b[38;5;241m.\u001b[39mfunc\n\u001b[1;32m    134\u001b[0m \u001b[38;5;28;01mtry\u001b[39;00m:\n\u001b[0;32m--> 135\u001b[0m     \u001b[38;5;28;01mreturn\u001b[39;00m \u001b[38;5;28;43mnext\u001b[39;49m\u001b[43m(\u001b[49m\u001b[38;5;28;43mself\u001b[39;49m\u001b[38;5;241;43m.\u001b[39;49m\u001b[43mgen\u001b[49m\u001b[43m)\u001b[49m\n\u001b[1;32m    136\u001b[0m \u001b[38;5;28;01mexcept\u001b[39;00m \u001b[38;5;167;01mStopIteration\u001b[39;00m:\n\u001b[1;32m    137\u001b[0m     \u001b[38;5;28;01mraise\u001b[39;00m \u001b[38;5;167;01mRuntimeError\u001b[39;00m(\u001b[38;5;124m\"\u001b[39m\u001b[38;5;124mgenerator didn\u001b[39m\u001b[38;5;124m'\u001b[39m\u001b[38;5;124mt yield\u001b[39m\u001b[38;5;124m\"\u001b[39m) \u001b[38;5;28;01mfrom\u001b[39;00m \u001b[38;5;28mNone\u001b[39m\n",
      "File \u001b[0;32m~/miniconda3/lib/python3.10/site-packages/scipy/io/matlab/_mio.py:17\u001b[0m, in \u001b[0;36m_open_file_context\u001b[0;34m(file_like, appendmat, mode)\u001b[0m\n\u001b[1;32m     15\u001b[0m \u001b[38;5;129m@contextmanager\u001b[39m\n\u001b[1;32m     16\u001b[0m \u001b[38;5;28;01mdef\u001b[39;00m \u001b[38;5;21m_open_file_context\u001b[39m(file_like, appendmat, mode\u001b[38;5;241m=\u001b[39m\u001b[38;5;124m'\u001b[39m\u001b[38;5;124mrb\u001b[39m\u001b[38;5;124m'\u001b[39m):\n\u001b[0;32m---> 17\u001b[0m     f, opened \u001b[38;5;241m=\u001b[39m \u001b[43m_open_file\u001b[49m\u001b[43m(\u001b[49m\u001b[43mfile_like\u001b[49m\u001b[43m,\u001b[49m\u001b[43m \u001b[49m\u001b[43mappendmat\u001b[49m\u001b[43m,\u001b[49m\u001b[43m \u001b[49m\u001b[43mmode\u001b[49m\u001b[43m)\u001b[49m\n\u001b[1;32m     18\u001b[0m     \u001b[38;5;28;01mtry\u001b[39;00m:\n\u001b[1;32m     19\u001b[0m         \u001b[38;5;28;01myield\u001b[39;00m f\n",
      "File \u001b[0;32m~/miniconda3/lib/python3.10/site-packages/scipy/io/matlab/_mio.py:45\u001b[0m, in \u001b[0;36m_open_file\u001b[0;34m(file_like, appendmat, mode)\u001b[0m\n\u001b[1;32m     43\u001b[0m     \u001b[38;5;28;01mif\u001b[39;00m appendmat \u001b[38;5;129;01mand\u001b[39;00m \u001b[38;5;129;01mnot\u001b[39;00m file_like\u001b[38;5;241m.\u001b[39mendswith(\u001b[38;5;124m'\u001b[39m\u001b[38;5;124m.mat\u001b[39m\u001b[38;5;124m'\u001b[39m):\n\u001b[1;32m     44\u001b[0m         file_like \u001b[38;5;241m+\u001b[39m\u001b[38;5;241m=\u001b[39m \u001b[38;5;124m'\u001b[39m\u001b[38;5;124m.mat\u001b[39m\u001b[38;5;124m'\u001b[39m\n\u001b[0;32m---> 45\u001b[0m     \u001b[38;5;28;01mreturn\u001b[39;00m \u001b[38;5;28;43mopen\u001b[39;49m\u001b[43m(\u001b[49m\u001b[43mfile_like\u001b[49m\u001b[43m,\u001b[49m\u001b[43m \u001b[49m\u001b[43mmode\u001b[49m\u001b[43m)\u001b[49m, \u001b[38;5;28;01mTrue\u001b[39;00m\n\u001b[1;32m     46\u001b[0m \u001b[38;5;28;01melse\u001b[39;00m:\n\u001b[1;32m     47\u001b[0m     \u001b[38;5;28;01mraise\u001b[39;00m \u001b[38;5;167;01mOSError\u001b[39;00m(\n\u001b[1;32m     48\u001b[0m         \u001b[38;5;124m'\u001b[39m\u001b[38;5;124mReader needs file name or open file-like object\u001b[39m\u001b[38;5;124m'\u001b[39m\n\u001b[1;32m     49\u001b[0m     ) \u001b[38;5;28;01mfrom\u001b[39;00m \u001b[38;5;21;01me\u001b[39;00m\n",
      "\u001b[0;31mFileNotFoundError\u001b[0m: [Errno 2] No such file or directory: '../datasets/Guangzhou-data-set/tensor.mat'"
     ]
    }
   ],
   "source": [
    "import scipy.io\n",
    "\n",
    "tensor = scipy.io.loadmat('../datasets/Guangzhou-data-set/tensor.mat')\n",
    "dense_tensor = tensor['tensor']\n",
    "random_matrix = scipy.io.loadmat('../datasets/Guangzhou-data-set/random_matrix.mat')\n",
    "random_matrix = random_matrix['random_matrix']\n",
    "\n",
    "missing_rate = 0.4\n",
    "\n",
    "### Non-random missing (NM) scenario:\n",
    "binary_tensor = np.zeros(dense_tensor.shape)\n",
    "for i1 in range(dense_tensor.shape[0]):\n",
    "    for i2 in range(dense_tensor.shape[1]):\n",
    "        binary_tensor[i1, i2, :] = np.round(random_matrix[i1, i2] + 0.5 - missing_rate)\n",
    "sparse_tensor = np.multiply(dense_tensor, binary_tensor)\n",
    "\n",
    "dense_tensor = np.transpose(dense_tensor, [0, 2, 1])\n",
    "sparse_tensor = np.transpose(sparse_tensor, [0, 2, 1])\n",
    "\n",
    "del tensor, random_matrix, binary_tensor"
   ]
  },
  {
   "cell_type": "code",
   "execution_count": 15,
   "metadata": {},
   "outputs": [
    {
     "name": "stdout",
     "output_type": "stream",
     "text": [
      "Iter: 100\n",
      "Tolerance: 0.000349004\n",
      "MAPE: 0.095094\n",
      "RMSE: 4.07247\n",
      "\n",
      "Total iteration: 100\n",
      "Tolerance: 0.000349004\n",
      "Imputation MAPE: 0.095094\n",
      "Imputation RMSE: 4.07247\n",
      "\n",
      "Running time: 108 seconds\n"
     ]
    }
   ],
   "source": [
    "import time\n",
    "start = time.time()\n",
    "time_lags = np.array([1, 2, 3, 4, 5, 6, 142, 143, 144, 145, 146, 147])\n",
    "alpha = np.ones(3) / 3\n",
    "rho = 1e-4\n",
    "lambda0 = 1 * rho\n",
    "theta = 10\n",
    "epsilon = 1e-4\n",
    "maxiter = 100\n",
    "tensor_hat = imputer(dense_tensor, sparse_tensor, time_lags, alpha, rho, lambda0, theta, epsilon, maxiter)\n",
    "end = time.time()\n",
    "print('Running time: %d seconds'%(end - start))"
   ]
  },
  {
   "cell_type": "code",
   "execution_count": 16,
   "metadata": {},
   "outputs": [],
   "source": [
    "import scipy.io\n",
    "\n",
    "tensor = scipy.io.loadmat('../datasets/Guangzhou-data-set/tensor.mat')\n",
    "dense_tensor = tensor['tensor']\n",
    "random_matrix = scipy.io.loadmat('../datasets/Guangzhou-data-set/random_matrix.mat')\n",
    "random_matrix = random_matrix['random_matrix']\n",
    "\n",
    "missing_rate = 0.6\n",
    "\n",
    "### Non-random missing (NM) scenario:\n",
    "binary_tensor = np.zeros(dense_tensor.shape)\n",
    "for i1 in range(dense_tensor.shape[0]):\n",
    "    for i2 in range(dense_tensor.shape[1]):\n",
    "        binary_tensor[i1, i2, :] = np.round(random_matrix[i1, i2] + 0.5 - missing_rate)\n",
    "sparse_tensor = np.multiply(dense_tensor, binary_tensor)\n",
    "\n",
    "dense_tensor = np.transpose(dense_tensor, [0, 2, 1])\n",
    "sparse_tensor = np.transpose(sparse_tensor, [0, 2, 1])\n",
    "\n",
    "del tensor, random_matrix, binary_tensor"
   ]
  },
  {
   "cell_type": "code",
   "execution_count": 17,
   "metadata": {},
   "outputs": [
    {
     "name": "stdout",
     "output_type": "stream",
     "text": [
      "Total iteration: 98\n",
      "Tolerance: 9.94529e-05\n",
      "Imputation MAPE: 0.0992054\n",
      "Imputation RMSE: 4.24785\n",
      "\n",
      "Running time: 107 seconds\n"
     ]
    }
   ],
   "source": [
    "import time\n",
    "start = time.time()\n",
    "time_lags = np.array([1, 2, 3, 4, 5, 6, 142, 143, 144, 145, 146, 147])\n",
    "alpha = np.ones(3) / 3\n",
    "rho = 1e-4\n",
    "lambda0 = 1 * rho\n",
    "theta = 10\n",
    "epsilon = 1e-4\n",
    "maxiter = 100\n",
    "tensor_hat = imputer(dense_tensor, sparse_tensor, time_lags, alpha, rho, lambda0, theta, epsilon, maxiter)\n",
    "end = time.time()\n",
    "print('Running time: %d seconds'%(end - start))"
   ]
  },
  {
   "cell_type": "markdown",
   "metadata": {},
   "source": [
    "### PeMS data"
   ]
  },
  {
   "cell_type": "code",
   "execution_count": 18,
   "metadata": {},
   "outputs": [],
   "source": [
    "dense_mat = np.load('../datasets/PeMS-data-set/pems.npy')\n",
    "random_tensor = np.load('../datasets/PeMS-data-set/random_tensor.npy')\n",
    "\n",
    "missing_rate = 0.2\n",
    "\n",
    "### Random missing (RM) scenario:\n",
    "binary_tensor = np.round(random_tensor + 0.5 - missing_rate)\n",
    "sparse_mat = np.multiply(dense_mat, ten2mat(binary_tensor, 0))\n",
    "\n",
    "sparse_tensor = mat2ten(sparse_mat, np.array(binary_tensor.shape), 0)\n",
    "dense_tensor = mat2ten(dense_mat, np.array(binary_tensor.shape), 0)\n",
    "\n",
    "del dense_mat, random_tensor, binary_tensor"
   ]
  },
  {
   "cell_type": "code",
   "execution_count": 19,
   "metadata": {},
   "outputs": [
    {
     "name": "stdout",
     "output_type": "stream",
     "text": [
      "Iter: 100\n",
      "Tolerance: 0.000166927\n",
      "MAPE: 0.0296809\n",
      "RMSE: 2.14096\n",
      "\n",
      "Total iteration: 100\n",
      "Tolerance: 0.000166927\n",
      "Imputation MAPE: 0.0296809\n",
      "Imputation RMSE: 2.14096\n",
      "\n",
      "Running time: 182 seconds\n"
     ]
    }
   ],
   "source": [
    "import time\n",
    "start = time.time()\n",
    "time_lags = np.array([1, 2, 3, 4, 5, 6, 286, 287, 288, 289, 290, 291])\n",
    "alpha = np.ones(3) / 3\n",
    "rho = 1e-4\n",
    "lambda0 = 5 * rho\n",
    "theta = 15\n",
    "epsilon = 1e-4\n",
    "maxiter = 100\n",
    "tensor_hat = imputer(dense_tensor, sparse_tensor, time_lags, alpha, rho, lambda0, theta, epsilon, maxiter)\n",
    "end = time.time()\n",
    "print('Running time: %d seconds'%(end - start))"
   ]
  },
  {
   "cell_type": "code",
   "execution_count": 20,
   "metadata": {},
   "outputs": [],
   "source": [
    "dense_mat = np.load('../datasets/PeMS-data-set/pems.npy')\n",
    "random_tensor = np.load('../datasets/PeMS-data-set/random_tensor.npy')\n",
    "\n",
    "missing_rate = 0.4\n",
    "\n",
    "### Random missing (RM) scenario:\n",
    "binary_tensor = np.round(random_tensor + 0.5 - missing_rate)\n",
    "sparse_mat = np.multiply(dense_mat, ten2mat(binary_tensor, 0))\n",
    "\n",
    "sparse_tensor = mat2ten(sparse_mat, np.array(binary_tensor.shape), 0)\n",
    "dense_tensor = mat2ten(dense_mat, np.array(binary_tensor.shape), 0)\n",
    "\n",
    "del dense_mat, random_tensor, binary_tensor"
   ]
  },
  {
   "cell_type": "code",
   "execution_count": 21,
   "metadata": {},
   "outputs": [
    {
     "name": "stdout",
     "output_type": "stream",
     "text": [
      "Total iteration: 97\n",
      "Tolerance: 9.29503e-05\n",
      "Imputation MAPE: 0.0350057\n",
      "Imputation RMSE: 2.5372\n",
      "\n",
      "Running time: 183 seconds\n"
     ]
    }
   ],
   "source": [
    "import time\n",
    "start = time.time()\n",
    "time_lags = np.array([1, 2, 3, 4, 5, 6, 286, 287, 288, 289, 290, 291])\n",
    "alpha = np.ones(3) / 3\n",
    "rho = 1e-4\n",
    "lambda0 = 5 * rho\n",
    "theta = 15\n",
    "epsilon = 1e-4\n",
    "maxiter = 100\n",
    "tensor_hat = imputer(dense_tensor, sparse_tensor, time_lags, alpha, rho, lambda0, theta, epsilon, maxiter)\n",
    "end = time.time()\n",
    "print('Running time: %d seconds'%(end - start))"
   ]
  },
  {
   "cell_type": "code",
   "execution_count": 22,
   "metadata": {},
   "outputs": [],
   "source": [
    "dense_mat = np.load('../datasets/PeMS-data-set/pems.npy')\n",
    "random_tensor = np.load('../datasets/PeMS-data-set/random_tensor.npy')\n",
    "\n",
    "missing_rate = 0.6\n",
    "\n",
    "### Random missing (RM) scenario:\n",
    "binary_tensor = np.round(random_tensor + 0.5 - missing_rate)\n",
    "sparse_mat = np.multiply(dense_mat, ten2mat(binary_tensor, 0))\n",
    "\n",
    "sparse_tensor = mat2ten(sparse_mat, np.array(binary_tensor.shape), 0)\n",
    "dense_tensor = mat2ten(dense_mat, np.array(binary_tensor.shape), 0)\n",
    "\n",
    "del dense_mat, random_tensor, binary_tensor"
   ]
  },
  {
   "cell_type": "code",
   "execution_count": 23,
   "metadata": {},
   "outputs": [
    {
     "name": "stdout",
     "output_type": "stream",
     "text": [
      "Total iteration: 88\n",
      "Tolerance: 7.15694e-05\n",
      "Imputation MAPE: 0.0432256\n",
      "Imputation RMSE: 3.1274\n",
      "\n",
      "Running time: 174 seconds\n"
     ]
    }
   ],
   "source": [
    "import time\n",
    "start = time.time()\n",
    "time_lags = np.array([1, 2, 3, 4, 5, 6, 286, 287, 288, 289, 290, 291])\n",
    "alpha = np.ones(3) / 3\n",
    "rho = 1e-4\n",
    "lambda0 = 5 * rho\n",
    "theta = 15\n",
    "epsilon = 1e-4\n",
    "maxiter = 100\n",
    "tensor_hat = imputer(dense_tensor, sparse_tensor, time_lags, alpha, rho, lambda0, theta, epsilon, maxiter)\n",
    "end = time.time()\n",
    "print('Running time: %d seconds'%(end - start))"
   ]
  },
  {
   "cell_type": "code",
   "execution_count": 24,
   "metadata": {},
   "outputs": [],
   "source": [
    "dense_mat = np.load('../datasets/PeMS-data-set/pems.npy')\n",
    "random_matrix = np.load('../datasets/PeMS-data-set/random_matrix.npy')\n",
    "\n",
    "missing_rate = 0.2\n",
    "\n",
    "### Nonrandom missing (NM) scenario:\n",
    "binary_tensor = np.zeros((dense_mat.shape[0], 288, 44))\n",
    "for i1 in range(dense_mat.shape[0]):\n",
    "    for i2 in range(44):\n",
    "        binary_tensor[i1,:,i2] = np.round(random_matrix[i1,i2] + 0.5 - missing_rate)\n",
    "binary_mat = ten2mat(binary_tensor, 0)\n",
    "sparse_mat = np.multiply(dense_mat, binary_mat)\n",
    "\n",
    "sparse_tensor = mat2ten(sparse_mat, np.array(binary_tensor.shape), 0)\n",
    "dense_tensor = mat2ten(dense_mat, np.array(binary_tensor.shape), 0)\n",
    "\n",
    "del dense_mat, random_matrix, binary_tensor"
   ]
  },
  {
   "cell_type": "code",
   "execution_count": 25,
   "metadata": {},
   "outputs": [
    {
     "name": "stdout",
     "output_type": "stream",
     "text": [
      "Total iteration: 86\n",
      "Tolerance: 8.91413e-05\n",
      "Imputation MAPE: 0.073069\n",
      "Imputation RMSE: 5.14883\n",
      "\n",
      "Running time: 156 seconds\n"
     ]
    }
   ],
   "source": [
    "import time\n",
    "start = time.time()\n",
    "time_lags = np.array([1, 2, 3, 4, 5, 6, 286, 287, 288, 289, 290, 291])\n",
    "alpha = np.ones(3) / 3\n",
    "rho = 1e-4\n",
    "lambda0 = 1 * rho\n",
    "theta = 10\n",
    "epsilon = 1e-4\n",
    "maxiter = 100\n",
    "tensor_hat = imputer(dense_tensor, sparse_tensor, time_lags, alpha, rho, lambda0, theta, epsilon, maxiter)\n",
    "end = time.time()\n",
    "print('Running time: %d seconds'%(end - start))"
   ]
  },
  {
   "cell_type": "code",
   "execution_count": 26,
   "metadata": {},
   "outputs": [],
   "source": [
    "dense_mat = np.load('../datasets/PeMS-data-set/pems.npy')\n",
    "random_matrix = np.load('../datasets/PeMS-data-set/random_matrix.npy')\n",
    "\n",
    "missing_rate = 0.4\n",
    "\n",
    "### Nonrandom missing (NM) scenario:\n",
    "binary_tensor = np.zeros((dense_mat.shape[0], 288, 44))\n",
    "for i1 in range(dense_mat.shape[0]):\n",
    "    for i2 in range(44):\n",
    "        binary_tensor[i1,:,i2] = np.round(random_matrix[i1,i2] + 0.5 - missing_rate)\n",
    "binary_mat = ten2mat(binary_tensor, 0)\n",
    "sparse_mat = np.multiply(dense_mat, binary_mat)\n",
    "\n",
    "sparse_tensor = mat2ten(sparse_mat, np.array(binary_tensor.shape), 0)\n",
    "dense_tensor = mat2ten(dense_mat, np.array(binary_tensor.shape), 0)\n",
    "\n",
    "del dense_mat, random_matrix, binary_tensor"
   ]
  },
  {
   "cell_type": "code",
   "execution_count": 27,
   "metadata": {},
   "outputs": [
    {
     "name": "stdout",
     "output_type": "stream",
     "text": [
      "Total iteration: 77\n",
      "Tolerance: 7.96771e-05\n",
      "Imputation MAPE: 0.0778101\n",
      "Imputation RMSE: 5.46434\n",
      "\n",
      "Running time: 136 seconds\n"
     ]
    }
   ],
   "source": [
    "import time\n",
    "start = time.time()\n",
    "time_lags = np.array([1, 2, 3, 4, 5, 6, 286, 287, 288, 289, 290, 291])\n",
    "alpha = np.ones(3) / 3\n",
    "rho = 1e-4\n",
    "lambda0 = 1 * rho\n",
    "theta = 10\n",
    "epsilon = 1e-4\n",
    "maxiter = 100\n",
    "tensor_hat = imputer(dense_tensor, sparse_tensor, time_lags, alpha, rho, lambda0, theta, epsilon, maxiter)\n",
    "end = time.time()\n",
    "print('Running time: %d seconds'%(end - start))"
   ]
  },
  {
   "cell_type": "code",
   "execution_count": 28,
   "metadata": {},
   "outputs": [],
   "source": [
    "dense_mat = np.load('../datasets/PeMS-data-set/pems.npy')\n",
    "random_matrix = np.load('../datasets/PeMS-data-set/random_matrix.npy')\n",
    "\n",
    "missing_rate = 0.6\n",
    "\n",
    "### Nonrandom missing (NM) scenario:\n",
    "binary_tensor = np.zeros((dense_mat.shape[0], 288, 44))\n",
    "for i1 in range(dense_mat.shape[0]):\n",
    "    for i2 in range(44):\n",
    "        binary_tensor[i1,:,i2] = np.round(random_matrix[i1,i2] + 0.5 - missing_rate)\n",
    "binary_mat = ten2mat(binary_tensor, 0)\n",
    "sparse_mat = np.multiply(dense_mat, binary_mat)\n",
    "\n",
    "sparse_tensor = mat2ten(sparse_mat, np.array(binary_tensor.shape), 0)\n",
    "dense_tensor = mat2ten(dense_mat, np.array(binary_tensor.shape), 0)\n",
    "\n",
    "del dense_mat, random_matrix, binary_tensor"
   ]
  },
  {
   "cell_type": "code",
   "execution_count": 29,
   "metadata": {},
   "outputs": [
    {
     "name": "stdout",
     "output_type": "stream",
     "text": [
      "Total iteration: 78\n",
      "Tolerance: 9.73289e-05\n",
      "Imputation MAPE: 0.0862884\n",
      "Imputation RMSE: 5.97921\n",
      "\n",
      "Running time: 129 seconds\n"
     ]
    }
   ],
   "source": [
    "import time\n",
    "start = time.time()\n",
    "time_lags = np.array([1, 2, 3, 4, 5, 6, 286, 287, 288, 289, 290, 291])\n",
    "alpha = np.ones(3) / 3\n",
    "rho = 1e-4\n",
    "lambda0 = 1 * rho\n",
    "theta = 10\n",
    "epsilon = 1e-4\n",
    "maxiter = 100\n",
    "tensor_hat = imputer(dense_tensor, sparse_tensor, time_lags, alpha, rho, lambda0, theta, epsilon, maxiter)\n",
    "end = time.time()\n",
    "print('Running time: %d seconds'%(end - start))"
   ]
  },
  {
   "cell_type": "markdown",
   "metadata": {},
   "source": [
    "### Electricity data"
   ]
  },
  {
   "cell_type": "markdown",
   "metadata": {},
   "source": [
    "- **Random Missing (RM)**:"
   ]
  },
  {
   "cell_type": "code",
   "execution_count": 30,
   "metadata": {},
   "outputs": [],
   "source": [
    "dense_mat = np.load('../datasets/Electricity-data-set/electricity35.npy')\n",
    "random_tensor = np.load('../datasets/Electricity-data-set/random_tensor.npy')\n",
    "\n",
    "missing_rate = 0.2\n",
    "\n",
    "### Random missing (RM) scenario:\n",
    "binary_tensor = np.round(random_tensor + 0.5 - missing_rate)\n",
    "sparse_mat = np.multiply(dense_mat, ten2mat(binary_tensor, 0))\n",
    "\n",
    "sparse_tensor = mat2ten(sparse_mat, np.array(binary_tensor.shape), 0)\n",
    "dense_tensor = mat2ten(dense_mat, np.array(binary_tensor.shape), 0)\n",
    "\n",
    "del dense_mat, random_tensor, binary_tensor"
   ]
  },
  {
   "cell_type": "code",
   "execution_count": 31,
   "metadata": {},
   "outputs": [
    {
     "name": "stdout",
     "output_type": "stream",
     "text": [
      "Total iteration: 65\n",
      "Tolerance: 9.86947e-05\n",
      "Imputation MAPE: 0.0979778\n",
      "Imputation RMSE: 529.818\n",
      "\n",
      "Running time: 11 seconds\n"
     ]
    }
   ],
   "source": [
    "import time\n",
    "start = time.time()\n",
    "time_lags = np.array([1, 2, 3, 4, 5, 6, 22, 23, 24, 25, 26, 27])\n",
    "alpha = np.ones(3) / 3\n",
    "rho = 1e-6\n",
    "lambda0 = 5 * rho\n",
    "theta = 1\n",
    "epsilon = 1e-4\n",
    "maxiter = 100\n",
    "tensor_hat = imputer(dense_tensor, sparse_tensor, time_lags, alpha, rho, lambda0, theta, epsilon, maxiter)\n",
    "end = time.time()\n",
    "print('Running time: %d seconds'%(end - start))"
   ]
  },
  {
   "cell_type": "code",
   "execution_count": 32,
   "metadata": {},
   "outputs": [],
   "source": [
    "dense_mat = np.load('../datasets/Electricity-data-set/electricity35.npy')\n",
    "random_tensor = np.load('../datasets/Electricity-data-set/random_tensor.npy')\n",
    "\n",
    "missing_rate = 0.4\n",
    "\n",
    "### Random missing (RM) scenario:\n",
    "binary_tensor = np.round(random_tensor + 0.5 - missing_rate)\n",
    "sparse_mat = np.multiply(dense_mat, ten2mat(binary_tensor, 0))\n",
    "\n",
    "sparse_tensor = mat2ten(sparse_mat, np.array(binary_tensor.shape), 0)\n",
    "dense_tensor = mat2ten(dense_mat, np.array(binary_tensor.shape), 0)\n",
    "\n",
    "del dense_mat, random_tensor, binary_tensor"
   ]
  },
  {
   "cell_type": "code",
   "execution_count": 33,
   "metadata": {},
   "outputs": [
    {
     "name": "stdout",
     "output_type": "stream",
     "text": [
      "Total iteration: 70\n",
      "Tolerance: 9.60873e-05\n",
      "Imputation MAPE: 0.106765\n",
      "Imputation RMSE: 733.626\n",
      "\n",
      "Running time: 12 seconds\n"
     ]
    }
   ],
   "source": [
    "import time\n",
    "start = time.time()\n",
    "time_lags = np.array([1, 2, 3, 4, 5, 6, 22, 23, 24, 25, 26, 27])\n",
    "alpha = np.ones(3) / 3\n",
    "rho = 1e-6\n",
    "lambda0 = 5 * rho\n",
    "theta = 1\n",
    "epsilon = 1e-4\n",
    "maxiter = 100\n",
    "tensor_hat = imputer(dense_tensor, sparse_tensor, time_lags, alpha, rho, lambda0, theta, epsilon, maxiter)\n",
    "end = time.time()\n",
    "print('Running time: %d seconds'%(end - start))"
   ]
  },
  {
   "cell_type": "code",
   "execution_count": 34,
   "metadata": {},
   "outputs": [],
   "source": [
    "dense_mat = np.load('../datasets/Electricity-data-set/electricity35.npy')\n",
    "random_tensor = np.load('../datasets/Electricity-data-set/random_tensor.npy')\n",
    "\n",
    "missing_rate = 0.6\n",
    "\n",
    "### Random missing (RM) scenario:\n",
    "binary_tensor = np.round(random_tensor + 0.5 - missing_rate)\n",
    "sparse_mat = np.multiply(dense_mat, ten2mat(binary_tensor, 0))\n",
    "\n",
    "sparse_tensor = mat2ten(sparse_mat, np.array(binary_tensor.shape), 0)\n",
    "dense_tensor = mat2ten(dense_mat, np.array(binary_tensor.shape), 0)\n",
    "\n",
    "del dense_mat, random_tensor, binary_tensor"
   ]
  },
  {
   "cell_type": "code",
   "execution_count": 35,
   "metadata": {},
   "outputs": [
    {
     "name": "stdout",
     "output_type": "stream",
     "text": [
      "Total iteration: 77\n",
      "Tolerance: 9.81571e-05\n",
      "Imputation MAPE: 0.124384\n",
      "Imputation RMSE: 823.718\n",
      "\n",
      "Running time: 12 seconds\n"
     ]
    }
   ],
   "source": [
    "import time\n",
    "start = time.time()\n",
    "time_lags = np.array([1, 2, 3, 4, 5, 6, 22, 23, 24, 25, 26, 27])\n",
    "alpha = np.ones(3) / 3\n",
    "rho = 1e-6\n",
    "lambda0 = 5 * rho\n",
    "theta = 1\n",
    "epsilon = 1e-4\n",
    "maxiter = 100\n",
    "tensor_hat = imputer(dense_tensor, sparse_tensor, time_lags, alpha, rho, lambda0, theta, epsilon, maxiter)\n",
    "end = time.time()\n",
    "print('Running time: %d seconds'%(end - start))"
   ]
  },
  {
   "cell_type": "markdown",
   "metadata": {},
   "source": [
    "- **Nonrandom Missing (NM)**:"
   ]
  },
  {
   "cell_type": "code",
   "execution_count": 36,
   "metadata": {},
   "outputs": [],
   "source": [
    "dense_mat = np.load('../datasets/Electricity-data-set/electricity35.npy')\n",
    "random_matrix = np.load('../datasets/Electricity-data-set/random_matrix.npy')\n",
    "\n",
    "missing_rate = 0.2\n",
    "\n",
    "### Nonrandom missing (NM) scenario:\n",
    "binary_tensor = np.zeros((dense_mat.shape[0], 24, 35))\n",
    "for i1 in range(dense_mat.shape[0]):\n",
    "    for i2 in range(35):\n",
    "        binary_tensor[i1,:,i2] = np.round(random_matrix[i1,i2] + 0.5 - missing_rate)\n",
    "binary_mat = ten2mat(binary_tensor, 0)\n",
    "sparse_mat = np.multiply(dense_mat, binary_mat)\n",
    "\n",
    "sparse_tensor = mat2ten(sparse_mat, np.array(binary_tensor.shape), 0)\n",
    "dense_tensor = mat2ten(dense_mat, np.array(binary_tensor.shape), 0)\n",
    "\n",
    "del dense_mat, random_matrix, binary_tensor"
   ]
  },
  {
   "cell_type": "code",
   "execution_count": 37,
   "metadata": {},
   "outputs": [
    {
     "name": "stdout",
     "output_type": "stream",
     "text": [
      "Total iteration: 67\n",
      "Tolerance: 9.16245e-05\n",
      "Imputation MAPE: 0.165755\n",
      "Imputation RMSE: 652.177\n",
      "\n",
      "Running time: 10 seconds\n"
     ]
    }
   ],
   "source": [
    "import time\n",
    "start = time.time()\n",
    "time_lags = np.array([1, 2, 3, 4, 5, 6, 22, 23, 24, 25, 26, 27])\n",
    "alpha = np.ones(3) / 3\n",
    "rho = 1e-6\n",
    "lambda0 = 5 * rho\n",
    "theta = 1\n",
    "epsilon = 1e-4\n",
    "maxiter = 100\n",
    "tensor_hat = imputer(dense_tensor, sparse_tensor, time_lags, alpha, rho, lambda0, theta, epsilon, maxiter)\n",
    "end = time.time()\n",
    "print('Running time: %d seconds'%(end - start))"
   ]
  },
  {
   "cell_type": "code",
   "execution_count": 38,
   "metadata": {},
   "outputs": [],
   "source": [
    "dense_mat = np.load('../datasets/Electricity-data-set/electricity35.npy')\n",
    "random_matrix = np.load('../datasets/Electricity-data-set/random_matrix.npy')\n",
    "\n",
    "missing_rate = 0.4\n",
    "\n",
    "### Nonrandom missing (NM) scenario:\n",
    "binary_tensor = np.zeros((dense_mat.shape[0], 24, 35))\n",
    "for i1 in range(dense_mat.shape[0]):\n",
    "    for i2 in range(35):\n",
    "        binary_tensor[i1,:,i2] = np.round(random_matrix[i1,i2] + 0.5 - missing_rate)\n",
    "binary_mat = ten2mat(binary_tensor, 0)\n",
    "sparse_mat = np.multiply(dense_mat, binary_mat)\n",
    "\n",
    "sparse_tensor = mat2ten(sparse_mat, np.array(binary_tensor.shape), 0)\n",
    "dense_tensor = mat2ten(dense_mat, np.array(binary_tensor.shape), 0)\n",
    "\n",
    "del dense_mat, random_matrix, binary_tensor"
   ]
  },
  {
   "cell_type": "code",
   "execution_count": 39,
   "metadata": {},
   "outputs": [
    {
     "name": "stdout",
     "output_type": "stream",
     "text": [
      "Total iteration: 76\n",
      "Tolerance: 9.65526e-05\n",
      "Imputation MAPE: 0.154994\n",
      "Imputation RMSE: 1026.03\n",
      "\n",
      "Running time: 12 seconds\n"
     ]
    }
   ],
   "source": [
    "import time\n",
    "start = time.time()\n",
    "time_lags = np.array([1, 2, 3, 4, 5, 6, 22, 23, 24, 25, 26, 27])\n",
    "alpha = np.ones(3) / 3\n",
    "rho = 1e-6\n",
    "lambda0 = 5 * rho\n",
    "theta = 1\n",
    "epsilon = 1e-4\n",
    "maxiter = 100\n",
    "tensor_hat = imputer(dense_tensor, sparse_tensor, time_lags, alpha, rho, lambda0, theta, epsilon, maxiter)\n",
    "end = time.time()\n",
    "print('Running time: %d seconds'%(end - start))"
   ]
  },
  {
   "cell_type": "code",
   "execution_count": 1,
   "metadata": {},
   "outputs": [
    {
     "ename": "NameError",
     "evalue": "name 'np' is not defined",
     "output_type": "error",
     "traceback": [
      "\u001b[0;31m---------------------------------------------------------------------------\u001b[0m",
      "\u001b[0;31mNameError\u001b[0m                                 Traceback (most recent call last)",
      "Cell \u001b[0;32mIn[1], line 1\u001b[0m\n\u001b[0;32m----> 1\u001b[0m dense_mat \u001b[38;5;241m=\u001b[39m \u001b[43mnp\u001b[49m\u001b[38;5;241m.\u001b[39mload(\u001b[38;5;124m'\u001b[39m\u001b[38;5;124m../datasets/Electricity-data-set/electricity35.npy\u001b[39m\u001b[38;5;124m'\u001b[39m)\n\u001b[1;32m      2\u001b[0m random_matrix \u001b[38;5;241m=\u001b[39m np\u001b[38;5;241m.\u001b[39mload(\u001b[38;5;124m'\u001b[39m\u001b[38;5;124m../datasets/Electricity-data-set/random_matrix.npy\u001b[39m\u001b[38;5;124m'\u001b[39m)\n\u001b[1;32m      4\u001b[0m missing_rate \u001b[38;5;241m=\u001b[39m \u001b[38;5;241m0.6\u001b[39m\n",
      "\u001b[0;31mNameError\u001b[0m: name 'np' is not defined"
     ]
    }
   ],
   "source": [
    "dense_mat = np.load('../datasets/Electricity-data-set/electricity35.npy')\n",
    "random_matrix = np.load('../datasets/Electricity-data-set/random_matrix.npy')\n",
    "\n",
    "missing_rate = 0.6\n",
    "\n",
    "### Nonrandom missing (NM) scenario:\n",
    "binary_tensor = np.zeros((dense_mat.shape[0], 24, 35))\n",
    "for i1 in range(dense_mat.shape[0]):\n",
    "    for i2 in range(35):\n",
    "        binary_tensor[i1,:,i2] = np.round(random_matrix[i1,i2] + 0.5 - missing_rate)\n",
    "binary_mat = ten2mat(binary_tensor, 0)\n",
    "sparse_mat = np.multiply(dense_mat, binary_mat)\n",
    "\n",
    "sparse_tensor = mat2ten(sparse_mat, np.array(binary_tensor.shape), 0)\n",
    "dense_tensor = mat2ten(dense_mat, np.array(binary_tensor.shape), 0)\n",
    "\n",
    "del dense_mat, random_matrix, binary_tensor"
   ]
  },
  {
   "cell_type": "code",
   "execution_count": 41,
   "metadata": {},
   "outputs": [
    {
     "name": "stdout",
     "output_type": "stream",
     "text": [
      "Iter: 100\n",
      "Tolerance: 0.000486948\n",
      "MAPE: 0.170339\n",
      "RMSE: 3514.81\n",
      "\n",
      "Total iteration: 100\n",
      "Tolerance: 0.000486948\n",
      "Imputation MAPE: 0.170339\n",
      "Imputation RMSE: 3514.81\n",
      "\n",
      "Running time: 16 seconds\n"
     ]
    }
   ],
   "source": [
    "import time\n",
    "start = time.time()\n",
    "time_lags = np.array([1, 2, 3, 4, 5, 6, 22, 23, 24, 25, 26, 27])\n",
    "alpha = np.ones(3) / 3\n",
    "rho = 1e-6\n",
    "lambda0 = 5 * rho\n",
    "theta = 1\n",
    "epsilon = 1e-4\n",
    "maxiter = 100\n",
    "tensor_hat = imputer(dense_tensor, sparse_tensor, time_lags, alpha, rho, lambda0, theta, epsilon, maxiter)\n",
    "end = time.time()\n",
    "print('Running time: %d seconds'%(end - start))"
   ]
  },
  {
   "cell_type": "code",
   "execution_count": 4,
   "metadata": {},
   "outputs": [
    {
     "data": {
      "text/plain": [
       "(4000, 2)"
      ]
     },
     "execution_count": 4,
     "metadata": {},
     "output_type": "execute_result"
    }
   ],
   "source": [
    "ys.shape"
   ]
  },
  {
   "cell_type": "code",
   "execution_count": 5,
   "metadata": {},
   "outputs": [
    {
     "data": {
      "text/plain": [
       "array([[-0.28441689, -0.39755546,  0.7791499 , -1.47905634,  0.32195403],\n",
       "       [ 0.34529065, -1.16859334,  0.26769084,  0.5545709 ,  1.21340986],\n",
       "       [-0.0488086 , -1.14828142,  0.22287038,  1.33428377, -1.61020854],\n",
       "       [-1.06358787,  0.48486928,  0.05289515, -2.19737312,  1.13775931],\n",
       "       [-0.95637732,  0.90740697, -2.65038704,  1.39618396,  0.60128418],\n",
       "       [ 2.13809597, -0.39683194,  0.31697589, -0.66890644,  0.19677426],\n",
       "       [ 0.02447134, -2.32913903, -0.71533849, -0.29758715,  1.47756378],\n",
       "       [ 0.46273214,  0.78264201, -0.62078796,  0.94368631,  1.33568035],\n",
       "       [-2.52726986,  0.22340297,  0.96389869,  0.14029278,  0.20956225],\n",
       "       [ 1.02999454, -0.26099978,  0.13365325,  1.98057996, -0.38199202]])"
      ]
     },
     "execution_count": 5,
     "metadata": {},
     "output_type": "execute_result"
    }
   ],
   "source": [
    "import numpy as np\n",
    "np.random.normal(size=(10,5))"
   ]
  },
  {
   "cell_type": "code",
   "execution_count": null,
   "metadata": {},
   "outputs": [
    {
     "name": "stderr",
     "output_type": "stream",
     "text": [
      "Traceback (most recent call last):\n",
      "capi_return is NULL\n",
      "Call-back cb_f_in_dvode__user__routines failed.\n",
      "Fatal Python error: F2PySwapThreadLocalCallbackPtr: F2PySwapThreadLocalCallbackPtr: PyLong_AsVoidPtr failed\n",
      "Python runtime state: initialized\n",
      "  File \"/Users/zoeshleifer/miniconda3/lib/python3.10/site-packages/ddeint/ddeint.py\", line 60, in f2\n",
      "    return f(self.Y, t, *args)\n",
      "  File \"/var/folders/g6/dvksyd2x2vzgtx4pt5g71bzh0000gn/T/ipykernel_62099/404143289.py\", line 9, in equation\n",
      "ValueError: too many values to unpack (expected 2)\n",
      "\n",
      "Extension modules: zmq.backend.cython.context, zmq.backend.cython.message, zmq.backend.cython.socket, zmq.backend.cython._device, zmq.backend.cython._poll, zmq.backend.cython._proxy_steerable, zmq.backend.cython._version, zmq.backend.cython.error, zmq.backend.cython.utils, tornado.speedups, psutil._psutil_osx, psutil._psutil_posix, numpy.core._multiarray_umath, numpy.core._multiarray_tests, numpy.linalg._umath_linalg, numpy.fft._pocketfft_internal, numpy.random._common, numpy.random.bit_generator, numpy.random._bounded_integers, numpy.random._mt19937, numpy.random.mtrand, numpy.random._philox, numpy.random._pcg64, numpy.random._sfc64, numpy.random._generator, matplotlib._c_internal_utils, PIL._imaging, matplotlib._path, kiwisolver._cext, matplotlib._image, scipy._lib._ccallback_c, scipy.special._ufuncs_cxx, scipy.special._ufuncs, scipy.special._specfun, scipy.special._comb, scipy.linalg._fblas, scipy.linalg._flapack, scipy.linalg._cythonized_array_utils, scipy.linalg._flinalg, scipy.linalg._solve_toeplit"
     ]
    }
   ],
   "source": [
    "\n",
    "import numpy as np\n",
    "import matplotlib.pyplot as plt\n",
    "from ddeint import ddeint\n",
    "\n",
    "coeffs = np.random.random(size=(10,5))\n",
    "coeffs1 = coeffs[:,:5]\n",
    "coeffs2 = coeffs[:,5:]\n",
    "def equation(Y, t):\n",
    "    y,dydt = Y(t-5)\n",
    "    ydelay, dydt_delay =Y(t-5)[0], Y(t-5)[1]\n",
    "    return [dydt, -dydt - (2 * coeffs1@y) - (0.5 * coeffs2@ydelay)]\n",
    "\n",
    "def initial_history_func(t):\n",
    "    return np.random.normal(size=(5))\n",
    "\n",
    "plt.rcParams['font.size'] = 8\n",
    "fig, axs = plt.subplots(1, 1)\n",
    "fig.tight_layout(rect=[0, 0, 1, 0.95], pad=3.0)\n",
    "fig.suptitle(\"$y''(t)=-y'(t) - 2 y(t) - 0.5 y(t-1)$ solved by ddeint\")\n",
    "\n",
    "ts = np.linspace(0, 16, 4000)\n",
    "\n",
    "ys = ddeint(equation, initial_history_func, ts)\n",
    "\n",
    "axs.plot(ts, ys[:,0], color='red', linewidth=1)\n",
    "axs.plot(ts, ys[:,1], color='green', linewidth=1)\n",
    "axs.set_title('$ihf_y(t)=1; ihf_{dy/dt}(t)=0$')\n",
    "\n",
    "plt.show()"
   ]
  },
  {
   "cell_type": "code",
   "execution_count": 10,
   "metadata": {},
   "outputs": [
    {
     "data": {
      "text/plain": [
       "(10,)"
      ]
     },
     "execution_count": 10,
     "metadata": {},
     "output_type": "execute_result"
    }
   ],
   "source": [
    "np.arange(0,2,.2).shape"
   ]
  },
  {
   "cell_type": "code",
   "execution_count": 28,
   "metadata": {},
   "outputs": [
    {
     "name": "stderr",
     "output_type": "stream",
     "text": [
      "/var/folders/g6/dvksyd2x2vzgtx4pt5g71bzh0000gn/T/ipykernel_58776/2920577733.py:4: RuntimeWarning: overflow encountered in double_scalars\n",
      "  y = np.append(y, y[-1]-5*(pow(y[-1]-y[-2],2))+[-8]+np.random.normal(scale = .2))\n"
     ]
    }
   ],
   "source": [
    "hist = np.arange(0,2,.2)+np.random.normal(10,scale = .1)\n",
    "y = np.cos(hist.copy())\n",
    "for i in range(10):\n",
    "    y = np.append(y, y[-1]-5*(pow(y[-1]-y[-2],2))+[-8]+np.random.normal(scale = .2))"
   ]
  },
  {
   "cell_type": "code",
   "execution_count": 27,
   "metadata": {},
   "outputs": [
    {
     "data": {
      "text/plain": [
       "[<matplotlib.lines.Line2D at 0x124823370>]"
      ]
     },
     "execution_count": 27,
     "metadata": {},
     "output_type": "execute_result"
    },
    {
     "data": {
      "image/png": "[encoded data removed]",
      "text/plain": [
       "<Figure size 640x480 with 1 Axes>"
      ]
     },
     "metadata": {},
     "output_type": "display_data"
    }
   ],
   "source": [
    "plt.plot(y)"
   ]
  },
  {
   "cell_type": "markdown",
   "metadata": {},
   "source": [
    "### License\n",
    "\n",
    "<div class=\"alert alert-block alert-danger\">\n",
    "<b>This work is released under the MIT license.</b>\n",
    "</div>"
   ]
  }
 ],
 "metadata": {
  "kernelspec": {
   "display_name": "Python 3 (ipykernel)",
   "language": "python",
   "name": "python3"
  },
  "language_info": {
   "codemirror_mode": {
    "name": "ipython",
    "version": 3
   },
   "file_extension": ".py",
   "mimetype": "text/x-python",
   "name": "python",
   "nbconvert_exporter": "python",
   "pygments_lexer": "ipython3",
   "version": "3.10.9"
  }
 },
 "nbformat": 4,
 "nbformat_minor": 2
}
