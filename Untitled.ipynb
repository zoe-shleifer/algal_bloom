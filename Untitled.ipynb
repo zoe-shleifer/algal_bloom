{
 "cells": [
  {
   "cell_type": "code",
   "execution_count": null,
   "id": "14e84e19",
   "metadata": {},
   "outputs": [],
   "source": [
    "from tqdm import tqdm\n",
    "import numpy as np\n",
    "from requests import get\n",
    "import pandas as pd\n",
    "import seaborn as sns\n",
    "import matplotlib.pyplot as plt\n",
    "from typing import List, Dict\n",
    "from pprint import pprint as pp\n",
    "import datetime\n",
    "def meta_url(datasetID: str,flavor: str = 'json') -> Dict: \n",
    "    meta_url: str = f\"http://www.neracoos.org/erddap/info/{datasetID}/index.{flavor}\"\n",
    "    return get(meta_url).json() \n",
    "def data_url(datasetID: str, flavor: str = 'json') -> Dict:\n",
    "    data_url: str = f\"http://www.neracoos.org/erddap/tabledap/{datasetID}.{flavor}\"\n",
    "    return get(data_url).json() \n",
    "GOM_IDS = [\"A01\", \"B01\", \"C02\"]\n",
    "def make_df(set_name,from_url=True):\n",
    "    set_name = data_url(set_name)\n",
    "    response = set_name['table']\n",
    "    #print(response['columnNames'])\n",
    "    new_df = pd.DataFrame(response['rows'], columns = response['columnNames'])\n",
    "    new_df['time'] = pd.to_datetime(new_df['time'])\n",
    "    new_df = new_df.set_index('time')\n",
    "    return new_df[new_df.columns[~new_df.columns.str.contains('_qc')]]"
   ]
  },
  {
   "cell_type": "code",
   "execution_count": null,
   "id": "ab3d7d68",
   "metadata": {},
   "outputs": [],
   "source": [
    "import pickle\n",
    "df = make_df('A01_optics_s_all')\n",
    "print(1)\n",
    "sal_df = make_df('A01_sbe16_disox_all')\n",
    "print(1)\n",
    "df.drop(['station','mooring_site_desc', 'longitude', 'latitude', 'depth'], axis=1,inplace=True)\n",
    "sal_df.drop(['station','mooring_site_desc', 'longitude', 'latitude', 'depth'], axis=1,inplace=True)\n",
    "# def fix_index(dff, col):\n",
    "#     x = 0\n",
    "#     dups = []\n",
    "#     notna = []\n",
    "#     new_col = []\n",
    "#     new_df = pd.DataFrame(columns = dff.columns, index = list(set(dff.index)))\n",
    "#     new_df = new_df.loc[new_df.index.sort_values()]\n",
    "#     for i in new_df.index:\n",
    "#         if dff[col].loc[i].index.name == 'time':\n",
    "#             val = dff[col].loc[i].values[0]\n",
    "#         else:\n",
    "#             val = dff[col].loc[i].values\n",
    "#         if not np.isnan(val).any():\n",
    "#             notna.append(i)\n",
    "#         new_col.append(val)\n",
    "#     return new_col\n",
    "def fix_index(dff):\n",
    "    return dff.drop(dff.loc[dff.index.duplicated()].index)\n",
    "x = list(set([i for i in sal_df.index if i in df.index]))\n",
    "y = [i for i in sal_df.index if i in x]\n",
    "new_df = new_df.loc[y]\n",
    "last = [[i] for i in df.iloc[-1].values]\n",
    "last = {k:v for k in df.columns for v in last}\n",
    "last = pd.DataFrame(last,columns=df.columns, index=[pd.to_datetime('2022-03-23 09:00:00+0000')])\n",
    "dff = df.drop(df.loc[df.index.duplicated()].index)\n",
    "dff = pd.concat([fix_index(dff),last],axis=0,join='outer')\n",
    "new_df[['turbidity','chlorophyll']]=dff.loc[[i for i in y if i in dff.index]].values\n",
    "new_df[sal_df.columns] = sal_df\n",
    "file = open(\"A01_new.pkl\", \"wb\")\n",
    "pickle.dump(new_df, file)"
   ]
  },
  {
   "cell_type": "code",
   "execution_count": null,
   "id": "7d1a2adf",
   "metadata": {},
   "outputs": [],
   "source": []
  },
  {
   "cell_type": "code",
   "execution_count": null,
   "id": "d2517e54",
   "metadata": {},
   "outputs": [],
   "source": []
  },
  {
   "cell_type": "code",
   "execution_count": null,
   "id": "7cf8fdab",
   "metadata": {},
   "outputs": [],
   "source": [
    "bad_cols = ['station','mooring_site_desc', 'longitude', 'latitude', 'water_depth','time_created','time_modified','depth']"
   ]
  },
  {
   "cell_type": "code",
   "execution_count": null,
   "id": "3a75bf40",
   "metadata": {},
   "outputs": [],
   "source": [
    "int2time = {i:str(cup[i])[:16] for i in range(len(cup))}\n",
    "time2int = {str(v)[:16]: k for k, v in int2time.items()}"
   ]
  },
  {
   "cell_type": "code",
   "execution_count": null,
   "id": "e5f434a1",
   "metadata": {},
   "outputs": [],
   "source": [
    "time2int"
   ]
  },
  {
   "cell_type": "code",
   "execution_count": null,
   "id": "50a1d2b7",
   "metadata": {},
   "outputs": [],
   "source": [
    "l = make_df('E05_optics_all').drop(bad_cols,axis=1)\n",
    "lmet = make_df('E05_met_all').drop(bad_cols,axis=1)\n",
    "m = make_df('C05_optics_all').drop(bad_cols,axis=1)\n",
    "mmet = make_df('C05_met_all').drop(bad_cols,axis=1)\n",
    "cup = [i for i in m.index if i in l.index]\n",
    "cup = [i for i in l.index if i in cup]\n",
    "icup = [time2int[str(i)[:16]] for i in cup]\n",
    "ldf = fix_df(l).join(fix_df(lmet))\n",
    "mdf = fix_df(m).join(fix_df(mmet))\n",
    "mdf = mdf.loc[[i for i in mdf.index if i in ldf.index]]\n",
    "ldf = ldf.loc[[i for i in ldf.index if i in mdf.index]]"
   ]
  },
  {
   "cell_type": "code",
   "execution_count": null,
   "id": "d289d228",
   "metadata": {},
   "outputs": [],
   "source": [
    "ldf.loc[mdf.index]"
   ]
  },
  {
   "cell_type": "code",
   "execution_count": null,
   "id": "b42a9741",
   "metadata": {},
   "outputs": [],
   "source": [
    "int2time[3594]"
   ]
  },
  {
   "cell_type": "code",
   "execution_count": null,
   "id": "5a4deb4d",
   "metadata": {},
   "outputs": [],
   "source": [
    "file = open(\"dfs.pickle\", \"wb\")\n",
    "pickle.dump([ldf,mdf], file)"
   ]
  },
  {
   "cell_type": "code",
   "execution_count": null,
   "id": "65d079c8",
   "metadata": {},
   "outputs": [],
   "source": [
    "ldf['index'] = [time2int[i] for i in ldf.index]"
   ]
  },
  {
   "cell_type": "code",
   "execution_count": null,
   "id": "ec0e21ff",
   "metadata": {},
   "outputs": [],
   "source": [
    "[str(i) for i in cup]"
   ]
  },
  {
   "cell_type": "code",
   "execution_count": null,
   "id": "b532eac4",
   "metadata": {},
   "outputs": [],
   "source": [
    "s = '2015-10-15 15:20:00+0000'\n",
    "s[:16]"
   ]
  },
  {
   "cell_type": "code",
   "execution_count": null,
   "id": "5c7fefeb",
   "metadata": {},
   "outputs": [],
   "source": [
    "\n",
    "def fix_df(df):\n",
    "    df = df.loc[cup]\n",
    "    df['index'] = [time2int[str(i)[:16]] for i in df.index]\n",
    "    df = df.set_index('index')\n",
    "    df = df.loc[icup].drop_duplicates(keep='first')\n",
    "    return df"
   ]
  },
  {
   "cell_type": "code",
   "execution_count": null,
   "id": "d6cde3ad",
   "metadata": {},
   "outputs": [],
   "source": [
    "lmet.loc[cup]"
   ]
  },
  {
   "cell_type": "code",
   "execution_count": null,
   "id": "a80fe227",
   "metadata": {},
   "outputs": [],
   "source": [
    "cup = [i for i in m.index if i in l.index]\n"
   ]
  },
  {
   "cell_type": "code",
   "execution_count": null,
   "id": "999dbee5",
   "metadata": {},
   "outputs": [],
   "source": [
    "mdf.join(mmet).loc[ldf.join(lmet).index]"
   ]
  },
  {
   "cell_type": "code",
   "execution_count": null,
   "id": "7b78dbbc",
   "metadata": {},
   "outputs": [],
   "source": [
    "md"
   ]
  },
  {
   "cell_type": "code",
   "execution_count": null,
   "id": "c41bab65",
   "metadata": {},
   "outputs": [],
   "source": [
    "dumb_cols = ['station','mooring_site_desc','offset_time','time_created','time_modified','longitude','latitude','depth']\n",
    "make_df('CINAR_DSG_ME198_sbe37').drop(dumb_cols,axis=1)"
   ]
  },
  {
   "cell_type": "code",
   "execution_count": null,
   "id": "75bf4eb1",
   "metadata": {},
   "outputs": [],
   "source": [
    "new_df.isna().sum()"
   ]
  },
  {
   "cell_type": "code",
   "execution_count": null,
   "id": "34988a0c",
   "metadata": {},
   "outputs": [],
   "source": [
    "pd.concat([fix_index(dff),last],axis=0,join='outer').loc[last.index]"
   ]
  },
  {
   "cell_type": "code",
   "execution_count": null,
   "id": "2c871d91",
   "metadata": {},
   "outputs": [],
   "source": [
    "df.columns"
   ]
  },
  {
   "cell_type": "code",
   "execution_count": null,
   "id": "f38ad950",
   "metadata": {},
   "outputs": [],
   "source": []
  },
  {
   "cell_type": "code",
   "execution_count": null,
   "id": "fdc2b3f1",
   "metadata": {},
   "outputs": [],
   "source": [
    "last"
   ]
  },
  {
   "cell_type": "code",
   "execution_count": null,
   "id": "6d224823",
   "metadata": {},
   "outputs": [],
   "source": [
    "dff = df.copy()\n",
    "['2022-03-23 09:00:00+0000']"
   ]
  },
  {
   "cell_type": "code",
   "execution_count": null,
   "id": "9ca13876",
   "metadata": {},
   "outputs": [],
   "source": [
    "len(list(df.index.duplicated()[:-1]+[False, False]))"
   ]
  },
  {
   "cell_type": "code",
   "execution_count": null,
   "id": "736b08be",
   "metadata": {},
   "outputs": [],
   "source": [
    "len(dff.drop(dff.loc[dff.index.duplicated()[:-1]].index))"
   ]
  },
  {
   "cell_type": "code",
   "execution_count": null,
   "id": "5a28bd49",
   "metadata": {},
   "outputs": [],
   "source": [
    "dff.loc[dff.index.duplicated()]"
   ]
  },
  {
   "cell_type": "code",
   "execution_count": null,
   "id": "437ec20e",
   "metadata": {},
   "outputs": [],
   "source": [
    "[i for i in sal_df.index if i not in df.index]"
   ]
  },
  {
   "cell_type": "code",
   "execution_count": null,
   "id": "844b61e3",
   "metadata": {},
   "outputs": [],
   "source": [
    "dff = make_df('A01_optics_s_all')\n",
    "dff.drop(['station','mooring_site_desc', 'longitude', 'latitude', 'depth'], axis=1,inplace=True)\n",
    "col = dff.columns"
   ]
  },
  {
   "cell_type": "code",
   "execution_count": null,
   "id": "7ec3586d",
   "metadata": {},
   "outputs": [],
   "source": [
    "x = 0\n",
    "dups = []\n",
    "notna = []\n",
    "new_col = []\n",
    "new_df = pd.DataFrame(columns = dff.columns, index = list(set(dff.index)))\n",
    "new_df = new_df.loc[new_df.index.sort_values()]\n",
    "# for i in new_df.index:\n",
    "#     if dff[col].loc[i].index.name == 'time':\n",
    "#         val = dff[col].loc[i].values[0]\n",
    "#     else:\n",
    "#         val = dff[col].loc[i].values\n",
    "#     if not np.isnan(val).any():\n",
    "#         notna.append(i)\n",
    "#     new_col.append(val)"
   ]
  },
  {
   "cell_type": "code",
   "execution_count": null,
   "id": "057905c8",
   "metadata": {},
   "outputs": [],
   "source": []
  },
  {
   "cell_type": "code",
   "execution_count": null,
   "id": "2c35f125",
   "metadata": {},
   "outputs": [],
   "source": []
  },
  {
   "cell_type": "code",
   "execution_count": null,
   "id": "a30980b6",
   "metadata": {},
   "outputs": [],
   "source": [
    "sal_names = ['dissolved_oxygen', 'oxygen_saturation',\n",
    "       'percent_oxygen_saturation', 'conductivity', 'temperature', 'salinity',\n",
    "       'sigma_t']\n",
    "new_df = pd.DataFrame(columns = sal_df.columns, index = list(set(list(sal_df.index))))\n",
    "new_df = new_df.loc[new_df.index.sort_values()]\n",
    "new_df[sal_names] = sal_col\n",
    "x = list(set([i for i in sal_df.index if i in df.index]))\n",
    "y = [i for i in sal_df.index if i in x]\n",
    "new_df = new_df.loc[y]\n",
    "chlor_col = fix_index(df,['turbidity','chlorophyll'])\n",
    "new_df[['turbidity','chlorophyll']]=chlor_col\n"
   ]
  }
 ],
 "metadata": {
  "kernelspec": {
   "display_name": "Python 3 (ipykernel)",
   "language": "python",
   "name": "python3"
  },
  "language_info": {
   "codemirror_mode": {
    "name": "ipython",
    "version": 3
   },
   "file_extension": ".py",
   "mimetype": "text/x-python",
   "name": "python",
   "nbconvert_exporter": "python",
   "pygments_lexer": "ipython3",
   "version": "3.10.9"
  }
 },
 "nbformat": 4,
 "nbformat_minor": 5
}
