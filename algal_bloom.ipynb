{
 "cells": [
  {
   "cell_type": "code",
   "execution_count": 675,
   "id": "84912cf9",
   "metadata": {},
   "outputs": [],
   "source": [
    "from tqdm import tqdm\n",
    "import numpy as np\n",
    "from requests import get\n",
    "import pandas as pd\n",
    "import seaborn as sns\n",
    "import matplotlib.pyplot as plt\n",
    "from typing import List, Dict\n",
    "from pprint import pprint as pp\n",
    "import datetime\n",
    "import pickle"
   ]
  },
  {
   "cell_type": "code",
   "execution_count": null,
   "id": "159d8efd",
   "metadata": {},
   "outputs": [],
   "source": []
  },
  {
   "cell_type": "code",
   "execution_count": 26,
   "id": "490a439b",
   "metadata": {},
   "outputs": [],
   "source": [
    "file = open(\"all_buoys.pickle\",'rb')\n",
    "master_dict = pickle.load(file)\n",
    "file = open(\"buoy_metadata.pickle\",'rb')\n",
    "meta_dict = pickle.load(file)"
   ]
  },
  {
   "cell_type": "code",
   "execution_count": 676,
   "id": "0c4e9059",
   "metadata": {},
   "outputs": [
    {
     "name": "stderr",
     "output_type": "stream",
     "text": [
      "/var/folders/g6/dvksyd2x2vzgtx4pt5g71bzh0000gn/T/ipykernel_78172/183827859.py:9: DtypeWarning: Columns (3,4,5,6,12,18,24,30,34,50,56,62,68,74,78,84) have mixed types. Specify dtype option on import or set low_memory=False.\n",
      "  dfs[k] = pd.read_csv(data_url(k,'csv'))[['time','chlorophyll']]\n",
      "/var/folders/g6/dvksyd2x2vzgtx4pt5g71bzh0000gn/T/ipykernel_78172/183827859.py:9: DtypeWarning: Columns (2,3,4,5,11,17,23,29,33,39,45,51,57,61,67,73) have mixed types. Specify dtype option on import or set low_memory=False.\n",
      "  dfs[k] = pd.read_csv(data_url(k,'csv'))[['time','chlorophyll']]\n",
      "/var/folders/g6/dvksyd2x2vzgtx4pt5g71bzh0000gn/T/ipykernel_78172/183827859.py:9: DtypeWarning: Columns (6,8,10,11,12) have mixed types. Specify dtype option on import or set low_memory=False.\n",
      "  dfs[k] = pd.read_csv(data_url(k,'csv'))[['time','chlorophyll']]\n",
      "/var/folders/g6/dvksyd2x2vzgtx4pt5g71bzh0000gn/T/ipykernel_78172/183827859.py:9: DtypeWarning: Columns (6,8,10,11,12) have mixed types. Specify dtype option on import or set low_memory=False.\n",
      "  dfs[k] = pd.read_csv(data_url(k,'csv'))[['time','chlorophyll']]\n",
      "/var/folders/g6/dvksyd2x2vzgtx4pt5g71bzh0000gn/T/ipykernel_78172/183827859.py:9: DtypeWarning: Columns (3,5,7,8,9) have mixed types. Specify dtype option on import or set low_memory=False.\n",
      "  dfs[k] = pd.read_csv(data_url(k,'csv'))[['time','chlorophyll']]\n",
      "/var/folders/g6/dvksyd2x2vzgtx4pt5g71bzh0000gn/T/ipykernel_78172/183827859.py:9: DtypeWarning: Columns (6,8,10,11,12) have mixed types. Specify dtype option on import or set low_memory=False.\n",
      "  dfs[k] = pd.read_csv(data_url(k,'csv'))[['time','chlorophyll']]\n",
      "/var/folders/g6/dvksyd2x2vzgtx4pt5g71bzh0000gn/T/ipykernel_78172/183827859.py:9: DtypeWarning: Columns (2,3,4,6,7,9,10,11) have mixed types. Specify dtype option on import or set low_memory=False.\n",
      "  dfs[k] = pd.read_csv(data_url(k,'csv'))[['time','chlorophyll']]\n",
      "/var/folders/g6/dvksyd2x2vzgtx4pt5g71bzh0000gn/T/ipykernel_78172/183827859.py:9: DtypeWarning: Columns (2,3,4,5,6,7,9,10,11) have mixed types. Specify dtype option on import or set low_memory=False.\n",
      "  dfs[k] = pd.read_csv(data_url(k,'csv'))[['time','chlorophyll']]\n",
      "/var/folders/g6/dvksyd2x2vzgtx4pt5g71bzh0000gn/T/ipykernel_78172/183827859.py:9: DtypeWarning: Columns (2,3,4,6,7,9,10,11) have mixed types. Specify dtype option on import or set low_memory=False.\n",
      "  dfs[k] = pd.read_csv(data_url(k,'csv'))[['time','chlorophyll']]\n",
      "/var/folders/g6/dvksyd2x2vzgtx4pt5g71bzh0000gn/T/ipykernel_78172/183827859.py:9: DtypeWarning: Columns (2,3,4,5,6,7,9,10,11) have mixed types. Specify dtype option on import or set low_memory=False.\n",
      "  dfs[k] = pd.read_csv(data_url(k,'csv'))[['time','chlorophyll']]\n",
      "/var/folders/g6/dvksyd2x2vzgtx4pt5g71bzh0000gn/T/ipykernel_78172/183827859.py:9: DtypeWarning: Columns (2,3,4,5,6,7,9,10,11) have mixed types. Specify dtype option on import or set low_memory=False.\n",
      "  dfs[k] = pd.read_csv(data_url(k,'csv'))[['time','chlorophyll']]\n"
     ]
    }
   ],
   "source": [
    "c = []\n",
    "for i in meta_dict:\n",
    "    for j in meta_dict[i]:\n",
    "        if 'chlorophyll' in meta_dict[i][j]:\n",
    "            c.append(j)\n",
    "dfs = {k:[] for k in c}\n",
    "for k in c:\n",
    "    try:\n",
    "        dfs[k] = pd.read_csv(data_url(k,'csv'))[['time','chlorophyll']]\n",
    "    except Exception:\n",
    "        dfs[k] = pd.read_json(data_url(k,'json'))[['time','chlorophyll']]\n",
    "for i in ['ACFFA_CSV_all','UNH_CML','M01_optics_hist',\n",
    " 'E05_optics_all',\n",
    " 'URI_168-MV_BottomSonde',\n",
    " 'URI_168-MV_SurfaceSonde',\n",
    " 'URI_169-QP_BottomSonde',\n",
    " 'URI_GSOPier_ExoTop',\n",
    " 'E01_optics_hist',\n",
    " 'B01_optics_hist']:\n",
    "    dfs.pop(i)\n",
    "for k,df in dfs.items():\n",
    "    try:\n",
    "        df['time'] = pd.to_datetime(df['time'])\n",
    "    except Exception:\n",
    "        new_df = df.drop(0)\n",
    "        new_df['time'] = pd.to_datetime(new_df['time'])\n",
    "        df = new_df\n",
    "    df = df.drop(df[df['chlorophyll'].isna()].index)\n",
    "    df['chlorophyll'] = df['chlorophyll'].astype(float)\n",
    "    dfs[k] = df"
   ]
  },
  {
   "cell_type": "code",
   "execution_count": 710,
   "id": "6eb8fb25",
   "metadata": {},
   "outputs": [
    {
     "data": {
      "text/plain": [
       "dict_keys(['J04_optics_all', 'UNH_CML_realtime', 'UNH_CO2_realtime', 'UNH_GBB', 'LOBO_CSV_66', 'LOBO_CSV_65', 'LOBO_CSV_64', 'LOBO_CSV_67', 'LOBO_CSV_70', 'LOBO_CSV_72', 'D03_optics_all', 'I01_optics_hist', 'C05_optics_all', 'A01_optics_s_all', 'URI_169-QP_SurfaceSonde', 'URI_CPoint_BottomSonde', 'URI_CPoint_SurfaceSonde', 'URI_GBay_BottomSonde', 'URI_GBay_SurfaceSonde', 'URI_NP_BottomSonde', 'URI_NP_SurfaceSonde', 'URI_PP_BottomSonde', 'URI_PP_SurfaceSonde'])"
      ]
     },
     "execution_count": 710,
     "metadata": {},
     "output_type": "execute_result"
    }
   ],
   "source": [
    "dfs.keys()"
   ]
  },
  {
   "cell_type": "code",
   "execution_count": 741,
   "id": "786234fa",
   "metadata": {},
   "outputs": [
    {
     "name": "stderr",
     "output_type": "stream",
     "text": [
      "/var/folders/g6/dvksyd2x2vzgtx4pt5g71bzh0000gn/T/ipykernel_78172/2532989656.py:7: FutureWarning: The default value of numeric_only in DataFrameGroupBy.median is deprecated. In a future version, numeric_only will default to False. Either specify numeric_only or select only columns which should be valid for the function.\n",
      "  y = x.groupby(x['time'].dt.date).median()\n",
      "/var/folders/g6/dvksyd2x2vzgtx4pt5g71bzh0000gn/T/ipykernel_78172/2532989656.py:10: FutureWarning: The default value of numeric_only in DataFrameGroupBy.median is deprecated. In a future version, numeric_only will default to False. Either specify numeric_only or select only columns which should be valid for the function.\n",
      "  y = x.groupby(x['time'].dt.date).median()\n",
      "/var/folders/g6/dvksyd2x2vzgtx4pt5g71bzh0000gn/T/ipykernel_78172/2532989656.py:13: FutureWarning: The default value of numeric_only in DataFrameGroupBy.median is deprecated. In a future version, numeric_only will default to False. Either specify numeric_only or select only columns which should be valid for the function.\n",
      "  y = x.groupby(x['time'].dt.date).median()\n",
      "/var/folders/g6/dvksyd2x2vzgtx4pt5g71bzh0000gn/T/ipykernel_78172/2532989656.py:16: FutureWarning: The default value of numeric_only in DataFrameGroupBy.median is deprecated. In a future version, numeric_only will default to False. Either specify numeric_only or select only columns which should be valid for the function.\n",
      "  y = x.groupby(x['time'].dt.date).median()\n",
      "/var/folders/g6/dvksyd2x2vzgtx4pt5g71bzh0000gn/T/ipykernel_78172/2532989656.py:19: FutureWarning: The default value of numeric_only in DataFrameGroupBy.median is deprecated. In a future version, numeric_only will default to False. Either specify numeric_only or select only columns which should be valid for the function.\n",
      "  y = x.groupby(x['time'].dt.date).median()\n",
      "/var/folders/g6/dvksyd2x2vzgtx4pt5g71bzh0000gn/T/ipykernel_78172/2532989656.py:22: FutureWarning: The default value of numeric_only in DataFrameGroupBy.median is deprecated. In a future version, numeric_only will default to False. Either specify numeric_only or select only columns which should be valid for the function.\n",
      "  y = x.groupby(x['time'].dt.date).median()\n",
      "/var/folders/g6/dvksyd2x2vzgtx4pt5g71bzh0000gn/T/ipykernel_78172/2532989656.py:25: FutureWarning: The default value of numeric_only in DataFrameGroupBy.median is deprecated. In a future version, numeric_only will default to False. Either specify numeric_only or select only columns which should be valid for the function.\n",
      "  y = x.groupby(x['time'].dt.date).median()\n"
     ]
    },
    {
     "ename": "AttributeError",
     "evalue": "'Figure' object has no attribute 'save_fig'",
     "output_type": "error",
     "traceback": [
      "\u001b[0;31m---------------------------------------------------------------------------\u001b[0m",
      "\u001b[0;31mAttributeError\u001b[0m                            Traceback (most recent call last)",
      "Cell \u001b[0;32mIn[741], line 31\u001b[0m\n\u001b[1;32m     29\u001b[0m ax[\u001b[38;5;241m0\u001b[39m]\u001b[38;5;241m.\u001b[39mset_ylabel(\u001b[38;5;124m\"\u001b[39m\u001b[38;5;124m$\u001b[39m\u001b[38;5;124m\\\u001b[39m\u001b[38;5;124mmu g$/L\u001b[39m\u001b[38;5;124m\"\u001b[39m)\n\u001b[1;32m     30\u001b[0m ax[\u001b[38;5;241m1\u001b[39m]\u001b[38;5;241m.\u001b[39mlegend(fontsize\u001b[38;5;241m=\u001b[39m\u001b[38;5;241m16\u001b[39m)\n\u001b[0;32m---> 31\u001b[0m \u001b[43mfig\u001b[49m\u001b[38;5;241;43m.\u001b[39;49m\u001b[43msave_fig\u001b[49m(\u001b[38;5;124m'\u001b[39m\u001b[38;5;124mbuoys.png\u001b[39m\u001b[38;5;124m'\u001b[39m)\n",
      "\u001b[0;31mAttributeError\u001b[0m: 'Figure' object has no attribute 'save_fig'"
     ]
    },
    {
     "name": "stderr",
     "output_type": "stream",
     "text": [
      "findfont: Font family 'normal' not found.\n",
      "findfont: Font family 'normal' not found.\n",
      "findfont: Font family 'normal' not found.\n",
      "findfont: Font family 'normal' not found.\n",
      "findfont: Font family 'normal' not found.\n",
      "findfont: Font family 'normal' not found.\n",
      "findfont: Font family 'normal' not found.\n",
      "findfont: Font family 'normal' not found.\n",
      "findfont: Font family 'normal' not found.\n",
      "findfont: Font family 'normal' not found.\n",
      "findfont: Font family 'normal' not found.\n",
      "findfont: Font family 'normal' not found.\n",
      "findfont: Font family 'normal' not found.\n",
      "findfont: Font family 'normal' not found.\n",
      "findfont: Font family 'normal' not found.\n",
      "findfont: Font family 'normal' not found.\n",
      "findfont: Font family 'normal' not found.\n",
      "findfont: Font family 'normal' not found.\n",
      "findfont: Font family 'normal' not found.\n",
      "findfont: Font family 'normal' not found.\n",
      "findfont: Font family 'normal' not found.\n",
      "findfont: Font family 'normal' not found.\n",
      "findfont: Font family 'normal' not found.\n",
      "findfont: Font family 'normal' not found.\n",
      "findfont: Font family 'normal' not found.\n",
      "findfont: Font family 'normal' not found.\n",
      "findfont: Font family 'normal' not found.\n",
      "findfont: Font family 'normal' not found.\n",
      "findfont: Font family 'normal' not found.\n",
      "findfont: Font family 'normal' not found.\n",
      "findfont: Font family 'normal' not found.\n",
      "findfont: Font family 'normal' not found.\n",
      "findfont: Font family 'normal' not found.\n",
      "findfont: Font family 'normal' not found.\n",
      "findfont: Font family 'normal' not found.\n",
      "findfont: Font family 'normal' not found.\n",
      "findfont: Font family 'normal' not found.\n",
      "findfont: Font family 'normal' not found.\n",
      "findfont: Font family 'normal' not found.\n",
      "findfont: Font family 'normal' not found.\n",
      "findfont: Font family 'normal' not found.\n",
      "findfont: Font family 'normal' not found.\n",
      "findfont: Font family 'normal' not found.\n",
      "findfont: Font family 'normal' not found.\n",
      "findfont: Font family 'normal' not found.\n",
      "findfont: Font family 'normal' not found.\n",
      "findfont: Font family 'normal' not found.\n",
      "findfont: Font family 'normal' not found.\n",
      "findfont: Font family 'normal' not found.\n",
      "findfont: Font family 'normal' not found.\n",
      "findfont: Font family 'normal' not found.\n",
      "findfont: Font family 'normal' not found.\n",
      "findfont: Font family 'normal' not found.\n",
      "findfont: Font family 'normal' not found.\n",
      "findfont: Font family 'normal' not found.\n",
      "findfont: Font family 'normal' not found.\n",
      "findfont: Font family 'normal' not found.\n",
      "findfont: Font family 'normal' not found.\n",
      "findfont: Font family 'normal' not found.\n",
      "findfont: Font family 'normal' not found.\n",
      "findfont: Font family 'normal' not found.\n",
      "findfont: Font family 'normal' not found.\n",
      "findfont: Font family 'normal' not found.\n",
      "findfont: Font family 'normal' not found.\n",
      "findfont: Font family 'normal' not found.\n",
      "findfont: Font family 'normal' not found.\n",
      "findfont: Font family 'normal' not found.\n",
      "findfont: Font family 'normal' not found.\n",
      "findfont: Font family 'normal' not found.\n",
      "findfont: Font family 'normal' not found.\n",
      "findfont: Font family 'normal' not found.\n",
      "findfont: Font family 'normal' not found.\n",
      "findfont: Font family 'normal' not found.\n",
      "findfont: Font family 'normal' not found.\n",
      "findfont: Font family 'normal' not found.\n",
      "findfont: Font family 'normal' not found.\n",
      "findfont: Font family 'normal' not found.\n",
      "findfont: Font family 'normal' not found.\n",
      "findfont: Font family 'normal' not found.\n",
      "findfont: Font family 'normal' not found.\n",
      "findfont: Font family 'normal' not found.\n",
      "findfont: Font family 'normal' not found.\n",
      "findfont: Font family 'normal' not found.\n",
      "findfont: Font family 'normal' not found.\n",
      "findfont: Font family 'normal' not found.\n",
      "findfont: Font family 'normal' not found.\n",
      "findfont: Font family 'normal' not found.\n",
      "findfont: Font family 'normal' not found.\n",
      "findfont: Font family 'normal' not found.\n",
      "findfont: Font family 'normal' not found.\n",
      "findfont: Font family 'normal' not found.\n",
      "findfont: Font family 'normal' not found.\n",
      "findfont: Font family 'normal' not found.\n",
      "findfont: Font family 'normal' not found.\n",
      "findfont: Font family 'normal' not found.\n",
      "findfont: Font family 'normal' not found.\n",
      "findfont: Font family 'normal' not found.\n",
      "findfont: Font family 'normal' not found.\n",
      "findfont: Font family 'normal' not found.\n",
      "findfont: Font family 'normal' not found.\n",
      "findfont: Font family 'normal' not found.\n",
      "findfont: Font family 'normal' not found.\n",
      "findfont: Font family 'normal' not found.\n",
      "findfont: Font family 'normal' not found.\n",
      "findfont: Font family 'normal' not found.\n",
      "findfont: Font family 'normal' not found.\n",
      "findfont: Font family 'normal' not found.\n",
      "findfont: Font family 'normal' not found.\n",
      "findfont: Font family 'normal' not found.\n",
      "findfont: Font family 'normal' not found.\n",
      "findfont: Font family 'normal' not found.\n",
      "findfont: Font family 'normal' not found.\n",
      "findfont: Font family 'normal' not found.\n",
      "findfont: Font family 'normal' not found.\n",
      "findfont: Font family 'normal' not found.\n",
      "findfont: Font family 'normal' not found.\n",
      "findfont: Font family 'normal' not found.\n",
      "findfont: Font family 'normal' not found.\n",
      "findfont: Font family 'normal' not found.\n",
      "findfont: Font family 'normal' not found.\n",
      "findfont: Font family 'normal' not found.\n",
      "findfont: Font family 'normal' not found.\n",
      "findfont: Font family 'normal' not found.\n",
      "findfont: Font family 'normal' not found.\n",
      "findfont: Font family 'normal' not found.\n",
      "findfont: Font family 'normal' not found.\n",
      "findfont: Font family 'normal' not found.\n",
      "findfont: Font family 'normal' not found.\n",
      "findfont: Font family 'normal' not found.\n",
      "findfont: Font family 'normal' not found.\n",
      "findfont: Font family 'normal' not found.\n",
      "findfont: Font family 'normal' not found.\n",
      "findfont: Font family 'normal' not found.\n",
      "findfont: Font family 'normal' not found.\n",
      "findfont: Font family 'normal' not found.\n",
      "findfont: Font family 'normal' not found.\n",
      "findfont: Font family 'normal' not found.\n",
      "findfont: Font family 'normal' not found.\n",
      "findfont: Font family 'normal' not found.\n",
      "findfont: Font family 'normal' not found.\n",
      "findfont: Font family 'normal' not found.\n",
      "findfont: Font family 'normal' not found.\n",
      "findfont: Font family 'normal' not found.\n",
      "findfont: Font family 'normal' not found.\n",
      "findfont: Font family 'normal' not found.\n",
      "findfont: Font family 'normal' not found.\n",
      "findfont: Font family 'normal' not found.\n",
      "findfont: Font family 'normal' not found.\n",
      "findfont: Font family 'normal' not found.\n",
      "findfont: Font family 'normal' not found.\n",
      "findfont: Font family 'normal' not found.\n",
      "findfont: Font family 'normal' not found.\n",
      "findfont: Font family 'normal' not found.\n",
      "findfont: Font family 'normal' not found.\n",
      "findfont: Font family 'normal' not found.\n",
      "findfont: Font family 'normal' not found.\n",
      "findfont: Font family 'normal' not found.\n",
      "findfont: Font family 'normal' not found.\n",
      "findfont: Font family 'normal' not found.\n",
      "findfont: Font family 'normal' not found.\n",
      "findfont: Font family 'normal' not found.\n",
      "findfont: Font family 'normal' not found.\n",
      "findfont: Font family 'normal' not found.\n",
      "findfont: Font family 'normal' not found.\n",
      "findfont: Font family 'normal' not found.\n",
      "findfont: Font family 'normal' not found.\n",
      "findfont: Font family 'normal' not found.\n",
      "findfont: Font family 'normal' not found.\n",
      "findfont: Font family 'normal' not found.\n",
      "findfont: Font family 'normal' not found.\n",
      "findfont: Font family 'normal' not found.\n",
      "findfont: Font family 'normal' not found.\n",
      "findfont: Font family 'normal' not found.\n",
      "findfont: Font family 'normal' not found.\n",
      "findfont: Font family 'normal' not found.\n",
      "findfont: Font family 'normal' not found.\n",
      "findfont: Font family 'normal' not found.\n",
      "findfont: Font family 'normal' not found.\n",
      "findfont: Font family 'normal' not found.\n",
      "findfont: Font family 'normal' not found.\n",
      "findfont: Font family 'normal' not found.\n",
      "findfont: Font family 'normal' not found.\n",
      "findfont: Font family 'normal' not found.\n",
      "findfont: Font family 'normal' not found.\n",
      "findfont: Font family 'normal' not found.\n",
      "findfont: Font family 'normal' not found.\n",
      "findfont: Font family 'normal' not found.\n",
      "findfont: Font family 'normal' not found.\n",
      "findfont: Font family 'normal' not found.\n",
      "findfont: Font family 'normal' not found.\n",
      "findfont: Font family 'normal' not found.\n",
      "findfont: Font family 'normal' not found.\n",
      "findfont: Font family 'normal' not found.\n",
      "findfont: Font family 'normal' not found.\n",
      "findfont: Font family 'normal' not found.\n",
      "findfont: Font family 'normal' not found.\n"
     ]
    },
    {
     "name": "stderr",
     "output_type": "stream",
     "text": [
      "findfont: Font family 'normal' not found.\n",
      "findfont: Font family 'normal' not found.\n",
      "findfont: Font family 'normal' not found.\n",
      "findfont: Font family 'normal' not found.\n",
      "findfont: Font family 'normal' not found.\n",
      "findfont: Font family 'normal' not found.\n",
      "findfont: Font family 'normal' not found.\n",
      "findfont: Font family 'normal' not found.\n",
      "findfont: Font family 'normal' not found.\n",
      "findfont: Font family 'normal' not found.\n",
      "findfont: Font family 'normal' not found.\n",
      "findfont: Font family 'normal' not found.\n",
      "findfont: Font family 'normal' not found.\n",
      "findfont: Font family 'normal' not found.\n",
      "findfont: Font family 'normal' not found.\n",
      "findfont: Font family 'normal' not found.\n",
      "findfont: Font family 'normal' not found.\n",
      "findfont: Font family 'normal' not found.\n",
      "findfont: Font family 'normal' not found.\n",
      "findfont: Font family 'normal' not found.\n",
      "findfont: Font family 'normal' not found.\n",
      "findfont: Font family 'normal' not found.\n",
      "findfont: Font family 'normal' not found.\n",
      "findfont: Font family 'normal' not found.\n",
      "findfont: Font family 'normal' not found.\n",
      "findfont: Font family 'normal' not found.\n",
      "findfont: Font family 'normal' not found.\n",
      "findfont: Font family 'normal' not found.\n"
     ]
    },
    {
     "data": {
      "image/png": "[encoded data removed]",
      "text/plain": [
       "<Figure size 2000x1000 with 2 Axes>"
      ]
     },
     "metadata": {},
     "output_type": "display_data"
    }
   ],
   "source": [
    "font = {'weight' : 'normal',\n",
    "        'size'   : 22}\n",
    "\n",
    "matplotlib.rc('font', **font)\n",
    "fig, ax= plt.subplots(2,1, figsize = (20,10))\n",
    "x = dfs['A01_optics_s_all']\n",
    "y = x.groupby(x['time'].dt.date).median()\n",
    "ax[0].plot(y, '-',c='g', label='A01')\n",
    "x = dfs['LOBO_CSV_70']\n",
    "y = x.groupby(x['time'].dt.date).median()\n",
    "ax[1].plot(y, '-',label='Buoy 1')\n",
    "x = dfs['LOBO_CSV_67']\n",
    "y = x.groupby(x['time'].dt.date).median()\n",
    "ax[1].plot(y, '-',label='Buoy 2')\n",
    "x = dfs['LOBO_CSV_65']\n",
    "y = x.groupby(x['time'].dt.date).median()\n",
    "ax[1].plot(y, '-',label='Buoy 3')\n",
    "x = dfs['LOBO_CSV_72']\n",
    "y = x.groupby(x['time'].dt.date).median()\n",
    "ax[1].plot(y, '-',label='Buoy 4')\n",
    "x = dfs['LOBO_CSV_66']\n",
    "y = x.groupby(x['time'].dt.date).median()\n",
    "ax[1].plot(y, '-',label='Buoy 5')\n",
    "x = dfs['LOBO_CSV_64']\n",
    "y = x.groupby(x['time'].dt.date).medi an()\n",
    "ax[1].plot(y, '-',label='Buoy 6')\n",
    "ax[1].set_xlabel(\"Hourly Chlorophyll Levels at Six Clustered Buoys versus Buoy A01\")\n",
    "ax[1].set_ylabel(\"$\\mu g$/L\")\n",
    "ax[0].set_ylabel(\"$\\mu g$/L\")\n",
    "ax[1].legend(fontsize=16)\n",
    "fig.save_fig('buoys.png')"
   ]
  },
  {
   "cell_type": "code",
   "execution_count": 491,
   "id": "43517fd3",
   "metadata": {},
   "outputs": [
    {
     "data": {
      "text/plain": [
       "['M01_optics_hist', 'I01_optics_hist', 'E01_optics_hist', 'B01_optics_hist']"
      ]
     },
     "execution_count": 491,
     "metadata": {},
     "output_type": "execute_result"
    }
   ],
   "source": [
    "[list(dfs.keys())[i] for i in np.where(bools[:,4900:].sum(1)==0)[0]]"
   ]
  },
  {
   "cell_type": "code",
   "execution_count": 493,
   "id": "6f2e7f5f",
   "metadata": {},
   "outputs": [],
   "source": [
    "for i in [list(dfs.keys())[i] for i in np.where(bools[:,4900:].sum(1)==0)[0]]:\n",
    "    del dfs[i]"
   ]
  },
  {
   "cell_type": "code",
   "execution_count": 506,
   "id": "4197cb1a",
   "metadata": {},
   "outputs": [
    {
     "data": {
      "text/plain": [
       "1       10.5\n",
       "2       10.5\n",
       "3       10.6\n",
       "4       11.1\n",
       "5       10.5\n",
       "        ... \n",
       "8457     5.3\n",
       "8458     5.6\n",
       "8459     5.7\n",
       "8460     5.8\n",
       "8461     5.4\n",
       "Name: chlorophyll, Length: 8461, dtype: float64"
      ]
     },
     "execution_count": 506,
     "metadata": {},
     "output_type": "execute_result"
    }
   ],
   "source": [
    "df['chlorophyll'].astype(float)"
   ]
  },
  {
   "cell_type": "code",
   "execution_count": 565,
   "id": "cd562b45",
   "metadata": {},
   "outputs": [
    {
     "data": {
      "text/plain": [
       "['M01_optics_hist',\n",
       " 'E05_optics_all',\n",
       " 'URI_168-MV_BottomSonde',\n",
       " 'URI_168-MV_SurfaceSonde',\n",
       " 'URI_169-QP_BottomSonde',\n",
       " 'URI_GSOPier_ExoTop',\n",
       " 'E01_optics_hist',\n",
       " 'B01_optics_hist']"
      ]
     },
     "execution_count": 565,
     "metadata": {},
     "output_type": "execute_result"
    }
   ],
   "source": [
    "bad = [10,13,18,19,20,26,15,17]\n",
    "[list(dfs.keys())[i] for i in bad]"
   ]
  },
  {
   "cell_type": "code",
   "execution_count": 642,
   "id": "5521a011",
   "metadata": {},
   "outputs": [
    {
     "data": {
      "text/plain": [
       "datetime.date(2020, 8, 5)"
      ]
     },
     "execution_count": 642,
     "metadata": {},
     "output_type": "execute_result"
    }
   ],
   "source": [
    "dates[-1000]"
   ]
  },
  {
   "cell_type": "code",
   "execution_count": 620,
   "id": "24e9c354",
   "metadata": {},
   "outputs": [
    {
     "data": {
      "text/plain": [
       "'2016-08-21'"
      ]
     },
     "execution_count": 620,
     "metadata": {},
     "output_type": "execute_result"
    }
   ],
   "source": [
    "str(datetime.date(2016, 8, 21))"
   ]
  },
  {
   "cell_type": "code",
   "execution_count": 562,
   "id": "fdc841c5",
   "metadata": {},
   "outputs": [
    {
     "data": {
      "text/plain": [
       "'A01_optics_s_all'"
      ]
     },
     "execution_count": 562,
     "metadata": {},
     "output_type": "execute_result"
    }
   ],
   "source": [
    "list(dfs.keys())[16] "
   ]
  },
  {
   "cell_type": "code",
   "execution_count": 615,
   "id": "799da33d",
   "metadata": {},
   "outputs": [
    {
     "data": {
      "text/plain": [
       "array([datetime.date(2018, 7, 20), datetime.date(2018, 7, 20),\n",
       "       datetime.date(2018, 7, 20), ..., datetime.date(2019, 4, 5),\n",
       "       datetime.date(2019, 4, 5), datetime.date(2019, 4, 5)], dtype=object)"
      ]
     },
     "execution_count": 615,
     "metadata": {},
     "output_type": "execute_result"
    }
   ],
   "source": [
    "df['time'].dt.date.values"
   ]
  },
  {
   "cell_type": "code",
   "execution_count": 637,
   "id": "753298bc",
   "metadata": {},
   "outputs": [],
   "source": [
    "drange = list(pd.date_range('2001-01-01','2023-5-1'))\n",
    "day2int = {str(i.date()):d for d,i in enumerate(drange)}\n",
    "int2day = {d:str(i) for i,d in day2int.items()}\n",
    "\n"
   ]
  },
  {
   "cell_type": "code",
   "execution_count": 644,
   "id": "6cc6fb38",
   "metadata": {},
   "outputs": [],
   "source": [
    "vals = pd.DataFrame(columns = list(dfs.keys()),index =[day2int[str(i.date())] for i in pd.date_range('2015-7-17','2022-12-29')])"
   ]
  },
  {
   "cell_type": "code",
   "execution_count": 645,
   "id": "0839529d",
   "metadata": {},
   "outputs": [
    {
     "data": {
      "text/html": [
       "<div>\n",
       "<style scoped>\n",
       "    .dataframe tbody tr th:only-of-type {\n",
       "        vertical-align: middle;\n",
       "    }\n",
       "\n",
       "    .dataframe tbody tr th {\n",
       "        vertical-align: top;\n",
       "    }\n",
       "\n",
       "    .dataframe thead th {\n",
       "        text-align: right;\n",
       "    }\n",
       "</style>\n",
       "<table border=\"1\" class=\"dataframe\">\n",
       "  <thead>\n",
       "    <tr style=\"text-align: right;\">\n",
       "      <th></th>\n",
       "      <th>J04_optics_all</th>\n",
       "      <th>UNH_CML_realtime</th>\n",
       "      <th>UNH_CO2_realtime</th>\n",
       "      <th>UNH_GBB</th>\n",
       "      <th>LOBO_CSV_66</th>\n",
       "      <th>LOBO_CSV_65</th>\n",
       "      <th>LOBO_CSV_64</th>\n",
       "      <th>LOBO_CSV_67</th>\n",
       "      <th>LOBO_CSV_70</th>\n",
       "      <th>LOBO_CSV_72</th>\n",
       "      <th>...</th>\n",
       "      <th>A01_optics_s_all</th>\n",
       "      <th>URI_169-QP_SurfaceSonde</th>\n",
       "      <th>URI_CPoint_BottomSonde</th>\n",
       "      <th>URI_CPoint_SurfaceSonde</th>\n",
       "      <th>URI_GBay_BottomSonde</th>\n",
       "      <th>URI_GBay_SurfaceSonde</th>\n",
       "      <th>URI_NP_BottomSonde</th>\n",
       "      <th>URI_NP_SurfaceSonde</th>\n",
       "      <th>URI_PP_BottomSonde</th>\n",
       "      <th>URI_PP_SurfaceSonde</th>\n",
       "    </tr>\n",
       "  </thead>\n",
       "  <tbody>\n",
       "    <tr>\n",
       "      <th>5310</th>\n",
       "      <td>NaN</td>\n",
       "      <td>NaN</td>\n",
       "      <td>NaN</td>\n",
       "      <td>NaN</td>\n",
       "      <td>NaN</td>\n",
       "      <td>NaN</td>\n",
       "      <td>NaN</td>\n",
       "      <td>NaN</td>\n",
       "      <td>NaN</td>\n",
       "      <td>NaN</td>\n",
       "      <td>...</td>\n",
       "      <td>NaN</td>\n",
       "      <td>NaN</td>\n",
       "      <td>NaN</td>\n",
       "      <td>NaN</td>\n",
       "      <td>NaN</td>\n",
       "      <td>NaN</td>\n",
       "      <td>NaN</td>\n",
       "      <td>NaN</td>\n",
       "      <td>NaN</td>\n",
       "      <td>NaN</td>\n",
       "    </tr>\n",
       "    <tr>\n",
       "      <th>5311</th>\n",
       "      <td>NaN</td>\n",
       "      <td>NaN</td>\n",
       "      <td>NaN</td>\n",
       "      <td>NaN</td>\n",
       "      <td>NaN</td>\n",
       "      <td>NaN</td>\n",
       "      <td>NaN</td>\n",
       "      <td>NaN</td>\n",
       "      <td>NaN</td>\n",
       "      <td>NaN</td>\n",
       "      <td>...</td>\n",
       "      <td>NaN</td>\n",
       "      <td>NaN</td>\n",
       "      <td>NaN</td>\n",
       "      <td>NaN</td>\n",
       "      <td>NaN</td>\n",
       "      <td>NaN</td>\n",
       "      <td>NaN</td>\n",
       "      <td>NaN</td>\n",
       "      <td>NaN</td>\n",
       "      <td>NaN</td>\n",
       "    </tr>\n",
       "    <tr>\n",
       "      <th>5312</th>\n",
       "      <td>NaN</td>\n",
       "      <td>NaN</td>\n",
       "      <td>NaN</td>\n",
       "      <td>NaN</td>\n",
       "      <td>NaN</td>\n",
       "      <td>NaN</td>\n",
       "      <td>NaN</td>\n",
       "      <td>NaN</td>\n",
       "      <td>NaN</td>\n",
       "      <td>NaN</td>\n",
       "      <td>...</td>\n",
       "      <td>NaN</td>\n",
       "      <td>NaN</td>\n",
       "      <td>NaN</td>\n",
       "      <td>NaN</td>\n",
       "      <td>NaN</td>\n",
       "      <td>NaN</td>\n",
       "      <td>NaN</td>\n",
       "      <td>NaN</td>\n",
       "      <td>NaN</td>\n",
       "      <td>NaN</td>\n",
       "    </tr>\n",
       "    <tr>\n",
       "      <th>5313</th>\n",
       "      <td>NaN</td>\n",
       "      <td>NaN</td>\n",
       "      <td>NaN</td>\n",
       "      <td>NaN</td>\n",
       "      <td>NaN</td>\n",
       "      <td>NaN</td>\n",
       "      <td>NaN</td>\n",
       "      <td>NaN</td>\n",
       "      <td>NaN</td>\n",
       "      <td>NaN</td>\n",
       "      <td>...</td>\n",
       "      <td>NaN</td>\n",
       "      <td>NaN</td>\n",
       "      <td>NaN</td>\n",
       "      <td>NaN</td>\n",
       "      <td>NaN</td>\n",
       "      <td>NaN</td>\n",
       "      <td>NaN</td>\n",
       "      <td>NaN</td>\n",
       "      <td>NaN</td>\n",
       "      <td>NaN</td>\n",
       "    </tr>\n",
       "    <tr>\n",
       "      <th>5314</th>\n",
       "      <td>NaN</td>\n",
       "      <td>NaN</td>\n",
       "      <td>NaN</td>\n",
       "      <td>NaN</td>\n",
       "      <td>NaN</td>\n",
       "      <td>NaN</td>\n",
       "      <td>NaN</td>\n",
       "      <td>NaN</td>\n",
       "      <td>NaN</td>\n",
       "      <td>NaN</td>\n",
       "      <td>...</td>\n",
       "      <td>NaN</td>\n",
       "      <td>NaN</td>\n",
       "      <td>NaN</td>\n",
       "      <td>NaN</td>\n",
       "      <td>NaN</td>\n",
       "      <td>NaN</td>\n",
       "      <td>NaN</td>\n",
       "      <td>NaN</td>\n",
       "      <td>NaN</td>\n",
       "      <td>NaN</td>\n",
       "    </tr>\n",
       "    <tr>\n",
       "      <th>...</th>\n",
       "      <td>...</td>\n",
       "      <td>...</td>\n",
       "      <td>...</td>\n",
       "      <td>...</td>\n",
       "      <td>...</td>\n",
       "      <td>...</td>\n",
       "      <td>...</td>\n",
       "      <td>...</td>\n",
       "      <td>...</td>\n",
       "      <td>...</td>\n",
       "      <td>...</td>\n",
       "      <td>...</td>\n",
       "      <td>...</td>\n",
       "      <td>...</td>\n",
       "      <td>...</td>\n",
       "      <td>...</td>\n",
       "      <td>...</td>\n",
       "      <td>...</td>\n",
       "      <td>...</td>\n",
       "      <td>...</td>\n",
       "      <td>...</td>\n",
       "    </tr>\n",
       "    <tr>\n",
       "      <th>8028</th>\n",
       "      <td>NaN</td>\n",
       "      <td>NaN</td>\n",
       "      <td>NaN</td>\n",
       "      <td>NaN</td>\n",
       "      <td>NaN</td>\n",
       "      <td>NaN</td>\n",
       "      <td>NaN</td>\n",
       "      <td>NaN</td>\n",
       "      <td>NaN</td>\n",
       "      <td>NaN</td>\n",
       "      <td>...</td>\n",
       "      <td>NaN</td>\n",
       "      <td>NaN</td>\n",
       "      <td>NaN</td>\n",
       "      <td>NaN</td>\n",
       "      <td>NaN</td>\n",
       "      <td>NaN</td>\n",
       "      <td>NaN</td>\n",
       "      <td>NaN</td>\n",
       "      <td>NaN</td>\n",
       "      <td>NaN</td>\n",
       "    </tr>\n",
       "    <tr>\n",
       "      <th>8029</th>\n",
       "      <td>NaN</td>\n",
       "      <td>NaN</td>\n",
       "      <td>NaN</td>\n",
       "      <td>NaN</td>\n",
       "      <td>NaN</td>\n",
       "      <td>NaN</td>\n",
       "      <td>NaN</td>\n",
       "      <td>NaN</td>\n",
       "      <td>NaN</td>\n",
       "      <td>NaN</td>\n",
       "      <td>...</td>\n",
       "      <td>NaN</td>\n",
       "      <td>NaN</td>\n",
       "      <td>NaN</td>\n",
       "      <td>NaN</td>\n",
       "      <td>NaN</td>\n",
       "      <td>NaN</td>\n",
       "      <td>NaN</td>\n",
       "      <td>NaN</td>\n",
       "      <td>NaN</td>\n",
       "      <td>NaN</td>\n",
       "    </tr>\n",
       "    <tr>\n",
       "      <th>8030</th>\n",
       "      <td>NaN</td>\n",
       "      <td>NaN</td>\n",
       "      <td>NaN</td>\n",
       "      <td>NaN</td>\n",
       "      <td>NaN</td>\n",
       "      <td>NaN</td>\n",
       "      <td>NaN</td>\n",
       "      <td>NaN</td>\n",
       "      <td>NaN</td>\n",
       "      <td>NaN</td>\n",
       "      <td>...</td>\n",
       "      <td>NaN</td>\n",
       "      <td>NaN</td>\n",
       "      <td>NaN</td>\n",
       "      <td>NaN</td>\n",
       "      <td>NaN</td>\n",
       "      <td>NaN</td>\n",
       "      <td>NaN</td>\n",
       "      <td>NaN</td>\n",
       "      <td>NaN</td>\n",
       "      <td>NaN</td>\n",
       "    </tr>\n",
       "    <tr>\n",
       "      <th>8031</th>\n",
       "      <td>NaN</td>\n",
       "      <td>NaN</td>\n",
       "      <td>NaN</td>\n",
       "      <td>NaN</td>\n",
       "      <td>NaN</td>\n",
       "      <td>NaN</td>\n",
       "      <td>NaN</td>\n",
       "      <td>NaN</td>\n",
       "      <td>NaN</td>\n",
       "      <td>NaN</td>\n",
       "      <td>...</td>\n",
       "      <td>NaN</td>\n",
       "      <td>NaN</td>\n",
       "      <td>NaN</td>\n",
       "      <td>NaN</td>\n",
       "      <td>NaN</td>\n",
       "      <td>NaN</td>\n",
       "      <td>NaN</td>\n",
       "      <td>NaN</td>\n",
       "      <td>NaN</td>\n",
       "      <td>NaN</td>\n",
       "    </tr>\n",
       "    <tr>\n",
       "      <th>8032</th>\n",
       "      <td>NaN</td>\n",
       "      <td>NaN</td>\n",
       "      <td>NaN</td>\n",
       "      <td>NaN</td>\n",
       "      <td>NaN</td>\n",
       "      <td>NaN</td>\n",
       "      <td>NaN</td>\n",
       "      <td>NaN</td>\n",
       "      <td>NaN</td>\n",
       "      <td>NaN</td>\n",
       "      <td>...</td>\n",
       "      <td>NaN</td>\n",
       "      <td>NaN</td>\n",
       "      <td>NaN</td>\n",
       "      <td>NaN</td>\n",
       "      <td>NaN</td>\n",
       "      <td>NaN</td>\n",
       "      <td>NaN</td>\n",
       "      <td>NaN</td>\n",
       "      <td>NaN</td>\n",
       "      <td>NaN</td>\n",
       "    </tr>\n",
       "  </tbody>\n",
       "</table>\n",
       "<p>2723 rows × 23 columns</p>\n",
       "</div>"
      ],
      "text/plain": [
       "     J04_optics_all UNH_CML_realtime UNH_CO2_realtime UNH_GBB LOBO_CSV_66  \\\n",
       "5310            NaN              NaN              NaN     NaN         NaN   \n",
       "5311            NaN              NaN              NaN     NaN         NaN   \n",
       "5312            NaN              NaN              NaN     NaN         NaN   \n",
       "5313            NaN              NaN              NaN     NaN         NaN   \n",
       "5314            NaN              NaN              NaN     NaN         NaN   \n",
       "...             ...              ...              ...     ...         ...   \n",
       "8028            NaN              NaN              NaN     NaN         NaN   \n",
       "8029            NaN              NaN              NaN     NaN         NaN   \n",
       "8030            NaN              NaN              NaN     NaN         NaN   \n",
       "8031            NaN              NaN              NaN     NaN         NaN   \n",
       "8032            NaN              NaN              NaN     NaN         NaN   \n",
       "\n",
       "     LOBO_CSV_65 LOBO_CSV_64 LOBO_CSV_67 LOBO_CSV_70 LOBO_CSV_72  ...  \\\n",
       "5310         NaN         NaN         NaN         NaN         NaN  ...   \n",
       "5311         NaN         NaN         NaN         NaN         NaN  ...   \n",
       "5312         NaN         NaN         NaN         NaN         NaN  ...   \n",
       "5313         NaN         NaN         NaN         NaN         NaN  ...   \n",
       "5314         NaN         NaN         NaN         NaN         NaN  ...   \n",
       "...          ...         ...         ...         ...         ...  ...   \n",
       "8028         NaN         NaN         NaN         NaN         NaN  ...   \n",
       "8029         NaN         NaN         NaN         NaN         NaN  ...   \n",
       "8030         NaN         NaN         NaN         NaN         NaN  ...   \n",
       "8031         NaN         NaN         NaN         NaN         NaN  ...   \n",
       "8032         NaN         NaN         NaN         NaN         NaN  ...   \n",
       "\n",
       "     A01_optics_s_all URI_169-QP_SurfaceSonde URI_CPoint_BottomSonde  \\\n",
       "5310              NaN                     NaN                    NaN   \n",
       "5311              NaN                     NaN                    NaN   \n",
       "5312              NaN                     NaN                    NaN   \n",
       "5313              NaN                     NaN                    NaN   \n",
       "5314              NaN                     NaN                    NaN   \n",
       "...               ...                     ...                    ...   \n",
       "8028              NaN                     NaN                    NaN   \n",
       "8029              NaN                     NaN                    NaN   \n",
       "8030              NaN                     NaN                    NaN   \n",
       "8031              NaN                     NaN                    NaN   \n",
       "8032              NaN                     NaN                    NaN   \n",
       "\n",
       "     URI_CPoint_SurfaceSonde URI_GBay_BottomSonde URI_GBay_SurfaceSonde  \\\n",
       "5310                     NaN                  NaN                   NaN   \n",
       "5311                     NaN                  NaN                   NaN   \n",
       "5312                     NaN                  NaN                   NaN   \n",
       "5313                     NaN                  NaN                   NaN   \n",
       "5314                     NaN                  NaN                   NaN   \n",
       "...                      ...                  ...                   ...   \n",
       "8028                     NaN                  NaN                   NaN   \n",
       "8029                     NaN                  NaN                   NaN   \n",
       "8030                     NaN                  NaN                   NaN   \n",
       "8031                     NaN                  NaN                   NaN   \n",
       "8032                     NaN                  NaN                   NaN   \n",
       "\n",
       "     URI_NP_BottomSonde URI_NP_SurfaceSonde URI_PP_BottomSonde  \\\n",
       "5310                NaN                 NaN                NaN   \n",
       "5311                NaN                 NaN                NaN   \n",
       "5312                NaN                 NaN                NaN   \n",
       "5313                NaN                 NaN                NaN   \n",
       "5314                NaN                 NaN                NaN   \n",
       "...                 ...                 ...                ...   \n",
       "8028                NaN                 NaN                NaN   \n",
       "8029                NaN                 NaN                NaN   \n",
       "8030                NaN                 NaN                NaN   \n",
       "8031                NaN                 NaN                NaN   \n",
       "8032                NaN                 NaN                NaN   \n",
       "\n",
       "     URI_PP_SurfaceSonde  \n",
       "5310                 NaN  \n",
       "5311                 NaN  \n",
       "5312                 NaN  \n",
       "5313                 NaN  \n",
       "5314                 NaN  \n",
       "...                  ...  \n",
       "8028                 NaN  \n",
       "8029                 NaN  \n",
       "8030                 NaN  \n",
       "8031                 NaN  \n",
       "8032                 NaN  \n",
       "\n",
       "[2723 rows x 23 columns]"
      ]
     },
     "execution_count": 645,
     "metadata": {},
     "output_type": "execute_result"
    }
   ],
   "source": [
    "vals"
   ]
  },
  {
   "cell_type": "code",
   "execution_count": 661,
   "id": "c0f0cfa8",
   "metadata": {},
   "outputs": [
    {
     "data": {
      "text/plain": [
       "6770    NaN\n",
       "6771    NaN\n",
       "6772    NaN\n",
       "6773    NaN\n",
       "6774    NaN\n",
       "       ... \n",
       "7216    NaN\n",
       "7217    NaN\n",
       "7218    NaN\n",
       "7219    NaN\n",
       "7220    NaN\n",
       "Name: URI_PP_SurfaceSonde, Length: 132, dtype: object"
      ]
     },
     "execution_count": 661,
     "metadata": {},
     "output_type": "execute_result"
    }
   ],
   "source": [
    "vals[k].loc[[i for i in s.index if i in vals.index]]"
   ]
  },
  {
   "cell_type": "code",
   "execution_count": 667,
   "id": "fb4b47f5",
   "metadata": {},
   "outputs": [
    {
     "name": "stdout",
     "output_type": "stream",
     "text": [
      "Index([2018-07-20, 2018-07-21, 2018-07-22, 2018-07-23, 2018-07-24, 2018-07-25,\n",
      "       2018-07-26, 2018-07-27, 2018-07-28, 2018-07-29,\n",
      "       ...\n",
      "       2019-03-27, 2019-03-28, 2019-03-29, 2019-03-30, 2019-03-31, 2019-04-01,\n",
      "       2019-04-02, 2019-04-03, 2019-04-04, 2019-04-05],\n",
      "      dtype='object', name='time', length=259)\n",
      "Index([2021-08-24, 2021-08-25, 2021-08-26, 2021-08-27, 2021-08-28, 2021-08-29,\n",
      "       2021-08-30, 2021-08-31, 2021-09-01, 2021-09-02,\n",
      "       ...\n",
      "       2022-09-12, 2022-09-13, 2022-09-14, 2022-09-15, 2022-09-16, 2022-09-17,\n",
      "       2022-09-18, 2022-09-19, 2022-09-20, 2022-09-21],\n",
      "      dtype='object', name='time', length=308)\n",
      "Index([2021-08-10, 2021-08-11, 2021-08-12, 2021-08-13, 2021-08-14, 2021-08-19,\n",
      "       2021-08-20, 2021-08-21, 2021-08-22, 2021-08-23,\n",
      "       ...\n",
      "       2022-05-16, 2022-05-17, 2022-05-18, 2022-05-19, 2022-05-20, 2022-05-21,\n",
      "       2022-05-22, 2022-05-23, 2022-05-24, 2023-02-22],\n",
      "      dtype='object', name='time', length=279)\n",
      "Index([2022-05-17, 2022-05-18, 2022-05-19, 2022-05-20, 2022-05-21, 2022-05-22,\n",
      "       2022-05-23, 2022-05-24, 2022-05-25, 2022-05-26,\n",
      "       ...\n",
      "       2022-11-27, 2022-11-28, 2022-11-29, 2022-11-30, 2022-12-01, 2022-12-02,\n",
      "       2022-12-03, 2022-12-04, 2022-12-05, 2022-12-06],\n",
      "      dtype='object', name='time', length=193)\n",
      "Index([2015-09-25, 2015-09-26, 2015-09-27, 2015-09-28, 2015-09-29, 2015-09-30,\n",
      "       2015-10-01, 2015-10-02, 2015-10-03, 2015-10-04,\n",
      "       ...\n",
      "       2022-06-22, 2022-06-23, 2022-06-24, 2022-06-25, 2022-06-26, 2022-06-27,\n",
      "       2022-06-28, 2022-06-29, 2022-06-30, 2022-07-01],\n",
      "      dtype='object', name='time', length=1127)\n",
      "Index([2015-09-25, 2015-09-26, 2015-09-27, 2015-09-28, 2015-09-29, 2015-09-30,\n",
      "       2015-10-01, 2015-10-02, 2015-10-03, 2015-10-04,\n",
      "       ...\n",
      "       2023-02-10, 2023-02-11, 2023-02-13, 2023-02-15, 2023-02-16, 2023-02-17,\n",
      "       2023-02-18, 2023-02-19, 2023-02-20, 2023-02-23],\n",
      "      dtype='object', name='time', length=715)\n",
      "Index([2016-04-28, 2016-04-29, 2016-04-30, 2016-05-01, 2016-05-02, 2016-05-03,\n",
      "       2016-05-04, 2016-05-05, 2016-05-06, 2016-05-07,\n",
      "       ...\n",
      "       2016-10-29, 2016-10-30, 2016-10-31, 2016-11-01, 2016-11-02, 2016-11-03,\n",
      "       2016-11-04, 2016-11-05, 2016-11-06, 2016-11-07],\n",
      "      dtype='object', name='time', length=113)\n",
      "Index([2016-04-26, 2016-04-27, 2016-04-28, 2016-04-29, 2016-04-30, 2016-05-01,\n",
      "       2016-05-02, 2016-05-03, 2016-05-04, 2016-05-05,\n",
      "       ...\n",
      "       2016-08-25, 2016-08-26, 2016-08-27, 2016-08-28, 2016-08-29, 2016-08-30,\n",
      "       2016-08-31, 2016-09-01, 2016-09-02, 2016-09-03],\n",
      "      dtype='object', name='time', length=131)\n",
      "Index([2017-06-29, 2017-06-30, 2017-07-01, 2017-07-02, 2017-07-03, 2017-07-04,\n",
      "       2017-07-05, 2017-07-06, 2017-07-07, 2017-07-08,\n",
      "       ...\n",
      "       2019-11-29, 2019-11-30, 2019-12-01, 2019-12-02, 2019-12-03, 2019-12-04,\n",
      "       2021-08-10, 2021-08-11, 2021-08-12, 2021-08-25],\n",
      "      dtype='object', name='time', length=303)\n",
      "Index([2017-06-27, 2017-06-28, 2017-06-29, 2017-06-30, 2017-07-01, 2017-07-02,\n",
      "       2017-07-03, 2017-07-04, 2017-07-05, 2017-07-06,\n",
      "       ...\n",
      "       2017-11-18, 2017-11-19, 2017-11-20, 2017-11-21, 2017-11-22, 2017-11-23,\n",
      "       2017-11-24, 2017-11-25, 2017-11-26, 2017-11-27],\n",
      "      dtype='object', name='time', length=154)\n",
      "Index([2017-05-21, 2017-05-22, 2017-05-23, 2017-05-24, 2017-05-25, 2017-05-26,\n",
      "       2017-05-27, 2017-05-28, 2017-05-29, 2017-05-30,\n",
      "       ...\n",
      "       2018-01-16, 2018-01-17, 2018-01-18, 2018-01-19, 2018-01-20, 2018-01-21,\n",
      "       2018-01-22, 2018-01-23, 2018-01-24, 2018-01-25],\n",
      "      dtype='object', name='time', length=250)\n",
      "Index([2001-07-27, 2001-07-28, 2001-07-29, 2001-07-30, 2001-07-31, 2001-08-01,\n",
      "       2001-08-02, 2001-08-03, 2001-08-04, 2001-08-05,\n",
      "       ...\n",
      "       2006-09-13, 2006-09-14, 2006-09-15, 2006-09-16, 2006-09-17, 2006-09-18,\n",
      "       2006-09-19, 2006-09-20, 2006-09-21, 2006-09-22],\n",
      "      dtype='object', name='time', length=861)\n",
      "Index([2015-10-15, 2015-10-16, 2015-10-17, 2015-10-18, 2015-10-19, 2015-10-20,\n",
      "       2015-10-21, 2015-10-22, 2015-10-23, 2015-10-24,\n",
      "       ...\n",
      "       2016-11-26, 2016-11-27, 2016-11-28, 2016-11-29, 2016-11-30, 2016-12-01,\n",
      "       2016-12-02, 2016-12-03, 2016-12-04, 2016-12-05],\n",
      "      dtype='object', name='time', length=280)\n",
      "Index([2005-10-22, 2005-10-23, 2005-10-24, 2005-10-25, 2005-10-26, 2005-10-27,\n",
      "       2005-10-28, 2005-10-29, 2005-10-30, 2005-10-31,\n",
      "       ...\n",
      "       2023-04-22, 2023-04-23, 2023-04-24, 2023-04-25, 2023-04-26, 2023-04-27,\n",
      "       2023-04-28, 2023-04-29, 2023-04-30, 2023-05-01],\n",
      "      dtype='object', name='time', length=5628)\n",
      "Index([2006-05-18, 2006-05-19, 2006-05-20, 2006-05-21, 2006-05-22, 2006-05-23,\n",
      "       2006-05-24, 2006-05-25, 2006-05-26, 2006-05-27,\n",
      "       ...\n",
      "       2020-11-01, 2020-11-02, 2020-11-03, 2020-11-04, 2020-11-05, 2020-11-06,\n",
      "       2020-11-07, 2020-11-08, 2020-11-09, 2020-11-10],\n",
      "      dtype='object', name='time', length=1648)\n",
      "Index([2019-07-18, 2019-07-19, 2019-07-20, 2019-07-21, 2019-07-22, 2019-07-23,\n",
      "       2019-07-24, 2019-07-25, 2019-07-26, 2019-07-27,\n",
      "       ...\n",
      "       2020-10-13, 2020-10-14, 2020-10-15, 2020-10-16, 2020-10-17, 2020-10-18,\n",
      "       2020-10-19, 2020-10-20, 2020-10-21, 2020-10-22],\n",
      "      dtype='object', name='time', length=202)\n",
      "Index([2019-07-16, 2019-07-17, 2019-07-18, 2019-07-19, 2019-07-20, 2019-07-21,\n",
      "       2019-07-22, 2019-07-23, 2019-07-24, 2019-07-25,\n",
      "       ...\n",
      "       2020-10-13, 2020-10-14, 2020-10-15, 2020-10-16, 2020-10-17, 2020-10-18,\n",
      "       2020-10-19, 2020-10-20, 2020-10-21, 2020-10-22],\n",
      "      dtype='object', name='time', length=229)\n",
      "Index([2018-06-26, 2018-06-27, 2018-06-28, 2018-06-29, 2018-06-30, 2018-07-01,\n",
      "       2018-07-02, 2018-07-03, 2018-07-04, 2018-07-05,\n",
      "       ...\n",
      "       2020-05-20, 2020-05-21, 2020-05-22, 2020-05-23, 2020-05-24, 2020-05-25,\n",
      "       2020-05-26, 2020-05-27, 2020-05-28, 2020-05-29],\n",
      "      dtype='object', name='time', length=424)\n",
      "Index([2018-06-14, 2018-06-15, 2018-06-16, 2018-06-17, 2018-06-18, 2018-06-19,\n",
      "       2018-06-20, 2018-06-21, 2018-06-22, 2018-06-23,\n",
      "       ...\n",
      "       2019-06-30, 2019-07-01, 2019-07-02, 2019-07-03, 2019-07-04, 2019-07-05,\n",
      "       2019-07-06, 2019-07-07, 2019-07-08, 2019-07-09],\n",
      "      dtype='object', name='time', length=211)\n",
      "Index([2019-07-16, 2019-07-17, 2019-07-18, 2019-07-19, 2019-07-20, 2019-07-21,\n",
      "       2019-07-22, 2019-07-23, 2019-07-24, 2019-07-25,\n",
      "       ...\n",
      "       2020-10-24, 2020-10-25, 2020-10-26, 2020-10-27, 2020-10-28, 2020-10-29,\n",
      "       2020-10-30, 2020-10-31, 2020-11-01, 2020-11-02],\n",
      "      dtype='object', name='time', length=250)\n",
      "Index([2019-07-16, 2019-07-17, 2019-07-18, 2019-07-19, 2019-07-20, 2019-07-21,\n",
      "       2019-07-22, 2019-07-23, 2019-07-24, 2019-07-25, 2019-07-26, 2019-07-27,\n",
      "       2019-07-28, 2019-07-29, 2019-07-30, 2019-07-31, 2019-08-01, 2019-08-02,\n",
      "       2019-08-03, 2019-08-04, 2019-08-05, 2019-08-06, 2019-08-07, 2019-08-08,\n",
      "       2019-08-09, 2019-08-10, 2019-08-11, 2019-08-12, 2019-08-13, 2019-08-14,\n",
      "       2019-08-15, 2019-08-16, 2019-08-17, 2019-08-18, 2019-08-19, 2019-08-20,\n",
      "       2019-08-21, 2019-08-22, 2019-08-23, 2019-08-24, 2019-08-25, 2019-08-26,\n",
      "       2019-08-27, 2019-08-28, 2019-08-29, 2019-08-30, 2019-08-31, 2019-09-01,\n",
      "       2019-09-02, 2019-09-03, 2019-09-04, 2019-09-05, 2019-09-06, 2019-09-07,\n",
      "       2019-09-08, 2019-09-09, 2019-09-10, 2019-09-11, 2019-09-12, 2019-09-13,\n",
      "       2019-09-14, 2019-09-15, 2019-09-16, 2019-09-17],\n",
      "      dtype='object', name='time')\n",
      "Index([2019-07-16, 2019-07-17, 2019-07-18, 2019-07-19, 2019-07-20, 2019-07-21,\n",
      "       2019-07-22, 2019-07-23, 2019-07-24, 2019-07-25,\n",
      "       ...\n",
      "       2020-09-29, 2020-09-30, 2020-10-01, 2020-10-02, 2020-10-03, 2020-10-04,\n",
      "       2020-10-05, 2020-10-06, 2020-10-07, 2020-10-08],\n",
      "      dtype='object', name='time', length=131)\n",
      "Index([2019-07-16, 2019-07-17, 2019-07-18, 2019-07-19, 2019-07-20, 2019-07-21,\n",
      "       2019-07-22, 2019-07-23, 2019-07-24, 2019-07-25,\n",
      "       ...\n",
      "       2020-09-29, 2020-09-30, 2020-10-01, 2020-10-02, 2020-10-03, 2020-10-04,\n",
      "       2020-10-05, 2020-10-06, 2020-10-07, 2020-10-08],\n",
      "      dtype='object', name='time', length=132)\n"
     ]
    }
   ],
   "source": [
    "for k,df in dfs.items():\n",
    "    s= pd.DataFrame(df.loc[abs(df['chlorophyll'])<60].loc[df['chlorophyll']>0].groupby(df['time'].dt.date)['chlorophyll'].median())\n",
    "    print(str(s.index))\n",
    "    s['index'] = [day2int[str(i)] for i in s.index]\n",
    "    s = s.set_index('index')\n",
    "    cup = [i for i in s.index if i in vals.index]\n",
    "    vals[k].loc[cup] = s['chlorophyll'].loc[cup]\n",
    "vals = vals.drop('I01_optics_hist', axis = 1)"
   ]
  },
  {
   "cell_type": "code",
   "execution_count": 674,
   "id": "dff35c56",
   "metadata": {},
   "outputs": [],
   "source": [
    "file = open('final_X.pkl', 'wb')\n",
    "pickle.dump(vals,file)"
   ]
  },
  {
   "cell_type": "code",
   "execution_count": 572,
   "id": "8fa0ed48",
   "metadata": {},
   "outputs": [
    {
     "data": {
      "image/png": "[encoded data removed]",
      "text/plain": [
       "<Figure size 640x480 with 1 Axes>"
      ]
     },
     "metadata": {},
     "output_type": "display_data"
    }
   ],
   "source": [
    "\n",
    "for df in dfs.values():\n",
    "    plt.plot(df.loc[abs(df['chlorophyll'])<60].loc[df['chlorophyll']>0].groupby(df['time'].dt.date)['chlorophyll'].median())"
   ]
  },
  {
   "cell_type": "code",
   "execution_count": 34,
   "id": "5a649a83",
   "metadata": {},
   "outputs": [
    {
     "ename": "TypeError",
     "evalue": "string indices must be integers",
     "output_type": "error",
     "traceback": [
      "\u001b[0;31m---------------------------------------------------------------------------\u001b[0m",
      "\u001b[0;31mTypeError\u001b[0m                                 Traceback (most recent call last)",
      "Cell \u001b[0;32mIn[34], line 6\u001b[0m\n\u001b[1;32m      3\u001b[0m     \u001b[38;5;28;01mreturn\u001b[39;00m data_url\n\u001b[1;32m      5\u001b[0m set_name \u001b[38;5;241m=\u001b[39m data_url(\u001b[38;5;124m'\u001b[39m\u001b[38;5;124mLOBO_CSV_65\u001b[39m\u001b[38;5;124m'\u001b[39m,\u001b[38;5;124m'\u001b[39m\u001b[38;5;124mcsv\u001b[39m\u001b[38;5;124m'\u001b[39m)\n\u001b[0;32m----> 6\u001b[0m response \u001b[38;5;241m=\u001b[39m \u001b[43mset_name\u001b[49m\u001b[43m[\u001b[49m\u001b[38;5;124;43m'\u001b[39;49m\u001b[38;5;124;43mtable\u001b[39;49m\u001b[38;5;124;43m'\u001b[39;49m\u001b[43m]\u001b[49m\n\u001b[1;32m      7\u001b[0m \u001b[38;5;66;03m#print(response['columnNames'])\u001b[39;00m\n\u001b[1;32m      8\u001b[0m new_df \u001b[38;5;241m=\u001b[39m pd\u001b[38;5;241m.\u001b[39mDataFrame(response[\u001b[38;5;124m'\u001b[39m\u001b[38;5;124mrows\u001b[39m\u001b[38;5;124m'\u001b[39m], columns \u001b[38;5;241m=\u001b[39m response[\u001b[38;5;124m'\u001b[39m\u001b[38;5;124mcolumnNames\u001b[39m\u001b[38;5;124m'\u001b[39m])\n",
      "\u001b[0;31mTypeError\u001b[0m: string indices must be integers"
     ]
    }
   ],
   "source": [
    "def data_url(datasetID: str, flavor: str = 'json') -> Dict:\n",
    "    data_url: str = f\"http://www.neracoos.org/erddap/tabledap/{datasetID}.{flavor}\"\n",
    "    return data_url"
   ]
  },
  {
   "cell_type": "code",
   "execution_count": 563,
   "id": "08844c82",
   "metadata": {},
   "outputs": [
    {
     "data": {
      "text/plain": [
       "datetime.date(2015, 7, 17)"
      ]
     },
     "execution_count": 563,
     "metadata": {},
     "output_type": "execute_result"
    }
   ],
   "source": [
    "dates[4940]"
   ]
  },
  {
   "cell_type": "code",
   "execution_count": 265,
   "id": "b23e4510",
   "metadata": {},
   "outputs": [],
   "source": [
    "dates = set()\n",
    "for df in dfs.values():\n",
    "    dates = dates.union(df['time'].dt.date.values)\n",
    "dates = np.sort(np.array(list(dates)))"
   ]
  },
  {
   "cell_type": "code",
   "execution_count": 266,
   "id": "89b3aa0f",
   "metadata": {},
   "outputs": [
    {
     "data": {
      "text/plain": [
       "7754"
      ]
     },
     "execution_count": 266,
     "metadata": {},
     "output_type": "execute_result"
    }
   ],
   "source": [
    "len(dates)"
   ]
  },
  {
   "cell_type": "code",
   "execution_count": 227,
   "id": "4c4bfdde",
   "metadata": {},
   "outputs": [],
   "source": [
    "m = []\n",
    "for df in dfs.values():\n",
    "    m.append(len(set(df['time'].dt.date.values))/len(dates))"
   ]
  },
  {
   "cell_type": "code",
   "execution_count": 397,
   "id": "4d286c9b",
   "metadata": {},
   "outputs": [
    {
     "name": "stderr",
     "output_type": "stream",
     "text": [
      "100%|███████████████████████████████████████████| 31/31 [00:49<00:00,  1.60s/it]\n"
     ]
    }
   ],
   "source": [
    "from tqdm import tqdm\n",
    "bools = []\n",
    "for df in tqdm(dfs.values()):\n",
    "    bools.append(np.isin(dates,df['time'].dt.date.values))\n",
    "bools = np.array(bools)"
   ]
  },
  {
   "cell_type": "code",
   "execution_count": 478,
   "id": "38785eaf",
   "metadata": {},
   "outputs": [
    {
     "data": {
      "text/plain": [
       "2814"
      ]
     },
     "execution_count": 478,
     "metadata": {},
     "output_type": "execute_result"
    }
   ],
   "source": [
    "len(bools.sum(0)[4940:])"
   ]
  },
  {
   "cell_type": "code",
   "execution_count": 468,
   "id": "f8ea385a",
   "metadata": {},
   "outputs": [
    {
     "data": {
      "text/plain": [
       "3.901208244491827"
      ]
     },
     "execution_count": 468,
     "metadata": {},
     "output_type": "execute_result"
    }
   ],
   "source": [
    "bools.sum(0)[4940:].mean() "
   ]
  },
  {
   "cell_type": "code",
   "execution_count": 487,
   "id": "038bbacf",
   "metadata": {},
   "outputs": [
    {
     "data": {
      "text/plain": [
       "array([10, 12, 15, 17])"
      ]
     },
     "execution_count": 487,
     "metadata": {},
     "output_type": "execute_result"
    }
   ],
   "source": [
    "np.where(bools[:,4900:].sum(1)==0)[0]"
   ]
  },
  {
   "cell_type": "code",
   "execution_count": 488,
   "id": "6b90cf75",
   "metadata": {},
   "outputs": [
    {
     "data": {
      "text/plain": [
       "['M01_optics_hist', 'I01_optics_hist', 'E01_optics_hist', 'B01_optics_hist']"
      ]
     },
     "execution_count": 488,
     "metadata": {},
     "output_type": "execute_result"
    }
   ],
   "source": [
    "[list(dfs.keys())[i] for i in np.where(bools[:,4900:].sum(1)==0)[0]]"
   ]
  },
  {
   "cell_type": "code",
   "execution_count": 444,
   "id": "dd6c4c6f",
   "metadata": {},
   "outputs": [
    {
     "data": {
      "text/plain": [
       "[<matplotlib.lines.Line2D at 0x350056080>]"
      ]
     },
     "execution_count": 444,
     "metadata": {},
     "output_type": "execute_result"
    },
    {
     "data": {
      "image/png": "[encoded data removed]",
      "text/plain": [
       "<Figure size 640x480 with 1 Axes>"
      ]
     },
     "metadata": {},
     "output_type": "display_data"
    }
   ],
   "source": [
    "plt.plot([bools.sum(0)[x:x+1460].mean() for x in range(0,len(dates)-1460)])"
   ]
  },
  {
   "cell_type": "code",
   "execution_count": 394,
   "id": "83965075",
   "metadata": {},
   "outputs": [
    {
     "data": {
      "text/plain": [
       "0.001"
      ]
     },
     "execution_count": 394,
     "metadata": {},
     "output_type": "execute_result"
    }
   ],
   "source": [
    "x = range(4000,5000)\n",
    "np.median(bools.sum(0)[x]/len(x))"
   ]
  },
  {
   "cell_type": "code",
   "execution_count": 312,
   "id": "9e2d0335",
   "metadata": {},
   "outputs": [],
   "source": [
    "y = dates\n",
    "start = range(len(y)-1460)\n",
    "ranges = [(a, 1460+a) for a in start]"
   ]
  },
  {
   "cell_type": "code",
   "execution_count": 358,
   "id": "cb9dc081",
   "metadata": {},
   "outputs": [],
   "source": [
    "import itertools\n",
    "combos = list(itertools.combinations(range(31), 5))"
   ]
  },
  {
   "cell_type": "code",
   "execution_count": 339,
   "id": "12defc14",
   "metadata": {},
   "outputs": [
    {
     "data": {
      "text/plain": [
       "array([2, 2, 2])"
      ]
     },
     "execution_count": 339,
     "metadata": {},
     "output_type": "execute_result"
    }
   ],
   "source": [
    "np.array([[1,1,1],[2,2,2],[3,3,3]])[1]"
   ]
  },
  {
   "cell_type": "code",
   "execution_count": 341,
   "id": "b3a6364a",
   "metadata": {},
   "outputs": [
    {
     "data": {
      "text/plain": [
       "array([[0., 0.],\n",
       "       [0., 0.],\n",
       "       [0., 0.]])"
      ]
     },
     "execution_count": 341,
     "metadata": {},
     "output_type": "execute_result"
    }
   ],
   "source": [
    "np.zeros((3,2))"
   ]
  },
  {
   "cell_type": "code",
   "execution_count": 359,
   "id": "03d4cdb5",
   "metadata": {},
   "outputs": [
    {
     "name": "stderr",
     "output_type": "stream",
     "text": [
      "IOPub data rate exceeded.\n",
      "The notebook server will temporarily stop sending output\n",
      "to the client in order to avoid crashing it.\n",
      "To change this limit, set the config variable\n",
      "`--NotebookApp.iopub_data_rate_limit`.\n",
      "\n",
      "Current values:\n",
      "NotebookApp.iopub_data_rate_limit=1000000.0 (bytes/sec)\n",
      "NotebookApp.rate_limit_window=3.0 (secs)\n",
      "\n"
     ]
    }
   ],
   "source": [
    "for i in combos:\n",
    "    print(i)"
   ]
  },
  {
   "cell_type": "code",
   "execution_count": 384,
   "id": "18da4cc7",
   "metadata": {},
   "outputs": [],
   "source": [
    "from timeit import timeit"
   ]
  },
  {
   "cell_type": "code",
   "execution_count": 382,
   "id": "4f7bbac1",
   "metadata": {},
   "outputs": [
    {
     "ename": "NameError",
     "evalue": "name 'time' is not defined",
     "output_type": "error",
     "traceback": [
      "\u001b[0;31m---------------------------------------------------------------------------\u001b[0m",
      "\u001b[0;31mNameError\u001b[0m                                 Traceback (most recent call last)",
      "Cell \u001b[0;32mIn[382], line 1\u001b[0m\n\u001b[0;32m----> 1\u001b[0m \u001b[43mtime\u001b[49m\u001b[38;5;241m.\u001b[39mstart()\n\u001b[1;32m      2\u001b[0m time\u001b[38;5;241m.\u001b[39mstop()\n",
      "\u001b[0;31mNameError\u001b[0m: name 'time' is not defined"
     ]
    }
   ],
   "source": [
    "time.start()\n",
    "time.stop()"
   ]
  },
  {
   "cell_type": "code",
   "execution_count": 387,
   "id": "205914c9",
   "metadata": {},
   "outputs": [
    {
     "name": "stdout",
     "output_type": "stream",
     "text": [
      "6.53 s ± 11.6 ms per loop (mean ± std. dev. of 7 runs, 1 loop each)\n"
     ]
    }
   ],
   "source": [
    "%%timeit\n",
    "b = bools.astype(int)\n",
    "o = np.zeros(len(list(combos)))\n",
    "for i,combo in enumerate(combos):\n",
    "    o[i] = bools[combo,:].prod(0).sum()"
   ]
  },
  {
   "cell_type": "code",
   "execution_count": 241,
   "id": "204d0af1",
   "metadata": {},
   "outputs": [
    {
     "data": {
      "text/plain": [
       "(8461,)"
      ]
     },
     "execution_count": 241,
     "metadata": {},
     "output_type": "execute_result"
    }
   ],
   "source": [
    "df['time'].dt.date.values.shape"
   ]
  },
  {
   "cell_type": "code",
   "execution_count": 244,
   "id": "c36e8557",
   "metadata": {},
   "outputs": [
    {
     "ename": "TypeError",
     "evalue": "iteration over a 0-d array",
     "output_type": "error",
     "traceback": [
      "\u001b[0;31m---------------------------------------------------------------------------\u001b[0m",
      "\u001b[0;31mTypeError\u001b[0m                                 Traceback (most recent call last)",
      "Cell \u001b[0;32mIn[244], line 1\u001b[0m\n\u001b[0;32m----> 1\u001b[0m dates \u001b[38;5;241m=\u001b[39m np\u001b[38;5;241m.\u001b[39marray(\u001b[38;5;28;43mlist\u001b[39;49m\u001b[43m(\u001b[49m\u001b[43mdates\u001b[49m\u001b[43m)\u001b[49m)\n\u001b[1;32m      2\u001b[0m np\u001b[38;5;241m.\u001b[39misin(dates,df[\u001b[38;5;124m'\u001b[39m\u001b[38;5;124mtime\u001b[39m\u001b[38;5;124m'\u001b[39m]\u001b[38;5;241m.\u001b[39mdt\u001b[38;5;241m.\u001b[39mdate\u001b[38;5;241m.\u001b[39mvalues)\n",
      "\u001b[0;31mTypeError\u001b[0m: iteration over a 0-d array"
     ]
    }
   ],
   "source": [
    "dates = np.array(list(dates))\n",
    "np.isin(dates,df['time'].dt.date.values)"
   ]
  },
  {
   "cell_type": "code",
   "execution_count": 49,
   "id": "f4a4e2fd",
   "metadata": {},
   "outputs": [
    {
     "data": {
      "text/plain": [
       "0        micrograms/liter\n",
       "1                    5.37\n",
       "2                    5.41\n",
       "3                    5.35\n",
       "4                    4.75\n",
       "               ...       \n",
       "16594                 NaN\n",
       "16595                 NaN\n",
       "16596                 NaN\n",
       "16597                 NaN\n",
       "16598                 NaN\n",
       "Name: chlorophyll, Length: 16599, dtype: object"
      ]
     },
     "execution_count": 49,
     "metadata": {},
     "output_type": "execute_result"
    }
   ],
   "source": [
    "df['chlorophyll']"
   ]
  },
  {
   "cell_type": "code",
   "execution_count": 11,
   "id": "18e00868",
   "metadata": {},
   "outputs": [],
   "source": [
    "def load_pickle(pickle_file):\n",
    "    try:\n",
    "        with open(pickle_file, 'rb') as f:\n",
    "            pickle_data = pickle.load(f)\n",
    "    except UnicodeDecodeError as e:\n",
    "        with open(pickle_file, 'rb') as f:\n",
    "            pickle_data = pickle.load(f, encoding='latin1')\n",
    "    except Exception as e:\n",
    "        print('Unable to load data ', pickle_file, ':', e)\n",
    "        raise\n",
    "    return pickle_data\n",
    "\n",
    "\n",
    "adj_mx = load_pickle(\"adj_mx.pkl copy\")"
   ]
  },
  {
   "cell_type": "code",
   "execution_count": 26,
   "id": "ecb5c780",
   "metadata": {},
   "outputs": [],
   "source": [
    "import networkx as nx\n",
    "adj_mx = np.array(adj_mx)\n",
    "G = nx.Graph(adj_mx[2])"
   ]
  },
  {
   "cell_type": "code",
   "execution_count": 29,
   "id": "8e292648",
   "metadata": {},
   "outputs": [
    {
     "data": {
      "text/plain": [
       "DegreeView({0: 20, 1: 17, 2: 16, 3: 19, 4: 22, 5: 19, 6: 14, 7: 21, 8: 9, 9: 12, 10: 12, 11: 17, 12: 23, 13: 20, 14: 13, 15: 19, 16: 27, 17: 19, 18: 7, 19: 19, 20: 19, 21: 7, 22: 18, 23: 7, 24: 19, 25: 10, 26: 2, 27: 20, 28: 19, 29: 9, 30: 14, 31: 8, 32: 19, 33: 20, 34: 10, 35: 10, 36: 11, 37: 17, 38: 18, 39: 17, 40: 18, 41: 16, 42: 19, 43: 18, 44: 10, 45: 10, 46: 6, 47: 12, 48: 17, 49: 13, 50: 8, 51: 5, 52: 9, 53: 17, 54: 17, 55: 18, 56: 9, 57: 16, 58: 17, 59: 9, 60: 14, 61: 8, 62: 12, 63: 14, 64: 12, 65: 8, 66: 5, 67: 14, 68: 19, 69: 14, 70: 14, 71: 19, 72: 20, 73: 13, 74: 16, 75: 12, 76: 14, 77: 19, 78: 15, 79: 18, 80: 22, 81: 18, 82: 20, 83: 9, 84: 16, 85: 20, 86: 10, 87: 13, 88: 17, 89: 13, 90: 6, 91: 19, 92: 11, 93: 18, 94: 18, 95: 16, 96: 19, 97: 20, 98: 17, 99: 6, 100: 11, 101: 17, 102: 20, 103: 18, 104: 11, 105: 13, 106: 11, 107: 13, 108: 17, 109: 14, 110: 16, 111: 18, 112: 6, 113: 17, 114: 17, 115: 13, 116: 11, 117: 18, 118: 15, 119: 19, 120: 7, 121: 6, 122: 13, 123: 15, 124: 11, 125: 18, 126: 4, 127: 18, 128: 20, 129: 12, 130: 17, 131: 15, 132: 21, 133: 16, 134: 11, 135: 17, 136: 18, 137: 13, 138: 18, 139: 14, 140: 14, 141: 18, 142: 19, 143: 12, 144: 19, 145: 16, 146: 20, 147: 8, 148: 11, 149: 4, 150: 7, 151: 16, 152: 10, 153: 7, 154: 24, 155: 22, 156: 10, 157: 20, 158: 14, 159: 21, 160: 23, 161: 21, 162: 21, 163: 22, 164: 12, 165: 10, 166: 21, 167: 13, 168: 17, 169: 15, 170: 13, 171: 20, 172: 13, 173: 17, 174: 8, 175: 21, 176: 16, 177: 16, 178: 17, 179: 14, 180: 7, 181: 6, 182: 5, 183: 11, 184: 9, 185: 10, 186: 9, 187: 22, 188: 23, 189: 7, 190: 21, 191: 19, 192: 20, 193: 20, 194: 6, 195: 22, 196: 20, 197: 18, 198: 21, 199: 14, 200: 6, 201: 13, 202: 7, 203: 5, 204: 14, 205: 14, 206: 19})"
      ]
     },
     "execution_count": 29,
     "metadata": {},
     "output_type": "execute_result"
    }
   ],
   "source": [
    "nx.degree(G)"
   ]
  },
  {
   "cell_type": "code",
   "execution_count": 4,
   "id": "cb796bee",
   "metadata": {},
   "outputs": [
    {
     "name": "stdout",
     "output_type": "stream",
     "text": [
      "('station', 'J04')\n",
      "('mooring_site_desc', 'Machias Bay')\n",
      "('water_depth', 80.0)\n",
      "('conductivity', None)\n",
      "('salinity', None)\n",
      "('sigma_t', None)\n",
      "('longitude', -67.3622)\n",
      "('latitude', 44.6063)\n",
      "('depth', 2.0)\n",
      "('station', 'J04')\n",
      "('mooring_site_desc', 'Machias Bay')\n",
      "('water_depth', 24.0)\n",
      "('longitude', -67.36035)\n",
      "('latitude', 44.606625)\n",
      "('depth', 0.0)\n",
      "('station', 'J04')\n",
      "('mooring_site_desc', 'Machias Bay')\n",
      "('water_depth', 24.0)\n",
      "('longitude', -67.36035)\n",
      "('latitude', 44.606625)\n",
      "('depth', 5.0)\n",
      "('station', 'J04')\n",
      "('mooring_site_desc', 'Machias Bay')\n",
      "('water_depth', 24.0)\n",
      "('longitude', -67.36035)\n",
      "('latitude', 44.606625)\n",
      "('depth', 10.0)\n",
      "('station', 'J04')\n",
      "('mooring_site_desc', 'Machias Bay')\n",
      "('water_depth', 24.0)\n",
      "('offset_time', 0.0)\n",
      "('longitude', -67.36035)\n",
      "('latitude', 44.606625)\n",
      "('station', 'J04')\n",
      "('mooring_site_desc', 'Machias Bay')\n",
      "('water_depth', 24.0)\n",
      "('longitude', -67.36035)\n",
      "('latitude', 44.606625)\n",
      "('depth', -3.0)\n",
      "('station', 'J04')\n",
      "('mooring_site_desc', 'Machias Bay')\n",
      "('water_depth', 24.0)\n",
      "('longitude', -67.36035)\n",
      "('latitude', 44.606625)\n",
      "('depth', 5.0)\n",
      "24\n",
      "('station', 'M01')\n",
      "('mooring_site_desc', 'Jordan Basin')\n",
      "('depth', 2.0)\n",
      "('station', 'M01')\n",
      "('mooring_site_desc', 'Jordan Basin')\n",
      "('depth', 0.0)\n",
      "('station', 'M01')\n",
      "('mooring_site_desc', 'Jordan Basin')\n",
      "('water_depth', 285.0)\n",
      "('swell_and_wind_wave_separation_frequency_3', 0.125)\n",
      "('depth', 0.0)\n",
      "('station', 'M01')\n",
      "('mooring_site_desc', 'Jordan Basin')\n",
      "('depth', -3.0)\n",
      "('station', 'M01')\n",
      "('mooring_site_desc', 'Jordan Basin')\n",
      "('water_depth', 285.0)\n",
      "('longitude', -67.614)\n",
      "('latitude', 43.512)\n",
      "('station', 'M01')\n",
      "('mooring_site_desc', 'Jordan Basin')\n",
      "('station', 'M01')\n",
      "('mooring_site_desc', 'Jordan Basin')\n",
      "('water_depth', 285.0)\n",
      "('station', 'M01')\n",
      "('Minute', 45)\n",
      "('Second', 0)\n",
      "('latitude', 43.4907)\n",
      "('longitude', -67.8798)\n",
      "('mooring_site_desc', 'Jordan Basin')\n",
      "('water_depth', 285.0)\n",
      "44\n",
      "('station', 'D03')\n",
      "('mooring_site_desc', 'Eastern Casco Bay')\n",
      "('water_depth', 33.0)\n",
      "('conductivity', -999.0)\n",
      "('salinity', -999.0)\n",
      "('sigma_t', -999.0)\n",
      "('longitude', -69.922)\n",
      "('latitude', 43.6995)\n",
      "('depth', 2.0)\n",
      "('station', 'D03')\n",
      "('mooring_site_desc', 'Eastern Casco Bay')\n",
      "('water_depth', 33.0)\n",
      "('longitude', -69.92671)\n",
      "('latitude', 43.70411)\n",
      "('depth', 0.0)\n",
      "('station', 'D03')\n",
      "('longitude', -69.92671)\n",
      "('latitude', 43.70411)\n",
      "('station', 'D03')\n",
      "('mooring_site_desc', 'Eastern Casco Bay')\n",
      "('water_depth', 33.0)\n",
      "('longitude', -69.92671)\n",
      "('latitude', 43.70411)\n",
      "('depth', -3.0)\n",
      "('station', 'D03')\n",
      "('mooring_site_desc', 'Eastern Casco Bay')\n",
      "('water_depth', 33.0)\n",
      "('longitude', -69.92671)\n",
      "('latitude', 43.70411)\n",
      "('depth', 5.0)\n",
      "24\n",
      "('station', 'C02')\n",
      "('mooring_site_desc', 'Casco Bay')\n",
      "('longitude', -70.05778)\n",
      "('latitude', 43.567165)\n",
      "('depth', 2.0)\n",
      "('station', 'C02')\n",
      "('mooring_site_desc', 'Casco Bay')\n",
      "('longitude', -70.05778)\n",
      "('latitude', 43.567165)\n",
      "('depth', 0.0)\n",
      "('station', 'C02')\n",
      "('mooring_site_desc', 'Casco Bay')\n",
      "('longitude', -70.05778)\n",
      "('latitude', 43.567165)\n",
      "('depth', -3.0)\n",
      "('station', 'C02')\n",
      "('mooring_site_desc', 'Casco Bay')\n",
      "('longitude', -70.05778)\n",
      "('latitude', 43.567165)\n",
      "('depth', 20.0)\n",
      "('station', 'C02')\n",
      "('mooring_site_desc', 'Casco Bay')\n",
      "('longitude', -70.05778)\n",
      "('latitude', 43.567165)\n",
      "('depth', 1.0)\n",
      "17\n",
      "('station', 'I01')\n",
      "('mooring_site_desc', 'Eastern Maine Shelf')\n",
      "('depth', 2.0)\n",
      "('station', 'I01')\n",
      "('mooring_site_desc', 'Eastern Maine Shelf')\n",
      "('longitude', -68.11359)\n",
      "('latitude', 44.102818)\n",
      "('depth', 9.96921e+36)\n",
      "('station', 'I01')\n",
      "('mooring_site_desc', 'Eastern Maine Shelf')\n",
      "('water_depth', 100.0)\n",
      "('swell_and_wind_wave_separation_frequency_3', 0.125)\n",
      "('depth', 0.0)\n",
      "('station', 'I01')\n",
      "('mooring_site_desc', 'Eastern Maine Shelf')\n",
      "('depth', -3.0)\n",
      "('station', 'I01')\n",
      "('mooring_site_desc', 'Eastern Maine Shelf')\n",
      "('water_depth', 100.0)\n",
      "('longitude', -68.1087)\n",
      "('latitude', 44.1058)\n",
      "('station', 'I01')\n",
      "('mooring_site_desc', 'Eastern Maine Shelf')\n",
      "('water_depth', 100.0)\n",
      "('longitude', -68.1087)\n",
      "('latitude', 44.1058)\n",
      "('depth', 87.0)\n",
      "('station', 'I01')\n",
      "('mooring_site_desc', 'Eastern Maine Shelf')\n",
      "('station', 'I01')\n",
      "('mooring_site_desc', 'Eastern Maine Shelf')\n",
      "('water_depth', 100.0)\n",
      "('longitude', -68.112144)\n",
      "('latitude', 44.101734)\n",
      "('depth', 50.0)\n",
      "('station', 'I01')\n",
      "('Minute', 45)\n",
      "('Second', 0)\n",
      "('latitude', 44.1017338975947)\n",
      "('longitude', -68.11214455137862)\n",
      "('mooring_site_desc', 'Eastern Maine Shelf')\n",
      "('depth', 50)\n",
      "('water_depth', 100.0)\n",
      "50\n",
      "('station', 'F01')\n",
      "('mooring_site_desc', 'W. Penobscot Bay')\n",
      "('depth', 2.0)\n",
      "('station', 'F01')\n",
      "('mooring_site_desc', 'Penobscot Bay')\n",
      "('depth', 0.0)\n",
      "('station', 'F01')\n",
      "('mooring_site_desc', 'Penobscot Bay')\n",
      "('water_depth', 110.0)\n",
      "('swell_and_wind_wave_separation_frequency_3', 0.125)\n",
      "('depth', 0.0)\n",
      "('station', 'F01')\n",
      "('mooring_site_desc', 'W. Penobscot Bay')\n",
      "('depth', -3.0)\n",
      "('station', 'F01')\n",
      "('mooring_site_desc', 'W. Penobscot Bay')\n",
      "33\n",
      "('station', 'J02')\n",
      "('mooring_site_desc', 'Cobscook Bay')\n",
      "('longitude', -67.01676)\n",
      "('latitude', 44.89085)\n",
      "('depth', 2.0)\n",
      "('station', 'J02')\n",
      "('mooring_site_desc', 'Cobscook Bay')\n",
      "('longitude', -67.01072)\n",
      "('latitude', 44.887905)\n",
      "('depth', 0.0)\n",
      "('station', 'J02')\n",
      "('mooring_site_desc', 'Cobscook Bay')\n",
      "('longitude', -67.01676)\n",
      "('latitude', 44.89085)\n",
      "('depth', -3.0)\n",
      "('station', 'J02')\n",
      "('mooring_site_desc', 'Cobscook Bay')\n",
      "('longitude', -67.01676)\n",
      "('latitude', 44.89085)\n",
      "('depth', 10.0)\n",
      "14\n",
      "('station', 'J03')\n",
      "('mooring_site_desc', 'Cobscook Bay')\n",
      "('water_depth', 35.0)\n",
      "('conductivity', None)\n",
      "('salinity', None)\n",
      "('sigma_t', None)\n",
      "('longitude', -67.0122)\n",
      "('latitude', 44.8895)\n",
      "('depth', 2.0)\n",
      "('station', 'J03')\n",
      "('mooring_site_desc', 'Cobscook Bay')\n",
      "('water_depth', 35.0)\n",
      "('longitude', -67.01374)\n",
      "('latitude', 44.889214)\n",
      "('depth', 0.0)\n",
      "('station', 'J03')\n",
      "('mooring_site_desc', 'Cobscook Bay')\n",
      "('water_depth', 35.0)\n",
      "('offset_time', 0.0)\n",
      "('longitude', -67.01374)\n",
      "('latitude', 44.889214)\n",
      "('depth', 25.0)\n",
      "('station', 'J03')\n",
      "('longitude', -67.01374)\n",
      "('latitude', 44.889214)\n",
      "('depth', 10.0)\n",
      "('station', 'J03')\n",
      "('mooring_site_desc', 'Cobscook Bay')\n",
      "('water_depth', 35.0)\n",
      "('longitude', -67.01374)\n",
      "('latitude', 44.889214)\n",
      "('depth', -3.0)\n",
      "20\n",
      "('station', 'E05')\n",
      "('mooring_site_desc', 'near mouth of Damariscotta R')\n",
      "('water_depth', 28.0)\n",
      "('depth', 2.0)\n",
      "('station', 'E05')\n",
      "('station', 'E05')\n",
      "('mooring_site_desc', 'near mouth of Damariscotta R')\n",
      "('water_depth', 28.0)\n",
      "('depth', -3.0)\n",
      "('station', 'E05')\n",
      "('mooring_site_desc', 'near mouth of Damariscotta R')\n",
      "('water_depth', 28.0)\n",
      "('depth', 5.0)\n",
      "('station', 'E05')\n",
      "('mooring_site_desc', 'near mouth of Damariscotta R')\n",
      "('water_depth', 28.0)\n",
      "('offset_time', nan)\n",
      "('depth', 20.0)\n",
      "24\n",
      "('station', 'C05')\n",
      "('mooring_site_desc', 'Saco Bay')\n",
      "('water_depth', 28.0)\n",
      "('longitude', -70.31723)\n",
      "('latitude', 43.47783)\n",
      "('depth', 2.0)\n",
      "('station', 'C05')\n",
      "('mooring_site_desc', 'Saco Bay')\n",
      "('water_depth', 28.0)\n",
      "('longitude', -70.31723)\n",
      "('latitude', 43.47783)\n",
      "('depth', 0.0)\n",
      "('station', 'C05')\n",
      "('longitude', -70.31723)\n",
      "('latitude', 43.47783)\n",
      "('station', 'C05')\n",
      "('mooring_site_desc', 'Saco Bay')\n",
      "('water_depth', 28.0)\n",
      "('longitude', -70.31723)\n",
      "('latitude', 43.47783)\n",
      "('depth', -3.0)\n",
      "('station', 'C05')\n",
      "('mooring_site_desc', 'Saco Bay')\n",
      "('water_depth', 28.0)\n",
      "('longitude', -70.31723)\n",
      "('latitude', 43.47783)\n",
      "('depth', 5.0)\n",
      "('station', 'C05')\n",
      "('mooring_site_desc', 'Saco Bay')\n",
      "('water_depth', 28.0)\n",
      "('offset_time', nan)\n",
      "('longitude', -70.31723)\n",
      "('latitude', 43.47783)\n",
      "('depth', 20.0)\n",
      "24\n",
      "('station', 'E01')\n",
      "('mooring_site_desc', 'Central Maine Shelf')\n",
      "('depth', 2.0)\n",
      "('station', 'E01')\n",
      "('mooring_site_desc', 'Central Maine Shelf')\n",
      "('depth', 0.0)\n",
      "('station', 'E01')\n",
      "('mooring_site_desc', 'Central Maine Shelf')\n",
      "('water_depth', 100.0)\n",
      "('swell_and_wind_wave_separation_frequency_3', 0.125)\n",
      "('longitude', -69.35513)\n",
      "('latitude', 43.7155)\n",
      "('depth', 9.96921e+36)\n",
      "('station', 'E01')\n",
      "('mooring_site_desc', 'Central Maine Shelf')\n",
      "('depth', -3.0)\n",
      "('station', 'E01')\n",
      "('mooring_site_desc', 'Central Maine Shelf')\n",
      "('water_depth', 100.0)\n",
      "('longitude', -69.35925)\n",
      "('latitude', 43.71445)\n",
      "('station', 'E01')\n",
      "('mooring_site_desc', 'Central Maine Shelf')\n",
      "('water_depth', 100.0)\n",
      "('longitude', -69.3578)\n",
      "('latitude', 43.7148)\n",
      "('depth', 87.0)\n",
      "('station', 'E01')\n",
      "('mooring_site_desc', 'Central Maine Shelf')\n",
      "('longitude', -69.35588)\n",
      "('latitude', 43.7148)\n",
      "('station', 'E01')\n",
      "('mooring_site_desc', 'Central Maine Shelf')\n",
      "('water_depth', 100.0)\n",
      "('longitude', -69.35598)\n",
      "('latitude', 43.714493)\n",
      "('depth', 50.0)\n",
      "('station', 'E01')\n",
      "('Minute', 45)\n",
      "('Second', 0)\n",
      "('latitude', 43.71449373743217)\n",
      "('longitude', -69.35598281334187)\n",
      "('mooring_site_desc', 'Central Maine Shelf')\n",
      "('depth', 50)\n",
      "('water_depth', 100.0)\n",
      "47\n",
      "('station', 'N01')\n",
      "('mooring_site_desc', 'Northeast Channel')\n",
      "('depth', 2.0)\n"
     ]
    },
    {
     "name": "stdout",
     "output_type": "stream",
     "text": [
      "('station', 'N01')\n",
      "('mooring_site_desc', 'Northeast Channel')\n",
      "('depth', 0.0)\n",
      "('station', 'N01')\n",
      "('mooring_site_desc', 'Northeast Channel')\n",
      "('water_depth', 225.0)\n",
      "('swell_and_wind_wave_separation_frequency_3', 0.125)\n",
      "('depth', 0.0)\n",
      "('station', 'N01')\n",
      "('mooring_site_desc', 'Northeast Channel')\n",
      "('depth', -3.0)\n",
      "('station', 'N01')\n",
      "('mooring_site_desc', 'Northeast Channel')\n",
      "('station', 'N01')\n",
      "('mooring_site_desc', 'Northeast Channel')\n",
      "('water_depth', 225.0)\n",
      "('longitude', -65.91454)\n",
      "('latitude', 42.32653)\n",
      "('station', 'N01')\n",
      "('Year', 2016)\n",
      "('Minute', 45)\n",
      "('Second', 0)\n",
      "('latitude', 42.3258302861994)\n",
      "('longitude', -65.9147227894176)\n",
      "('mooring_site_desc', 'Northeast Channel')\n",
      "('water_depth', 225.0)\n",
      "40\n",
      "('station', 'E07')\n",
      "('mooring_site_desc', 'SEANET West of Monhegan')\n",
      "('water_depth', 40.0)\n",
      "('conductivity', None)\n",
      "('salinity', None)\n",
      "('sigma_t', None)\n",
      "('longitude', -69.42379)\n",
      "('latitude', 43.790733)\n",
      "('depth', 2.0)\n",
      "('station', 'E07')\n",
      "('mooring_site_desc', 'SEANET West of Monhegan')\n",
      "('water_depth', 40.0)\n",
      "('longitude', -69.42379)\n",
      "('latitude', 43.790733)\n",
      "('depth', 9.96921e+36)\n",
      "('station', 'E07')\n",
      "('mooring_site_desc', 'SEANET West of Monhegan')\n",
      "('water_depth', 40.0)\n",
      "('longitude', -69.42379)\n",
      "('latitude', 43.790733)\n",
      "('depth', -3.0)\n",
      "('station', 'E07')\n",
      "('mooring_site_desc', 'SEANET West of Monhegan')\n",
      "('water_depth', 40.0)\n",
      "('longitude', -69.42379)\n",
      "('latitude', 43.790733)\n",
      "21\n",
      "('station', 'A01')\n",
      "('mooring_site_desc', 'Stellwagen Bank')\n",
      "('longitude', -70.56522)\n",
      "('latitude', 42.518066)\n",
      "('depth', 2.0)\n",
      "('station', 'A01')\n",
      "('mooring_site_desc', 'Massachusetts Bay')\n",
      "('water_depth', 65.0)\n",
      "('depth', 2.0)\n",
      "('dissolved_oxygen', None)\n",
      "('station', 'A01')\n",
      "('mooring_site_desc', 'Massachusetts Bay')\n",
      "('longitude', -70.5655)\n",
      "('latitude', 42.5232)\n",
      "('depth', 9.96921e+36)\n",
      "('station', 'A01')\n",
      "('mooring_site_desc', 'Massachusetts Bay')\n",
      "('water_depth', 65.0)\n",
      "('swell_and_wind_wave_separation_frequency_3', 0.125)\n",
      "('longitude', -70.56592)\n",
      "('latitude', 42.523537)\n",
      "('depth', 9.96921e+36)\n",
      "('station', 'A01')\n",
      "('mooring_site_desc', 'Massachusetts Bay')\n",
      "('depth', -3.0)\n",
      "('station', 'A01')\n",
      "('mooring_site_desc', 'Massachusetts Bay')\n",
      "('depth', 3.0)\n",
      "('station', 'A01')\n",
      "('mooring_site_desc', 'Massachusetts Bay')\n",
      "('depth', 51.0)\n",
      "('station', 'A01')\n",
      "('mooring_site_desc', 'Massachusetts Bay')\n",
      "('water_depth', 65.0)\n",
      "('offset_time', 0.0)\n",
      "('station', 'A01')\n",
      "('mooring_site_desc', 'Massachusetts Bay')\n",
      "('water_depth', 65.0)\n",
      "('longitude', -70.5655)\n",
      "('latitude', 42.52205)\n",
      "('depth', 52.0)\n",
      "('station', 'A01')\n",
      "('mooring_site_desc', 'Massachusetts Bay')\n",
      "('depth', 50.0)\n",
      "('station', 'A01')\n",
      "('mooring_site_desc', 'Stellwagen Bank')\n",
      "43\n",
      "('station', 'B01')\n",
      "('mooring_site_desc', 'Western Maine Shelf')\n",
      "('depth', 2.0)\n",
      "('station', 'B01')\n",
      "('mooring_site_desc', 'Western Maine Shelf')\n",
      "('depth', 0.0)\n",
      "('station', 'B01')\n",
      "('mooring_site_desc', 'Western Maine Shelf')\n",
      "('water_depth', 62.0)\n",
      "('swell_and_wind_wave_separation_frequency_3', nan)\n",
      "('depth', 0.0)\n",
      "('station', 'B01')\n",
      "('mooring_site_desc', 'Western Maine Shelf')\n",
      "('depth', -3.0)\n",
      "('station', 'B01')\n",
      "('mooring_site_desc', 'Western Maine Shelf')\n",
      "('water_depth', 62.0)\n",
      "('longitude', -70.42755)\n",
      "('latitude', 43.18044)\n",
      "('depth', 0.0)\n",
      "('station', 'B01')\n",
      "('mooring_site_desc', 'Western Maine Shelf')\n",
      "('water_depth', 62.0)\n",
      "('offset_time', 0.0)\n",
      "('station', 'B01')\n",
      "('mooring_site_desc', 'Western Maine Shelf')\n",
      "('water_depth', 62.0)\n",
      "('longitude', -70.4278)\n",
      "('latitude', 43.1807)\n",
      "('depth', 52.0)\n",
      "('station', 'B01')\n",
      "('mooring_site_desc', 'Western Maine Shelf')\n",
      "41\n",
      "('station', 'L01')\n",
      "('mooring_site_desc', 'Scotian Shelf')\n",
      "('longitude', -66.55311)\n",
      "('latitude', 43.624798)\n",
      "('depth', 2.0)\n",
      "('station', 'L01')\n",
      "('mooring_site_desc', 'Scotian Shelf')\n",
      "('longitude', -66.55311)\n",
      "('latitude', 43.624798)\n",
      "('depth', 0.0)\n",
      "('station', 'L01')\n",
      "('mooring_site_desc', 'Scotian Shelf')\n",
      "('longitude', -66.55311)\n",
      "('latitude', 43.624798)\n",
      "('depth', -3.0)\n",
      "('station', 'L01')\n",
      "('mooring_site_desc', 'Scotian Shelf')\n",
      "('longitude', -66.553)\n",
      "('latitude', 43.625)\n",
      "15\n"
     ]
    }
   ],
   "source": [
    "UoM = list(filter(lambda x: len(x.split(\"0\")[0]) == 1, list(meta_dict.keys())))\n",
    "buoy_cols = {}\n",
    "buoy_times = {}\n",
    "buoy_constants = {key:[] for key in UoM}\n",
    "for buoy in UoM:\n",
    "    unique_cols = set()\n",
    "    unique_times = set()\n",
    "    for i in  meta_dict[buoy]:\n",
    "        df = master_dict[i]\n",
    "        non_const= df.nunique()>2\n",
    "        const = non_const[[not i for i in non_const]].index\n",
    "        for c in const:\n",
    "            tup = (c, df[c].values[0])\n",
    "            print(tup)\n",
    "            buoy_constants[buoy].append(tup)\n",
    "        df = df[non_const[non_const].index]\n",
    "        unique_cols= unique_cols.union(set(df.columns))\n",
    "        unique_times= unique_times.union(set(df.index))\n",
    "    buoy_cols[buoy]=list(unique_cols)\n",
    "    buoy_times[buoy]=list(unique_times)\n",
    "    print(len(unique_cols))"
   ]
  },
  {
   "cell_type": "code",
   "execution_count": 5,
   "id": "5cb2ed43",
   "metadata": {},
   "outputs": [],
   "source": [
    "int2time = {B:{i:buoy_times[B][i] for i in range(len(buoy_times[B]))} for B in UoM}\n",
    "time2int = {B:{v: k for k, v in int2time[B].items()}for B in UoM}\n",
    "# file = open(\"time_series_map\", \"wb\")\n",
    "# pickle.dump([int2time, time2int], file)"
   ]
  },
  {
   "cell_type": "code",
   "execution_count": 3,
   "id": "eec4a3e2",
   "metadata": {},
   "outputs": [
    {
     "ename": "NameError",
     "evalue": "name 'make_df' is not defined",
     "output_type": "error",
     "traceback": [
      "\u001b[0;31m---------------------------------------------------------------------------\u001b[0m",
      "\u001b[0;31mNameError\u001b[0m                                 Traceback (most recent call last)",
      "Cell \u001b[0;32mIn[3], line 1\u001b[0m\n\u001b[0;32m----> 1\u001b[0m \u001b[43mmake_df\u001b[49m(\u001b[38;5;124m'\u001b[39m\u001b[38;5;124mCINAR_DSG_ME198_sbe37\u001b[39m\u001b[38;5;124m'\u001b[39m)\n",
      "\u001b[0;31mNameError\u001b[0m: name 'make_df' is not defined"
     ]
    }
   ],
   "source": []
  },
  {
   "cell_type": "code",
   "execution_count": 6,
   "id": "97695680",
   "metadata": {},
   "outputs": [
    {
     "name": "stderr",
     "output_type": "stream",
     "text": [
      "  0%|                                                     | 0/7 [00:00<?, ?it/s]/var/folders/g6/dvksyd2x2vzgtx4pt5g71bzh0000gn/T/ipykernel_8465/3667964991.py:8: SettingWithCopyWarning: \n",
      "A value is trying to be set on a copy of a slice from a DataFrame.\n",
      "Try using .loc[row_indexer,col_indexer] = value instead\n",
      "\n",
      "See the caveats in the documentation: https://pandas.pydata.org/pandas-docs/stable/user_guide/indexing.html#returning-a-view-versus-a-copy\n",
      "  sub_df.loc[:,'index1'] = [time2int[B][i] for i in sub_df.index]\n",
      " 14%|██████▍                                      | 1/7 [00:00<00:02,  2.45it/s]/var/folders/g6/dvksyd2x2vzgtx4pt5g71bzh0000gn/T/ipykernel_8465/3667964991.py:8: SettingWithCopyWarning: \n",
      "A value is trying to be set on a copy of a slice from a DataFrame.\n",
      "Try using .loc[row_indexer,col_indexer] = value instead\n",
      "\n",
      "See the caveats in the documentation: https://pandas.pydata.org/pandas-docs/stable/user_guide/indexing.html#returning-a-view-versus-a-copy\n",
      "  sub_df.loc[:,'index1'] = [time2int[B][i] for i in sub_df.index]\n",
      "/var/folders/g6/dvksyd2x2vzgtx4pt5g71bzh0000gn/T/ipykernel_8465/3667964991.py:8: SettingWithCopyWarning: \n",
      "A value is trying to be set on a copy of a slice from a DataFrame.\n",
      "Try using .loc[row_indexer,col_indexer] = value instead\n",
      "\n",
      "See the caveats in the documentation: https://pandas.pydata.org/pandas-docs/stable/user_guide/indexing.html#returning-a-view-versus-a-copy\n",
      "  sub_df.loc[:,'index1'] = [time2int[B][i] for i in sub_df.index]\n",
      "/var/folders/g6/dvksyd2x2vzgtx4pt5g71bzh0000gn/T/ipykernel_8465/3667964991.py:8: SettingWithCopyWarning: \n",
      "A value is trying to be set on a copy of a slice from a DataFrame.\n",
      "Try using .loc[row_indexer,col_indexer] = value instead\n",
      "\n",
      "See the caveats in the documentation: https://pandas.pydata.org/pandas-docs/stable/user_guide/indexing.html#returning-a-view-versus-a-copy\n",
      "  sub_df.loc[:,'index1'] = [time2int[B][i] for i in sub_df.index]\n",
      "/var/folders/g6/dvksyd2x2vzgtx4pt5g71bzh0000gn/T/ipykernel_8465/3667964991.py:8: SettingWithCopyWarning: \n",
      "A value is trying to be set on a copy of a slice from a DataFrame.\n",
      "Try using .loc[row_indexer,col_indexer] = value instead\n",
      "\n",
      "See the caveats in the documentation: https://pandas.pydata.org/pandas-docs/stable/user_guide/indexing.html#returning-a-view-versus-a-copy\n",
      "  sub_df.loc[:,'index1'] = [time2int[B][i] for i in sub_df.index]\n",
      " 71%|████████████████████████████████▏            | 5/7 [00:00<00:00, 11.94it/s]/var/folders/g6/dvksyd2x2vzgtx4pt5g71bzh0000gn/T/ipykernel_8465/3667964991.py:8: SettingWithCopyWarning: \n",
      "A value is trying to be set on a copy of a slice from a DataFrame.\n",
      "Try using .loc[row_indexer,col_indexer] = value instead\n",
      "\n",
      "See the caveats in the documentation: https://pandas.pydata.org/pandas-docs/stable/user_guide/indexing.html#returning-a-view-versus-a-copy\n",
      "  sub_df.loc[:,'index1'] = [time2int[B][i] for i in sub_df.index]\n",
      "/var/folders/g6/dvksyd2x2vzgtx4pt5g71bzh0000gn/T/ipykernel_8465/3667964991.py:8: SettingWithCopyWarning: \n",
      "A value is trying to be set on a copy of a slice from a DataFrame.\n",
      "Try using .loc[row_indexer,col_indexer] = value instead\n",
      "\n",
      "See the caveats in the documentation: https://pandas.pydata.org/pandas-docs/stable/user_guide/indexing.html#returning-a-view-versus-a-copy\n",
      "  sub_df.loc[:,'index1'] = [time2int[B][i] for i in sub_df.index]\n",
      "100%|█████████████████████████████████████████████| 7/7 [00:00<00:00, 12.19it/s]\n"
     ]
    },
    {
     "name": "stdout",
     "output_type": "stream",
     "text": [
      "18503\n",
      "12385\n",
      "18427\n",
      "37013\n",
      "37094\n",
      "37013\n",
      "18435\n"
     ]
    },
    {
     "name": "stderr",
     "output_type": "stream",
     "text": [
      "  0%|                                                     | 0/8 [00:00<?, ?it/s]/var/folders/g6/dvksyd2x2vzgtx4pt5g71bzh0000gn/T/ipykernel_8465/3667964991.py:8: SettingWithCopyWarning: \n",
      "A value is trying to be set on a copy of a slice from a DataFrame.\n",
      "Try using .loc[row_indexer,col_indexer] = value instead\n",
      "\n",
      "See the caveats in the documentation: https://pandas.pydata.org/pandas-docs/stable/user_guide/indexing.html#returning-a-view-versus-a-copy\n",
      "  sub_df.loc[:,'index1'] = [time2int[B][i] for i in sub_df.index]\n",
      " 12%|█████▋                                       | 1/8 [00:00<00:01,  4.27it/s]"
     ]
    },
    {
     "name": "stdout",
     "output_type": "stream",
     "text": [
      "162114\n"
     ]
    },
    {
     "name": "stderr",
     "output_type": "stream",
     "text": [
      "/var/folders/g6/dvksyd2x2vzgtx4pt5g71bzh0000gn/T/ipykernel_8465/3667964991.py:8: SettingWithCopyWarning: \n",
      "A value is trying to be set on a copy of a slice from a DataFrame.\n",
      "Try using .loc[row_indexer,col_indexer] = value instead\n",
      "\n",
      "See the caveats in the documentation: https://pandas.pydata.org/pandas-docs/stable/user_guide/indexing.html#returning-a-view-versus-a-copy\n",
      "  sub_df.loc[:,'index1'] = [time2int[B][i] for i in sub_df.index]\n",
      " 25%|███████████▎                                 | 2/8 [00:00<00:02,  2.98it/s]/var/folders/g6/dvksyd2x2vzgtx4pt5g71bzh0000gn/T/ipykernel_8465/3667964991.py:8: SettingWithCopyWarning: \n",
      "A value is trying to be set on a copy of a slice from a DataFrame.\n",
      "Try using .loc[row_indexer,col_indexer] = value instead\n",
      "\n",
      "See the caveats in the documentation: https://pandas.pydata.org/pandas-docs/stable/user_guide/indexing.html#returning-a-view-versus-a-copy\n",
      "  sub_df.loc[:,'index1'] = [time2int[B][i] for i in sub_df.index]\n",
      " 38%|████████████████▉                            | 3/8 [00:00<00:01,  4.35it/s]"
     ]
    },
    {
     "name": "stdout",
     "output_type": "stream",
     "text": [
      "280104\n",
      "72237\n"
     ]
    },
    {
     "name": "stderr",
     "output_type": "stream",
     "text": [
      " 38%|████████████████▉                            | 3/8 [00:06<00:11,  2.29s/it]\n"
     ]
    },
    {
     "ename": "KeyboardInterrupt",
     "evalue": "",
     "output_type": "error",
     "traceback": [
      "\u001b[0;31m---------------------------------------------------------------------------\u001b[0m",
      "\u001b[0;31mKeyboardInterrupt\u001b[0m                         Traceback (most recent call last)",
      "Cell \u001b[0;32mIn[6], line 8\u001b[0m\n\u001b[1;32m      6\u001b[0m sub_df \u001b[38;5;241m=\u001b[39m master_dict[data]\n\u001b[1;32m      7\u001b[0m sub_df \u001b[38;5;241m=\u001b[39m sub_df[[i \u001b[38;5;28;01mfor\u001b[39;00m i \u001b[38;5;129;01min\u001b[39;00m buoy_cols[B] \u001b[38;5;28;01mif\u001b[39;00m i \u001b[38;5;129;01min\u001b[39;00m sub_df\u001b[38;5;241m.\u001b[39mcolumns]]\n\u001b[0;32m----> 8\u001b[0m sub_df\u001b[38;5;241m.\u001b[39mloc[:,\u001b[38;5;124m'\u001b[39m\u001b[38;5;124mindex1\u001b[39m\u001b[38;5;124m'\u001b[39m] \u001b[38;5;241m=\u001b[39m [time2int[B][i] \u001b[38;5;28;01mfor\u001b[39;00m i \u001b[38;5;129;01min\u001b[39;00m sub_df\u001b[38;5;241m.\u001b[39mindex]\n\u001b[1;32m      9\u001b[0m \u001b[38;5;28mprint\u001b[39m(\u001b[38;5;28mlen\u001b[39m(sub_df))\n\u001b[1;32m     10\u001b[0m sub_df \u001b[38;5;241m=\u001b[39m sub_df\u001b[38;5;241m.\u001b[39mdrop_duplicates(\u001b[38;5;124m'\u001b[39m\u001b[38;5;124mindex1\u001b[39m\u001b[38;5;124m'\u001b[39m)\n",
      "Cell \u001b[0;32mIn[6], line 8\u001b[0m, in \u001b[0;36m<listcomp>\u001b[0;34m(.0)\u001b[0m\n\u001b[1;32m      6\u001b[0m sub_df \u001b[38;5;241m=\u001b[39m master_dict[data]\n\u001b[1;32m      7\u001b[0m sub_df \u001b[38;5;241m=\u001b[39m sub_df[[i \u001b[38;5;28;01mfor\u001b[39;00m i \u001b[38;5;129;01min\u001b[39;00m buoy_cols[B] \u001b[38;5;28;01mif\u001b[39;00m i \u001b[38;5;129;01min\u001b[39;00m sub_df\u001b[38;5;241m.\u001b[39mcolumns]]\n\u001b[0;32m----> 8\u001b[0m sub_df\u001b[38;5;241m.\u001b[39mloc[:,\u001b[38;5;124m'\u001b[39m\u001b[38;5;124mindex1\u001b[39m\u001b[38;5;124m'\u001b[39m] \u001b[38;5;241m=\u001b[39m [time2int[B][i] \u001b[38;5;28;01mfor\u001b[39;00m i \u001b[38;5;129;01min\u001b[39;00m sub_df\u001b[38;5;241m.\u001b[39mindex]\n\u001b[1;32m      9\u001b[0m \u001b[38;5;28mprint\u001b[39m(\u001b[38;5;28mlen\u001b[39m(sub_df))\n\u001b[1;32m     10\u001b[0m sub_df \u001b[38;5;241m=\u001b[39m sub_df\u001b[38;5;241m.\u001b[39mdrop_duplicates(\u001b[38;5;124m'\u001b[39m\u001b[38;5;124mindex1\u001b[39m\u001b[38;5;124m'\u001b[39m)\n",
      "File \u001b[0;32m~/miniconda3/lib/python3.10/site-packages/pandas/core/arrays/datetimes.py:590\u001b[0m, in \u001b[0;36mDatetimeArray.__iter__\u001b[0;34m(self)\u001b[0m\n\u001b[1;32m    588\u001b[0m start_i \u001b[38;5;241m=\u001b[39m i \u001b[38;5;241m*\u001b[39m chunksize\n\u001b[1;32m    589\u001b[0m end_i \u001b[38;5;241m=\u001b[39m \u001b[38;5;28mmin\u001b[39m((i \u001b[38;5;241m+\u001b[39m \u001b[38;5;241m1\u001b[39m) \u001b[38;5;241m*\u001b[39m chunksize, length)\n\u001b[0;32m--> 590\u001b[0m converted \u001b[38;5;241m=\u001b[39m \u001b[43mints_to_pydatetime\u001b[49m\u001b[43m(\u001b[49m\n\u001b[1;32m    591\u001b[0m \u001b[43m    \u001b[49m\u001b[43mdata\u001b[49m\u001b[43m[\u001b[49m\u001b[43mstart_i\u001b[49m\u001b[43m:\u001b[49m\u001b[43mend_i\u001b[49m\u001b[43m]\u001b[49m\u001b[43m,\u001b[49m\n\u001b[1;32m    592\u001b[0m \u001b[43m    \u001b[49m\u001b[43mtz\u001b[49m\u001b[38;5;241;43m=\u001b[39;49m\u001b[38;5;28;43mself\u001b[39;49m\u001b[38;5;241;43m.\u001b[39;49m\u001b[43mtz\u001b[49m\u001b[43m,\u001b[49m\n\u001b[1;32m    593\u001b[0m \u001b[43m    \u001b[49m\u001b[43mfreq\u001b[49m\u001b[38;5;241;43m=\u001b[39;49m\u001b[38;5;28;43mself\u001b[39;49m\u001b[38;5;241;43m.\u001b[39;49m\u001b[43mfreq\u001b[49m\u001b[43m,\u001b[49m\n\u001b[1;32m    594\u001b[0m \u001b[43m    \u001b[49m\u001b[43mbox\u001b[49m\u001b[38;5;241;43m=\u001b[39;49m\u001b[38;5;124;43m\"\u001b[39;49m\u001b[38;5;124;43mtimestamp\u001b[39;49m\u001b[38;5;124;43m\"\u001b[39;49m\u001b[43m,\u001b[49m\n\u001b[1;32m    595\u001b[0m \u001b[43m    \u001b[49m\u001b[43mreso\u001b[49m\u001b[38;5;241;43m=\u001b[39;49m\u001b[38;5;28;43mself\u001b[39;49m\u001b[38;5;241;43m.\u001b[39;49m\u001b[43m_reso\u001b[49m\u001b[43m,\u001b[49m\n\u001b[1;32m    596\u001b[0m \u001b[43m\u001b[49m\u001b[43m)\u001b[49m\n\u001b[1;32m    597\u001b[0m \u001b[38;5;28;01myield from\u001b[39;00m converted\n",
      "\u001b[0;31mKeyboardInterrupt\u001b[0m: "
     ]
    }
   ],
   "source": [
    "undupped = {k:None for k in UoM}\n",
    "for B in UoM:\n",
    "    datasets = [i for i in master_dict.keys() if i.split('_')[0]==B]\n",
    "    undupped[B] = {k:None for k in datasets}\n",
    "    for data in tqdm(datasets):\n",
    "        sub_df = master_dict[data]\n",
    "        sub_df = sub_df[[i for i in buoy_cols[B] if i in sub_df.columns]]\n",
    "        sub_df.loc[:,'index1'] = [time2int[B][i] for i in sub_df.index]\n",
    "        print(len(sub_df))\n",
    "        sub_df = sub_df.drop_duplicates('index1')\n",
    "        assert sub_df['index1'].is_unique\n",
    "        undupped[B][data] = sub_df.set_index('index1')"
   ]
  },
  {
   "cell_type": "code",
   "execution_count": 220,
   "id": "d1ecb196",
   "metadata": {},
   "outputs": [],
   "source": [
    "def splice(temp_df, sub_df):\n",
    "    df_tonan = temp_df.isna()\n",
    "    ind = list(sub_df.index)\n",
    "    for i in ind:\n",
    "        still_nan = df_tonan.loc[i].iloc[:1]\n",
    "        good_cols = still_nan[still_nan].index\n",
    "        temp_df.loc[i,good_cols] = sub_df.loc[i, good_cols]\n",
    "    return temp_df"
   ]
  },
  {
   "cell_type": "code",
   "execution_count": 221,
   "id": "fe834ff8",
   "metadata": {},
   "outputs": [
    {
     "name": "stderr",
     "output_type": "stream",
     "text": [
      "100%|█████████████████████████████████████████████| 7/7 [00:35<00:00,  5.14s/it]\n",
      "100%|█████████████████████████████████████████████| 8/8 [07:46<00:00, 58.35s/it]\n",
      "100%|█████████████████████████████████████████████| 5/5 [00:28<00:00,  5.72s/it]\n",
      "100%|█████████████████████████████████████████████| 5/5 [02:44<00:00, 32.97s/it]\n",
      "100%|█████████████████████████████████████████████| 9/9 [07:16<00:00, 48.47s/it]\n",
      "100%|█████████████████████████████████████████████| 5/5 [08:14<00:00, 98.92s/it]\n",
      "100%|█████████████████████████████████████████████| 4/4 [01:29<00:00, 22.35s/it]\n",
      "100%|█████████████████████████████████████████████| 5/5 [00:25<00:00,  5.16s/it]\n",
      "100%|█████████████████████████████████████████████| 5/5 [00:46<00:00,  9.37s/it]\n",
      "100%|█████████████████████████████████████████████| 6/6 [00:33<00:00,  5.56s/it]\n",
      "100%|█████████████████████████████████████████████| 9/9 [07:00<00:00, 46.68s/it]\n",
      "100%|█████████████████████████████████████████████| 7/7 [05:51<00:00, 50.21s/it]\n",
      "100%|█████████████████████████████████████████████| 4/4 [01:13<00:00, 18.35s/it]\n",
      "100%|███████████████████████████████████████████| 11/11 [07:39<00:00, 41.81s/it]\n",
      "100%|█████████████████████████████████████████████| 8/8 [07:14<00:00, 54.32s/it]\n",
      "100%|█████████████████████████████████████████████| 4/4 [01:31<00:00, 22.87s/it]\n"
     ]
    }
   ],
   "source": [
    "for B in UoM:\n",
    "    dfB = pd.DataFrame(columns=buoy_cols[B], index=[time2int[B][i] for i in buoy_times[B]])\n",
    "    for data in tqdm(undupped[B]):\n",
    "        sub_df = undupped[B][data]\n",
    "        temp_df = dfB.loc[sub_df.index,sub_df.columns]      \n",
    "        dfB.loc[sub_df.index,sub_df.columns] = splice(temp_df, sub_df)\n",
    "    file = open(f\"{B}_df.pickle\",'wb')\n",
    "    pickle.dump(dfB, file)"
   ]
  },
  {
   "cell_type": "code",
   "execution_count": 7,
   "id": "ccc0ab8e",
   "metadata": {},
   "outputs": [],
   "source": [
    "for B in UoM:\n",
    "    file = open(f\"{B}_undupped.pickle\",'wb')\n",
    "    pickle.dump(undupped[B],file)"
   ]
  }
 ],
 "metadata": {
  "kernelspec": {
   "display_name": "Python 3 (ipykernel)",
   "language": "python",
   "name": "python3"
  },
  "language_info": {
   "codemirror_mode": {
    "name": "ipython",
    "version": 3
   },
   "file_extension": ".py",
   "mimetype": "text/x-python",
   "name": "python",
   "nbconvert_exporter": "python",
   "pygments_lexer": "ipython3",
   "version": "3.10.9"
  }
 },
 "nbformat": 4,
 "nbformat_minor": 5
}
