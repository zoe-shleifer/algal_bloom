{
 "cells": [
  {
   "cell_type": "code",
   "execution_count": 156,
   "id": "9912c436",
   "metadata": {},
   "outputs": [],
   "source": [
    "from tqdm import tqdm\n",
    "import numpy as np\n",
    "from requests import get\n",
    "import pandas as pd\n",
    "import seaborn as sns\n",
    "import matplotlib.pyplot as plt\n",
    "from typing import List, Dict\n",
    "from pprint import pprint as pp\n",
    "import datetime\n",
    "import pickle"
   ]
  },
  {
   "cell_type": "code",
   "execution_count": 157,
   "id": "edb9d0af",
   "metadata": {},
   "outputs": [],
   "source": [
    "file = open(\"buoy_metadata.pickle\",'rb')\n",
    "meta_dict = pickle.load(file)\n",
    "file = open(\"A01_df.pickle\",'rb')\n",
    "A01_df = pickle.load(file)"
   ]
  },
  {
   "cell_type": "code",
   "execution_count": 158,
   "id": "1c583e33",
   "metadata": {},
   "outputs": [
    {
     "data": {
      "text/plain": [
       "(868672, 43)"
      ]
     },
     "execution_count": 158,
     "metadata": {},
     "output_type": "execute_result"
    }
   ],
   "source": [
    "A01_df.shape"
   ]
  },
  {
   "cell_type": "code",
   "execution_count": 159,
   "id": "5fc10bf0",
   "metadata": {},
   "outputs": [],
   "source": [
    "file = open(\"time_series_map\",'rb')\n",
    "int2time, time2int = pickle.load(file)"
   ]
  },
  {
   "cell_type": "code",
   "execution_count": 27,
   "id": "df4372ac",
   "metadata": {},
   "outputs": [],
   "source": [
    "file = open(\"E01_undupped.pickle\",'rb')\n",
    "E01_undupped = pickle.load(file)"
   ]
  },
  {
   "cell_type": "code",
   "execution_count": 173,
   "id": "3e212b99",
   "metadata": {},
   "outputs": [],
   "source": [
    "file = open(\"A01_undupped.pickle\",'rb')\n",
    "A01_un = pickle.load(file)"
   ]
  },
  {
   "cell_type": "code",
   "execution_count": 34,
   "id": "47d3bfd8",
   "metadata": {},
   "outputs": [
    {
     "data": {
      "text/plain": [
       "dict_keys(['E01_aanderaa_all', 'E01_accelerometer_all', 'E01_waves_mstrain_all', 'E01_met_all', 'E01_optics_hist', 'E01_sbe16_trans_all', 'E01_sbe37_all', 'E01_suna_all', 'E01_corrected_nitrate_csv'])"
      ]
     },
     "execution_count": 34,
     "metadata": {},
     "output_type": "execute_result"
    }
   ],
   "source": [
    "E01_undupped.keys()"
   ]
  },
  {
   "cell_type": "code",
   "execution_count": 33,
   "id": "35387ac5",
   "metadata": {},
   "outputs": [],
   "source": [
    "E01_undupped['E01_aanderaa_all'] = E01_undupped['E01_aanderaa_all'].drop(['longitude','latitude','depth'],axis=1)"
   ]
  },
  {
   "cell_type": "code",
   "execution_count": 36,
   "id": "3d6c0e0c",
   "metadata": {},
   "outputs": [],
   "source": [
    "E01_undupped['E01_accelerometer_all'].drop(['longitude','latitude','depth'],axis=1,inplace=True)"
   ]
  },
  {
   "cell_type": "code",
   "execution_count": 37,
   "id": "fec623e5",
   "metadata": {},
   "outputs": [],
   "source": [
    "E01_undupped['E01_waves_mstrain_all'].drop(['longitude','latitude','depth','time_created','offset_time','time_modified'],axis=1,inplace=True)"
   ]
  },
  {
   "cell_type": "code",
   "execution_count": 42,
   "id": "66314e97",
   "metadata": {},
   "outputs": [],
   "source": [
    "E01_undupped['E01_met_all'].drop(['longitude','latitude','depth'],axis=1,inplace=True)"
   ]
  },
  {
   "cell_type": "code",
   "execution_count": 44,
   "id": "21a564aa",
   "metadata": {},
   "outputs": [],
   "source": [
    "E01_undupped['E01_optics_hist'].drop(['longitude','latitude','depth'],axis=1,inplace=True)"
   ]
  },
  {
   "cell_type": "code",
   "execution_count": 47,
   "id": "cd65510f",
   "metadata": {},
   "outputs": [],
   "source": [
    "E01_undupped['E01_sbe16_trans_all'].drop(['longitude','latitude','depth','time_created','time_modified'],axis=1,inplace=True)"
   ]
  },
  {
   "cell_type": "code",
   "execution_count": 50,
   "id": "8261587e",
   "metadata": {},
   "outputs": [],
   "source": [
    "E01_undupped['E01_sbe37_all'].drop(['longitude','latitude','depth'],axis=1,inplace=True)"
   ]
  },
  {
   "cell_type": "code",
   "execution_count": 52,
   "id": "71b2acb4",
   "metadata": {},
   "outputs": [],
   "source": [
    "E01_undupped['E01_suna_all'].drop(['longitude','latitude','depth','time_modified'],axis=1,inplace=True)"
   ]
  },
  {
   "cell_type": "code",
   "execution_count": 55,
   "id": "ae33e9a2",
   "metadata": {},
   "outputs": [],
   "source": [
    "E01_undupped['E01_corrected_nitrate_csv'].drop(['longitude','latitude','depth','Year','Day','Month','Hour','Nitrate'],axis=1,inplace=True)"
   ]
  },
  {
   "cell_type": "code",
   "execution_count": 58,
   "id": "316f6070",
   "metadata": {},
   "outputs": [
    {
     "name": "stdout",
     "output_type": "stream",
     "text": [
      "temperature          0.005097\n",
      "current_direction    0.004599\n",
      "current_speed        0.003008\n",
      "dtype: float64\n",
      "dominant_wave_period       0.001323\n",
      "significant_wave_height    0.001794\n",
      "dtype: float64\n",
      "wind_wave_height_3                   0.939932\n",
      "dominant_wave_period_3               0.001098\n",
      "maximum_wave_height_3                0.939932\n",
      "index                                0.939932\n",
      "wind_wave_period_3                   0.939932\n",
      "swell_wave_height_3                  0.939932\n",
      "principal_wave_direction_3           0.939932\n",
      "swell_wave_period_3                  0.939932\n",
      "significant_wave_height_3            0.001169\n",
      "mean_wave_direction_spread_3         0.939932\n",
      "mean_wave_direction_3                0.000043\n",
      "principal_wave_direction_spread_3    0.939932\n",
      "wave_steepness_3                     0.939932\n",
      "dtype: float64\n",
      "wind_direction         0.000093\n",
      "barometric_pressure    0.031156\n",
      "air_temperature        0.000468\n",
      "visibility             0.049542\n",
      "wind_gust              0.000113\n",
      "wind_speed             0.000126\n",
      "dtype: float64\n",
      "solar_zenith_angle    0.946908\n",
      "chlorophyll           0.417782\n",
      "Ed_PAR                0.074045\n",
      "dtype: float64\n",
      "salinity                  0.003339\n",
      "transmissivity_voltage    0.000000\n",
      "attenuation               0.009964\n",
      "transmissivity            0.009964\n",
      "conductivity              0.003016\n",
      "temperature               0.000323\n",
      "sigma_t                   0.003286\n",
      "dtype: float64\n",
      "salinity        0.439300\n",
      "conductivity    0.428458\n",
      "temperature     0.416350\n",
      "sigma_t         0.439380\n",
      "dtype: float64\n",
      "time_created    0.0\n",
      "nitrate         0.0\n",
      "dtype: float64\n",
      "Standard_Deviation    0.000763\n",
      "Nitrate_umol          0.000763\n",
      "dtype: float64\n"
     ]
    }
   ],
   "source": [
    "for dat in E01_undupped:\n",
    "    print(E01_undupped[dat].isna().sum()/len(E01_undupped[dat]))"
   ]
  },
  {
   "cell_type": "code",
   "execution_count": 61,
   "id": "b165dcb7",
   "metadata": {},
   "outputs": [],
   "source": [
    "for dat in E01_undupped:\n",
    "    E01_undupped[dat]['time']=[int2time['E01'][i] for i in E01_undupped[dat].index]\n",
    "    E01_undupped[dat].set_index('time',inplace=True)"
   ]
  },
  {
   "cell_type": "code",
   "execution_count": 174,
   "id": "45402885",
   "metadata": {},
   "outputs": [],
   "source": [
    "for dat in A01_un:\n",
    "    A01_un[dat]['time']=[int2time['A01'][i] for i in A01_un[dat].index]\n",
    "    A01_un[dat].set_index('time',inplace=True)"
   ]
  },
  {
   "cell_type": "code",
   "execution_count": 172,
   "id": "ee98789b",
   "metadata": {},
   "outputs": [
    {
     "data": {
      "text/plain": [
       "time_created                         752409\n",
       "current_direction                    777418\n",
       "mean_wave_direction_3                868672\n",
       "principal_wave_direction_3           868672\n",
       "significant_wave_height_3            868672\n",
       "conductivity                         593387\n",
       "longitude                             19407\n",
       "wind_speed                           868672\n",
       "latitude                             868672\n",
       "swell_wave_height_3                  868672\n",
       "turbidity                            868672\n",
       "chlorophyll                          868672\n",
       "time_modified                        868672\n",
       "wind_gust                            868672\n",
       "wind_wave_period_3                   868672\n",
       "air_temperature                      868672\n",
       "temperature                          868672\n",
       "barometric_pressure                  868672\n",
       "principal_wave_direction_spread_3    868672\n",
       "swell_wave_period_3                  868672\n",
       "visibility                           868672\n",
       "dissolved_oxygen                     868672\n",
       "attenuation                          868672\n",
       "salinity                             868672\n",
       "index                                868672\n",
       "wave_steepness_3                     868672\n",
       "percent_oxygen_saturation            868672\n",
       "transmissivity                       868672\n",
       "current_v                            868672\n",
       "depth                                868672\n",
       "mean_wave_direction_spread_3         868672\n",
       "dominant_wave_period_3               868672\n",
       "transmissivity_voltage               868672\n",
       "current_u                            868672\n",
       "offset_time                          868672\n",
       "significant_wave_height              868672\n",
       "dominant_wave_period                 868672\n",
       "current_speed                        868672\n",
       "sigma_t                              868672\n",
       "wind_direction                       868672\n",
       "oxygen_saturation                    868672\n",
       "wind_wave_height_3                   868672\n",
       "maximum_wave_height_3                868672\n",
       "dtype: int64"
      ]
     },
     "execution_count": 172,
     "metadata": {},
     "output_type": "execute_result"
    }
   ],
   "source": [
    "A01_df.isna().sum()"
   ]
  },
  {
   "cell_type": "code",
   "execution_count": 175,
   "id": "70259b58",
   "metadata": {},
   "outputs": [
    {
     "name": "stdout",
     "output_type": "stream",
     "text": [
      "A01_aanderaa_hist\n",
      "Index(['longitude', 'temperature', 'depth', 'latitude', 'current_direction',\n",
      "       'current_speed'],\n",
      "      dtype='object')\n",
      "A01_aanderaa_o2_all\n",
      "Index(['longitude', 'current_u', 'time_created', 'current_v', 'temperature',\n",
      "       'depth', 'latitude', 'time_modified', 'dissolved_oxygen',\n",
      "       'current_direction', 'percent_oxygen_saturation', 'current_speed'],\n",
      "      dtype='object')\n",
      "A01_accelerometer_all\n",
      "Index(['dominant_wave_period', 'longitude', 'depth', 'latitude',\n",
      "       'significant_wave_height'],\n",
      "      dtype='object')\n",
      "A01_waves_mstrain_all\n",
      "Index(['wind_wave_height_3', 'longitude', 'dominant_wave_period_3',\n",
      "       'time_created', 'maximum_wave_height_3', 'index', 'wind_wave_period_3',\n",
      "       'swell_wave_height_3', 'offset_time', 'depth', 'latitude',\n",
      "       'principal_wave_direction_3', 'time_modified', 'swell_wave_period_3',\n",
      "       'significant_wave_height_3', 'mean_wave_direction_spread_3',\n",
      "       'mean_wave_direction_3', 'principal_wave_direction_spread_3',\n",
      "       'wave_steepness_3'],\n",
      "      dtype='object')\n",
      "A01_met_all\n",
      "Index(['wind_direction', 'barometric_pressure', 'longitude', 'air_temperature',\n",
      "       'depth', 'latitude', 'visibility', 'wind_gust', 'wind_speed'],\n",
      "      dtype='object')\n",
      "A01_optics_s_all\n",
      "Index(['longitude', 'chlorophyll', 'depth', 'latitude', 'turbidity'], dtype='object')\n",
      "A01_optode_all\n",
      "Index(['longitude', 'oxygen_saturation', 'time_created', 'temperature',\n",
      "       'depth', 'latitude', 'time_modified', 'dissolved_oxygen',\n",
      "       'percent_oxygen_saturation'],\n",
      "      dtype='object')\n",
      "A01_doppler_rt\n",
      "Index(['longitude', 'current_u', 'current_v', 'offset_time', 'depth',\n",
      "       'latitude'],\n",
      "      dtype='object')\n",
      "A01_sbe16_trans_all\n",
      "Index(['longitude', 'salinity', 'transmissivity_voltage', 'attenuation',\n",
      "       'time_created', 'transmissivity', 'conductivity', 'temperature',\n",
      "       'depth', 'latitude', 'time_modified', 'sigma_t'],\n",
      "      dtype='object')\n",
      "A01_sbe16_disox_all\n",
      "Index(['longitude', 'salinity', 'oxygen_saturation', 'conductivity',\n",
      "       'temperature', 'depth', 'latitude', 'dissolved_oxygen', 'sigma_t',\n",
      "       'percent_oxygen_saturation'],\n",
      "      dtype='object')\n",
      "A01_sbe37_all\n",
      "Index(['longitude', 'salinity', 'conductivity', 'temperature', 'depth',\n",
      "       'latitude', 'sigma_t'],\n",
      "      dtype='object')\n"
     ]
    }
   ],
   "source": [
    "bad = ['longitude','latitude','depth','time_modified','time_created','dissolved_oxygen']\n",
    "for dat in A01_un:\n",
    "    print(dat)\n",
    "    print(A01_un[dat].columns)"
   ]
  },
  {
   "cell_type": "code",
   "execution_count": 176,
   "id": "2c1be284",
   "metadata": {},
   "outputs": [
    {
     "name": "stderr",
     "output_type": "stream",
     "text": [
      "/var/folders/g6/dvksyd2x2vzgtx4pt5g71bzh0000gn/T/ipykernel_57859/1124188939.py:3: FutureWarning: Value based partial slicing on non-monotonic DatetimeIndexes with non-existing keys is deprecated and will raise a KeyError in a future Version.\n",
      "  E01_undupped['E01_optics_hist']['chlorophyll'].loc[dr[0]:dr[1]].resample(\"D\").mean().plot(style=\"-\",ax=ax)\n"
     ]
    },
    {
     "data": {
      "text/plain": [
       "<matplotlib.legend.Legend at 0x3beaf47f0>"
      ]
     },
     "execution_count": 176,
     "metadata": {},
     "output_type": "execute_result"
    },
    {
     "data": {
      "image/png": "[encoded data removed]",
      "text/plain": [
       "<Figure size 1500x500 with 1 Axes>"
      ]
     },
     "metadata": {},
     "output_type": "display_data"
    }
   ],
   "source": [
    "dr = ['2000-01-01','2022-01-01']\n",
    "fig, ax = plt.subplots(1,1,figsize=(15, 5))\n",
    "E01_undupped['E01_optics_hist']['chlorophyll'].loc[dr[0]:dr[1]].resample(\"D\").mean().plot(style=\"-\",ax=ax)\n",
    "E01_undupped['E01_met_all']['visibility'].loc[dr[0]:dr[1]].resample(\"D\").mean().plot(style=\"-\",ax=ax)\n",
    "plt.legend(loc = 'upper right')"
   ]
  },
  {
   "cell_type": "code",
   "execution_count": 199,
   "id": "4cd79e01",
   "metadata": {},
   "outputs": [
    {
     "data": {
      "text/plain": [
       "longitude       0\n",
       "chlorophyll    27\n",
       "depth           0\n",
       "latitude        0\n",
       "turbidity       0\n",
       "dtype: int64"
      ]
     },
     "execution_count": 199,
     "metadata": {},
     "output_type": "execute_result"
    }
   ],
   "source": [
    "dr = ['2000-01-01','2001-01-01']\n",
    "A01_un['A01_optics_s_all'].head(5800).isna().sum()"
   ]
  },
  {
   "cell_type": "code",
   "execution_count": 151,
   "id": "4a500b01",
   "metadata": {},
   "outputs": [],
   "source": [
    "def sampling(sequence, n_steps):\n",
    "\n",
    "    X, Y = list(), list()\n",
    "\n",
    "    for i in range(len(sequence)):\n",
    "        sam = i + n_steps\n",
    "        if sam > len(sequence)-1:\n",
    "            break\n",
    "        x, y = sequence[i:sam], sequence[sam]\n",
    "\n",
    "        X.append(x)\n",
    "\n",
    "        Y.append(y)\n",
    "\n",
    "    return np.array(X), np.array(Y)"
   ]
  },
  {
   "cell_type": "code",
   "execution_count": 202,
   "id": "6491b2f2",
   "metadata": {},
   "outputs": [],
   "source": [
    "num = 5000\n",
    "mylist = A01_un['A01_optics_s_all']['chlorophyll']\n",
    "d = {i: mylist.index[i] for i in range(len(mylist))}\n",
    "dr = {v:k for k,v in d.items()}\n",
    "for i in mylist[mylist.isna()[mylist.isna()].index].index:\n",
    "    mylist[i] = mylist[d[dr[i]-1]]"
   ]
  },
  {
   "cell_type": "code",
   "execution_count": 209,
   "id": "f458c7bd",
   "metadata": {},
   "outputs": [
    {
     "data": {
      "text/plain": [
       "Index(['time_created', 'current_direction', 'mean_wave_direction_3',\n",
       "       'principal_wave_direction_3', 'significant_wave_height_3',\n",
       "       'conductivity', 'longitude', 'wind_speed', 'latitude',\n",
       "       'swell_wave_height_3', 'turbidity', 'chlorophyll', 'time_modified',\n",
       "       'wind_gust', 'wind_wave_period_3', 'air_temperature', 'temperature',\n",
       "       'barometric_pressure', 'principal_wave_direction_spread_3',\n",
       "       'swell_wave_period_3', 'visibility', 'dissolved_oxygen', 'attenuation',\n",
       "       'salinity', 'index', 'wave_steepness_3', 'percent_oxygen_saturation',\n",
       "       'transmissivity', 'current_v', 'depth', 'mean_wave_direction_spread_3',\n",
       "       'dominant_wave_period_3', 'transmissivity_voltage', 'current_u',\n",
       "       'offset_time', 'significant_wave_height', 'dominant_wave_period',\n",
       "       'current_speed', 'sigma_t', 'wind_direction', 'oxygen_saturation',\n",
       "       'wind_wave_height_3', 'maximum_wave_height_3'],\n",
       "      dtype='object')"
      ]
     },
     "execution_count": 209,
     "metadata": {},
     "output_type": "execute_result"
    }
   ],
   "source": [
    "A01_df.columns"
   ]
  },
  {
   "cell_type": "code",
   "execution_count": 205,
   "id": "32530c82",
   "metadata": {},
   "outputs": [
    {
     "data": {
      "text/html": [
       "<div>\n",
       "<style scoped>\n",
       "    .dataframe tbody tr th:only-of-type {\n",
       "        vertical-align: middle;\n",
       "    }\n",
       "\n",
       "    .dataframe tbody tr th {\n",
       "        vertical-align: top;\n",
       "    }\n",
       "\n",
       "    .dataframe thead th {\n",
       "        text-align: right;\n",
       "    }\n",
       "</style>\n",
       "<table border=\"1\" class=\"dataframe\">\n",
       "  <thead>\n",
       "    <tr style=\"text-align: right;\">\n",
       "      <th></th>\n",
       "      <th>longitude</th>\n",
       "      <th>chlorophyll</th>\n",
       "      <th>depth</th>\n",
       "      <th>latitude</th>\n",
       "      <th>turbidity</th>\n",
       "      <th>y</th>\n",
       "    </tr>\n",
       "    <tr>\n",
       "      <th>time</th>\n",
       "      <th></th>\n",
       "      <th></th>\n",
       "      <th></th>\n",
       "      <th></th>\n",
       "      <th></th>\n",
       "      <th></th>\n",
       "    </tr>\n",
       "  </thead>\n",
       "  <tbody>\n",
       "    <tr>\n",
       "      <th>2005-10-22 12:00:00+00:00</th>\n",
       "      <td>-70.5667</td>\n",
       "      <td>0.975000</td>\n",
       "      <td>3.0</td>\n",
       "      <td>42.5236</td>\n",
       "      <td>0.5376</td>\n",
       "      <td>0.975000</td>\n",
       "    </tr>\n",
       "    <tr>\n",
       "      <th>2005-10-22 13:00:00+00:00</th>\n",
       "      <td>-70.5667</td>\n",
       "      <td>0.950000</td>\n",
       "      <td>3.0</td>\n",
       "      <td>42.5236</td>\n",
       "      <td>0.5504</td>\n",
       "      <td>0.950000</td>\n",
       "    </tr>\n",
       "    <tr>\n",
       "      <th>2005-10-22 14:00:00+00:00</th>\n",
       "      <td>-70.5667</td>\n",
       "      <td>1.075000</td>\n",
       "      <td>3.0</td>\n",
       "      <td>42.5236</td>\n",
       "      <td>0.5632</td>\n",
       "      <td>1.075000</td>\n",
       "    </tr>\n",
       "    <tr>\n",
       "      <th>2005-10-22 15:00:00+00:00</th>\n",
       "      <td>-70.5667</td>\n",
       "      <td>0.850000</td>\n",
       "      <td>3.0</td>\n",
       "      <td>42.5236</td>\n",
       "      <td>0.5696</td>\n",
       "      <td>0.850000</td>\n",
       "    </tr>\n",
       "    <tr>\n",
       "      <th>2005-10-22 16:00:00+00:00</th>\n",
       "      <td>-70.5667</td>\n",
       "      <td>1.112500</td>\n",
       "      <td>3.0</td>\n",
       "      <td>42.5236</td>\n",
       "      <td>0.5696</td>\n",
       "      <td>1.112500</td>\n",
       "    </tr>\n",
       "    <tr>\n",
       "      <th>...</th>\n",
       "      <td>...</td>\n",
       "      <td>...</td>\n",
       "      <td>...</td>\n",
       "      <td>...</td>\n",
       "      <td>...</td>\n",
       "      <td>...</td>\n",
       "    </tr>\n",
       "    <tr>\n",
       "      <th>2023-04-12 05:00:00+00:00</th>\n",
       "      <td>-70.5655</td>\n",
       "      <td>15.936062</td>\n",
       "      <td>3.0</td>\n",
       "      <td>42.5232</td>\n",
       "      <td>1.8725</td>\n",
       "      <td>15.936062</td>\n",
       "    </tr>\n",
       "    <tr>\n",
       "      <th>2023-04-12 06:00:00+00:00</th>\n",
       "      <td>-70.5655</td>\n",
       "      <td>20.634537</td>\n",
       "      <td>3.0</td>\n",
       "      <td>42.5232</td>\n",
       "      <td>1.9600</td>\n",
       "      <td>20.634537</td>\n",
       "    </tr>\n",
       "    <tr>\n",
       "      <th>2023-04-12 07:00:00+00:00</th>\n",
       "      <td>-70.5655</td>\n",
       "      <td>11.358683</td>\n",
       "      <td>3.0</td>\n",
       "      <td>42.5232</td>\n",
       "      <td>2.0325</td>\n",
       "      <td>11.358683</td>\n",
       "    </tr>\n",
       "    <tr>\n",
       "      <th>2023-04-12 08:00:00+00:00</th>\n",
       "      <td>-70.5655</td>\n",
       "      <td>10.607895</td>\n",
       "      <td>3.0</td>\n",
       "      <td>42.5232</td>\n",
       "      <td>2.2950</td>\n",
       "      <td>10.607895</td>\n",
       "    </tr>\n",
       "    <tr>\n",
       "      <th>2023-04-12 09:00:00+00:00</th>\n",
       "      <td>-70.5655</td>\n",
       "      <td>14.095423</td>\n",
       "      <td>3.0</td>\n",
       "      <td>42.5232</td>\n",
       "      <td>2.2650</td>\n",
       "      <td>14.095423</td>\n",
       "    </tr>\n",
       "  </tbody>\n",
       "</table>\n",
       "<p>135522 rows × 6 columns</p>\n",
       "</div>"
      ],
      "text/plain": [
       "                           longitude  chlorophyll  depth  latitude  turbidity  \\\n",
       "time                                                                            \n",
       "2005-10-22 12:00:00+00:00   -70.5667     0.975000    3.0   42.5236     0.5376   \n",
       "2005-10-22 13:00:00+00:00   -70.5667     0.950000    3.0   42.5236     0.5504   \n",
       "2005-10-22 14:00:00+00:00   -70.5667     1.075000    3.0   42.5236     0.5632   \n",
       "2005-10-22 15:00:00+00:00   -70.5667     0.850000    3.0   42.5236     0.5696   \n",
       "2005-10-22 16:00:00+00:00   -70.5667     1.112500    3.0   42.5236     0.5696   \n",
       "...                              ...          ...    ...       ...        ...   \n",
       "2023-04-12 05:00:00+00:00   -70.5655    15.936062    3.0   42.5232     1.8725   \n",
       "2023-04-12 06:00:00+00:00   -70.5655    20.634537    3.0   42.5232     1.9600   \n",
       "2023-04-12 07:00:00+00:00   -70.5655    11.358683    3.0   42.5232     2.0325   \n",
       "2023-04-12 08:00:00+00:00   -70.5655    10.607895    3.0   42.5232     2.2950   \n",
       "2023-04-12 09:00:00+00:00   -70.5655    14.095423    3.0   42.5232     2.2650   \n",
       "\n",
       "                                   y  \n",
       "time                                  \n",
       "2005-10-22 12:00:00+00:00   0.975000  \n",
       "2005-10-22 13:00:00+00:00   0.950000  \n",
       "2005-10-22 14:00:00+00:00   1.075000  \n",
       "2005-10-22 15:00:00+00:00   0.850000  \n",
       "2005-10-22 16:00:00+00:00   1.112500  \n",
       "...                              ...  \n",
       "2023-04-12 05:00:00+00:00  15.936062  \n",
       "2023-04-12 06:00:00+00:00  20.634537  \n",
       "2023-04-12 07:00:00+00:00  11.358683  \n",
       "2023-04-12 08:00:00+00:00  10.607895  \n",
       "2023-04-12 09:00:00+00:00  14.095423  \n",
       "\n",
       "[135522 rows x 6 columns]"
      ]
     },
     "execution_count": 205,
     "metadata": {},
     "output_type": "execute_result"
    }
   ],
   "source": [
    "data = A01_un['A01_optics_s_all']\n",
    "data['y'] = mylist\n",
    "data"
   ]
  },
  {
   "cell_type": "code",
   "execution_count": null,
   "id": "6d6d647a",
   "metadata": {},
   "outputs": [],
   "source": [
    "mylist.isna().sum()\n",
    "n_steps = 20\n",
    "X, Y = sampling(mylist, n_steps)\n",
    "for i in range(len(X)-1):\n",
    "    print(X[i], Y[i])"
   ]
  },
  {
   "cell_type": "code",
   "execution_count": 19,
   "id": "eda901aa",
   "metadata": {},
   "outputs": [
    {
     "data": {
      "text/plain": [
       "<Axes: >"
      ]
     },
     "execution_count": 19,
     "metadata": {},
     "output_type": "execute_result"
    },
    {
     "data": {
      "image/png": "[encoded data removed]",
      "text/plain": [
       "<Figure size 640x480 with 1 Axes>"
      ]
     },
     "metadata": {},
     "output_type": "display_data"
    }
   ],
   "source": [
    "I01_df.isna().sum(axis=1).hist()"
   ]
  }
 ],
 "metadata": {
  "kernelspec": {
   "display_name": "Python 3 (ipykernel)",
   "language": "python",
   "name": "python3"
  },
  "language_info": {
   "codemirror_mode": {
    "name": "ipython",
    "version": 3
   },
   "file_extension": ".py",
   "mimetype": "text/x-python",
   "name": "python",
   "nbconvert_exporter": "python",
   "pygments_lexer": "ipython3",
   "version": "3.10.9"
  }
 },
 "nbformat": 4,
 "nbformat_minor": 5
}
